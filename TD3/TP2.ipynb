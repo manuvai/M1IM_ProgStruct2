{
 "cells": [
  {
   "cell_type": "markdown",
   "id": "914b4146-bce1-41ad-a2aa-00f78e286792",
   "metadata": {},
   "source": [
    "# TP2 : résultats du 1er tour de l'élection présidentielle 2022 à Paris\n",
    "L'objet de ce TP est d'exploiter les données issues de l'élection présidentielle de mai 2022. Vous accèderez aux données du premier tour pour la ville de Paris, au format JSON, à cette adresse: [https://www.data.gouv.fr/fr/datasets/r/047770c7-fce3-4c70-a304-79124f4f17f9](https://www.data.gouv.fr/fr/datasets/r/047770c7-fce3-4c70-a304-79124f4f17f9)\n",
    "\n",
    "## 1. Récupération et analyse du JSON\n",
    "À l'aide de la librairie `requests` étudiée précédemment, chargez le JSON qui nous intéresse.\n",
    "\n",
    "Vous allez ensuite étudier son format. Vous répondrez en particulier à ces questions précises, à l'aide de scripts python: \n",
    " 1. affichez le type de la structure JSON téléchargée\n",
    " 2. affichez son premier élément\n",
    " 3. affichez tous les champs d'un élément; dans lequel de ces champs se trouvent les données électorales ? \n",
    " 4. affichez les noms des champs en rapport avec les données électorales\n",
    " 5. affichez le nombre de votants dans le bureau de vote d'identifiant : 12-24 "
   ]
  },
  {
   "cell_type": "code",
   "execution_count": 6,
   "id": "6c37c43c-56db-42fd-aea6-02c1ea578df4",
   "metadata": {},
   "outputs": [
    {
     "name": "stdout",
     "output_type": "stream",
     "text": [
      "Le type de la structure téléchargée est : <class 'list'>\n",
      "Le premier élément est : {'datasetid': 'elections-presidentielles2022-1ertour', 'recordid': '8804fedfc714fd49eb0572409db49d7c44717e44', 'fields': {'lassalle_jean': 8.0, 'pecresse_valerie': 17, 'zemmour_eric': 47.0, 'hidalgo_anne': 14.0, 'dupont_aignan_nicolas': 13.0, 'date_tour': '2022-04-10', 'id_bvote': '20-10', 'geo_shape': {'coordinates': [[[2.394116980208429, 48.872810002202804], [2.394114339472205, 48.87280202613119], [2.3941708973077622, 48.87273808823805], [2.394218937555646, 48.87268276150374], [2.3942158089284993, 48.87267136909135], [2.394047633205376, 48.872579389214096], [2.3938803792706, 48.87248814851382], [2.393712203357712, 48.87239616904243], [2.3935449505988142, 48.87230492785833], [2.393376777243449, 48.87221294700804], [2.393209525649946, 48.872121706239405], [2.393208852650277, 48.872121313415796], [2.393073388243987, 48.872037160258515], [2.392939965544769, 48.87195402814653], [2.392804502018421, 48.87186987377296], [2.392671080166351, 48.871786742247934], [2.392535618872726, 48.871702587564236], [2.392402196525504, 48.87161945482072], [2.39235560117633, 48.871589173294716], [2.392338427567671, 48.87159874677258], [2.392243106383509, 48.8716708994426], [2.392111373004567, 48.871774737762074], [2.391986816771732, 48.871869019177986], [2.3918550823809293, 48.87197285719677], [2.391787792260142, 48.872023791791484], [2.391782130077558, 48.87203058717523], [2.391837466188967, 48.872061886402456], [2.391957321358889, 48.87213096436688], [2.392081311296979, 48.87220242485806], [2.392201165750484, 48.87227150256263], [2.392325156357643, 48.872342962792125], [2.3924450128211863, 48.87241204025066], [2.392569002734135, 48.87248350021156], [2.392568607724094, 48.872497264321886], [2.392408123724698, 48.872582899258326], [2.392247888885889, 48.87266840034056], [2.392087403842435, 48.87275403393448], [2.391927167950716, 48.872839534574105], [2.391766681842213, 48.87292516862405], [2.391606446260874, 48.87301066882804], [2.391445959108315, 48.87309630153541], [2.391285721110662, 48.87318180128991], [2.391125232893031, 48.87326743445331], [2.39096499384255, 48.8733529337652], [2.390963584821044, 48.87336604967853], [2.391094601529796, 48.873458989674695], [2.391220101906506, 48.87354801544107], [2.391351120904498, 48.87364095424879], [2.39147662215808, 48.87372997973158], [2.39147903720266, 48.87373133651252], [2.3916538745272913, 48.87380829621915], [2.3918284112287083, 48.87388512463107], [2.392003248222547, 48.87396208380978], [2.392177787317847, 48.8740389117085], [2.392179175257775, 48.874039611242736], [2.392299126532474, 48.874108592975055], [2.39247321842895, 48.874208644337706], [2.392593170482448, 48.87427762576481], [2.392767263508722, 48.8743776766845], [2.392887216340921, 48.8744466578064], [2.392912780555876, 48.874449647337556], [2.392916197751219, 48.87444808094254], [2.393000246162735, 48.87433149944141], [2.393084578666993, 48.87421601200107], [2.393168627690383, 48.874099430364154], [2.393252959445459, 48.87398394278086], [2.393337007717597, 48.87386736100122], [2.3934213373708593, 48.873751872368835], [2.393505384881083, 48.873635291345714], [2.3935897151484973, 48.87351980257738], [2.393673761907492, 48.87340322141153], [2.393758091425849, 48.873287732500295], [2.393842136070222, 48.8731711511848], [2.393926464839535, 48.873055662130646], [2.3940105100959013, 48.872939080679345], [2.394094838116176, 48.87282359148232], [2.394095345790296, 48.87282296182014], [2.394116980208429, 48.872810002202804]]], 'type': 'Polygon'}, 'circ_bv': '15', 'num_bureau': 10, 'roussel_fabien': 24.0, 'nb_emargement': 965.0, 'nb_procuration': 44.0, 'nb_vote_blanc': 9.0, 'jadot_yannick': 40.0, 'le_pen_marine': 70.0, 'nb_exprime': 952.0, 'nb_vote_nul': 4.0, 'arr_bv': '20', 'arthaud_nathalie': 6, 'nb_inscrit': 1394.0, 'sec_bv': '20', 'numero_tour': 1, 'annee': '2022', 'type_election': 'Présidentielle', 'nb_votant': 965, 'quartier_bv': '77', 'geo_point_2d': [48.87306997380229, 2.3926799433589387], 'melenchon_jean_luc': 527.0, 'poutou_philippe': 5.0, 'macron_emmanuel': 181.0}, 'geometry': {'type': 'Point', 'coordinates': [2.3926799433589387, 48.87306997380229]}, 'record_timestamp': '2022-04-28T17:11:02.395+02:00'}\n",
      "Les champs d'un élément : ['elections-presidentielles2022-1ertour', '8804fedfc714fd49eb0572409db49d7c44717e44', {'lassalle_jean': 8.0, 'pecresse_valerie': 17, 'zemmour_eric': 47.0, 'hidalgo_anne': 14.0, 'dupont_aignan_nicolas': 13.0, 'date_tour': '2022-04-10', 'id_bvote': '20-10', 'geo_shape': {'coordinates': [[[2.394116980208429, 48.872810002202804], [2.394114339472205, 48.87280202613119], [2.3941708973077622, 48.87273808823805], [2.394218937555646, 48.87268276150374], [2.3942158089284993, 48.87267136909135], [2.394047633205376, 48.872579389214096], [2.3938803792706, 48.87248814851382], [2.393712203357712, 48.87239616904243], [2.3935449505988142, 48.87230492785833], [2.393376777243449, 48.87221294700804], [2.393209525649946, 48.872121706239405], [2.393208852650277, 48.872121313415796], [2.393073388243987, 48.872037160258515], [2.392939965544769, 48.87195402814653], [2.392804502018421, 48.87186987377296], [2.392671080166351, 48.871786742247934], [2.392535618872726, 48.871702587564236], [2.392402196525504, 48.87161945482072], [2.39235560117633, 48.871589173294716], [2.392338427567671, 48.87159874677258], [2.392243106383509, 48.8716708994426], [2.392111373004567, 48.871774737762074], [2.391986816771732, 48.871869019177986], [2.3918550823809293, 48.87197285719677], [2.391787792260142, 48.872023791791484], [2.391782130077558, 48.87203058717523], [2.391837466188967, 48.872061886402456], [2.391957321358889, 48.87213096436688], [2.392081311296979, 48.87220242485806], [2.392201165750484, 48.87227150256263], [2.392325156357643, 48.872342962792125], [2.3924450128211863, 48.87241204025066], [2.392569002734135, 48.87248350021156], [2.392568607724094, 48.872497264321886], [2.392408123724698, 48.872582899258326], [2.392247888885889, 48.87266840034056], [2.392087403842435, 48.87275403393448], [2.391927167950716, 48.872839534574105], [2.391766681842213, 48.87292516862405], [2.391606446260874, 48.87301066882804], [2.391445959108315, 48.87309630153541], [2.391285721110662, 48.87318180128991], [2.391125232893031, 48.87326743445331], [2.39096499384255, 48.8733529337652], [2.390963584821044, 48.87336604967853], [2.391094601529796, 48.873458989674695], [2.391220101906506, 48.87354801544107], [2.391351120904498, 48.87364095424879], [2.39147662215808, 48.87372997973158], [2.39147903720266, 48.87373133651252], [2.3916538745272913, 48.87380829621915], [2.3918284112287083, 48.87388512463107], [2.392003248222547, 48.87396208380978], [2.392177787317847, 48.8740389117085], [2.392179175257775, 48.874039611242736], [2.392299126532474, 48.874108592975055], [2.39247321842895, 48.874208644337706], [2.392593170482448, 48.87427762576481], [2.392767263508722, 48.8743776766845], [2.392887216340921, 48.8744466578064], [2.392912780555876, 48.874449647337556], [2.392916197751219, 48.87444808094254], [2.393000246162735, 48.87433149944141], [2.393084578666993, 48.87421601200107], [2.393168627690383, 48.874099430364154], [2.393252959445459, 48.87398394278086], [2.393337007717597, 48.87386736100122], [2.3934213373708593, 48.873751872368835], [2.393505384881083, 48.873635291345714], [2.3935897151484973, 48.87351980257738], [2.393673761907492, 48.87340322141153], [2.393758091425849, 48.873287732500295], [2.393842136070222, 48.8731711511848], [2.393926464839535, 48.873055662130646], [2.3940105100959013, 48.872939080679345], [2.394094838116176, 48.87282359148232], [2.394095345790296, 48.87282296182014], [2.394116980208429, 48.872810002202804]]], 'type': 'Polygon'}, 'circ_bv': '15', 'num_bureau': 10, 'roussel_fabien': 24.0, 'nb_emargement': 965.0, 'nb_procuration': 44.0, 'nb_vote_blanc': 9.0, 'jadot_yannick': 40.0, 'le_pen_marine': 70.0, 'nb_exprime': 952.0, 'nb_vote_nul': 4.0, 'arr_bv': '20', 'arthaud_nathalie': 6, 'nb_inscrit': 1394.0, 'sec_bv': '20', 'numero_tour': 1, 'annee': '2022', 'type_election': 'Présidentielle', 'nb_votant': 965, 'quartier_bv': '77', 'geo_point_2d': [48.87306997380229, 2.3926799433589387], 'melenchon_jean_luc': 527.0, 'poutou_philippe': 5.0, 'macron_emmanuel': 181.0}, {'type': 'Point', 'coordinates': [2.3926799433589387, 48.87306997380229]}, '2022-04-28T17:11:02.395+02:00']\n",
      "Les noms des champs électoraux d'un élément : ['lassalle_jean', 'pecresse_valerie', 'zemmour_eric', 'hidalgo_anne', 'dupont_aignan_nicolas', 'date_tour', 'id_bvote', 'geo_shape', 'circ_bv', 'num_bureau', 'roussel_fabien', 'nb_emargement', 'nb_procuration', 'nb_vote_blanc', 'jadot_yannick', 'le_pen_marine', 'nb_exprime', 'nb_vote_nul', 'arr_bv', 'arthaud_nathalie', 'nb_inscrit', 'sec_bv', 'numero_tour', 'annee', 'type_election', 'nb_votant', 'quartier_bv', 'geo_point_2d', 'melenchon_jean_luc', 'poutou_philippe', 'macron_emmanuel']\n",
      "Le nombre de votant est de : 1087\n"
     ]
    }
   ],
   "source": [
    "import requests\n",
    "\n",
    "def get_data(link: str) -> any:\n",
    "    \n",
    "    data = requests.get(link)\n",
    "    return data.json()\n",
    "\n",
    "def search_by_bureau(data: list, bur: str) -> dict:\n",
    "    for line in data:\n",
    "        if (bur == line['fields']['id_bvote']):\n",
    "            return line\n",
    "        \n",
    "    return None\n",
    "\n",
    "if (__name__ == '__main__'):\n",
    "    link = 'https://www.data.gouv.fr/fr/datasets/r/047770c7-fce3-4c70-a304-79124f4f17f9'\n",
    "    data = get_data(link)\n",
    "\n",
    "    # 1. Le type de la structure téléchargée\n",
    "    type_data = type(data)\n",
    "    print(f\"Le type de la structure téléchargée est : {type_data}\")\n",
    "\n",
    "    # 2. Afficher le premier élément\n",
    "    print(f\"Le premier élément est : {data[0]}\")\n",
    "\n",
    "    # 3. Afficher tous les champs d'un élément\n",
    "    print(f\"Les champs d'un élément : {list(data[0].values())}\")\n",
    "\n",
    "    # Nous voyons que le champ dans lequel se trouvent les données électorales est : `fields`\n",
    "\n",
    "    # 4. Afficher le nom des champs en rapport avec les données électorales\n",
    "    print(f\"Les noms des champs électoraux d'un élément : {list(data[0]['fields'].keys())}\")\n",
    "\n",
    "    # 5. Afficher le nombre de votants pour le bureau de vote donné\n",
    "    bureau_donne = search_by_bureau(data, '12-24')\n",
    "    print(f\"Le nombre de votant est de : {bureau_donne['fields']['nb_votant']}\")\n",
    "\n"
   ]
  },
  {
   "cell_type": "code",
   "execution_count": null,
   "id": "54312900-d303-4e2c-b225-789fdba1bd6e",
   "metadata": {},
   "outputs": [],
   "source": []
  },
  {
   "cell_type": "markdown",
   "id": "fc93bb83-ad46-48e1-b022-c6e9862271e6",
   "metadata": {},
   "source": [
    "## 2. Extraction des données d'un candidat\n",
    "Ecrivez une fonction `afficheBureauArrondissementScore_Candidat` qui, pour un candidat donné, affiche pour tous les bureaux de vote l'identifiant du bureau, l'arrondissement du bureau et le score du candidat."
   ]
  },
  {
   "cell_type": "code",
   "execution_count": null,
   "id": "b2437b45-1d2a-4369-8305-39daeae790ac",
   "metadata": {},
   "outputs": [],
   "source": [
    "def afficheBureauArrondissementScore_Candidat(data: list, cand: str):\n",
    "    for bureau in data:\n",
    "        pass"
   ]
  },
  {
   "cell_type": "markdown",
   "id": "f48b18f8-2d11-478b-8265-e951f2159365",
   "metadata": {},
   "source": [
    "Ecrivez une fonction `scoreTotalCandidat` qui, pour un candidat donné, renvoie son score total (entier)."
   ]
  },
  {
   "cell_type": "code",
   "execution_count": null,
   "id": "d69edfcd-c5bd-4d7b-93b8-c7cdf4a7e5d1",
   "metadata": {},
   "outputs": [],
   "source": []
  },
  {
   "cell_type": "markdown",
   "id": "5d93f0f6-2b2e-4e78-b33d-0e4230e8e7d6",
   "metadata": {},
   "source": [
    "Ecrivez une fonction `listeScoresArrondissements_Candidat` qui renvoie la liste des scores totaux d'un candidat donné par arrondissement (il y a 20 arrondissements)."
   ]
  },
  {
   "cell_type": "code",
   "execution_count": null,
   "id": "c351fbbe-dbfe-480f-b689-eb22ed211a7f",
   "metadata": {
    "tags": []
   },
   "outputs": [],
   "source": []
  },
  {
   "cell_type": "markdown",
   "id": "f71ee7e3-13d5-40b6-b5c3-00d6bcd514d2",
   "metadata": {},
   "source": [
    "Ecrivez une fonction `abstention_Arrondissements` qui renvoie la liste des % d'abstention par arrondissement."
   ]
  },
  {
   "cell_type": "code",
   "execution_count": null,
   "id": "c234eaba-799d-4a72-9326-2663f3622c6a",
   "metadata": {},
   "outputs": [],
   "source": []
  },
  {
   "cell_type": "markdown",
   "id": "e64537da-2577-438a-8aae-e90824c62953",
   "metadata": {},
   "source": [
    "## 3. Reconstruction d'un dictionnaire ad hoc\n",
    "On souhaite pouvoir accéder aux données de certains candidats pour tous les arrondissements. Afin d'éviter d'avoir à revisiter les résultats de tous les bureaux, nous voulons construire un dictionnaire qui, pour chaque arrondissement, stocke les scores des candidats passés en paramètre dans une liste.\n",
    "Ecrivez la fonction `creeDictArrondissement_ScoreListeCandidats` qui renvoie ce dictionnaire.\n",
    "\n",
    "Exemple: `creeDictArrondissement_ScoreListeCandidats(json,[candidat1,candidat2])` renvoie un dictionnaire de la forme \n",
    "```py\n",
    "{\n",
    " 1:{\n",
    "    candidat1:scoreCandidat1Arrondissement1,\n",
    "    candidat2:scoreCandidat2Arrondissement1\n",
    "   },\n",
    " 2:{\n",
    "    candidat1:scoreCandidat1Arrondissement2,\n",
    "    candidat2:scoreCandidat2Arrondissement2\n",
    "   },\n",
    "   ...\n",
    "}\n",
    "```"
   ]
  },
  {
   "cell_type": "code",
   "execution_count": null,
   "id": "de6a20db-5502-405c-8203-ac9d859d7e8b",
   "metadata": {},
   "outputs": [],
   "source": []
  },
  {
   "cell_type": "markdown",
   "id": "70dfc60e-9076-47b0-80c3-e73cde12eadf",
   "metadata": {},
   "source": [
    "## 4. Graphique\n",
    "Ecrivez une fonction `graphiqueArrondissements_Candidat` qui, pour un candidat donné, utilise le dictionnaire précédent pour produire un graphique en barres présentant les scores de ce candidat par arrondissement."
   ]
  },
  {
   "cell_type": "code",
   "execution_count": null,
   "id": "76340b9f-a752-424f-bae5-40c03c3e982e",
   "metadata": {},
   "outputs": [],
   "source": []
  },
  {
   "cell_type": "markdown",
   "id": "772b6ae4-22a4-405f-b47e-276a691f57d6",
   "metadata": {},
   "source": [
    "Ecrivez une fonction `graphiqueArrondissements_Candidats` qui, pour une liste de candidats donnée, utilise le dictionnaire précédent pour produire un graphique en barres présentant les scores des candidats par arrondissement. Pour réaliser ce graphique plus compliqué, allez lire [cette documentation](https://matplotlib.org/stable/gallery/lines_bars_and_markers/barchart.html#sphx-glr-gallery-lines-bars-and-markers-barchart-py)."
   ]
  },
  {
   "cell_type": "code",
   "execution_count": null,
   "id": "20bd9555-b471-497e-8c0e-3789da341062",
   "metadata": {},
   "outputs": [],
   "source": []
  },
  {
   "cell_type": "code",
   "execution_count": null,
   "id": "7de42311-7c32-4c8d-9df5-c720fee4ccd4",
   "metadata": {},
   "outputs": [],
   "source": []
  }
 ],
 "metadata": {
  "kernelspec": {
   "display_name": "Python 3",
   "language": "python",
   "name": "python3"
  },
  "language_info": {
   "codemirror_mode": {
    "name": "ipython",
    "version": 3
   },
   "file_extension": ".py",
   "mimetype": "text/x-python",
   "name": "python",
   "nbconvert_exporter": "python",
   "pygments_lexer": "ipython3",
   "version": "3.10.6"
  },
  "vscode": {
   "interpreter": {
    "hash": "4fb435cb9a1efeb2f38d3dce1339521a1fba953090a1346d7eedb3261b9f21ce"
   }
  }
 },
 "nbformat": 4,
 "nbformat_minor": 5
}
