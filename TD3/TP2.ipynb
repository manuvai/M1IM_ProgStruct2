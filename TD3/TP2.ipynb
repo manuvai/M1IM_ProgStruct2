{
 "cells": [
  {
   "cell_type": "markdown",
   "id": "914b4146-bce1-41ad-a2aa-00f78e286792",
   "metadata": {},
   "source": [
    "# TP2 : résultats du 1er tour de l'élection présidentielle 2022 à Paris\n",
    "L'objet de ce TP est d'exploiter les données issues de l'élection présidentielle de mai 2022. Vous accèderez aux données du premier tour pour la ville de Paris, au format JSON, à cette adresse: [https://www.data.gouv.fr/fr/datasets/r/047770c7-fce3-4c70-a304-79124f4f17f9](https://www.data.gouv.fr/fr/datasets/r/047770c7-fce3-4c70-a304-79124f4f17f9)\n",
    "\n",
    "## 1. Récupération et analyse du JSON\n",
    "À l'aide de la librairie `requests` étudiée précédemment, chargez le JSON qui nous intéresse.\n",
    "\n",
    "Vous allez ensuite étudier son format. Vous répondrez en particulier à ces questions précises, à l'aide de scripts python: \n",
    " 1. affichez le type de la structure JSON téléchargée\n",
    " 2. affichez son premier élément\n",
    " 3. affichez tous les champs d'un élément; dans lequel de ces champs se trouvent les données électorales ? \n",
    " 4. affichez les noms des champs en rapport avec les données électorales\n",
    " 5. affichez le nombre de votants dans le bureau de vote d'identifiant : 12-24 "
   ]
  },
  {
   "cell_type": "code",
   "execution_count": null,
   "id": "6c37c43c-56db-42fd-aea6-02c1ea578df4",
   "metadata": {},
   "outputs": [],
   "source": []
  },
  {
   "cell_type": "code",
   "execution_count": null,
   "id": "54312900-d303-4e2c-b225-789fdba1bd6e",
   "metadata": {},
   "outputs": [],
   "source": []
  },
  {
   "cell_type": "markdown",
   "id": "fc93bb83-ad46-48e1-b022-c6e9862271e6",
   "metadata": {},
   "source": [
    "## 2. Extraction des données d'un candidat\n",
    "Ecrivez une fonction `afficheBureauArrondissementScore_Candidat` qui, pour un candidat donné, affiche pour tous les bureaux de vote l'identifiant du bureau, l'arrondissement du bureau et le score du candidat."
   ]
  },
  {
   "cell_type": "code",
   "execution_count": null,
   "id": "b2437b45-1d2a-4369-8305-39daeae790ac",
   "metadata": {},
   "outputs": [],
   "source": []
  },
  {
   "cell_type": "markdown",
   "id": "f48b18f8-2d11-478b-8265-e951f2159365",
   "metadata": {},
   "source": [
    "Ecrivez une fonction `scoreTotalCandidat` qui, pour un candidat donné, renvoie son score total (entier)."
   ]
  },
  {
   "cell_type": "code",
   "execution_count": null,
   "id": "d69edfcd-c5bd-4d7b-93b8-c7cdf4a7e5d1",
   "metadata": {},
   "outputs": [],
   "source": []
  },
  {
   "cell_type": "markdown",
   "id": "5d93f0f6-2b2e-4e78-b33d-0e4230e8e7d6",
   "metadata": {},
   "source": [
    "Ecrivez une fonction `listeScoresArrondissements_Candidat` qui renvoie la liste des scores totaux d'un candidat donné par arrondissement (il y a 20 arrondissements)."
   ]
  },
  {
   "cell_type": "code",
   "execution_count": null,
   "id": "c351fbbe-dbfe-480f-b689-eb22ed211a7f",
   "metadata": {
    "tags": []
   },
   "outputs": [],
   "source": []
  },
  {
   "cell_type": "markdown",
   "id": "f71ee7e3-13d5-40b6-b5c3-00d6bcd514d2",
   "metadata": {},
   "source": [
    "Ecrivez une fonction `abstention_Arrondissements` qui renvoie la liste des % d'abstention par arrondissement."
   ]
  },
  {
   "cell_type": "code",
   "execution_count": null,
   "id": "c234eaba-799d-4a72-9326-2663f3622c6a",
   "metadata": {},
   "outputs": [],
   "source": []
  },
  {
   "cell_type": "markdown",
   "id": "e64537da-2577-438a-8aae-e90824c62953",
   "metadata": {},
   "source": [
    "## 3. Reconstruction d'un dictionnaire ad hoc\n",
    "On souhaite pouvoir accéder aux données de certains candidats pour tous les arrondissements. Afin d'éviter d'avoir à revisiter les résultats de tous les bureaux, nous voulons construire un dictionnaire qui, pour chaque arrondissement, stocke les scores des candidats passés en paramètre dans une liste.\n",
    "Ecrivez la fonction `creeDictArrondissement_ScoreListeCandidats` qui renvoie ce dictionnaire.\n",
    "\n",
    "Exemple: `creeDictArrondissement_ScoreListeCandidats(json,[candidat1,candidat2])` renvoie un dictionnaire de la forme \n",
    "```py\n",
    "{\n",
    " 1:{\n",
    "    candidat1:scoreCandidat1Arrondissement1,\n",
    "    candidat2:scoreCandidat2Arrondissement1\n",
    "   },\n",
    " 2:{\n",
    "    candidat1:scoreCandidat1Arrondissement2,\n",
    "    candidat2:scoreCandidat2Arrondissement2\n",
    "   },\n",
    "   ...\n",
    "}\n",
    "```"
   ]
  },
  {
   "cell_type": "code",
   "execution_count": null,
   "id": "de6a20db-5502-405c-8203-ac9d859d7e8b",
   "metadata": {},
   "outputs": [],
   "source": []
  },
  {
   "cell_type": "markdown",
   "id": "70dfc60e-9076-47b0-80c3-e73cde12eadf",
   "metadata": {},
   "source": [
    "## 4. Graphique\n",
    "Ecrivez une fonction `graphiqueArrondissements_Candidat` qui, pour un candidat donné, utilise le dictionnaire précédent pour produire un graphique en barres présentant les scores de ce candidat par arrondissement."
   ]
  },
  {
   "cell_type": "code",
   "execution_count": null,
   "id": "76340b9f-a752-424f-bae5-40c03c3e982e",
   "metadata": {},
   "outputs": [],
   "source": []
  },
  {
   "cell_type": "markdown",
   "id": "772b6ae4-22a4-405f-b47e-276a691f57d6",
   "metadata": {},
   "source": [
    "Ecrivez une fonction `graphiqueArrondissements_Candidats` qui, pour une liste de candidats donnée, utilise le dictionnaire précédent pour produire un graphique en barres présentant les scores des candidats par arrondissement. Pour réaliser ce graphique plus compliqué, allez lire [cette documentation](https://matplotlib.org/stable/gallery/lines_bars_and_markers/barchart.html#sphx-glr-gallery-lines-bars-and-markers-barchart-py)."
   ]
  },
  {
   "cell_type": "code",
   "execution_count": null,
   "id": "20bd9555-b471-497e-8c0e-3789da341062",
   "metadata": {},
   "outputs": [],
   "source": []
  },
  {
   "cell_type": "code",
   "execution_count": null,
   "id": "7de42311-7c32-4c8d-9df5-c720fee4ccd4",
   "metadata": {},
   "outputs": [],
   "source": []
  }
 ],
 "metadata": {
  "kernelspec": {
   "display_name": "Python 3 (ipykernel)",
   "language": "python",
   "name": "python3"
  },
  "language_info": {
   "codemirror_mode": {
    "name": "ipython",
    "version": 3
   },
   "file_extension": ".py",
   "mimetype": "text/x-python",
   "name": "python",
   "nbconvert_exporter": "python",
   "pygments_lexer": "ipython3",
   "version": "3.9.12"
  }
 },
 "nbformat": 4,
 "nbformat_minor": 5
}
