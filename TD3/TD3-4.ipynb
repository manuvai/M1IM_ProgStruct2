{
 "cells": [
  {
   "cell_type": "markdown",
   "id": "caa8be0e-bdba-4529-ba67-bb349c71cccd",
   "metadata": {
    "tags": []
   },
   "source": [
    "# TP3-4: Vers une aide à la décision pour l'investissement immobilier basée sur l'analyse des données foncières\n",
    "\n",
    "Vous êtes mandaté par une entreprise de gestion de portefeuilles immobiliers qui souhaite investir sur la ville de Toulouse. En tant que miagiste, l'entreprise vous demande d'utiliser vos compétences en Python pour étudier les opportunités du marché immobilier sur la ville de Toulouse et construire un outil d'aide à la décision pour l'investissement immobilier.\n",
    "\n",
    "La direction générale des finances publiques (DGIF) publie et produit un jeu de données « Demandes de valeurs foncières », qui permet de connaître les transactions immobilières intervenues au cours des cinq dernières années sur le territoire métropolitain et les DOM-TOM, à l’exception de l’Alsace, de la Moselle et de Mayotte. Les données contenues sont issues des actes notariés et des informations cadastrales : \n",
    "https://www.data.gouv.fr/fr/datasets/5c4ae55a634f4117716d5656/\n",
    "\n",
    "La DGIF précise que l'utilisation de ces données impose des obligations légales que vous devez respecter :\n",
    "```\n",
    "Propos liminaires\n",
    "Conformément au décret n° 2018‑1350 du 28 décembre 2018 relatif à la publication sous forme électronique des informations portant sur les valeurs foncières déclarées à l’occasion des mutations immobilières, le présent fichier DVF est désormais disponible en open data.\n",
    "La publication de ces données répond à l’objectif de transparence des marchés fonciers et immobiliers.\n",
    "\n",
    "Le fichier DVF contient des données à caractère personnel et la DGFiP attire votre attention sur les obligations légales qui en découlent :\n",
    "• L’article R112 A-3 du Livre des procédures fiscales prévoit que l’utilisation de ces fichiers ne doit pas permettre la ré-identification des personnes concernées, de manière indirecte.\n",
    "• La réutilisation des données ne doit pas permettre l’indexation des données depuis les moteurs de recherche externes.\n",
    "\n",
    "Veuillez lire attentivement les Conditions générales d’utilisation.\n",
    "```\n",
    "La direction interministérielle du numérique (DINUM) propose une amélioration à ce jeu de donnée en l'enrichissant : \n",
    "https://www.data.gouv.fr/fr/datasets/demandes-de-valeurs-foncieres-geolocalisees/\n",
    "\n",
    "Le jeu de donnée de la DINUM (https://files.data.gouv.fr/geo-dvf/latest/) permet d'accéder rapidement via des URL aux données par année, par commune puis par code de commune.\n",
    "\n",
    "Le code \"31555\" correspond à la ville de Toulouse. Ainsi, l'adresse https://files.data.gouv.fr/geo-dvf/latest/csv/2017/communes/31/31555.csv vous donne accès à l'ensemble des transactions immobilières qui ont eu lieues à Toulouse en 2017.\n",
    "\n",
    "Les données sont disponibles de 2017 à 2022 :\n",
    "* https://files.data.gouv.fr/geo-dvf/latest/csv/2017/communes/31/31555.csv\n",
    "* https://files.data.gouv.fr/geo-dvf/latest/csv/2018/communes/31/31555.csv\n",
    "* https://files.data.gouv.fr/geo-dvf/latest/csv/2019/communes/31/31555.csv\n",
    "* https://files.data.gouv.fr/geo-dvf/latest/csv/2020/communes/31/31555.csv\n",
    "* https://files.data.gouv.fr/geo-dvf/latest/csv/2021/communes/31/31555.csv\n",
    "* https://files.data.gouv.fr/geo-dvf/latest/csv/2022/communes/31/31555.csv\n",
    "\n",
    "Chaque ligne d'un fichier csv correspond à une transaction immobilière et repose sur un format précisé par la DINUM :\n",
    "* id_mutation : Identifiant de mutation (non stable, sert à grouper les lignes)\n",
    "* date_mutation : Date de la mutation au format ISO-8601 (YYYY-MM-DD)\n",
    "* numero_disposition : Numéro de disposition\n",
    "* nature_mutation : Nature de la mutation\n",
    "* valeur_fonciere : Valeur foncière (séparateur décimal = point)\n",
    "* adresse_numero : Numéro de l'adresse\n",
    "* adresse_suffixe : Suffixe du numéro de l'adresse (B, T, Q)\n",
    "* adresse_code_voie : Code FANTOIR de la voie (4 caractères)\n",
    "* adresse_nom_voie : Nom de la voie de l'adresse\n",
    "* code_postal : Code postal (5 caractères)\n",
    "* code_commune : Code commune INSEE (5 caractères)\n",
    "* nom_commune : Nom de la commune (accentué)\n",
    "* ancien_code_commune : Ancien code commune INSEE (si différent lors de la mutation)\n",
    "* ancien_nom_commune : Ancien nom de la commune (si différent lors de la mutation)\n",
    "* code_departement : Code département INSEE (2 ou 3 caractères)\n",
    "* id_parcelle : Identifiant de parcelle (14 caractères)\n",
    "* ancien_id_parcelle : Ancien identifiant de parcelle (si différent lors de la mutation)\n",
    "* numero_volume : Numéro de volume\n",
    "* lot_1_numero : Numéro du lot 1\n",
    "* lot_1_surface_carrez : Surface Carrez du lot 1\n",
    "* lot_2_numero : Numéro du lot 2\n",
    "* lot_2_surface_carrez : Surface Carrez du lot 2\n",
    "* lot_3_numero : Numéro du lot 3\n",
    "* lot_3_surface_carrez : Surface Carrez du lot 3\n",
    "* lot_4_numero : Numéro du lot 4\n",
    "* lot_4_surface_carrez : Surface Carrez du lot 4\n",
    "* lot_5_numero : Numéro du lot 5\n",
    "* lot_5_surface_carrez : Surface Carrez du lot 5\n",
    "* nombre_lots : Nombre de lots\n",
    "* code_type_local : Code de type de local\n",
    "* type_local : Libellé du type de local\n",
    "* surface_reelle_bati : Surface réelle du bâti\n",
    "* nombre_pieces_principales : Nombre de pièces principales\n",
    "* code_nature_culture : Code de nature de culture\n",
    "* nature_culture : Libellé de nature de culture\n",
    "* code_nature_culture_speciale : Code de nature de culture spéciale\n",
    "* nature_culture_speciale : Libellé de nature de culture spéciale\n",
    "* surface_terrain : Surface du terrain\n",
    "* longitude : Longitude du centre de la parcelle concernée (WGS-84)\n",
    "* latitude : Latitude du centre de la parcelle concernée (WGS-84)\n",
    "\n",
    "## Partie 1: Visualiser l'évolution de l'immobilier \n",
    "A partir de ces fichiers, on souhaite étudier l'évolution du prix de l'immobilier pour chacun des quartiers de Toulouse, un quartier étant défini par son code postal. On souhaite :\n",
    "    \n",
    "    1) Visualiser la distribution des prix de vente (valeur_fonciere) des maisons par quartier pour une année donnée \n",
    "    \n",
    "    2) Visualiser la distribution des prix de vente (valeur_fonciere) au m² (surface_reelle_bati) des maisons par quartier pour une année donnée \n",
    "    \n",
    "    3) Visualiser la distribution des prix de vente (valeur_fonciere) des appartements par quartier pour une année donnée \n",
    "    \n",
    "    4) Visualiser la distribution des prix de vente (valeur_fonciere) au m² (surface_reelle_bati) des appartements par quartier pour une année donnée \n",
    "    \n",
    "    5) Visualiser l'évolution du prix de vente au m² moyen des maisons par quartier entre 2018 et 2022\n",
    "    \n",
    "    6) Visualiser l'évolution du prix de vente au m² moyen des appartements par quartier entre 2018 et 2022\n",
    "    \n",
    "    7) Visualiser l'évolution du prix de vente au m² médian des maisons par quartier entre 2018 et 2022\n",
    "    \n",
    "    8) Visualiser l'évolution du prix de vente au m² médian des appartements par quartier entre 2018 et 2022\n",
    "\n"
   ]
  },
  {
   "cell_type": "markdown",
   "id": "4309685a-b2ae-4366-b4ab-a3f33da9c380",
   "metadata": {},
   "source": [
    "## 0.a Explorer les données pour comprendre leur structure\n",
    "Dans un premier temps, explorez les données en écrivant et testant une fonction qui va récupérer les données contenues dans le fichier https://files.data.gouv.fr/geo-dvf/latest/csv/2017/communes/31/31555.csv et qui affichera les 10 premières lignes de transactions.\n",
    "\n",
    "Pour chacune de ces lignes, vous devrez comprendre où sont situées les informations. Notre étude exploitera principalement les informations concernant :\n",
    "- la nature de la mutation, \n",
    "- le code postal, \n",
    "- le type de local\n",
    "- le prix de vente (valeur foncière)\n",
    "- la surface du local (du bati)\n",
    "\n",
    "(aidez vous de la description des données fournie par la DINUM)."
   ]
  },
  {
   "cell_type": "code",
   "execution_count": null,
   "id": "376b249c-49f4-4494-b055-8798074fcabc",
   "metadata": {},
   "outputs": [],
   "source": []
  },
  {
   "cell_type": "markdown",
   "id": "18622cb4-4d8e-476b-8368-7260e23c3295",
   "metadata": {
    "tags": []
   },
   "source": [
    "## 1.a Choisir sa (ou ses) structure(s) de données\n",
    "\n",
    "On souhaite exploiter les données des transactions foncières pour calculer et visualiser un ensemble d'indicateurs. Il nous faut donc choisir une manière efficace de stocker nos données pour faciliter leur exploitation. \n",
    "\n",
    "Proposez une ou des structures de données pour stocker les informations de vente utiles (cf question précédente) contenues dans les fichiers suivants (année différente):\n",
    "* https://files.data.gouv.fr/geo-dvf/latest/csv/2017/communes/31/31555.csv\n",
    "* https://files.data.gouv.fr/geo-dvf/latest/csv/2018/communes/31/31555.csv\n",
    "* https://files.data.gouv.fr/geo-dvf/latest/csv/2019/communes/31/31555.csv\n",
    "* https://files.data.gouv.fr/geo-dvf/latest/csv/2020/communes/31/31555.csv\n",
    "* https://files.data.gouv.fr/geo-dvf/latest/csv/2021/communes/31/31555.csv\n",
    "* https://files.data.gouv.fr/geo-dvf/latest/csv/2022/communes/31/31555.csv\n",
    "\n",
    "<div class=\"alert alert-block alert-warning\">\n",
    "<b>⚠️:</b> Avant de coder votre (ou vos) structures de données, réalisez un schéma ou une représentation textuelle de votre structure, et discutez en avec votre enseignant ou vos camarades.\n",
    "</div>"
   ]
  },
  {
   "cell_type": "code",
   "execution_count": null,
   "id": "8d901026-40b9-4617-82d7-523d0a40190d",
   "metadata": {},
   "outputs": [],
   "source": []
  },
  {
   "cell_type": "markdown",
   "id": "726060d4-ade4-452f-8e98-3083b77a9060",
   "metadata": {
    "tags": []
   },
   "source": [
    "## 1.b Tester sa (ou ses) structure(s) de données\n",
    "\n",
    "Maintenant que vous avez construit une ou plusieurs structures de données, tester la facilité que vous allez avoir à accéder à des informations sur des exemples simples. Il n'est pas nécessaire d'implémenter toutes les fonctions données en exemple, mais il faut se poser la question de comment on pourra accéder aux données et les filtrer en fonction de nos besoins. \n",
    "\n",
    "Par exemple:\n",
    "* Comment accéder uniquement aux transactions de 2017 ?\n",
    "* Comment accéder uniquement aux transactions concernant des appartements ? \n",
    "* Comment accéder uniquement aux informations concernant le code postal 31100 ? \n",
    "* Combien de ventes de maisons ont eu lieu en 2020 ?\n",
    "\n",
    "Vous vous questionnerez sur la complexité de vos requêtes: Est-ce que l'accès à l'information est immédiat (*0(1)*), est-ce que je dois parcourir l'intégralité de la structure de donnée (*O(n)*), ou est-ce que je dois faire de la combinatoire (*O(n²)*)."
   ]
  },
  {
   "cell_type": "code",
   "execution_count": null,
   "id": "559f155f-e41a-4223-925b-86fc49136ab0",
   "metadata": {},
   "outputs": [],
   "source": []
  },
  {
   "cell_type": "markdown",
   "id": "5906db39-1029-49c0-b5ae-fd7be558ff30",
   "metadata": {},
   "source": [
    "## 1.c Construire les fonctions permettant de calculer les indicateurs\n",
    "\n",
    "On souhaite visualiser plusieurs données qui prennent la forme d'indicateurs. Pour une liste de transactions (qui auront préalablement été filtrées par année, type, ou quartier), on souhaite pouvoir obtenir :\n",
    "* La liste des prix de vente (valeur_fonciere) \n",
    "* La liste des prix de vente (valeur_fonciere) au m² (surface_reelle_bati)\n",
    "* Le prix de vente au m² moyen (*mean* du module statistics)\n",
    "* Le prix de vente au m² médian (*median* du module statistics)\n",
    "<div class=\"alert alert-block alert-warning\">\n",
    "<b>⚠️:</b> Certaines transactions n'ont pas de prix ou de surface, les supprimer de la liste résultat.\n",
    "</div>"
   ]
  },
  {
   "cell_type": "code",
   "execution_count": null,
   "id": "80e64701-69c8-45b7-a0be-7c2f16b191dc",
   "metadata": {},
   "outputs": [],
   "source": []
  },
  {
   "cell_type": "markdown",
   "id": "cd7c6d33-f40a-4836-9f4f-2c955b0dffa6",
   "metadata": {},
   "source": [
    "## 1.d Tester le calcul des indicateurs\n",
    "\n",
    "Testez vos fonctions de calcul d'indicateur sur des exemples simples"
   ]
  },
  {
   "cell_type": "code",
   "execution_count": null,
   "id": "5b026599-b1be-4939-98cb-16656d495790",
   "metadata": {},
   "outputs": [],
   "source": []
  },
  {
   "cell_type": "markdown",
   "id": "3436aeb4-f44d-4ef6-b114-58a77e4abe91",
   "metadata": {},
   "source": [
    "## 1.e Construire les visualisations des données\n",
    "\n",
    "Maintenant que nous disposons de structures de données et des fonctions permettant le calcul des indicateurs, on peut réaliser nos visualisations. \n",
    "\n",
    "<div class=\"alert alert-block alert-info\">\n",
    "<b>Attention:</b> Il sera peut être nécessaire de rajouter des fonctions pour filtrer nos données et ne retenir uniquement que les transations qui nous intéressent\n",
    "</div>\n",
    "\n",
    "### 1.e.1 Visualiser la distribution des prix de vente (valeur_fonciere) des maisons par quartier pour une année donnée "
   ]
  },
  {
   "cell_type": "code",
   "execution_count": null,
   "id": "6e868040-f808-4548-b9b5-4832b0e0ee17",
   "metadata": {},
   "outputs": [],
   "source": []
  },
  {
   "cell_type": "markdown",
   "id": "376334d1-d665-4c71-a88e-782a05ddb88a",
   "metadata": {},
   "source": [
    "### 1.e.2 Visualiser la distribution des prix de vente (valeur_fonciere) au m² (surface_reelle_bati) des maisons par quartier pour une année donnée "
   ]
  },
  {
   "cell_type": "code",
   "execution_count": null,
   "id": "3faf6551-544e-464f-9b45-f5efcf81d641",
   "metadata": {},
   "outputs": [],
   "source": []
  },
  {
   "cell_type": "markdown",
   "id": "01bc7a5b",
   "metadata": {},
   "source": [
    "## Partie 2: Aide à la décision pour l'investissement \n",
    "### 2.a : Une heuristique d'investissement\n",
    "Une fois ces visualisations établies et les données prêtes pour le traitement, on souhaite proposer un algorithme d'aide à la décision à l'investissement immobilier. \n",
    "On dispose d'un somme *n* d'argent que l'on souhaite investir pour acheter un maximum de biens dans des quartiers de Toulouse.\n",
    "On souhaite maximiser le retour sur investissement à 4 ans, c'est à dire le prix que l'on obtiendra en revendant les biens dans 4 ans. \n",
    "On basera notre hypothèse d'évolution du marché sur la variation moyenne du marché observé sur les 4 dernières année (entre 2018 et 2020).\n",
    "Cette algorithme devra fournir à l'utilisateur une proposition d'investissement pour chaque quartier, c'est à dire répondre aux questions suivantes :\n",
    "* Quel est le rendement attendu pour le quartier dans 4 ans ?\n",
    "* Vaut-il mieux y acheter un appartement ou une maison ?\n",
    "* En prenant en compte le prix moyen de vente, combien de biens je pourrais acheter avec mon capital *n* ?\n",
    "* En précisant une surface minimum et maximum, et en tenant compte du prix moyen au m², combien de biens de chaque type puis-je acheter ? \n",
    "\n",
    "<div class=\"alert alert-block alert-warning\">\n",
    "<b>⚠️:</b> Avant de coder, discutez avec votre enseignant et vos camarades de la stratégie (heuristique) que vous allez utiliser pour votre investissement.\n",
    "</div>"
   ]
  },
  {
   "cell_type": "code",
   "execution_count": null,
   "id": "b698f001-c88a-449f-8222-e135a67adaa6",
   "metadata": {
    "tags": []
   },
   "outputs": [],
   "source": []
  },
  {
   "cell_type": "markdown",
   "id": "ff45f1b9-3121-4607-92f2-22a7cf01c320",
   "metadata": {},
   "source": [
    "## 2.b Performance\n",
    "\n",
    "L'exemple ci-dessous vous montre comment mesurer le temps d'execution d'une fonction:"
   ]
  },
  {
   "cell_type": "code",
   "execution_count": 11,
   "id": "f0781620-69b4-4818-8650-1ffdac6704bb",
   "metadata": {},
   "outputs": [
    {
     "name": "stdout",
     "output_type": "stream",
     "text": [
      "Temps d'exécution : 0.017ms\n"
     ]
    }
   ],
   "source": [
    "import time\n",
    "\n",
    "def ma_fonction(size:int):\n",
    "    for i in range(0,size):\n",
    "        pass\n",
    "\n",
    "# Initialisation du chronomètre\n",
    "start = time.time()\n",
    "\n",
    "# Execution de la fonction\n",
    "ma_fonction(1000000)\n",
    "\n",
    "# Calcul du temps d'execution\n",
    "end = time.time()\n",
    "elapsed = end - start\n",
    "print(f'Temps d\\'exécution : {elapsed:.2}ms')"
   ]
  },
  {
   "cell_type": "markdown",
   "id": "7e755346-0018-44a9-ae17-2378fc74a35f",
   "metadata": {},
   "source": [
    "En vous inspirant de cet exemple, mesurez le temps d'exécution de votre fonction, puis essayez d'améliorer ses performances."
   ]
  },
  {
   "cell_type": "code",
   "execution_count": null,
   "id": "728c1356",
   "metadata": {},
   "outputs": [],
   "source": []
  }
 ],
 "metadata": {
  "kernelspec": {
   "display_name": "Python 3 (ipykernel)",
   "language": "python",
   "name": "python3"
  },
  "language_info": {
   "codemirror_mode": {
    "name": "ipython",
    "version": 3
   },
   "file_extension": ".py",
   "mimetype": "text/x-python",
   "name": "python",
   "nbconvert_exporter": "python",
   "pygments_lexer": "ipython3",
   "version": "3.9.12"
  }
 },
 "nbformat": 4,
 "nbformat_minor": 5
}
