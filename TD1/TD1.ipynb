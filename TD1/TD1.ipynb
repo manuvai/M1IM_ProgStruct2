{
 "cells": [
  {
   "cell_type": "markdown",
   "id": "5166f9cd",
   "metadata": {
    "nbgrader": {
     "grade": false,
     "grade_id": "cell-4c9f19b7231c51c0",
     "locked": true,
     "schema_version": 3,
     "solution": false,
     "task": false
    }
   },
   "source": [
    "## TD 1 : Les installations sportives de Toulouse"
   ]
  },
  {
   "cell_type": "markdown",
   "id": "f16854cc",
   "metadata": {
    "nbgrader": {
     "grade": false,
     "grade_id": "cell-e8f0192bd90632dc",
     "locked": true,
     "schema_version": 3,
     "solution": false,
     "task": false
    },
    "tags": []
   },
   "source": [
    "### Contexte \n",
    "\n",
    "La mairie de Toulouse met à disposition des données ouvertes sur son territoire, par exemple des données sur ses installations sportives : https://data.toulouse-metropole.fr/explore/dataset/installations-sportives-de-la-ville-de-toulouse/information/?sort=-quartiers. \n",
    "L'objectif est d'analyser certaines de ces informations.\n",
    "    \n",
    "### 1. Fichier csv \n",
    "\n",
    "A partir de l'adresse précédente :\n",
    "- visualiser le jeu de données, notamment les informations fournies\n",
    "- télécharger le fichier au format csv\n",
    "- l'ouvrir sous Excel pour supprimer les lignes dont le numéro de quartier est vide\n"
   ]
  },
  {
   "cell_type": "markdown",
   "id": "5b6d2a9f",
   "metadata": {},
   "source": [
    "### 2.  Dictionnaire données\n",
    "Ecrire une fonction **initialiser_dico(nom_fichier:str)->dict** permettant de lire un fichier csv au format ci dessus. Cette fonction retourne un dictionnaire où chaque quartier est associé aux informations suivantes pour chaque installation sportive le concernant :\n",
    "- Type\n",
    "- Acces Hand\n",
    "    \n",
    "**Attention** : il peut y avoir plusieurs installations sportives pour un quartier ce qui donne par exemple pour le quartier 1.1 \n",
    "    \n",
    "    {'1.1': [{'Type': 'Salle rdc', 'Acces Hand': 'O'}, {'Type': 'Salle', 'Acces Hand': 'N'}, {'Type': 'Boulodrome', 'Acces Hand': ''}, {'Type': 'Boulodrome', 'Acces Hand': 'O'}, {'Type': 'Gymnase', 'Acces Hand': 'N'}, {'Type': 'Boulodrome', 'Acces Hand': 'O'}, {'Type': 'City stade', 'Acces Hand': 'N'}],\n",
    "    "
   ]
  },
  {
   "cell_type": "code",
   "execution_count": null,
   "id": "6abe1dff-36fa-4107-b46c-dfd72a563f51",
   "metadata": {},
   "outputs": [],
   "source": []
  },
  {
   "cell_type": "markdown",
   "id": "2a22233b",
   "metadata": {},
   "source": [
    "### 3.  Indicateur d'accessibilité\n",
    "Ecrire une fonction **accessibilite(dico:dict)->dict** qui a partir du dictionnaire ci dessus va générer un nouveau dictionnaire indiquant pour chaque quartier :\n",
    "- son nombre d'équipements\n",
    "- son nombre d'équipements non accessibles aux personnes en situation de handicap\n",
    "    \n",
    "Par exemple, {'4.2': [26,3] } indique que dans le quartier 4.2, il y a 26 équipements dont 3 non accessibles\n",
    "    \n",
    "La fonction affiche le(s) quartier(s) qui a(ont) le plus grand nombre d'équipements non accessibles et renvoie le dictionnaire généré."
   ]
  },
  {
   "cell_type": "code",
   "execution_count": null,
   "id": "92be1ebd-b0f9-4ca3-b028-5c62c87b4988",
   "metadata": {},
   "outputs": [],
   "source": []
  },
  {
   "cell_type": "markdown",
   "id": "d98fe7f7",
   "metadata": {},
   "source": [
    "Afficher dans un graphique le dictionnaire d'accessibilité avec en abscisse les numéros de quartier et en ordonné le nombre d'équipement."
   ]
  },
  {
   "cell_type": "code",
   "execution_count": null,
   "id": "094f7013",
   "metadata": {},
   "outputs": [],
   "source": []
  },
  {
   "cell_type": "markdown",
   "id": "16f89c91",
   "metadata": {},
   "source": [
    "### 4.  Dictionnaire type d'équipement\n",
    "Ecrire une fonction **types equipements(dico:dict)->dict** qui, à partir du dictionnaire des données de la question 2, va retourner un dictionnaire indiquant le nombre d'équipements par type d'équipement. Ce calcul se fait pour l'ensemble des quartiers. Par exemple, il y a 1 seul équipement de type \"Salle rdc\" dans la ville mais 64 de type \"Boulodrome\"\n",
    "    \n",
    "    {'Salle rdc': 1, 'Salle': 6, 'Boulodrome': 64, ... }"
   ]
  },
  {
   "cell_type": "code",
   "execution_count": null,
   "id": "9666f403",
   "metadata": {},
   "outputs": [],
   "source": []
  },
  {
   "cell_type": "markdown",
   "id": "5f3b95b8",
   "metadata": {},
   "source": [
    "Enregistrer ce dictionnaire dans un fichier **types_equipements.txt** avec un équipement par ligne sous la forme **nom : valeur**. Par exemple :\n",
    "    \n",
    "    Salle rdc:1\n",
    "    Salle:6\n",
    "    Boulodrome:64 ...\n"
   ]
  },
  {
   "cell_type": "code",
   "execution_count": null,
   "id": "5db5dc0c",
   "metadata": {},
   "outputs": [],
   "source": []
  },
  {
   "cell_type": "markdown",
   "id": "579b0ba8-10e9-42ea-a9e5-0451af1965ea",
   "metadata": {},
   "source": [
    "    \n",
    "### 5.  Accès par quartier\n",
    "Ecrire une fonction **installations_quartier(nom_fichier:str,num_quartier:str)** permettant de lire le fichier csv pour écrire dans un nouveau fichier nommé installations-sportives-quartier-num.csv l'ensemble des installations du numéro de quartier choisi. L'ensemble des informations sont copiées ainsi que la première ligne descriptive.\n",
    "        \n",
    "        \n",
    "**Attention**: installations-sportives-quartier-**1-1**.csv contiendra les installations du quartier **1.1** pour éviter un problème de nommage de fichier."
   ]
  },
  {
   "cell_type": "code",
   "execution_count": null,
   "id": "324b815c",
   "metadata": {},
   "outputs": [],
   "source": []
  },
  {
   "cell_type": "markdown",
   "id": "8657dd14",
   "metadata": {},
   "source": [
    "### Pour aller plus loin\n",
    "- Réfléchir à la complexité de vos algorithmes et voir s’ils ne peuvent pas être optimisés en allocation mémoire ou temps d'exécution.\n",
    "- Imaginer d'autres indicateurs qui pourraient servir dans le cadre d'une gestion des équipements sportifs de la ville"
   ]
  },
  {
   "cell_type": "code",
   "execution_count": null,
   "id": "5c8fe104",
   "metadata": {},
   "outputs": [],
   "source": []
  },
  {
   "cell_type": "markdown",
   "id": "4a367340",
   "metadata": {
    "jp-MarkdownHeadingCollapsed": true,
    "tags": []
   },
   "source": [
    "## [Home](0_Index.ipynb)🏠\n",
    "![licence.png](pics/licence.png) Licence Creative Commons Attribution - Partage dans les Mêmes Conditions 4.0 International"
   ]
  }
 ],
 "metadata": {
  "celltoolbar": "Create Assignment",
  "kernelspec": {
   "display_name": "Python 3 (ipykernel)",
   "language": "python",
   "name": "python3"
  },
  "language_info": {
   "codemirror_mode": {
    "name": "ipython",
    "version": 3
   },
   "file_extension": ".py",
   "mimetype": "text/x-python",
   "name": "python",
   "nbconvert_exporter": "python",
   "pygments_lexer": "ipython3",
   "version": "3.9.12"
  }
 },
 "nbformat": 4,
 "nbformat_minor": 5
}
