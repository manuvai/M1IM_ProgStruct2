{
 "cells": [
  {
   "cell_type": "markdown",
   "id": "5166f9cd",
   "metadata": {
    "nbgrader": {
     "grade": false,
     "grade_id": "cell-4c9f19b7231c51c0",
     "locked": true,
     "schema_version": 3,
     "solution": false,
     "task": false
    }
   },
   "source": [
    "## TD 1 : Les installations sportives de Toulouse"
   ]
  },
  {
   "cell_type": "markdown",
   "id": "f16854cc",
   "metadata": {
    "nbgrader": {
     "grade": false,
     "grade_id": "cell-e8f0192bd90632dc",
     "locked": true,
     "schema_version": 3,
     "solution": false,
     "task": false
    },
    "tags": []
   },
   "source": [
    "### Contexte \n",
    "\n",
    "La mairie de Toulouse met à disposition des données ouvertes sur son territoire, par exemple des données sur ses installations sportives : https://data.toulouse-metropole.fr/explore/dataset/installations-sportives-de-la-ville-de-toulouse/information/?sort=-quartiers. \n",
    "L'objectif est d'analyser certaines de ces informations.\n",
    "    \n",
    "### 1. Fichier csv \n",
    "\n",
    "A partir de l'adresse précédente :\n",
    "- visualiser le jeu de données, notamment les informations fournies\n",
    "- télécharger le fichier au format csv\n",
    "- l'ouvrir sous Excel pour supprimer les lignes dont le numéro de quartier est vide\n"
   ]
  },
  {
   "cell_type": "markdown",
   "id": "5b6d2a9f",
   "metadata": {},
   "source": [
    "### 2.  Dictionnaire données\n",
    "Ecrire une fonction **initialiser_dico(nom_fichier:str)->dict** permettant de lire un fichier csv au format ci dessus. Cette fonction retourne un dictionnaire où chaque quartier est associé aux informations suivantes pour chaque installation sportive le concernant :\n",
    "- Type\n",
    "- Acces Hand\n",
    "    \n",
    "**Attention** : il peut y avoir plusieurs installations sportives pour un quartier ce qui donne par exemple pour le quartier 1.1 \n",
    "    \n",
    "    {'1.1': [{'Type': 'Salle rdc', 'Acces Hand': 'O'}, {'Type': 'Salle', 'Acces Hand': 'N'}, {'Type': 'Boulodrome', 'Acces Hand': ''}, {'Type': 'Boulodrome', 'Acces Hand': 'O'}, {'Type': 'Gymnase', 'Acces Hand': 'N'}, {'Type': 'Boulodrome', 'Acces Hand': 'O'}, {'Type': 'City stade', 'Acces Hand': 'N'}],\n",
    "    "
   ]
  },
  {
   "cell_type": "code",
   "execution_count": 2,
   "id": "6abe1dff-36fa-4107-b46c-dfd72a563f51",
   "metadata": {},
   "outputs": [
    {
     "name": "stdout",
     "output_type": "stream",
     "text": [
      "{'4.2': [{'Type': 'Terrain', 'Acces Hand': 'O'}, {'Type': 'Gymnase', 'Acces Hand': 'O'}, {'Type': 'Patinoire, piscine', 'Acces Hand': 'O'}, {'Type': 'Gymnase', 'Acces Hand': 'O'}, {'Type': 'Gymnase', 'Acces Hand': 'O'}, {'Type': 'Plateau multisports extérieur', 'Acces Hand': 'O'}, {'Type': 'Terrain', 'Acces Hand': 'O'}, {'Type': 'Boulodrome', 'Acces Hand': 'O'}, {'Type': 'Terrain', 'Acces Hand': 'O'}, {'Type': 'Terrain', 'Acces Hand': 'O'}, {'Type': 'Boulodrome', 'Acces Hand': 'O'}, {'Type': 'Dojo', 'Acces Hand': 'O'}, {'Type': 'Terrain', 'Acces Hand': 'O'}, {'Type': 'Plateau multisports extérieur', 'Acces Hand': 'N'}, {'Type': 'Terrain', 'Acces Hand': 'O'}, {'Type': 'Boulodrome', 'Acces Hand': 'O'}, {'Type': 'Boulodrome', 'Acces Hand': 'O'}, {'Type': 'Terrain', 'Acces Hand': 'O'}, {'Type': 'Terrain', 'Acces Hand': 'O'}, {'Type': 'Plateau multisports extérieur', 'Acces Hand': 'O'}, {'Type': 'Boulodrome', 'Acces Hand': 'N'}, {'Type': 'Terrain', 'Acces Hand': 'O'}, {'Type': 'Plateau multisports extérieur', 'Acces Hand': 'O'}, {'Type': 'Boulodrome', 'Acces Hand': 'O'}, {'Type': 'Terrain', 'Acces Hand': 'O'}, {'Type': 'City stade', 'Acces Hand': 'N'}], '5.2': [{'Type': 'Salle', 'Acces Hand': 'O'}, {'Type': 'Patinoire', 'Acces Hand': 'O'}, {'Type': 'Salle', 'Acces Hand': 'O'}, {'Type': 'Terrain', 'Acces Hand': 'O'}, {'Type': 'Terrain', 'Acces Hand': 'O'}, {'Type': 'Terrain', 'Acces Hand': 'O'}, {'Type': 'City-Stade', 'Acces Hand': 'N'}, {'Type': 'Tennis', 'Acces Hand': 'O'}, {'Type': 'Piscine', 'Acces Hand': 'O'}, {'Type': 'Terrain', 'Acces Hand': 'O'}, {'Type': 'Salle', 'Acces Hand': 'O'}, {'Type': 'Piscine', 'Acces Hand': 'O'}, {'Type': 'Boulodrome', 'Acces Hand': 'O'}, {'Type': 'Terrain', 'Acces Hand': 'O'}, {'Type': 'Boulodrome', 'Acces Hand': 'O'}, {'Type': 'Skate-park', 'Acces Hand': 'O'}, {'Type': 'Terrain', 'Acces Hand': 'O'}, {'Type': 'Salle', 'Acces Hand': 'O'}, {'Type': 'Tennis', 'Acces Hand': 'O'}, {'Type': 'Terrain', 'Acces Hand': 'O'}, {'Type': 'Terrain', 'Acces Hand': 'O'}, {'Type': 'Plateau multisports extérieur', 'Acces Hand': 'O'}, {'Type': 'Boulodrome', 'Acces Hand': 'O'}, {'Type': 'Terrain', 'Acces Hand': 'O'}, {'Type': 'Gymnase', 'Acces Hand': 'O'}, {'Type': 'Terrain', 'Acces Hand': 'O'}, {'Type': 'Terrain', 'Acces Hand': 'N'}, {'Type': 'Boulodrome', 'Acces Hand': 'O'}, {'Type': 'Boulodrome', 'Acces Hand': 'O'}], '5.1': [{'Type': 'Terrain', 'Acces Hand': 'O'}, {'Type': 'Plateau multisports extérieur', 'Acces Hand': 'O'}, {'Type': 'Terrain', 'Acces Hand': 'O'}, {'Type': 'Terrain', 'Acces Hand': 'O'}, {'Type': 'Boulodrome', 'Acces Hand': 'O'}, {'Type': 'Boulodrome', 'Acces Hand': 'O'}, {'Type': 'Gymnase', 'Acces Hand': 'O'}, {'Type': 'Tennis', 'Acces Hand': 'O'}, {'Type': 'Plateau multisports extérieur', 'Acces Hand': 'O'}, {'Type': 'Terrain', 'Acces Hand': 'O'}, {'Type': 'Boulodrome', 'Acces Hand': 'O'}, {'Type': 'Gymnase', 'Acces Hand': 'O'}, {'Type': 'Terrain', 'Acces Hand': 'O'}, {'Type': 'Plateau multisports extérieur', 'Acces Hand': 'O'}, {'Type': 'Terrain', 'Acces Hand': 'O'}, {'Type': 'Terrain', 'Acces Hand': 'O'}, {'Type': 'Terrain', 'Acces Hand': 'O'}, {'Type': 'Boulodrome', 'Acces Hand': 'O'}, {'Type': 'Boulodrome', 'Acces Hand': 'O'}], '5.3': [{'Type': 'Piscine', 'Acces Hand': 'O'}, {'Type': 'Terrain', 'Acces Hand': 'O'}, {'Type': 'Boulodrome', 'Acces Hand': 'O'}, {'Type': 'Boulodrome', 'Acces Hand': 'O'}, {'Type': 'Terrain', 'Acces Hand': 'O'}, {'Type': 'Base nautique', 'Acces Hand': 'O'}, {'Type': 'Terrain', 'Acces Hand': 'O'}, {'Type': 'Terrain', 'Acces Hand': 'O'}, {'Type': 'Piscine', 'Acces Hand': 'N'}, {'Type': 'Gymnase', 'Acces Hand': 'O'}, {'Type': 'Plateau multisports extérieur', 'Acces Hand': 'O'}, {'Type': 'Boulodrome', 'Acces Hand': 'O'}, {'Type': 'Terrain', 'Acces Hand': 'O'}, {'Type': 'Terrain', 'Acces Hand': 'O'}, {'Type': 'Gymnase', 'Acces Hand': 'O'}, {'Type': 'Terrain', 'Acces Hand': 'O'}, {'Type': 'Terrain', 'Acces Hand': 'O'}, {'Type': 'Base nautique', 'Acces Hand': 'O'}, {'Type': 'Plateau multisports extérieur', 'Acces Hand': 'O'}, {'Type': 'Boulodrome', 'Acces Hand': 'O'}, {'Type': 'Terrain', 'Acces Hand': 'O'}, {'Type': 'Piscine', 'Acces Hand': 'O'}, {'Type': 'Gymnase', 'Acces Hand': 'O'}, {'Type': 'City-Stade', 'Acces Hand': 'O'}, {'Type': 'Fronton', 'Acces Hand': 'O'}, {'Type': 'Gymnase', 'Acces Hand': 'O'}, {'Type': 'Tennis', 'Acces Hand': 'O'}, {'Type': 'City-Stade', 'Acces Hand': 'O'}, {'Type': 'Terrain', 'Acces Hand': 'O'}, {'Type': 'Terrain sable', 'Acces Hand': 'O'}, {'Type': 'Piscine', 'Acces Hand': 'O'}], '3.4': [{'Type': 'bi-cross, skate-park', 'Acces Hand': 'O'}, {'Type': 'Boulodrome', 'Acces Hand': 'O'}, {'Type': 'Boulodrome', 'Acces Hand': 'O'}, {'Type': 'Salle polyvalente', 'Acces Hand': 'O'}, {'Type': 'Gymnase', 'Acces Hand': 'O'}, {'Type': 'Gymnase', 'Acces Hand': 'O'}, {'Type': 'Boulodrome', 'Acces Hand': 'O'}, {'Type': 'Boulodrome', 'Acces Hand': 'O'}, {'Type': 'Terrain', 'Acces Hand': 'O'}, {'Type': 'Gymnase', 'Acces Hand': 'O'}, {'Type': 'Plateau multisports extérieur', 'Acces Hand': 'N'}, {'Type': 'City stade', 'Acces Hand': 'N'}, {'Type': 'Gymnase', 'Acces Hand': 'O'}, {'Type': 'Boulodrome', 'Acces Hand': 'O'}], '2.4': [{'Type': 'Boulodrome', 'Acces Hand': 'O'}, {'Type': 'Plateau multisports extérieur', 'Acces Hand': 'O'}, {'Type': 'Terrain', 'Acces Hand': 'O'}, {'Type': 'Gymnase', 'Acces Hand': 'N'}, {'Type': 'Plateau multisports extérieur', 'Acces Hand': 'O'}, {'Type': 'Boulodrome', 'Acces Hand': 'O'}, {'Type': 'Boulodrome', 'Acces Hand': 'O'}, {'Type': 'Terrain', 'Acces Hand': 'N'}, {'Type': 'Terrain', 'Acces Hand': 'N'}], '2.3': [{'Type': 'Plateau multisports extérieur', 'Acces Hand': 'N'}, {'Type': 'Boulodrome', 'Acces Hand': 'O'}, {'Type': 'Boulodrome', 'Acces Hand': 'O'}, {'Type': 'Gymnase', 'Acces Hand': 'O'}, {'Type': 'Boulodrome', 'Acces Hand': 'O'}, {'Type': 'Boulodrome', 'Acces Hand': 'O'}, {'Type': 'Boulodrome', 'Acces Hand': 'O'}, {'Type': 'Multisports', 'Acces Hand': 'N'}], '2.1': [{'Type': 'Multisports', 'Acces Hand': 'O'}, {'Type': 'Boulodrome', 'Acces Hand': 'N'}, {'Type': 'Gymnase', 'Acces Hand': 'O'}, {'Type': 'Terrain', 'Acces Hand': 'N'}, {'Type': 'Boulodrome', 'Acces Hand': 'N'}, {'Type': 'Boulodrome', 'Acces Hand': 'O'}], '4.1': [{'Type': 'Boulodrome', 'Acces Hand': 'O'}, {'Type': 'Terrain', 'Acces Hand': 'O'}, {'Type': 'Boulodrome', 'Acces Hand': 'O'}, {'Type': 'Terrain', 'Acces Hand': 'O'}, {'Type': 'Boulodrome', 'Acces Hand': 'O'}, {'Type': 'Boulodrome', 'Acces Hand': 'O'}, {'Type': 'Boulodrome', 'Acces Hand': 'O'}, {'Type': 'Terrain', 'Acces Hand': 'O'}, {'Type': 'City stade', 'Acces Hand': ''}, {'Type': 'Boulodrome', 'Acces Hand': 'O'}], '4.3': [{'Type': 'Plateau multisports extérieur', 'Acces Hand': 'O'}, {'Type': 'Salle', 'Acces Hand': ''}, {'Type': 'Terrain', 'Acces Hand': 'O'}, {'Type': 'Terrain', 'Acces Hand': 'O'}, {'Type': 'Gymnase', 'Acces Hand': 'O'}, {'Type': 'Terrain', 'Acces Hand': 'O'}, {'Type': 'bi-cross', 'Acces Hand': 'O'}, {'Type': 'Skate-Park', 'Acces Hand': 'O'}, {'Type': 'Terrain', 'Acces Hand': 'N'}, {'Type': 'Gymnase', 'Acces Hand': 'O'}, {'Type': 'Terrain', 'Acces Hand': 'O'}, {'Type': 'Plateau multisports extérieur', 'Acces Hand': 'O'}, {'Type': 'Terrain', 'Acces Hand': 'N'}, {'Type': 'Terrain', 'Acces Hand': 'O'}, {'Type': 'Terrain', 'Acces Hand': 'O'}], '6.3': [{'Type': 'Plateau multisports extérieur', 'Acces Hand': 'O'}, {'Type': 'Gymnase', 'Acces Hand': 'O'}, {'Type': 'Multisports', 'Acces Hand': 'O'}, {'Type': 'Piste', 'Acces Hand': 'O'}, {'Type': 'Terrain', 'Acces Hand': 'O'}, {'Type': 'Boulodrome', 'Acces Hand': 'O'}, {'Type': 'Boulodrome', 'Acces Hand': 'O'}, {'Type': 'Boulodrome', 'Acces Hand': 'O'}, {'Type': 'Terrain', 'Acces Hand': 'O'}, {'Type': 'Multisports', 'Acces Hand': 'O'}, {'Type': 'Plateau multisports extérieur', 'Acces Hand': 'O'}, {'Type': 'City-Stade', 'Acces Hand': 'O'}], '6.4': [{'Type': 'Boulodrome', 'Acces Hand': 'O'}, {'Type': 'Terrain', 'Acces Hand': 'O'}], '1.1': [{'Type': 'Salle rdc', 'Acces Hand': 'O'}, {'Type': 'Salle', 'Acces Hand': 'N'}, {'Type': 'Boulodrome', 'Acces Hand': ''}, {'Type': 'Boulodrome', 'Acces Hand': 'O'}, {'Type': 'Gymnase', 'Acces Hand': 'N'}, {'Type': 'Boulodrome', 'Acces Hand': 'O'}, {'Type': 'City stade', 'Acces Hand': 'N'}], '3.2': [{'Type': 'Piscine', 'Acces Hand': 'O'}, {'Type': 'Skate-Park', 'Acces Hand': 'O'}, {'Type': 'Piscine', 'Acces Hand': 'N'}], '3.1': [{'Type': 'Piscine', 'Acces Hand': '0'}, {'Type': 'Boulodrome', 'Acces Hand': 'O'}, {'Type': 'Boulodrome', 'Acces Hand': 'O'}, {'Type': 'Boulodrome', 'Acces Hand': 'O'}, {'Type': 'Piste', 'Acces Hand': 'O'}, {'Type': 'Plateau multisports extérieur', 'Acces Hand': 'N'}, {'Type': 'City stade', 'Acces Hand': 'N'}, {'Type': 'Boulodrome', 'Acces Hand': 'O'}, {'Type': 'Plateau multisports extérieur', 'Acces Hand': 'O'}, {'Type': 'Gymnase', 'Acces Hand': 'O'}, {'Type': 'Boulodrome', 'Acces Hand': 'O'}, {'Type': 'Gymnase', 'Acces Hand': 'O'}], '6.5': [{'Type': 'Boulodrome', 'Acces Hand': 'O'}, {'Type': 'Terrain', 'Acces Hand': 'N'}], '2.2': [{'Type': 'Gymnase', 'Acces Hand': 'N'}], '1.2': [{'Type': 'Boulodrome', 'Acces Hand': 'O'}, {'Type': 'Boulodrome', 'Acces Hand': 'O'}, {'Type': 'Piscine', 'Acces Hand': 'O'}, {'Type': 'Plateau multisports extérieur', 'Acces Hand': 'O'}, {'Type': 'Gymnase', 'Acces Hand': 'O'}], '6.2': [{'Type': 'Gymnase', 'Acces Hand': 'N'}, {'Type': 'Gymnase', 'Acces Hand': 'N'}, {'Type': 'Boulodrome', 'Acces Hand': 'O'}, {'Type': 'Gymnase', 'Acces Hand': 'O'}, {'Type': 'Boulodrome', 'Acces Hand': 'O'}, {'Type': 'Boulodrome', 'Acces Hand': 'O'}, {'Type': 'Terrain', 'Acces Hand': 'N'}], '1.3': [{'Type': 'Boulodrome', 'Acces Hand': 'O'}, {'Type': 'Dojo', 'Acces Hand': 'N'}, {'Type': 'Gymnase', 'Acces Hand': 'N'}], '3.3': [{'Type': 'Boulodrome', 'Acces Hand': 'O'}, {'Type': 'Gymnase', 'Acces Hand': 'O'}, {'Type': 'Base nautique', 'Acces Hand': '0'}, {'Type': 'Boulodrome', 'Acces Hand': 'O'}, {'Type': 'Boulodrome', 'Acces Hand': '0'}], '6.1': [{'Type': 'Piscine', 'Acces Hand': 'N'}, {'Type': 'Gymnase', 'Acces Hand': 'O'}]}\n"
     ]
    }
   ],
   "source": [
    "def initialiser_dico(nom_fichier: str) -> dict:\n",
    "    return get_dico_by_keys(nom_fichier, ['Type', 'Acces Hand'])\n",
    "\n",
    "def get_dico_by_keys(nom_fichier: str, list_keys: list = None):\n",
    "    lines = get_file_lines(nom_fichier)\n",
    "\n",
    "    keys = get_csv_keys(lines)\n",
    "\n",
    "    liste_quartiers = {}\n",
    "\n",
    "    for i in range(1, len(lines)):\n",
    "        data_dict = create_dict(lines[i], keys)\n",
    "        no_quartier = data_dict[keys[0]]\n",
    "        if (liste_quartiers.get(no_quartier) is None):\n",
    "            liste_quartiers[no_quartier] = []\n",
    "\n",
    "        current_dict = {\n",
    "            'Quartiers' : data_dict[keys[0]],\n",
    "            'Sites' : data_dict[keys[1]],\n",
    "            'Adresse' : data_dict[keys[2]],\n",
    "            'Type' : data_dict[keys[3]],\n",
    "            'Activités (nombre)' : data_dict[keys[4]],\n",
    "            'Nature' : data_dict[keys[5]],\n",
    "            'L x l x h' : data_dict[keys[6]],\n",
    "            'Eclairage' : data_dict[keys[7]],\n",
    "            'Arrosage' : data_dict[keys[8]],\n",
    "            'Vest joueurs (Arbitres)' : data_dict[keys[9]],\n",
    "            'Sanitaires' : data_dict[keys[10]],\n",
    "            'Douches' : data_dict[keys[11]],\n",
    "            'Capacité sécurité' : data_dict[keys[12]],\n",
    "            'Tribunes' : data_dict[keys[13]],\n",
    "            'Club House' : data_dict[keys[14]],\n",
    "            'Catégorie' : data_dict[keys[15]],\n",
    "            'Date' : data_dict[keys[16]],\n",
    "            'Acces Hand' : data_dict[keys[17]],\n",
    "            'Toilette Hand' : data_dict[keys[18]],\n",
    "        }\n",
    "        \n",
    "        if (list_keys is None):\n",
    "            temp_dict = current_dict\n",
    "        else:\n",
    "            temp_dict = {}\n",
    "            for key in list_keys:\n",
    "                temp_dict[key] = current_dict[key]\n",
    "\n",
    "        liste_quartiers[no_quartier].append(temp_dict)\n",
    "\n",
    "    return liste_quartiers\n",
    "\n",
    "def create_dict(line: str, keys: list) -> dict:\n",
    "    \"\"\"Conversion d'une ligne vers un format exploitable de Film\n",
    "\n",
    "    Args:\n",
    "        line (str): La ligne\n",
    "        keys (list): La liste de clés\n",
    "\n",
    "    Returns:\n",
    "        dict: Film\n",
    "    \"\"\"\n",
    "    donnees = line.split(';')\n",
    "\n",
    "    data = {}\n",
    "\n",
    "    for i in range(len(donnees)):\n",
    "        data[keys[i]] = donnees[i]\n",
    "\n",
    "    return data\n",
    "\n",
    "def get_file_lines(csv_file_path: str) -> list:\n",
    "    \"\"\"Implémentation de la récupération des lignes d'un fichier sans \\n\n",
    "\n",
    "    Args:\n",
    "        csv_file_path (str): Le chemin vers le fichier CSV\n",
    "\n",
    "    Returns:\n",
    "        list: La liste des lignes\n",
    "    \"\"\"\n",
    "    \n",
    "    with open(csv_file_path, encoding='UTF-8', mode='r') as file:\n",
    "        lines = file.readlines()\n",
    "    \n",
    "    response = []\n",
    "\n",
    "    for line in lines:\n",
    "        response.append(line.replace(\"\\n\", \"\").strip())\n",
    "\n",
    "    return response\n",
    "\n",
    "def get_csv_keys(lines: list) -> list:\n",
    "    \"\"\"Permet de récupérer la liste des champs\n",
    "\n",
    "    Args:\n",
    "        lines (list): Les lignes du fichier CSV\n",
    "\n",
    "    Returns:\n",
    "        list: La liste des champs\n",
    "    \"\"\"\n",
    "    return lines[0].split(';')\n",
    "\n",
    "\n",
    "if (__name__ == '__main__'):\n",
    "    \n",
    "    csv_file = 'installations-sportives-de-la-ville-de-toulouse.csv'\n",
    "    print(initialiser_dico(csv_file))\n"
   ]
  },
  {
   "cell_type": "markdown",
   "id": "2a22233b",
   "metadata": {},
   "source": [
    "### 3.  Indicateur d'accessibilité\n",
    "Ecrire une fonction **accessibilite(dico:dict)->dict** qui a partir du dictionnaire ci dessus va générer un nouveau dictionnaire indiquant pour chaque quartier :\n",
    "- son nombre d'équipements\n",
    "- son nombre d'équipements non accessibles aux personnes en situation de handicap\n",
    "    \n",
    "Par exemple, {'4.2': [26,3] } indique que dans le quartier 4.2, il y a 26 équipements dont 3 non accessibles\n",
    "    \n",
    "La fonction affiche le(s) quartier(s) qui a(ont) le plus grand nombre d'équipements non accessibles et renvoie le dictionnaire généré."
   ]
  },
  {
   "cell_type": "code",
   "execution_count": 3,
   "id": "92be1ebd-b0f9-4ca3-b028-5c62c87b4988",
   "metadata": {},
   "outputs": [
    {
     "name": "stdout",
     "output_type": "stream",
     "text": [
      "Voici la liste des quartiers ayant le plus grand nombre d'équipements non accessibles : ['4.2', '2.4', '2.1', '1.1', '6.2']\n",
      "{'4.2': [26, 3], '5.2': [29, 2], '5.1': [19, 0], '5.3': [31, 1], '3.4': [14, 2], '2.4': [9, 3], '2.3': [8, 2], '2.1': [6, 3], '4.1': [10, 0], '4.3': [15, 2], '6.3': [12, 0], '6.4': [2, 0], '1.1': [7, 3], '3.2': [3, 1], '3.1': [12, 2], '6.5': [2, 1], '2.2': [1, 1], '1.2': [5, 0], '6.2': [7, 3], '1.3': [3, 2], '3.3': [5, 0], '6.1': [2, 1]}\n"
     ]
    }
   ],
   "source": [
    "def accessibilite(dico: dict) -> dict:\n",
    "    equipements_inaccessibles = non_accessibles(dico)\n",
    "\n",
    "    list_return = {}\n",
    "    nb_max_inaccessibles = nb_max_equipement_inaccessibles(dico)\n",
    "    list_max_equipements_inaccessibles = []\n",
    "\n",
    "    for key, values in dico.items():\n",
    "        list_return[key] = [\n",
    "            len(values),\n",
    "            equipements_inaccessibles[key]\n",
    "        ]\n",
    "\n",
    "        if (equipements_inaccessibles[key] == nb_max_inaccessibles):\n",
    "            list_max_equipements_inaccessibles.append(key)\n",
    "\n",
    "    print(\"Voici la liste des quartiers ayant le plus grand nombre d'équipements non accessibles : {}\".format(list_max_equipements_inaccessibles))\n",
    "    return list_return\n",
    "\n",
    "def nb_max_equipement_inaccessibles(dico: dict):\n",
    "    equipements_inaccessibles = non_accessibles(dico)\n",
    "\n",
    "    nb_max = None\n",
    "\n",
    "    for quartier, nb in equipements_inaccessibles.items():\n",
    "        if (nb_max is None or nb > nb_max):\n",
    "            nb_max = nb\n",
    "\n",
    "    return nb_max\n",
    "\n",
    "def non_accessibles(dico: dict) -> dict:\n",
    "    \"\"\"Retourne un dictionnaire contenant pour chaque quartier le nombre d'équipements non accessibles\n",
    "\n",
    "    Args:\n",
    "        dico (dict): Le dictionnaire d'entrée\n",
    "\n",
    "    Returns:\n",
    "        dict: Le dictionnaire de sortie\n",
    "    \"\"\"\n",
    "\n",
    "    list_return = {}\n",
    "    for key, list_equipements in dico.items():\n",
    "        list_return[key] = 0\n",
    "\n",
    "        for equipement in list_equipements:\n",
    "            if (equipement['Acces Hand'] == 'N'):\n",
    "                list_return[key] += 1\n",
    "\n",
    "    return list_return\n",
    "\n",
    "\n",
    "if __name__ == '__main__':\n",
    "    csv_file = 'installations-sportives-de-la-ville-de-toulouse.csv'\n",
    "    dico = initialiser_dico(csv_file)\n",
    "    print(accessibilite(dico))"
   ]
  },
  {
   "cell_type": "markdown",
   "id": "d98fe7f7",
   "metadata": {},
   "source": [
    "Afficher dans un graphique le dictionnaire d'accessibilité avec en abscisse les numéros de quartier et en ordonné le nombre d'équipement."
   ]
  },
  {
   "cell_type": "code",
   "execution_count": 4,
   "id": "094f7013",
   "metadata": {},
   "outputs": [
    {
     "data": {
      "image/png": "[encoded data removed]",
      "text/plain": [
       "<Figure size 640x480 with 1 Axes>"
      ]
     },
     "metadata": {},
     "output_type": "display_data"
    }
   ],
   "source": [
    "import matplotlib.pyplot as plt\n",
    "\n",
    "fig, ax = plt.subplots()\n",
    "\n",
    "if __name__ == '__main__':\n",
    "    csv_file = 'installations-sportives-de-la-ville-de-toulouse.csv'\n",
    "    dico = initialiser_dico(csv_file)\n",
    "    x_data = dico.keys()\n",
    "    y_data = []\n",
    "    for key, values in dico.items():\n",
    "        y_data.append(len(values))\n",
    "\n",
    "    ax.plot(x_data, y_data)\n",
    "    plt.show()   "
   ]
  },
  {
   "cell_type": "markdown",
   "id": "16f89c91",
   "metadata": {},
   "source": [
    "### 4.  Dictionnaire type d'équipement\n",
    "Ecrire une fonction **types equipements(dico:dict)->dict** qui, à partir du dictionnaire des données de la question 2, va retourner un dictionnaire indiquant le nombre d'équipements par type d'équipement. Ce calcul se fait pour l'ensemble des quartiers. Par exemple, il y a 1 seul équipement de type \"Salle rdc\" dans la ville mais 64 de type \"Boulodrome\"\n",
    "    \n",
    "    {'Salle rdc': 1, 'Salle': 6, 'Boulodrome': 64, ... }"
   ]
  },
  {
   "cell_type": "code",
   "execution_count": 5,
   "id": "9666f403",
   "metadata": {},
   "outputs": [
    {
     "name": "stdout",
     "output_type": "stream",
     "text": [
      "{'Terrain': 60, 'Gymnase': 31, 'Patinoire, piscine': 1, 'Plateau multisports extérieur': 21, 'Boulodrome': 64, 'Dojo': 2, 'City stade': 5, 'Salle': 6, 'Patinoire': 1, 'City-Stade': 4, 'Tennis': 4, 'Piscine': 11, 'Skate-park': 1, 'Base nautique': 3, 'Fronton': 1, 'Terrain sable': 1, 'bi-cross, skate-park': 1, 'Salle polyvalente': 1, 'Multisports': 4, 'bi-cross': 1, 'Skate-Park': 2, 'Piste': 2, 'Salle rdc': 1}\n"
     ]
    }
   ],
   "source": [
    "def type_equipements(dico: dict) -> dict:\n",
    "    dico_equipements = {}\n",
    "\n",
    "    for key, values in dico.items():\n",
    "        for equipement in values:\n",
    "            type_equip = equipement['Type']\n",
    "            if (dico_equipements.get(type_equip) is None):\n",
    "                dico_equipements[type_equip] = 0\n",
    "            \n",
    "            dico_equipements[type_equip] += 1\n",
    "    return dico_equipements\n",
    "\n",
    "if __name__ == '__main__':\n",
    "    \n",
    "    csv_file = 'installations-sportives-de-la-ville-de-toulouse.csv'\n",
    "    dico = initialiser_dico(csv_file)\n",
    "    \n",
    "    response = type_equipements(dico)\n",
    "    print(response)\n",
    "            \n"
   ]
  },
  {
   "cell_type": "markdown",
   "id": "5f3b95b8",
   "metadata": {},
   "source": [
    "Enregistrer ce dictionnaire dans un fichier **types_equipements.txt** avec un équipement par ligne sous la forme **nom : valeur**. Par exemple :\n",
    "    \n",
    "    Salle rdc:1\n",
    "    Salle:6\n",
    "    Boulodrome:64 ...\n"
   ]
  },
  {
   "cell_type": "code",
   "execution_count": 6,
   "id": "5db5dc0c",
   "metadata": {},
   "outputs": [],
   "source": [
    "\n",
    "def write_equipements_csv(equipements: dict, filename: str):\n",
    "    \"\"\"Implémentation de l'écriture d'une liste d'equipements dans un fichier\n",
    "\n",
    "    Args:\n",
    "        films (dict): Liste des equipements\n",
    "        filename (str): Nom du fichier\n",
    "    \"\"\"\n",
    "    with open(filename, encoding='utf-8', mode='w+') as file:\n",
    "        file.write(\"nom:valeur\")\n",
    "\n",
    "    for nom, valeur in equipements.items():\n",
    "        line = f\"{nom}:{valeur}\"\n",
    "\n",
    "        with open(filename, encoding='utf-8', mode='a+') as file:\n",
    "            file.write(\"\\n\" + line)\n",
    "\n",
    "if __name__ == '__main__':\n",
    "    \n",
    "    csv_file = 'installations-sportives-de-la-ville-de-toulouse.csv'\n",
    "    dico = initialiser_dico(csv_file)\n",
    "    \n",
    "    response = type_equipements(dico)\n",
    "\n",
    "    write_equipements_csv(response, 'types_equipements.txt')\n",
    "\n",
    "    "
   ]
  },
  {
   "cell_type": "markdown",
   "id": "579b0ba8-10e9-42ea-a9e5-0451af1965ea",
   "metadata": {},
   "source": [
    "    \n",
    "### 5.  Accès par quartier\n",
    "Ecrire une fonction **installations_quartier(nom_fichier:str,num_quartier:str)** permettant de lire le fichier csv pour écrire dans un nouveau fichier nommé installations-sportives-quartier-num.csv l'ensemble des installations du numéro de quartier choisi. L'ensemble des informations sont copiées ainsi que la première ligne descriptive.\n",
    "        \n",
    "        \n",
    "**Attention**: installations-sportives-quartier-**1-1**.csv contiendra les installations du quartier **1.1** pour éviter un problème de nommage de fichier."
   ]
  },
  {
   "cell_type": "code",
   "execution_count": 20,
   "id": "324b815c",
   "metadata": {},
   "outputs": [
    {
     "name": "stdout",
     "output_type": "stream",
     "text": [
      "{'1.1': [{'Quartiers': '1.1', 'Sites': 'Fabre salle rdc', 'Adresse': '5 rue du Pont de Tounis', 'Type': 'Salle rdc', 'Activités (nombre)': 'Musculation', 'Nature': '', 'L x l x h': '14,70x8,50', 'Eclairage': '', 'Arrosage': '', 'Vest joueurs (Arbitres)': '2', 'Sanitaires': 'oui', 'Douches': 'collective', 'Capacité sécurité': '31', 'Tribunes': '', 'Club House': '', 'Catégorie': '5ème', 'Date': '', 'Acces Hand': 'O', 'Toilette Hand': 'N'}, {'Quartiers': '1.1', 'Sites': 'Barada gymnase', 'Adresse': '1 Rue Malbec', 'Type': 'Salle', 'Activités (nombre)': 'Gymnastique', 'Nature': '', 'L x l x h': '25 x 11.5 x 4.85', 'Eclairage': '', 'Arrosage': '', 'Vest joueurs (Arbitres)': '2', 'Sanitaires': '1', 'Douches': '3 individuelle', 'Capacité sécurité': '50 pers', 'Tribunes': '', 'Club House': '', 'Catégorie': '5 ème', 'Date': '', 'Acces Hand': 'N', 'Toilette Hand': 'N'}, {'Quartiers': '1.1', 'Sites': 'Daurade', 'Adresse': 'Quai de la Daurade', 'Type': 'Boulodrome', 'Activités (nombre)': '', 'Nature': '', 'L x l x h': '', 'Eclairage': '', 'Arrosage': '', 'Vest joueurs (Arbitres)': '', 'Sanitaires': '', 'Douches': '', 'Capacité sécurité': '', 'Tribunes': '', 'Club House': '', 'Catégorie': '', 'Date': '', 'Acces Hand': '', 'Toilette Hand': ''}, {'Quartiers': '1.1', 'Sites': 'Quêteurs', 'Adresse': 'Rue des Quêteurs', 'Type': 'Boulodrome', 'Activités (nombre)': '', 'Nature': '', 'L x l x h': '', 'Eclairage': 'oui', 'Arrosage': '', 'Vest joueurs (Arbitres)': '', 'Sanitaires': '', 'Douches': '', 'Capacité sécurité': '', 'Tribunes': '', 'Club House': '', 'Catégorie': '', 'Date': '', 'Acces Hand': 'O', 'Toilette Hand': 'N'}, {'Quartiers': '1.1', 'Sites': 'Saint Sernin gymnase', 'Adresse': '1 Place Saint Sernin', 'Type': 'Gymnase', 'Activités (nombre)': 'Basket (1), Mini Basket (3), Volley (4), Handball (1)', 'Nature': '', 'L x l x h': '40 x 19.98 x 7.38', 'Eclairage': '', 'Arrosage': '', 'Vest joueurs (Arbitres)': '6', 'Sanitaires': '18', 'Douches': '7 ind, 4 coll', 'Capacité sécurité': '235pers', 'Tribunes': '', 'Club House': '', 'Catégorie': '5ème', 'Date': '', 'Acces Hand': 'N', 'Toilette Hand': 'N'}, {'Quartiers': '1.1', 'Sites': 'Port Garaud', 'Adresse': 'Rue du Moulin du château', 'Type': 'Boulodrome', 'Activités (nombre)': '', 'Nature': '', 'L x l x h': '', 'Eclairage': '', 'Arrosage': '', 'Vest joueurs (Arbitres)': '', 'Sanitaires': '', 'Douches': '', 'Capacité sécurité': '', 'Tribunes': '', 'Club House': '', 'Catégorie': '', 'Date': '', 'Acces Hand': 'O', 'Toilette Hand': 'N'}, {'Quartiers': '1.1', 'Sites': 'Embarthe', 'Adresse': 'Rue des queteurs', 'Type': 'City stade', 'Activités (nombre)': 'Football (2), Basket (2) Tennis de table (2)', 'Nature': '', 'L x l x h': '', 'Eclairage': '', 'Arrosage': '', 'Vest joueurs (Arbitres)': '', 'Sanitaires': '', 'Douches': '', 'Capacité sécurité': '', 'Tribunes': '', 'Club House': '', 'Catégorie': '', 'Date': '', 'Acces Hand': 'N', 'Toilette Hand': 'N'}]}\n"
     ]
    }
   ],
   "source": [
    "def installations_quartier(nom_fichier: str, num_quartier: str):\n",
    "    \"\"\"Implémentation de la réponse à la question\n",
    "\n",
    "    Args:\n",
    "        nom_fichier (str): Le nom du fichier à récupérer les données\n",
    "        num_quartier (str): Le quartier à chercher\n",
    "    \"\"\"\n",
    "    dico_quartiers = get_dico_by_keys(nom_fichier)\n",
    "\n",
    "    quartier = get_by_quartier_name(dico_quartiers, num_quartier)\n",
    "\n",
    "    lines_quartier = get_lines_from_quartier(quartier)\n",
    "    \n",
    "    keys = get_csv_keys(get_file_lines(nom_fichier))\n",
    "\n",
    "    write_quartier_csv_file(lines_quartier, keys, num_quartier)\n",
    "\n",
    "def write_quartier_csv_file(lines_quartier: list, keys: list, num_quartier: str, filename: str = None):\n",
    "    \"\"\"Écrit dans un fichier csv les équipements d'un quartier'\n",
    "\n",
    "    Args:\n",
    "        lines_quartier (list): La liste des équipements d'un quartier\n",
    "        keys (list): Les clés du fichier CSV\n",
    "        num_quartier (str): Le numéro du quartier concerné\n",
    "        filename (str, optional): Le nom du fichier à créer. Defaults to None.\n",
    "    \"\"\"\n",
    "    if (filename is None):\n",
    "        num_quartier = num_quartier.replace('.', '-')\n",
    "        filename = f\"installations-sportives-quartier-{num_quartier}.csv\"\n",
    "\n",
    "    with open(filename, encoding='utf-8', mode='w+') as file:\n",
    "        file.write(';'.join(keys))\n",
    "\n",
    "    for line in lines_quartier:\n",
    "\n",
    "        with open(filename, encoding='utf-8', mode='a+') as file:\n",
    "            file.write(\"\\n\" + ';'.join(line))\n",
    "\n",
    "def get_lines_from_quartier(dico: dict) -> list:\n",
    "    \"\"\"Récupération des lignes d'un quartier\n",
    "\n",
    "    Args:\n",
    "        dico (dict): _description_\n",
    "\n",
    "    Returns:\n",
    "        list: _description_\n",
    "    \"\"\"\n",
    "    lines = []\n",
    "    for num, quartiers in dico.items():\n",
    "        for quartier in quartiers:\n",
    "            temp_quartier = get_quartier_values(quartier)\n",
    "            lines.append(temp_quartier)\n",
    "\n",
    "    return lines\n",
    "        \n",
    "def get_quartier_values(quartier: dict) -> list:\n",
    "    \"\"\"Récupération des valeurs d'un quartier sous forme de liste\n",
    "\n",
    "    Args:\n",
    "        quartier (dict): Un quartier en particulier\n",
    "\n",
    "    Returns:\n",
    "        list: La liste des valeurs\n",
    "    \"\"\"\n",
    "    values = []\n",
    "    for key, value in quartier.items():\n",
    "        values.append(value)\n",
    "    \n",
    "    return values\n",
    "\n",
    "def get_by_quartier_name(dico: dict, nom: str) -> dict:\n",
    "    \"\"\"Récupération d'un quartier à partir d'un nom\n",
    "\n",
    "    Args:\n",
    "        dico (dict): Dictionnaire des quartiers\n",
    "        nom (str): Nom du quartier à chercher\n",
    "\n",
    "    Returns:\n",
    "        dict: Le quartier trouvé\n",
    "    \"\"\"\n",
    "    for key, value in dico.items():\n",
    "        if (nom == key):\n",
    "            return {\n",
    "                key: value\n",
    "            }\n",
    "    \n",
    "    return None\n",
    "\n",
    "if (__name__ == '__main__'):\n",
    "    csv_file = 'installations-sportives-de-la-ville-de-toulouse.csv'\n",
    "    installations_quartier(csv_file, '1.1')\n"
   ]
  },
  {
   "cell_type": "markdown",
   "id": "8657dd14",
   "metadata": {},
   "source": [
    "### Pour aller plus loin\n",
    "- Réfléchir à la complexité de vos algorithmes et voir s’ils ne peuvent pas être optimisés en allocation mémoire ou temps d'exécution.\n",
    "- Imaginer d'autres indicateurs qui pourraient servir dans le cadre d'une gestion des équipements sportifs de la ville"
   ]
  },
  {
   "cell_type": "code",
   "execution_count": null,
   "id": "5c8fe104",
   "metadata": {},
   "outputs": [],
   "source": [
    "- O(N²) à minimat\n",
    "- Ajouter également une courbe des équipements inaccessibles"
   ]
  },
  {
   "cell_type": "markdown",
   "id": "4a367340",
   "metadata": {
    "jp-MarkdownHeadingCollapsed": true,
    "tags": []
   },
   "source": [
    "## [Home](0_Index.ipynb)🏠\n",
    "![licence.png](pics/licence.png) Licence Creative Commons Attribution - Partage dans les Mêmes Conditions 4.0 International"
   ]
  }
 ],
 "metadata": {
  "celltoolbar": "Create Assignment",
  "kernelspec": {
   "display_name": "Python 3",
   "language": "python",
   "name": "python3"
  },
  "language_info": {
   "codemirror_mode": {
    "name": "ipython",
    "version": 3
   },
   "file_extension": ".py",
   "mimetype": "text/x-python",
   "name": "python",
   "nbconvert_exporter": "python",
   "pygments_lexer": "ipython3",
   "version": "3.10.6"
  },
  "vscode": {
   "interpreter": {
    "hash": "4fb435cb9a1efeb2f38d3dce1339521a1fba953090a1346d7eedb3261b9f21ce"
   }
  }
 },
 "nbformat": 4,
 "nbformat_minor": 5
}
