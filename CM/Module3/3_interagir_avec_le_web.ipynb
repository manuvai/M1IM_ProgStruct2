{
 "cells": [
  {
   "cell_type": "markdown",
   "id": "c30199cf-95c2-4522-ad60-a73d8a05b3f4",
   "metadata": {
    "slideshow": {
     "slide_type": "slide"
    }
   },
   "source": [
    "![./pics/logo_ut1.jpg](./pics/logo_ut1.jpg)\n",
    "# Master 1 Ingénierie Métier (IM) : Programmation Structurée 2 2022/2023: \n",
    "\n",
    "## Intéragir avec le Web\n",
    "\n",
    "Equipe pédagogique: \n",
    "* Sophie Martinez - Sophie.Martinez@ut-capitole.fr\n",
    "* Laurent Marsan - Laurent.Marsan@ut-capitole.fr\n",
    "* Nicolas Verstaevel - Nicolas.Verstaevel@ut-capitole.fr"
   ]
  },
  {
   "cell_type": "markdown",
   "id": "8fb84381",
   "metadata": {
    "tags": []
   },
   "source": [
    "# Au module précédent, nous avons vu:\n",
    "* ✔️ Le module ```os```nous permet d'intéragir avec le système d'exploitation\n",
    "* ✔️ On peut créer, supprimer des fichiers et des dossiers\n",
    "* ✔️ La fonction ```open``` nous permet de lire un fichier\n",
    "* ✔️ La lecture de fichier se fait selon un mode\n",
    "* ✔️ On peut lire un fichier avec la methode ```read()``` la méthode ```readlines()```\n",
    "* ✔️ On peut écrire dans un fichier avec la méthode ```write()```. Le comportement dépend du mode d'ouverture du fichier.\n",
    "* ✔️ La journalisation en génie logiciel est une pratique qui consiste à créer des journaux pour historiser des évènements\n",
    "* ✔️ Il est possible de créer des journaux à l'aide du module ```logging```\n",
    "* ✔️ Un évènement est défini selon une priorité. Il est possible de choisir le niveau de priorité traité par un journal."
   ]
  },
  {
   "cell_type": "markdown",
   "id": "51e380a4-253f-42c4-aa7a-47e3c29d472c",
   "metadata": {},
   "source": [
    "# Objectifs du module\n",
    "\n",
    "Nous avons vu qu'il est possible d'utiliser des modules en Python. Chaque module apporte un ensemble de fonctionnalités. Nous avons vu par exemple qu'il est possible de manipuler les dossiers au travers du module ```os``` ou encore de créer des journaux à l'aide du module ```logging```.\n",
    "\n",
    "Nous avons étudié et illustré la lecture et l'écriture de fichiers en nous intéressant notamment au format ```.csv```. \n",
    "\n",
    "Ce semestre, notre objectif est de pouvoir mettre en place une chapine de traitement pour la récupération, l’analyse et la visualisation de données. \n",
    "\n",
    "Aujourd’hui, nous allons donc nous intéresser à la collecte de données via le protocole HTTP (le web). En Web Dynamique 2, vous étudiez l’interaction avec une base de données. Dans ce module, nous allons nous intéresser à la collecte d’informations via le web, qu’il s’agisse de récupérer le contenu d’une page web, ou via l’utilisation d’une API ou d’un webservice pour récupérer des données au format JSON.\n",
    "\n",
    "Nous verrons au travers de deux exemples comment émettre une requête, récupérer son contenu et le stocker dans des dictionnaires pour pouvoir effectuer des traitements sur les données.\n",
    "\n",
    "<div class=\"alert alert-block alert-warning\">\n",
    "<b>⚠️:</b> Ce module nécessite que vous maitrisiez quelques notions de Web (Le protocole HTTP, URLS, paramètres GET/POST,...)\n",
    "</div>"
   ]
  },
  {
   "cell_type": "markdown",
   "id": "a4d5eb51-5752-4734-b7ac-f5f765ac5a4a",
   "metadata": {},
   "source": [
    "# Plan du module\n",
    "1) Le module ```Requests```, un module Python pour effectuer des requêtes HTTP \n",
    "2) Manipuler des données au format ```JSON```\n"
   ]
  },
  {
   "cell_type": "markdown",
   "id": "028fb594-8052-4cdf-b5c2-291e730eb755",
   "metadata": {},
   "source": [
    "# Intéragir avec le web à l'aide de ```requests```\n",
    "```Requests``` est un module qui offre un ensemble de fontionalités faciliant l'intéraction avec des requêtes HTTP.\n",
    "\n",
    "La document est disponible à l'adresse suivante: [https://requests.readthedocs.io/en/latest/#](https://requests.readthedocs.io/en/latest/#)\n",
    "\n",
    "L'installation du module se fait à l'aide de la commande suivante:"
   ]
  },
  {
   "cell_type": "code",
   "execution_count": 1,
   "id": "5cd9c941-d177-4a21-a207-c1dad3b977d2",
   "metadata": {},
   "outputs": [
    {
     "name": "stdout",
     "output_type": "stream",
     "text": [
      "Requirement already satisfied: requests in c:\\programdata\\anaconda3\\lib\\site-packages (2.27.1)\n",
      "Requirement already satisfied: urllib3<1.27,>=1.21.1 in c:\\programdata\\anaconda3\\lib\\site-packages (from requests) (1.26.9)\n",
      "Requirement already satisfied: certifi>=2017.4.17 in c:\\programdata\\anaconda3\\lib\\site-packages (from requests) (2021.10.8)\n",
      "Requirement already satisfied: charset-normalizer~=2.0.0 in c:\\programdata\\anaconda3\\lib\\site-packages (from requests) (2.0.4)\n",
      "Requirement already satisfied: idna<4,>=2.5 in c:\\programdata\\anaconda3\\lib\\site-packages (from requests) (3.3)\n",
      "Note: you may need to restart the kernel to use updated packages.\n"
     ]
    }
   ],
   "source": [
    "pip install requests"
   ]
  },
  {
   "cell_type": "markdown",
   "id": "1bee67b4-3c09-480a-a45e-04a1f6998b0a",
   "metadata": {},
   "source": [
    "[https://requests.readthedocs.io/en/latest/user/install/#install](https://requests.readthedocs.io/en/latest/user/install/#install)\n",
    "\n",
    "Pour utiliser le module requests dans un script Python, il faut procéder à son importation:"
   ]
  },
  {
   "cell_type": "code",
   "execution_count": 2,
   "id": "9d60c711-c66d-4878-8579-89fb9d152ed6",
   "metadata": {},
   "outputs": [],
   "source": [
    "import requests"
   ]
  },
  {
   "cell_type": "markdown",
   "id": "49ce4a61-b265-498a-835c-3958bff5c7ea",
   "metadata": {},
   "source": [
    "```requests``` permet d'effectuer l'ensemble des requêtes HTTP: GET, PUT, DELETE, HEAD, et OPTION.\n",
    "\n",
    "Par exemple, je peut effectuer une requête GET pour récupérer le contenu d'une page Web. \n",
    "\n",
    "Par exemple, si l'on veut récupérer la page wikipedia du Wombat (https://fr.wikipedia.org/wiki/Wombat). \n",
    "\n",
    "Pour effectuer une requête GET, j'utilise la méthode ```requests.get(url)``` où ```url``` contient l'url vers la page que je veux récupérer."
   ]
  },
  {
   "cell_type": "code",
   "execution_count": 32,
   "id": "6dd24caf-70c1-4bc2-bde6-ab33d0ab3444",
   "metadata": {},
   "outputs": [],
   "source": [
    "r = requests.get(\"https://fr.wikipedia.org/wiki/Wombat\")"
   ]
  },
  {
   "cell_type": "markdown",
   "id": "3932f173-c1fc-45bd-beb1-b1925570b18f",
   "metadata": {},
   "source": [
    "La variable ```r``` va contenir les informations résultants de l'execution de ma requête. Si je souhaite récupérer son contenu, je peux acccéder à la variable ```r.text```:\n",
    "\n",
    "<div class=\"alert alert-block alert-info\">\n",
    "<b>Attention:</b>  on pourrait afficher le contenu de r.text avec la méthode print. Mais comme il s'agit d'une page HTML (et qu'elle contient beaucoup de choses), l'affichage de notre string prendrai de la place! Pour simplifier, on va n'afficher que les 1000 premier caractères à l'aide de l'opérateur pour récuperer une sous string ```[:1000]```\n",
    "</div>"
   ]
  },
  {
   "cell_type": "code",
   "execution_count": 33,
   "id": "d2677792-72fd-4597-88b7-51ecb51fb5a7",
   "metadata": {
    "tags": []
   },
   "outputs": [
    {
     "name": "stdout",
     "output_type": "stream",
     "text": [
      "<!DOCTYPE html>\n",
      "<html class=\"client-nojs\" lang=\"fr\" dir=\"ltr\">\n",
      "<head>\n",
      "<meta charset=\"UTF-8\"/>\n",
      "<title>Wombat — Wikipédia</title>\n",
      "<script>document.documentElement.className=\"client-js\";RLCONF={\"wgBreakFrames\":false,\"wgSeparatorTransformTable\":[\",\\t.\",\" \\t,\"],\"wgDigitTransformTable\":[\"\",\"\"],\"wgDefaultDateFormat\":\"dmy\",\"wgMonthNames\":[\"\",\"janvier\",\"février\",\"mars\",\"avril\",\"mai\",\"juin\",\"juillet\",\"août\",\"septembre\",\"octobre\",\"novembre\",\"décembre\"],\"wgRequestId\":\"b01077c2-aedd-4d55-b6a4-97f1640d40cc\",\"wgCSPNonce\":false,\"wgCanonicalNamespace\":\"\",\"wgCanonicalSpecialPageName\":false,\"wgNamespaceNumber\":0,\"wgPageName\":\"Wombat\",\"wgTitle\":\"Wombat\",\"wgCurRevisionId\":198832092,\"wgRevisionId\":198832092,\"wgArticleId\":218712,\"wgIsArticle\":true,\"wgIsRedirect\":false,\"wgAction\":\"view\",\"wgUserName\":null,\"wgUserGroups\":[\"*\"],\"wgCategories\":[\"Taxobox utilisant la classification selon ITIS\",\"Article avec taxobox-animal\",\"Article utilisant une Infobox\",\"Catégorie Commons avec lien local identique sur Wikidata\",\"\n"
     ]
    }
   ],
   "source": [
    "html = r.text\n",
    "print(html[:1000])"
   ]
  },
  {
   "cell_type": "markdown",
   "id": "00b0d483-7038-4ec2-b308-41afb66c832a",
   "metadata": {},
   "source": [
    "On a donc obtenu en retour une chaine de caractère qui contient le code source de la page. \n",
    "\n",
    "Cependant, la chaine de caractère est difficile à lire, et si l'on y cherche un élément spécifique il nous faudra regarder au préalable sa structure, et identifier l'élément que l'on recherche.\n",
    "\n",
    "Il existe des modules pour faciliter l'extraction de données à partir de fichiers HTML ou XML. Par exemple, BeautifulSoup : [https://www.crummy.com/software/BeautifulSoup/bs4/doc/](https://www.crummy.com/software/BeautifulSoup/bs4/doc/)"
   ]
  },
  {
   "cell_type": "markdown",
   "id": "4b67c96b-6e43-4756-9f5d-027079755922",
   "metadata": {},
   "source": [
    "Similairement on peut effectuer des requetes POST, PUT et DELETE:\n",
    "<div class=\"alert alert-block alert-info\">\n",
    "<b>Remarque:</b> POST et PUT nécessite que l'on fournisse des données avec la requête (ce sont des requêtes POST). Celà se fait en passant un second paramètre ```data``` à la fonction.\n",
    "</div>"
   ]
  },
  {
   "cell_type": "code",
   "execution_count": 17,
   "id": "ef47e20d-0f18-4236-916d-a193cc7af6e6",
   "metadata": {},
   "outputs": [],
   "source": [
    "r = requests.post('https://httpbin.org/post', data={'key': 'value'})\n",
    "r = requests.put('https://httpbin.org/put', data={'key': 'value'})\n",
    "r = requests.delete('https://httpbin.org/delete')\n",
    "r = requests.head('https://httpbin.org/get')\n",
    "r = requests.options('https://httpbin.org/get')"
   ]
  },
  {
   "cell_type": "markdown",
   "id": "aa1c6acd-bbeb-4e19-b7e6-7c668c46d247",
   "metadata": {},
   "source": [
    "<div class=\"alert alert-block alert-info\">\n",
    "<b>Remarque:</b> https://httpbin.org/ est un site web qui met à disposition plusieurs routes pour tester des requêtes. Utile pour tester et débuger son application sans envoyer de vrai requêtes!\n",
    "</div>"
   ]
  },
  {
   "cell_type": "markdown",
   "id": "3e73058e-8162-4507-99b4-438502ef84aa",
   "metadata": {},
   "source": [
    "L'utilisation de requests ne se limite pas à récupérer du contenu HTML, mais on peut récupérer toute ressource acessible depuis le Web, ou effectuer des requêtes GET POST pour remplacer la saisie manuelle de formulaires!\n",
    "\n",
    "C'est particulièrement utile quand on travail avec des dataset publiques ou que l'on veut intéragir avec des API.\n",
    "\n",
    "## Exemple: Récupérer les sites internet des lieux d'art et d'exposition à Toulouse\n",
    "\n",
    "Par exemple, le site https://data.toulouse-metropole.fr/ nous propose une API pour télécharger des données publiques sur la ville de Toulouse sous différents formats.\n",
    "\n",
    "Le lien suivant nous permet d'accéder à un fichier .csv listant les lieux d'art et d'exposition à Toulouse: https://data.toulouse-metropole.fr/api/explore/v2.1/catalog/datasets/galeries-d-art-et-lieux-d-exposition/exports/csv?lang=fr&timezone=Europe%2FBerlin&use_labels=true&csv_separator=%3B\n",
    "\n",
    "Le fichier .csv contient plusieurs information sur ces lieux. L'une d'elle, qui nous intéresse, est le site internet. On souhaiterait pouvoir récupérer la liste des sites internets des lieux d'art et d'exposition à Toulouse.\n",
    "\n",
    "### Etape 1: On effectue une requête pour récupérer les données\n",
    "\n",
    "On peut donc utiliser requests pour récupérer le contenu de ce fichier, et ensuite manipuler ses données."
   ]
  },
  {
   "cell_type": "code",
   "execution_count": 68,
   "id": "a538882f-7d0b-4575-ab99-1b57f5939903",
   "metadata": {},
   "outputs": [
    {
     "name": "stdout",
     "output_type": "stream",
     "text": [
      "Geo Point;Geo Shape;nom_equipement;gestionnaire;telephone;numero;lib_off;id_secteur_postal;ville;secteur;quartier;site_web\n",
      "43.62686461027098, 1.4475430070223585;\"{\"\"coordinates\"\": [[1.447543007022358, 43.62686461027098]], \"\"type\"\": \"\"MultiPoint\"\"}\";BBB - CENTRE D'ART;Association;05 61 13 37 14;96;RUE MICHEL ANGE;31200;TOULOUSE;3;3.3;www.lebbb.org\n",
      "43.60832542550349, 1.444607529170136;\"{\"\"coordinates\"\": [[1.444607529170136, 43.60832542550349]], \"\"type\"\": \"\"MultiPoint\"\"}\";CENTRE CULTUREL BELLEGARDE;Mairie de Toulouse - DGA Culture;05 62 27 44 88;17;RUE BELLEGARDE;31000;TOULOUSE;1;1.1;www.toulouse.fr\n",
      "43.60448982058865, 1.4398861872862618;\"{\"\"coordinates\"\": [[1.439886187286262, 43.60448982058865]], \"\"type\"\": \"\"MultiPoint\"\"}\";ENSEMBLE CONVENTUEL DES JACOBINS;Mairie de Toulouse - DGA Culture;05 61 22 21 92;69;RUE PARGAMINIERES;31000;TOULOUSE;1;1.1;www.jacobins.mairie-toulouse.fr\n",
      "43.59828278794131, 1.4309154834000453;\"{\"\"coordinates\"\": [[1.430915483400045, 43.59828278794131]], \"\"type\"\": \"\"MultiPoint\"\"}\";ESPACE SAINT CYPRIEN - CHAPEAU ROUGE;Mairie de Toulouse - DGA Culture;05 61 22 27 77;56;ALL CHARLES DE FITTE;31300;TOULOUSE;2;2.1;www.cultures.toulouse.fr\n",
      "43.60383912614674, 1.443706012074208;\"{\"\"coordinates\"\": [[1.443706012074208, 43.60383912614674]], \"\"type\"\": \"\"MultiPoint\"\"}\";FONDATION ESPACE ECUREUIL POUR L'ART CONTEMPORAIN;Structure commerciale;05 62 30 23 30;3;PL DU CAPITOLE;31000;TOULOUSE;1;1.1;www.caisseepargne-art-contemporain.fr\n",
      "43.574870208885514, 1.4639464323059583;\"{\"\"coordinates\"\": [[1.463946432305958, 43.574870208885514]], \"\"type\"\": \"\"MultiPoint\"\"}\";MAISON DE QUARTIER RANGUEIL;Mairie de Toulouse - DGA Culture;05 61 25 49 26;19;RUE CLAUDE DE FORBIN;31400;TOULOUSE;5;5.2;www.cultures.toulouse.fr\n",
      "43.57945908152348, 1.4118334444956246;\"{\"\"coordinates\"\": [[1.411833444495625, 43.57945908152348]], \"\"type\"\": \"\"MultiPoint\"\"}\";CENTRE CULTUREL HENRI DESBALS;Mairie de Toulouse - DGA Culture;05 34 46 83 25;128;RUE HENRI DESBALS;31100;TOULOUSE;2;2.3;www.toulouse.fr\n",
      "43.565320343382325, 1.4790430260526422;\"{\"\"coordinates\"\": [[1.479043026052642, 43.565320343382325]], \"\"type\"\": \"\"MultiPoint\"\"}\";CENTRE CULTUREL LEONARD DE VINCI DE L'ENAC - THEATRE DE POCHE;Association;05 62 17 45 00;7;AV EDOUARD BELIN;31400;TOULOUSE;5;5.2;www.culture-enac.com\n",
      "43.56167305551263, 1.378994128328354;\"{\"\"coordinates\"\": [[1.378994128328354, 43.56167305551263]], \"\"type\"\": \"\"MultiPoint\"\"}\";CENTRE D'ANIMATION SAINT SIMON;Mairie de Toulouse - DGA Culture;05 31 22 96 81;10;CHE DE LIFFARD;31100;TOULOUSE;6;6.4;www.toulouse.fr\n",
      "43.60331334023683, 1.4447724099759627;\"{\"\"coordinates\"\": [[1.444772409975963, 43.60331334023683]], \"\"type\"\": \"\"MultiPoint\"\"}\";CMAV - CENTRE MERIDIONAL DE L'ARCHITECTURE DE LA VILLE;Association;05 61 23 30 49;5;RUE SAINT PANTALEON;31000;TOULOUSE;1;1.1;www.cmaville.org\n",
      "43.599544145651286, 1.4449799203257347;\"{\"\"coordinates\"\": [[1.444979920325735, 43.599544145651286]], \"\"type\"\": \"\"MultiPoint\"\"}\";GALERIE DAUDET;Structure commerciale;05 34 31 74 84;10;RUE DE LA TRINITE;31000;TOULOUSE;1;1.1;http://www.galerie-art-alain-daudet.com\n",
      "43.59911474290495, 1.4365055585019906;\"{\"\"coordinates\"\": [[1.436505558501991, 43.59911474290495]], \"\"type\"\": \"\"MultiPoint\"\"}\";HOTEL DIEU;Mairie de Toulouse - Autre Direction;05 61 77 83 41;2;RUE VIGUERIE;31300;TOULOUSE;2;2.1;www.chu-toulouse.fr\n",
      "43.613115478981214, 1.4413259685472881;\"{\"\"coordinates\"\": [[1.441325968547288, 43.613115478981214]], \"\"type\"\": \"\"MultiPoint\"\"}\";INSTITUTO CERVANTES;Association;05 61 62 80 72;31;RUE DES CHALETS;31000;TOULOUSE;1;1.3;www.toulouse.cervantes.es/fr\n",
      "43.57770544549503, 1.4041272610723938;\"{\"\"coordinates\"\": [[1.404127261072394, 43.57770544549503]], \"\"type\"\": \"\"MultiPoint\"\"}\";LA FABRIQUE;Association;05 61 50 43 98;5;ALL ANTONIO MACHADO;31100;TOULOUSE;6;6.3;www.ciam-univ-toulouse2.fr\n",
      "43.564536828030846, 1.3990734687949806;\"{\"\"coordinates\"\": [[1.399073468794981, 43.564536828030846]], \"\"type\"\": \"\"MultiPoint\"\"}\";CENTRE CULTUREL ALBAN MINVILLE;Mairie de Toulouse - DGA Culture;05 61 43 60 20;1;PL MARTIN LUTHER KING;31100;TOULOUSE;6;6.3;www.albanminville.toulouse.fr\n",
      "43.6482273897219, 1.4328911851171073;\"{\"\"coordinates\"\": [[1.432891185117107, 43.6482273897219]], \"\"type\"\": \"\"MultiPoint\"\"}\";CENTRE D'ANIMATION LALANDE;Mairie de Toulouse - DGA Culture;05 61 47 37 55;239;AV DE FRONTON;31200;TOULOUSE;3;3.2;www.toulouse.fr\n",
      "43.6031733611625, 1.4531255525854871;\"{\"\"coordinates\"\": [[1.453125552585487, 43.6031733611625]], \"\"type\"\": \"\"MultiPoint\"\"}\";ESPACE DES DIVERSITES ET DE LA LAICITE;Mairie de Toulouse - Autre Direction;05 81 91 79 60;38;RUE D AUBUISSON;31000;TOULOUSE;1;1.3;http://www.toulouse.fr/web/social/espace-des-diversites-et-de-la-laicite\n",
      "43.59326673955577, 1.4347726326707118;\"{\"\"coordinates\"\": [[1.434772632670712, 43.59326673955577]], \"\"type\"\": \"\"MultiPoint\"\"}\";GALERIE DU CHÂTEAU D'EAU;Association;05 61 77 09 40;1;RUE LAGANNE;31300;TOULOUSE;2;2.1;www.galeriechateaudeau.org\n",
      "43.59931284530559, 1.4358439508159624;\"{\"\"coordinates\"\": [[1.435843950815962, 43.59931284530559]], \"\"type\"\": \"\"MultiPoint\"\"}\";GALERIE PASSAGE A L'ART;Association;06 64 21 26 80;5;GRANDE-RUE SAINT NICOLAS;31300;TOULOUSE;2;2.1;www.passagealart.com\n",
      "43.59968070820493, 1.449113833617778;\"{\"\"coordinates\"\": [[1.449113833617778, 43.59968070820493]], \"\"type\"\": \"\"MultiPoint\"\"}\";GALERIE PINXIT;Structure commerciale;05 61 39 17 14;2;PL SAINT ETIENNE;31000;TOULOUSE;1;1.1;galeriepinxit@orange.fr\n",
      "43.60062579710514, 1.4397371866308595;\"{\"\"coordinates\"\": [[1.439737186630859, 43.60062579710514]], \"\"type\"\": \"\"MultiPoint\"\"}\";INSTITUT SUPERIEUR DES ARTS DE TOULOUSE - ISDAT;Structure mixte;05 31 47 12 11;5;QU DE LA DAURADE;31000;TOULOUSE;1;1.1;www.esna-toulouse.org\n",
      "43.600357895512616, 1.4425683958425597;\"{\"\"coordinates\"\": [[1.44256839584256, 43.600357895512616]], \"\"type\"\": \"\"MultiPoint\"\"}\";LA MEDIATHEQUE ASSOCIATIVE - MUSICOPHAGES;Association;05 61 21 71 50;6;RUE DE LA BOURSE;31000;TOULOUSE;1;1.1;www.musicophages.org\n",
      "43.61026207749336, 1.4554361883544236;\"{\"\"coordinates\"\": [[1.455436188354424, 43.61026207749336]], \"\"type\"\": \"\"MultiPoint\"\"}\";MEDIATHEQUE JOSE CABANIS;Mairie de Toulouse - DGA Culture;05 62 27 40 00;1;ALL JACQUES CHABAN DELMAS;31500;TOULOUSE;4;4.2;www.bibliotheque.toulouse.fr\n",
      "43.603378647527684, 1.4422683332457396;\"{\"\"coordinates\"\": [[1.44226833324574, 43.603378647527684]], \"\"type\"\": \"\"MultiPoint\"\"}\";OMBRES BLANCHES;Structure commerciale;05 34 45 53 33;50;RUE LEON GAMBETTA;31000;TOULOUSE;1;1.1;www.ombres-blanches.fr\n",
      "43.570422847313374, 1.4028565308259797;\"{\"\"coordinates\"\": [[1.40285653082598, 43.570422847313374]], \"\"type\"\": \"\"MultiPoint\"\"}\";CENTRE D'ANIMATION REYNERIE;Mairie de Toulouse - DGA Culture;05 61 41 56 80;3;PL ANDRE ABBAL;31100;TOULOUSE;6;6.3;www.toulouse.fr\n",
      "43.61139548276987, 1.4466355547044323;\"{\"\"coordinates\"\": [[1.446635554704432, 43.61139548276987]], \"\"type\"\": \"\"MultiPoint\"\"}\";CICC - SAMBA RESILLE;Association;05 34 41 62 16;38;RUE ROQUELAINE;31000;TOULOUSE;1;1.3;www.samba-resille.org\n",
      "43.61631388862685, 1.4535854924000524;\"{\"\"coordinates\"\": [[1.453585492400052, 43.61631388862685]], \"\"type\"\": \"\"MultiPoint\"\"}\";ESPACE BONNEFOY;Mairie de Toulouse - DGA Culture;05 67 73 83 60;4;RUE DU FAUBOURG BONNEFOY;31500;TOULOUSE;4;4.1;www.toulouse.fr\n",
      "43.599818569805116, 1.4479830740539856;\"{\"\"coordinates\"\": [[1.447983074053986, 43.599818569805116]], \"\"type\"\": \"\"MultiPoint\"\"}\";ESPACE CROIX BARAGNON;Mairie de Toulouse - DGA Culture;05 62 27 60 60;24;RUE CROIX BARAGNON;31000;TOULOUSE;1;1.1;www.cultures.toulouse.fr\n",
      "43.60087752008602, 1.4423817111578405;\"{\"\"coordinates\"\": [[1.442381711157841, 43.60087752008602]], \"\"type\"\": \"\"MultiPoint\"\"}\";GALERIE EXPRMNTL;Structure commerciale;05 62 27 26 92;18;RUE DE LA BOURSE;31000;TOULOUSE;1;1.1;www.exprmntl.fr\n",
      "43.610149608571476, 1.4443628115698741;\"{\"\"coordinates\"\": [[1.444362811569874, 43.610149608571476]], \"\"type\"\": \"\"MultiPoint\"\"}\";GALERIE INGRES - CRDP;Association;05 61 99 48 48;68;BD DE STRASBOURG;31000;TOULOUSE;1;1.3;http://www.cndp.fr/crdp-toulouse/spip.php?rubrique2727#top\n",
      "43.616906270724506, 1.4561477819358317;\"{\"\"coordinates\"\": [[1.456147781935832, 43.616906270724506]], \"\"type\"\": \"\"MultiPoint\"\"}\";LIEU COMMUN / PLAN 9;Association;05 61 23 80 57;25;RUE D ARMAGNAC;31500;TOULOUSE;4;4.1;www.lieu-commun.fr\n",
      "43.57879671469887, 1.4465484274942493;\"{\"\"coordinates\"\": [[1.446548427494249, 43.57879671469887]], \"\"type\"\": \"\"MultiPoint\"\"}\";MAISON DES ASSOCIATIONS NIEL;Mairie de Toulouse - Autre Direction;05 62 26 81 00;81;RUE SAINT ROCH;31400;TOULOUSE;5;5.3;www.toulouse.fr\n",
      "43.570422847313374, 1.4028565308259797;\"{\"\"coordinates\"\": [[1.40285653082598, 43.570422847313374]], \"\"type\"\": \"\"MultiPoint\"\"}\";ATELIER B;Mairie de Toulouse - DGA Culture;05 61 41 56 80;3;PL ANDRE ABBAL;31100;TOULOUSE;6;6.3;\n",
      "43.61138670431087, 1.4500057943858333;\"{\"\"coordinates\"\": [[1.450005794385833, 43.61138670431087]], \"\"type\"\": \"\"MultiPoint\"\"}\";BAM GALLERY;Structure commerciale;05 61 48 76 08;52;RUE RAYMOND IV;31000;TOULOUSE;1;1.3;http://www.bam-gallery.com/\n",
      "43.62399026034344, 1.4386564666671822;\"{\"\"coordinates\"\": [[1.438656466667182, 43.62399026034344]], \"\"type\"\": \"\"MultiPoint\"\"}\";CENTRE CULTUREL - THEATRE DES MAZADES;Mairie de Toulouse - DGA Culture;05 31 22 98 00;10;AV DES MAZADES;31200;TOULOUSE;3;3.1;www.toulouse.fr\n",
      "43.6200175492092, 1.4351273861094815;\"{\"\"coordinates\"\": [[1.435127386109482, 43.6200175492092]], \"\"type\"\": \"\"MultiPoint\"\"}\";CENTRE CULTUREL DES MINIMES;Association;05 61 22 51 77;6;RUE DU CAILLOU GRIS;31200;TOULOUSE;3;3.1;www.centrecultureldesminimes.fr\n",
      "43.61424414975031, 1.474651897622262;\"{\"\"coordinates\"\": [[1.474651897622262, 43.61424414975031]], \"\"type\"\": \"\"MultiPoint\"\"}\";CENTRE D'ANIMATION SOUPETARD;Mairie de Toulouse - DGA Culture;05 31 22 99 70;63;CHE DE HEREDIA;31500;TOULOUSE;4;4.2;www.toulouse.fr\n",
      "43.60205199759583, 1.4393538711341562;\"{\"\"coordinates\"\": [[1.439353871134156, 43.60205199759583]], \"\"type\"\": \"\"MultiPoint\"\"}\";COMMUNAUTE MUNICIPALE DE SANTE;Mairie de Toulouse - Autre Direction;05 61 22 21 80;2;RUE MALBEC;31000;TOULOUSE;1;1.1;www.cultures.tououse.fr\n",
      "43.604551617915085, 1.4324763342540432;\"{\"\"coordinates\"\": [[1.432476334254043, 43.604551617915085]], \"\"type\"\": \"\"MultiPoint\"\"}\";ESPACE BAZACLE;Structure commerciale;05 62 30 16 00;11;QU SAINT PIERRE;31000;TOULOUSE;1;1.2;www.bazacle.edf.com\n",
      "43.59616432164077, 1.4273901705007102;\"{\"\"coordinates\"\": [[1.42739017050071, 43.59616432164077]], \"\"type\"\": \"\"MultiPoint\"\"}\";ESPACE ROGUET - MJC ROGUET;Autre institution publique;05 62 86 01 67;9;RUE DE GASCOGNE;31300;TOULOUSE;2;2.1;www.haute-garonne.fr\n",
      "43.60533363025542, 1.4477313514021115;\"{\"\"coordinates\"\": [[1.447731351402112, 43.60533363025542]], \"\"type\"\": \"\"MultiPoint\"\"}\";ESPACE W31 - AGENCE CREDIT AGRICOLE JEAN JAURES;Structure commerciale;05 61 50 05 50;1;ALL DU PRESIDENT ROOSEVELT;31000;TOULOUSE;1;1.1;www.espacew31.fr\n",
      "43.5986796263151, 1.4489782313246113;\"{\"\"coordinates\"\": [[1.448978231324611, 43.5986796263151]], \"\"type\"\": \"\"MultiPoint\"\"}\";GALERIE FABRICE GALVANI;Structure commerciale;05 62 17 24 92;2;RUE PIERRE DE FERMAT;31000;TOULOUSE;1;1.1;http://www.galeriefabricegalvani.com\n",
      "43.60866268665053, 1.4475971271002717;\"{\"\"coordinates\"\": [[1.447597127100272, 43.60866268665053]], \"\"type\"\": \"\"MultiPoint\"\"}\";GALERIE KANDLER;Structure commerciale;05 61 63 85 11;14;RUE DE BAYARD;31000;TOULOUSE;1;1.3;www.galeriekandler.com\n",
      "43.596236705393636, 1.4473928635163509;\"{\"\"coordinates\"\": [[1.447392863516351, 43.596236705393636]], \"\"type\"\": \"\"MultiPoint\"\"}\";GALERIE SOURILLAN;Structure commerciale;05 61 32 17 17;19;RUE THEODORE OZENNE;31000;TOULOUSE;1;1.1;www.galeriesourillan.com\n",
      "43.600699547098415, 1.4432038330853345;\"{\"\"coordinates\"\": [[1.443203833085335, 43.600699547098415]], \"\"type\"\": \"\"MultiPoint\"\"}\";MAISON DE L'OCCITANIE;Association;05 61 22 13 31;11;RUE MALCOUSINAT;31000;TOULOUSE;1;1.1;www.ostaldoccitania.net\n",
      "\n"
     ]
    }
   ],
   "source": [
    "r = requests.get(\"https://data.toulouse-metropole.fr/api/explore/v2.1/catalog/datasets/galeries-d-art-et-lieux-d-exposition/exports/csv?lang=fr&timezone=Europe%2FBerlin&use_labels=true&csv_separator=%3B\")\n",
    "csv = r.text # On stoque le résultat de la requête dans la variable csv\n",
    "print(csv)   # On affiche le contenu de la variable csv"
   ]
  },
  {
   "cell_type": "markdown",
   "id": "87f06f6a-865f-4e4f-8589-5539c50da005",
   "metadata": {},
   "source": [
    "Notre fichier .csv a la forme d'une chaine de caractère. Il est composé de plusieurs lignes, chaque ligne se terminant par un caractère spécial ```\\n```, le caractère de fin de ligne.\n",
    "\n",
    "Le fichier contient une entête, c'est à dire un titre pour chacune des colonnes:  \n",
    "Geo Point;Geo Shape;nom_equipement;gestionnaire;telephone;numero;lib_off;id_secteur_postal;ville;secteur;quartier;site_web\n",
    "\n",
    "Ainsi, la colonne 1 contient une donnéee nommée \"Geo Point\", alors que la colonne 12 contient une donnée \"site_web\".\n",
    "\n",
    "Dans chaque ligne, les données sont séparées par un point virgule ```;```.\n",
    "\n",
    "### Etape 2: On découpe notre chaine de caractère pour récupérer uniquement les sites internets\n",
    "\n",
    "Si je veux récupérer les données de cette chaine (par exemple les sites web), je peux utiliser la méthode ```.split(car)``` des chaines de caractère où ```car``` est le caractère qui va servir à découper la string. Par exemple, ```.split(\" \")``` permet de découper la chaîne à chaque espace.\n",
    "\n",
    "Je dois d'abord découper ma chaîne de caractère pour récupérer chaque ligne en séparant par rapport au caractère de saut de ligne ```\\n```."
   ]
  },
  {
   "cell_type": "code",
   "execution_count": 93,
   "id": "606ce4e9-85ca-490b-8c69-18411ca14864",
   "metadata": {},
   "outputs": [
    {
     "name": "stdout",
     "output_type": "stream",
     "text": [
      "['Geo Point;Geo Shape;nom_equipement;gestionnaire;telephone;numero;lib_off;id_secteur_postal;ville;secteur;quartier;site_web\\r', '43.62686461027098, 1.4475430070223585;\"{\"\"coordinates\"\": [[1.447543007022358, 43.62686461027098]], \"\"type\"\": \"\"MultiPoint\"\"}\";BBB - CENTRE D\\'ART;Association;05 61 13 37 14;96;RUE MICHEL ANGE;31200;TOULOUSE;3;3.3;www.lebbb.org\\r', '43.60832542550349, 1.444607529170136;\"{\"\"coordinates\"\": [[1.444607529170136, 43.60832542550349]], \"\"type\"\": \"\"MultiPoint\"\"}\";CENTRE CULTUREL BELLEGARDE;Mairie de Toulouse - DGA Culture;05 62 27 44 88;17;RUE BELLEGARDE;31000;TOULOUSE;1;1.1;www.toulouse.fr\\r', '43.60448982058865, 1.4398861872862618;\"{\"\"coordinates\"\": [[1.439886187286262, 43.60448982058865]], \"\"type\"\": \"\"MultiPoint\"\"}\";ENSEMBLE CONVENTUEL DES JACOBINS;Mairie de Toulouse - DGA Culture;05 61 22 21 92;69;RUE PARGAMINIERES;31000;TOULOUSE;1;1.1;www.jacobins.mairie-toulouse.fr\\r', '43.59828278794131, 1.4309154834000453;\"{\"\"coordinates\"\": [[1.430915483400045, 43.59828278794131]], \"\"type\"\": \"\"MultiPoint\"\"}\";ESPACE SAINT CYPRIEN - CHAPEAU ROUGE;Mairie de Toulouse - DGA Culture;05 61 22 27 77;56;ALL CHARLES DE FITTE;31300;TOULOUSE;2;2.1;www.cultures.toulouse.fr\\r', '43.60383912614674, 1.443706012074208;\"{\"\"coordinates\"\": [[1.443706012074208, 43.60383912614674]], \"\"type\"\": \"\"MultiPoint\"\"}\";FONDATION ESPACE ECUREUIL POUR L\\'ART CONTEMPORAIN;Structure commerciale;05 62 30 23 30;3;PL DU CAPITOLE;31000;TOULOUSE;1;1.1;www.caisseepargne-art-contemporain.fr\\r', '43.574870208885514, 1.4639464323059583;\"{\"\"coordinates\"\": [[1.463946432305958, 43.574870208885514]], \"\"type\"\": \"\"MultiPoint\"\"}\";MAISON DE QUARTIER RANGUEIL;Mairie de Toulouse - DGA Culture;05 61 25 49 26;19;RUE CLAUDE DE FORBIN;31400;TOULOUSE;5;5.2;www.cultures.toulouse.fr\\r', '43.57945908152348, 1.4118334444956246;\"{\"\"coordinates\"\": [[1.411833444495625, 43.57945908152348]], \"\"type\"\": \"\"MultiPoint\"\"}\";CENTRE CULTUREL HENRI DESBALS;Mairie de Toulouse - DGA Culture;05 34 46 83 25;128;RUE HENRI DESBALS;31100;TOULOUSE;2;2.3;www.toulouse.fr\\r', '43.565320343382325, 1.4790430260526422;\"{\"\"coordinates\"\": [[1.479043026052642, 43.565320343382325]], \"\"type\"\": \"\"MultiPoint\"\"}\";CENTRE CULTUREL LEONARD DE VINCI DE L\\'ENAC - THEATRE DE POCHE;Association;05 62 17 45 00;7;AV EDOUARD BELIN;31400;TOULOUSE;5;5.2;www.culture-enac.com\\r', '43.56167305551263, 1.378994128328354;\"{\"\"coordinates\"\": [[1.378994128328354, 43.56167305551263]], \"\"type\"\": \"\"MultiPoint\"\"}\";CENTRE D\\'ANIMATION SAINT SIMON;Mairie de Toulouse - DGA Culture;05 31 22 96 81;10;CHE DE LIFFARD;31100;TOULOUSE;6;6.4;www.toulouse.fr\\r', '43.60331334023683, 1.4447724099759627;\"{\"\"coordinates\"\": [[1.444772409975963, 43.60331334023683]], \"\"type\"\": \"\"MultiPoint\"\"}\";CMAV - CENTRE MERIDIONAL DE L\\'ARCHITECTURE DE LA VILLE;Association;05 61 23 30 49;5;RUE SAINT PANTALEON;31000;TOULOUSE;1;1.1;www.cmaville.org\\r', '43.599544145651286, 1.4449799203257347;\"{\"\"coordinates\"\": [[1.444979920325735, 43.599544145651286]], \"\"type\"\": \"\"MultiPoint\"\"}\";GALERIE DAUDET;Structure commerciale;05 34 31 74 84;10;RUE DE LA TRINITE;31000;TOULOUSE;1;1.1;http://www.galerie-art-alain-daudet.com\\r', '43.59911474290495, 1.4365055585019906;\"{\"\"coordinates\"\": [[1.436505558501991, 43.59911474290495]], \"\"type\"\": \"\"MultiPoint\"\"}\";HOTEL DIEU;Mairie de Toulouse - Autre Direction;05 61 77 83 41;2;RUE VIGUERIE;31300;TOULOUSE;2;2.1;www.chu-toulouse.fr\\r', '43.613115478981214, 1.4413259685472881;\"{\"\"coordinates\"\": [[1.441325968547288, 43.613115478981214]], \"\"type\"\": \"\"MultiPoint\"\"}\";INSTITUTO CERVANTES;Association;05 61 62 80 72;31;RUE DES CHALETS;31000;TOULOUSE;1;1.3;www.toulouse.cervantes.es/fr\\r', '43.57770544549503, 1.4041272610723938;\"{\"\"coordinates\"\": [[1.404127261072394, 43.57770544549503]], \"\"type\"\": \"\"MultiPoint\"\"}\";LA FABRIQUE;Association;05 61 50 43 98;5;ALL ANTONIO MACHADO;31100;TOULOUSE;6;6.3;www.ciam-univ-toulouse2.fr\\r', '43.564536828030846, 1.3990734687949806;\"{\"\"coordinates\"\": [[1.399073468794981, 43.564536828030846]], \"\"type\"\": \"\"MultiPoint\"\"}\";CENTRE CULTUREL ALBAN MINVILLE;Mairie de Toulouse - DGA Culture;05 61 43 60 20;1;PL MARTIN LUTHER KING;31100;TOULOUSE;6;6.3;www.albanminville.toulouse.fr\\r', '43.6482273897219, 1.4328911851171073;\"{\"\"coordinates\"\": [[1.432891185117107, 43.6482273897219]], \"\"type\"\": \"\"MultiPoint\"\"}\";CENTRE D\\'ANIMATION LALANDE;Mairie de Toulouse - DGA Culture;05 61 47 37 55;239;AV DE FRONTON;31200;TOULOUSE;3;3.2;www.toulouse.fr\\r', '43.6031733611625, 1.4531255525854871;\"{\"\"coordinates\"\": [[1.453125552585487, 43.6031733611625]], \"\"type\"\": \"\"MultiPoint\"\"}\";ESPACE DES DIVERSITES ET DE LA LAICITE;Mairie de Toulouse - Autre Direction;05 81 91 79 60;38;RUE D AUBUISSON;31000;TOULOUSE;1;1.3;http://www.toulouse.fr/web/social/espace-des-diversites-et-de-la-laicite\\r', '43.59326673955577, 1.4347726326707118;\"{\"\"coordinates\"\": [[1.434772632670712, 43.59326673955577]], \"\"type\"\": \"\"MultiPoint\"\"}\";GALERIE DU CHÂTEAU D\\'EAU;Association;05 61 77 09 40;1;RUE LAGANNE;31300;TOULOUSE;2;2.1;www.galeriechateaudeau.org\\r', '43.59931284530559, 1.4358439508159624;\"{\"\"coordinates\"\": [[1.435843950815962, 43.59931284530559]], \"\"type\"\": \"\"MultiPoint\"\"}\";GALERIE PASSAGE A L\\'ART;Association;06 64 21 26 80;5;GRANDE-RUE SAINT NICOLAS;31300;TOULOUSE;2;2.1;www.passagealart.com\\r', '43.59968070820493, 1.449113833617778;\"{\"\"coordinates\"\": [[1.449113833617778, 43.59968070820493]], \"\"type\"\": \"\"MultiPoint\"\"}\";GALERIE PINXIT;Structure commerciale;05 61 39 17 14;2;PL SAINT ETIENNE;31000;TOULOUSE;1;1.1;galeriepinxit@orange.fr\\r', '43.60062579710514, 1.4397371866308595;\"{\"\"coordinates\"\": [[1.439737186630859, 43.60062579710514]], \"\"type\"\": \"\"MultiPoint\"\"}\";INSTITUT SUPERIEUR DES ARTS DE TOULOUSE - ISDAT;Structure mixte;05 31 47 12 11;5;QU DE LA DAURADE;31000;TOULOUSE;1;1.1;www.esna-toulouse.org\\r', '43.600357895512616, 1.4425683958425597;\"{\"\"coordinates\"\": [[1.44256839584256, 43.600357895512616]], \"\"type\"\": \"\"MultiPoint\"\"}\";LA MEDIATHEQUE ASSOCIATIVE - MUSICOPHAGES;Association;05 61 21 71 50;6;RUE DE LA BOURSE;31000;TOULOUSE;1;1.1;www.musicophages.org\\r', '43.61026207749336, 1.4554361883544236;\"{\"\"coordinates\"\": [[1.455436188354424, 43.61026207749336]], \"\"type\"\": \"\"MultiPoint\"\"}\";MEDIATHEQUE JOSE CABANIS;Mairie de Toulouse - DGA Culture;05 62 27 40 00;1;ALL JACQUES CHABAN DELMAS;31500;TOULOUSE;4;4.2;www.bibliotheque.toulouse.fr\\r', '43.603378647527684, 1.4422683332457396;\"{\"\"coordinates\"\": [[1.44226833324574, 43.603378647527684]], \"\"type\"\": \"\"MultiPoint\"\"}\";OMBRES BLANCHES;Structure commerciale;05 34 45 53 33;50;RUE LEON GAMBETTA;31000;TOULOUSE;1;1.1;www.ombres-blanches.fr\\r', '43.570422847313374, 1.4028565308259797;\"{\"\"coordinates\"\": [[1.40285653082598, 43.570422847313374]], \"\"type\"\": \"\"MultiPoint\"\"}\";CENTRE D\\'ANIMATION REYNERIE;Mairie de Toulouse - DGA Culture;05 61 41 56 80;3;PL ANDRE ABBAL;31100;TOULOUSE;6;6.3;www.toulouse.fr\\r', '43.61139548276987, 1.4466355547044323;\"{\"\"coordinates\"\": [[1.446635554704432, 43.61139548276987]], \"\"type\"\": \"\"MultiPoint\"\"}\";CICC - SAMBA RESILLE;Association;05 34 41 62 16;38;RUE ROQUELAINE;31000;TOULOUSE;1;1.3;www.samba-resille.org\\r', '43.61631388862685, 1.4535854924000524;\"{\"\"coordinates\"\": [[1.453585492400052, 43.61631388862685]], \"\"type\"\": \"\"MultiPoint\"\"}\";ESPACE BONNEFOY;Mairie de Toulouse - DGA Culture;05 67 73 83 60;4;RUE DU FAUBOURG BONNEFOY;31500;TOULOUSE;4;4.1;www.toulouse.fr\\r', '43.599818569805116, 1.4479830740539856;\"{\"\"coordinates\"\": [[1.447983074053986, 43.599818569805116]], \"\"type\"\": \"\"MultiPoint\"\"}\";ESPACE CROIX BARAGNON;Mairie de Toulouse - DGA Culture;05 62 27 60 60;24;RUE CROIX BARAGNON;31000;TOULOUSE;1;1.1;www.cultures.toulouse.fr\\r', '43.60087752008602, 1.4423817111578405;\"{\"\"coordinates\"\": [[1.442381711157841, 43.60087752008602]], \"\"type\"\": \"\"MultiPoint\"\"}\";GALERIE EXPRMNTL;Structure commerciale;05 62 27 26 92;18;RUE DE LA BOURSE;31000;TOULOUSE;1;1.1;www.exprmntl.fr\\r', '43.610149608571476, 1.4443628115698741;\"{\"\"coordinates\"\": [[1.444362811569874, 43.610149608571476]], \"\"type\"\": \"\"MultiPoint\"\"}\";GALERIE INGRES - CRDP;Association;05 61 99 48 48;68;BD DE STRASBOURG;31000;TOULOUSE;1;1.3;http://www.cndp.fr/crdp-toulouse/spip.php?rubrique2727#top\\r', '43.616906270724506, 1.4561477819358317;\"{\"\"coordinates\"\": [[1.456147781935832, 43.616906270724506]], \"\"type\"\": \"\"MultiPoint\"\"}\";LIEU COMMUN / PLAN 9;Association;05 61 23 80 57;25;RUE D ARMAGNAC;31500;TOULOUSE;4;4.1;www.lieu-commun.fr\\r', '43.57879671469887, 1.4465484274942493;\"{\"\"coordinates\"\": [[1.446548427494249, 43.57879671469887]], \"\"type\"\": \"\"MultiPoint\"\"}\";MAISON DES ASSOCIATIONS NIEL;Mairie de Toulouse - Autre Direction;05 62 26 81 00;81;RUE SAINT ROCH;31400;TOULOUSE;5;5.3;www.toulouse.fr\\r', '43.570422847313374, 1.4028565308259797;\"{\"\"coordinates\"\": [[1.40285653082598, 43.570422847313374]], \"\"type\"\": \"\"MultiPoint\"\"}\";ATELIER B;Mairie de Toulouse - DGA Culture;05 61 41 56 80;3;PL ANDRE ABBAL;31100;TOULOUSE;6;6.3;\\r', '43.61138670431087, 1.4500057943858333;\"{\"\"coordinates\"\": [[1.450005794385833, 43.61138670431087]], \"\"type\"\": \"\"MultiPoint\"\"}\";BAM GALLERY;Structure commerciale;05 61 48 76 08;52;RUE RAYMOND IV;31000;TOULOUSE;1;1.3;http://www.bam-gallery.com/\\r', '43.62399026034344, 1.4386564666671822;\"{\"\"coordinates\"\": [[1.438656466667182, 43.62399026034344]], \"\"type\"\": \"\"MultiPoint\"\"}\";CENTRE CULTUREL - THEATRE DES MAZADES;Mairie de Toulouse - DGA Culture;05 31 22 98 00;10;AV DES MAZADES;31200;TOULOUSE;3;3.1;www.toulouse.fr\\r', '43.6200175492092, 1.4351273861094815;\"{\"\"coordinates\"\": [[1.435127386109482, 43.6200175492092]], \"\"type\"\": \"\"MultiPoint\"\"}\";CENTRE CULTUREL DES MINIMES;Association;05 61 22 51 77;6;RUE DU CAILLOU GRIS;31200;TOULOUSE;3;3.1;www.centrecultureldesminimes.fr\\r', '43.61424414975031, 1.474651897622262;\"{\"\"coordinates\"\": [[1.474651897622262, 43.61424414975031]], \"\"type\"\": \"\"MultiPoint\"\"}\";CENTRE D\\'ANIMATION SOUPETARD;Mairie de Toulouse - DGA Culture;05 31 22 99 70;63;CHE DE HEREDIA;31500;TOULOUSE;4;4.2;www.toulouse.fr\\r', '43.60205199759583, 1.4393538711341562;\"{\"\"coordinates\"\": [[1.439353871134156, 43.60205199759583]], \"\"type\"\": \"\"MultiPoint\"\"}\";COMMUNAUTE MUNICIPALE DE SANTE;Mairie de Toulouse - Autre Direction;05 61 22 21 80;2;RUE MALBEC;31000;TOULOUSE;1;1.1;www.cultures.tououse.fr\\r', '43.604551617915085, 1.4324763342540432;\"{\"\"coordinates\"\": [[1.432476334254043, 43.604551617915085]], \"\"type\"\": \"\"MultiPoint\"\"}\";ESPACE BAZACLE;Structure commerciale;05 62 30 16 00;11;QU SAINT PIERRE;31000;TOULOUSE;1;1.2;www.bazacle.edf.com\\r', '43.59616432164077, 1.4273901705007102;\"{\"\"coordinates\"\": [[1.42739017050071, 43.59616432164077]], \"\"type\"\": \"\"MultiPoint\"\"}\";ESPACE ROGUET - MJC ROGUET;Autre institution publique;05 62 86 01 67;9;RUE DE GASCOGNE;31300;TOULOUSE;2;2.1;www.haute-garonne.fr\\r', '43.60533363025542, 1.4477313514021115;\"{\"\"coordinates\"\": [[1.447731351402112, 43.60533363025542]], \"\"type\"\": \"\"MultiPoint\"\"}\";ESPACE W31 - AGENCE CREDIT AGRICOLE JEAN JAURES;Structure commerciale;05 61 50 05 50;1;ALL DU PRESIDENT ROOSEVELT;31000;TOULOUSE;1;1.1;www.espacew31.fr\\r', '43.5986796263151, 1.4489782313246113;\"{\"\"coordinates\"\": [[1.448978231324611, 43.5986796263151]], \"\"type\"\": \"\"MultiPoint\"\"}\";GALERIE FABRICE GALVANI;Structure commerciale;05 62 17 24 92;2;RUE PIERRE DE FERMAT;31000;TOULOUSE;1;1.1;http://www.galeriefabricegalvani.com\\r', '43.60866268665053, 1.4475971271002717;\"{\"\"coordinates\"\": [[1.447597127100272, 43.60866268665053]], \"\"type\"\": \"\"MultiPoint\"\"}\";GALERIE KANDLER;Structure commerciale;05 61 63 85 11;14;RUE DE BAYARD;31000;TOULOUSE;1;1.3;www.galeriekandler.com\\r', '43.596236705393636, 1.4473928635163509;\"{\"\"coordinates\"\": [[1.447392863516351, 43.596236705393636]], \"\"type\"\": \"\"MultiPoint\"\"}\";GALERIE SOURILLAN;Structure commerciale;05 61 32 17 17;19;RUE THEODORE OZENNE;31000;TOULOUSE;1;1.1;www.galeriesourillan.com\\r', '43.600699547098415, 1.4432038330853345;\"{\"\"coordinates\"\": [[1.443203833085335, 43.600699547098415]], \"\"type\"\": \"\"MultiPoint\"\"}\";MAISON DE L\\'OCCITANIE;Association;05 61 22 13 31;11;RUE MALCOUSINAT;31000;TOULOUSE;1;1.1;www.ostaldoccitania.net\\r', '']\n"
     ]
    }
   ],
   "source": [
    "lignes = csv.split(\"\\n\") # J'obtient une liste, où chaque élément est une ligne de mon fichier csv\n",
    "print(lignes)"
   ]
  },
  {
   "cell_type": "markdown",
   "id": "c4b88f26-58e1-46ad-b397-f04c70c0468d",
   "metadata": {},
   "source": [
    "Je peux ensuite parcourir ma liste ```lignes``` et afficher chaque ligne:"
   ]
  },
  {
   "cell_type": "code",
   "execution_count": 91,
   "id": "36d5e2d8-694c-4eb4-9701-84e2b499be7a",
   "metadata": {},
   "outputs": [
    {
     "name": "stdout",
     "output_type": "stream",
     "text": [
      "Geo Point;Geo Shape;nom_equipement;gestionnaire;telephone;numero;lib_off;id_secteur_postal;ville;secteur;quartier;site_web\n",
      "43.62686461027098, 1.4475430070223585;\"{\"\"coordinates\"\": [[1.447543007022358, 43.62686461027098]], \"\"type\"\": \"\"MultiPoint\"\"}\";BBB - CENTRE D'ART;Association;05 61 13 37 14;96;RUE MICHEL ANGE;31200;TOULOUSE;3;3.3;www.lebbb.org\n",
      "43.60832542550349, 1.444607529170136;\"{\"\"coordinates\"\": [[1.444607529170136, 43.60832542550349]], \"\"type\"\": \"\"MultiPoint\"\"}\";CENTRE CULTUREL BELLEGARDE;Mairie de Toulouse - DGA Culture;05 62 27 44 88;17;RUE BELLEGARDE;31000;TOULOUSE;1;1.1;www.toulouse.fr\n",
      "43.60448982058865, 1.4398861872862618;\"{\"\"coordinates\"\": [[1.439886187286262, 43.60448982058865]], \"\"type\"\": \"\"MultiPoint\"\"}\";ENSEMBLE CONVENTUEL DES JACOBINS;Mairie de Toulouse - DGA Culture;05 61 22 21 92;69;RUE PARGAMINIERES;31000;TOULOUSE;1;1.1;www.jacobins.mairie-toulouse.fr\n",
      "43.59828278794131, 1.4309154834000453;\"{\"\"coordinates\"\": [[1.430915483400045, 43.59828278794131]], \"\"type\"\": \"\"MultiPoint\"\"}\";ESPACE SAINT CYPRIEN - CHAPEAU ROUGE;Mairie de Toulouse - DGA Culture;05 61 22 27 77;56;ALL CHARLES DE FITTE;31300;TOULOUSE;2;2.1;www.cultures.toulouse.fr\n",
      "43.60383912614674, 1.443706012074208;\"{\"\"coordinates\"\": [[1.443706012074208, 43.60383912614674]], \"\"type\"\": \"\"MultiPoint\"\"}\";FONDATION ESPACE ECUREUIL POUR L'ART CONTEMPORAIN;Structure commerciale;05 62 30 23 30;3;PL DU CAPITOLE;31000;TOULOUSE;1;1.1;www.caisseepargne-art-contemporain.fr\n",
      "43.574870208885514, 1.4639464323059583;\"{\"\"coordinates\"\": [[1.463946432305958, 43.574870208885514]], \"\"type\"\": \"\"MultiPoint\"\"}\";MAISON DE QUARTIER RANGUEIL;Mairie de Toulouse - DGA Culture;05 61 25 49 26;19;RUE CLAUDE DE FORBIN;31400;TOULOUSE;5;5.2;www.cultures.toulouse.fr\n",
      "43.57945908152348, 1.4118334444956246;\"{\"\"coordinates\"\": [[1.411833444495625, 43.57945908152348]], \"\"type\"\": \"\"MultiPoint\"\"}\";CENTRE CULTUREL HENRI DESBALS;Mairie de Toulouse - DGA Culture;05 34 46 83 25;128;RUE HENRI DESBALS;31100;TOULOUSE;2;2.3;www.toulouse.fr\n",
      "43.565320343382325, 1.4790430260526422;\"{\"\"coordinates\"\": [[1.479043026052642, 43.565320343382325]], \"\"type\"\": \"\"MultiPoint\"\"}\";CENTRE CULTUREL LEONARD DE VINCI DE L'ENAC - THEATRE DE POCHE;Association;05 62 17 45 00;7;AV EDOUARD BELIN;31400;TOULOUSE;5;5.2;www.culture-enac.com\n",
      "43.56167305551263, 1.378994128328354;\"{\"\"coordinates\"\": [[1.378994128328354, 43.56167305551263]], \"\"type\"\": \"\"MultiPoint\"\"}\";CENTRE D'ANIMATION SAINT SIMON;Mairie de Toulouse - DGA Culture;05 31 22 96 81;10;CHE DE LIFFARD;31100;TOULOUSE;6;6.4;www.toulouse.fr\n",
      "43.60331334023683, 1.4447724099759627;\"{\"\"coordinates\"\": [[1.444772409975963, 43.60331334023683]], \"\"type\"\": \"\"MultiPoint\"\"}\";CMAV - CENTRE MERIDIONAL DE L'ARCHITECTURE DE LA VILLE;Association;05 61 23 30 49;5;RUE SAINT PANTALEON;31000;TOULOUSE;1;1.1;www.cmaville.org\n",
      "43.599544145651286, 1.4449799203257347;\"{\"\"coordinates\"\": [[1.444979920325735, 43.599544145651286]], \"\"type\"\": \"\"MultiPoint\"\"}\";GALERIE DAUDET;Structure commerciale;05 34 31 74 84;10;RUE DE LA TRINITE;31000;TOULOUSE;1;1.1;http://www.galerie-art-alain-daudet.com\n",
      "43.59911474290495, 1.4365055585019906;\"{\"\"coordinates\"\": [[1.436505558501991, 43.59911474290495]], \"\"type\"\": \"\"MultiPoint\"\"}\";HOTEL DIEU;Mairie de Toulouse - Autre Direction;05 61 77 83 41;2;RUE VIGUERIE;31300;TOULOUSE;2;2.1;www.chu-toulouse.fr\n",
      "43.613115478981214, 1.4413259685472881;\"{\"\"coordinates\"\": [[1.441325968547288, 43.613115478981214]], \"\"type\"\": \"\"MultiPoint\"\"}\";INSTITUTO CERVANTES;Association;05 61 62 80 72;31;RUE DES CHALETS;31000;TOULOUSE;1;1.3;www.toulouse.cervantes.es/fr\n",
      "43.57770544549503, 1.4041272610723938;\"{\"\"coordinates\"\": [[1.404127261072394, 43.57770544549503]], \"\"type\"\": \"\"MultiPoint\"\"}\";LA FABRIQUE;Association;05 61 50 43 98;5;ALL ANTONIO MACHADO;31100;TOULOUSE;6;6.3;www.ciam-univ-toulouse2.fr\n",
      "43.564536828030846, 1.3990734687949806;\"{\"\"coordinates\"\": [[1.399073468794981, 43.564536828030846]], \"\"type\"\": \"\"MultiPoint\"\"}\";CENTRE CULTUREL ALBAN MINVILLE;Mairie de Toulouse - DGA Culture;05 61 43 60 20;1;PL MARTIN LUTHER KING;31100;TOULOUSE;6;6.3;www.albanminville.toulouse.fr\n",
      "43.6482273897219, 1.4328911851171073;\"{\"\"coordinates\"\": [[1.432891185117107, 43.6482273897219]], \"\"type\"\": \"\"MultiPoint\"\"}\";CENTRE D'ANIMATION LALANDE;Mairie de Toulouse - DGA Culture;05 61 47 37 55;239;AV DE FRONTON;31200;TOULOUSE;3;3.2;www.toulouse.fr\n",
      "43.6031733611625, 1.4531255525854871;\"{\"\"coordinates\"\": [[1.453125552585487, 43.6031733611625]], \"\"type\"\": \"\"MultiPoint\"\"}\";ESPACE DES DIVERSITES ET DE LA LAICITE;Mairie de Toulouse - Autre Direction;05 81 91 79 60;38;RUE D AUBUISSON;31000;TOULOUSE;1;1.3;http://www.toulouse.fr/web/social/espace-des-diversites-et-de-la-laicite\n",
      "43.59326673955577, 1.4347726326707118;\"{\"\"coordinates\"\": [[1.434772632670712, 43.59326673955577]], \"\"type\"\": \"\"MultiPoint\"\"}\";GALERIE DU CHÂTEAU D'EAU;Association;05 61 77 09 40;1;RUE LAGANNE;31300;TOULOUSE;2;2.1;www.galeriechateaudeau.org\n",
      "43.59931284530559, 1.4358439508159624;\"{\"\"coordinates\"\": [[1.435843950815962, 43.59931284530559]], \"\"type\"\": \"\"MultiPoint\"\"}\";GALERIE PASSAGE A L'ART;Association;06 64 21 26 80;5;GRANDE-RUE SAINT NICOLAS;31300;TOULOUSE;2;2.1;www.passagealart.com\n",
      "43.59968070820493, 1.449113833617778;\"{\"\"coordinates\"\": [[1.449113833617778, 43.59968070820493]], \"\"type\"\": \"\"MultiPoint\"\"}\";GALERIE PINXIT;Structure commerciale;05 61 39 17 14;2;PL SAINT ETIENNE;31000;TOULOUSE;1;1.1;galeriepinxit@orange.fr\n",
      "43.60062579710514, 1.4397371866308595;\"{\"\"coordinates\"\": [[1.439737186630859, 43.60062579710514]], \"\"type\"\": \"\"MultiPoint\"\"}\";INSTITUT SUPERIEUR DES ARTS DE TOULOUSE - ISDAT;Structure mixte;05 31 47 12 11;5;QU DE LA DAURADE;31000;TOULOUSE;1;1.1;www.esna-toulouse.org\n",
      "43.600357895512616, 1.4425683958425597;\"{\"\"coordinates\"\": [[1.44256839584256, 43.600357895512616]], \"\"type\"\": \"\"MultiPoint\"\"}\";LA MEDIATHEQUE ASSOCIATIVE - MUSICOPHAGES;Association;05 61 21 71 50;6;RUE DE LA BOURSE;31000;TOULOUSE;1;1.1;www.musicophages.org\n",
      "43.61026207749336, 1.4554361883544236;\"{\"\"coordinates\"\": [[1.455436188354424, 43.61026207749336]], \"\"type\"\": \"\"MultiPoint\"\"}\";MEDIATHEQUE JOSE CABANIS;Mairie de Toulouse - DGA Culture;05 62 27 40 00;1;ALL JACQUES CHABAN DELMAS;31500;TOULOUSE;4;4.2;www.bibliotheque.toulouse.fr\n",
      "43.603378647527684, 1.4422683332457396;\"{\"\"coordinates\"\": [[1.44226833324574, 43.603378647527684]], \"\"type\"\": \"\"MultiPoint\"\"}\";OMBRES BLANCHES;Structure commerciale;05 34 45 53 33;50;RUE LEON GAMBETTA;31000;TOULOUSE;1;1.1;www.ombres-blanches.fr\n",
      "43.570422847313374, 1.4028565308259797;\"{\"\"coordinates\"\": [[1.40285653082598, 43.570422847313374]], \"\"type\"\": \"\"MultiPoint\"\"}\";CENTRE D'ANIMATION REYNERIE;Mairie de Toulouse - DGA Culture;05 61 41 56 80;3;PL ANDRE ABBAL;31100;TOULOUSE;6;6.3;www.toulouse.fr\n",
      "43.61139548276987, 1.4466355547044323;\"{\"\"coordinates\"\": [[1.446635554704432, 43.61139548276987]], \"\"type\"\": \"\"MultiPoint\"\"}\";CICC - SAMBA RESILLE;Association;05 34 41 62 16;38;RUE ROQUELAINE;31000;TOULOUSE;1;1.3;www.samba-resille.org\n",
      "43.61631388862685, 1.4535854924000524;\"{\"\"coordinates\"\": [[1.453585492400052, 43.61631388862685]], \"\"type\"\": \"\"MultiPoint\"\"}\";ESPACE BONNEFOY;Mairie de Toulouse - DGA Culture;05 67 73 83 60;4;RUE DU FAUBOURG BONNEFOY;31500;TOULOUSE;4;4.1;www.toulouse.fr\n",
      "43.599818569805116, 1.4479830740539856;\"{\"\"coordinates\"\": [[1.447983074053986, 43.599818569805116]], \"\"type\"\": \"\"MultiPoint\"\"}\";ESPACE CROIX BARAGNON;Mairie de Toulouse - DGA Culture;05 62 27 60 60;24;RUE CROIX BARAGNON;31000;TOULOUSE;1;1.1;www.cultures.toulouse.fr\n",
      "43.60087752008602, 1.4423817111578405;\"{\"\"coordinates\"\": [[1.442381711157841, 43.60087752008602]], \"\"type\"\": \"\"MultiPoint\"\"}\";GALERIE EXPRMNTL;Structure commerciale;05 62 27 26 92;18;RUE DE LA BOURSE;31000;TOULOUSE;1;1.1;www.exprmntl.fr\n",
      "43.610149608571476, 1.4443628115698741;\"{\"\"coordinates\"\": [[1.444362811569874, 43.610149608571476]], \"\"type\"\": \"\"MultiPoint\"\"}\";GALERIE INGRES - CRDP;Association;05 61 99 48 48;68;BD DE STRASBOURG;31000;TOULOUSE;1;1.3;http://www.cndp.fr/crdp-toulouse/spip.php?rubrique2727#top\n",
      "43.616906270724506, 1.4561477819358317;\"{\"\"coordinates\"\": [[1.456147781935832, 43.616906270724506]], \"\"type\"\": \"\"MultiPoint\"\"}\";LIEU COMMUN / PLAN 9;Association;05 61 23 80 57;25;RUE D ARMAGNAC;31500;TOULOUSE;4;4.1;www.lieu-commun.fr\n",
      "43.57879671469887, 1.4465484274942493;\"{\"\"coordinates\"\": [[1.446548427494249, 43.57879671469887]], \"\"type\"\": \"\"MultiPoint\"\"}\";MAISON DES ASSOCIATIONS NIEL;Mairie de Toulouse - Autre Direction;05 62 26 81 00;81;RUE SAINT ROCH;31400;TOULOUSE;5;5.3;www.toulouse.fr\n",
      "43.570422847313374, 1.4028565308259797;\"{\"\"coordinates\"\": [[1.40285653082598, 43.570422847313374]], \"\"type\"\": \"\"MultiPoint\"\"}\";ATELIER B;Mairie de Toulouse - DGA Culture;05 61 41 56 80;3;PL ANDRE ABBAL;31100;TOULOUSE;6;6.3;\n",
      "43.61138670431087, 1.4500057943858333;\"{\"\"coordinates\"\": [[1.450005794385833, 43.61138670431087]], \"\"type\"\": \"\"MultiPoint\"\"}\";BAM GALLERY;Structure commerciale;05 61 48 76 08;52;RUE RAYMOND IV;31000;TOULOUSE;1;1.3;http://www.bam-gallery.com/\n",
      "43.62399026034344, 1.4386564666671822;\"{\"\"coordinates\"\": [[1.438656466667182, 43.62399026034344]], \"\"type\"\": \"\"MultiPoint\"\"}\";CENTRE CULTUREL - THEATRE DES MAZADES;Mairie de Toulouse - DGA Culture;05 31 22 98 00;10;AV DES MAZADES;31200;TOULOUSE;3;3.1;www.toulouse.fr\n",
      "43.6200175492092, 1.4351273861094815;\"{\"\"coordinates\"\": [[1.435127386109482, 43.6200175492092]], \"\"type\"\": \"\"MultiPoint\"\"}\";CENTRE CULTUREL DES MINIMES;Association;05 61 22 51 77;6;RUE DU CAILLOU GRIS;31200;TOULOUSE;3;3.1;www.centrecultureldesminimes.fr\n",
      "43.61424414975031, 1.474651897622262;\"{\"\"coordinates\"\": [[1.474651897622262, 43.61424414975031]], \"\"type\"\": \"\"MultiPoint\"\"}\";CENTRE D'ANIMATION SOUPETARD;Mairie de Toulouse - DGA Culture;05 31 22 99 70;63;CHE DE HEREDIA;31500;TOULOUSE;4;4.2;www.toulouse.fr\n",
      "43.60205199759583, 1.4393538711341562;\"{\"\"coordinates\"\": [[1.439353871134156, 43.60205199759583]], \"\"type\"\": \"\"MultiPoint\"\"}\";COMMUNAUTE MUNICIPALE DE SANTE;Mairie de Toulouse - Autre Direction;05 61 22 21 80;2;RUE MALBEC;31000;TOULOUSE;1;1.1;www.cultures.tououse.fr\n",
      "43.604551617915085, 1.4324763342540432;\"{\"\"coordinates\"\": [[1.432476334254043, 43.604551617915085]], \"\"type\"\": \"\"MultiPoint\"\"}\";ESPACE BAZACLE;Structure commerciale;05 62 30 16 00;11;QU SAINT PIERRE;31000;TOULOUSE;1;1.2;www.bazacle.edf.com\n",
      "43.59616432164077, 1.4273901705007102;\"{\"\"coordinates\"\": [[1.42739017050071, 43.59616432164077]], \"\"type\"\": \"\"MultiPoint\"\"}\";ESPACE ROGUET - MJC ROGUET;Autre institution publique;05 62 86 01 67;9;RUE DE GASCOGNE;31300;TOULOUSE;2;2.1;www.haute-garonne.fr\n",
      "43.60533363025542, 1.4477313514021115;\"{\"\"coordinates\"\": [[1.447731351402112, 43.60533363025542]], \"\"type\"\": \"\"MultiPoint\"\"}\";ESPACE W31 - AGENCE CREDIT AGRICOLE JEAN JAURES;Structure commerciale;05 61 50 05 50;1;ALL DU PRESIDENT ROOSEVELT;31000;TOULOUSE;1;1.1;www.espacew31.fr\n",
      "43.5986796263151, 1.4489782313246113;\"{\"\"coordinates\"\": [[1.448978231324611, 43.5986796263151]], \"\"type\"\": \"\"MultiPoint\"\"}\";GALERIE FABRICE GALVANI;Structure commerciale;05 62 17 24 92;2;RUE PIERRE DE FERMAT;31000;TOULOUSE;1;1.1;http://www.galeriefabricegalvani.com\n",
      "43.60866268665053, 1.4475971271002717;\"{\"\"coordinates\"\": [[1.447597127100272, 43.60866268665053]], \"\"type\"\": \"\"MultiPoint\"\"}\";GALERIE KANDLER;Structure commerciale;05 61 63 85 11;14;RUE DE BAYARD;31000;TOULOUSE;1;1.3;www.galeriekandler.com\n",
      "43.596236705393636, 1.4473928635163509;\"{\"\"coordinates\"\": [[1.447392863516351, 43.596236705393636]], \"\"type\"\": \"\"MultiPoint\"\"}\";GALERIE SOURILLAN;Structure commerciale;05 61 32 17 17;19;RUE THEODORE OZENNE;31000;TOULOUSE;1;1.1;www.galeriesourillan.com\n",
      "43.600699547098415, 1.4432038330853345;\"{\"\"coordinates\"\": [[1.443203833085335, 43.600699547098415]], \"\"type\"\": \"\"MultiPoint\"\"}\";MAISON DE L'OCCITANIE;Association;05 61 22 13 31;11;RUE MALCOUSINAT;31000;TOULOUSE;1;1.1;www.ostaldoccitania.net\n",
      "\n"
     ]
    }
   ],
   "source": [
    "for ligne in lignes:\n",
    "    print(ligne)"
   ]
  },
  {
   "cell_type": "markdown",
   "id": "f596592e-5d61-4aee-a422-43bd8345be7e",
   "metadata": {},
   "source": [
    "Je peux supprimer la ligne d'entête avec la méthode ```del```"
   ]
  },
  {
   "cell_type": "code",
   "execution_count": 95,
   "id": "47d62e2f-45c1-416e-9ec1-7a84255ae32b",
   "metadata": {},
   "outputs": [
    {
     "name": "stdout",
     "output_type": "stream",
     "text": [
      "['43.62686461027098, 1.4475430070223585;\"{\"\"coordinates\"\": [[1.447543007022358, 43.62686461027098]], \"\"type\"\": \"\"MultiPoint\"\"}\";BBB - CENTRE D\\'ART;Association;05 61 13 37 14;96;RUE MICHEL ANGE;31200;TOULOUSE;3;3.3;www.lebbb.org\\r', '43.60832542550349, 1.444607529170136;\"{\"\"coordinates\"\": [[1.444607529170136, 43.60832542550349]], \"\"type\"\": \"\"MultiPoint\"\"}\";CENTRE CULTUREL BELLEGARDE;Mairie de Toulouse - DGA Culture;05 62 27 44 88;17;RUE BELLEGARDE;31000;TOULOUSE;1;1.1;www.toulouse.fr\\r', '43.60448982058865, 1.4398861872862618;\"{\"\"coordinates\"\": [[1.439886187286262, 43.60448982058865]], \"\"type\"\": \"\"MultiPoint\"\"}\";ENSEMBLE CONVENTUEL DES JACOBINS;Mairie de Toulouse - DGA Culture;05 61 22 21 92;69;RUE PARGAMINIERES;31000;TOULOUSE;1;1.1;www.jacobins.mairie-toulouse.fr\\r', '43.59828278794131, 1.4309154834000453;\"{\"\"coordinates\"\": [[1.430915483400045, 43.59828278794131]], \"\"type\"\": \"\"MultiPoint\"\"}\";ESPACE SAINT CYPRIEN - CHAPEAU ROUGE;Mairie de Toulouse - DGA Culture;05 61 22 27 77;56;ALL CHARLES DE FITTE;31300;TOULOUSE;2;2.1;www.cultures.toulouse.fr\\r', '43.60383912614674, 1.443706012074208;\"{\"\"coordinates\"\": [[1.443706012074208, 43.60383912614674]], \"\"type\"\": \"\"MultiPoint\"\"}\";FONDATION ESPACE ECUREUIL POUR L\\'ART CONTEMPORAIN;Structure commerciale;05 62 30 23 30;3;PL DU CAPITOLE;31000;TOULOUSE;1;1.1;www.caisseepargne-art-contemporain.fr\\r', '43.574870208885514, 1.4639464323059583;\"{\"\"coordinates\"\": [[1.463946432305958, 43.574870208885514]], \"\"type\"\": \"\"MultiPoint\"\"}\";MAISON DE QUARTIER RANGUEIL;Mairie de Toulouse - DGA Culture;05 61 25 49 26;19;RUE CLAUDE DE FORBIN;31400;TOULOUSE;5;5.2;www.cultures.toulouse.fr\\r', '43.57945908152348, 1.4118334444956246;\"{\"\"coordinates\"\": [[1.411833444495625, 43.57945908152348]], \"\"type\"\": \"\"MultiPoint\"\"}\";CENTRE CULTUREL HENRI DESBALS;Mairie de Toulouse - DGA Culture;05 34 46 83 25;128;RUE HENRI DESBALS;31100;TOULOUSE;2;2.3;www.toulouse.fr\\r', '43.565320343382325, 1.4790430260526422;\"{\"\"coordinates\"\": [[1.479043026052642, 43.565320343382325]], \"\"type\"\": \"\"MultiPoint\"\"}\";CENTRE CULTUREL LEONARD DE VINCI DE L\\'ENAC - THEATRE DE POCHE;Association;05 62 17 45 00;7;AV EDOUARD BELIN;31400;TOULOUSE;5;5.2;www.culture-enac.com\\r', '43.56167305551263, 1.378994128328354;\"{\"\"coordinates\"\": [[1.378994128328354, 43.56167305551263]], \"\"type\"\": \"\"MultiPoint\"\"}\";CENTRE D\\'ANIMATION SAINT SIMON;Mairie de Toulouse - DGA Culture;05 31 22 96 81;10;CHE DE LIFFARD;31100;TOULOUSE;6;6.4;www.toulouse.fr\\r', '43.60331334023683, 1.4447724099759627;\"{\"\"coordinates\"\": [[1.444772409975963, 43.60331334023683]], \"\"type\"\": \"\"MultiPoint\"\"}\";CMAV - CENTRE MERIDIONAL DE L\\'ARCHITECTURE DE LA VILLE;Association;05 61 23 30 49;5;RUE SAINT PANTALEON;31000;TOULOUSE;1;1.1;www.cmaville.org\\r', '43.599544145651286, 1.4449799203257347;\"{\"\"coordinates\"\": [[1.444979920325735, 43.599544145651286]], \"\"type\"\": \"\"MultiPoint\"\"}\";GALERIE DAUDET;Structure commerciale;05 34 31 74 84;10;RUE DE LA TRINITE;31000;TOULOUSE;1;1.1;http://www.galerie-art-alain-daudet.com\\r', '43.59911474290495, 1.4365055585019906;\"{\"\"coordinates\"\": [[1.436505558501991, 43.59911474290495]], \"\"type\"\": \"\"MultiPoint\"\"}\";HOTEL DIEU;Mairie de Toulouse - Autre Direction;05 61 77 83 41;2;RUE VIGUERIE;31300;TOULOUSE;2;2.1;www.chu-toulouse.fr\\r', '43.613115478981214, 1.4413259685472881;\"{\"\"coordinates\"\": [[1.441325968547288, 43.613115478981214]], \"\"type\"\": \"\"MultiPoint\"\"}\";INSTITUTO CERVANTES;Association;05 61 62 80 72;31;RUE DES CHALETS;31000;TOULOUSE;1;1.3;www.toulouse.cervantes.es/fr\\r', '43.57770544549503, 1.4041272610723938;\"{\"\"coordinates\"\": [[1.404127261072394, 43.57770544549503]], \"\"type\"\": \"\"MultiPoint\"\"}\";LA FABRIQUE;Association;05 61 50 43 98;5;ALL ANTONIO MACHADO;31100;TOULOUSE;6;6.3;www.ciam-univ-toulouse2.fr\\r', '43.564536828030846, 1.3990734687949806;\"{\"\"coordinates\"\": [[1.399073468794981, 43.564536828030846]], \"\"type\"\": \"\"MultiPoint\"\"}\";CENTRE CULTUREL ALBAN MINVILLE;Mairie de Toulouse - DGA Culture;05 61 43 60 20;1;PL MARTIN LUTHER KING;31100;TOULOUSE;6;6.3;www.albanminville.toulouse.fr\\r', '43.6482273897219, 1.4328911851171073;\"{\"\"coordinates\"\": [[1.432891185117107, 43.6482273897219]], \"\"type\"\": \"\"MultiPoint\"\"}\";CENTRE D\\'ANIMATION LALANDE;Mairie de Toulouse - DGA Culture;05 61 47 37 55;239;AV DE FRONTON;31200;TOULOUSE;3;3.2;www.toulouse.fr\\r', '43.6031733611625, 1.4531255525854871;\"{\"\"coordinates\"\": [[1.453125552585487, 43.6031733611625]], \"\"type\"\": \"\"MultiPoint\"\"}\";ESPACE DES DIVERSITES ET DE LA LAICITE;Mairie de Toulouse - Autre Direction;05 81 91 79 60;38;RUE D AUBUISSON;31000;TOULOUSE;1;1.3;http://www.toulouse.fr/web/social/espace-des-diversites-et-de-la-laicite\\r', '43.59326673955577, 1.4347726326707118;\"{\"\"coordinates\"\": [[1.434772632670712, 43.59326673955577]], \"\"type\"\": \"\"MultiPoint\"\"}\";GALERIE DU CHÂTEAU D\\'EAU;Association;05 61 77 09 40;1;RUE LAGANNE;31300;TOULOUSE;2;2.1;www.galeriechateaudeau.org\\r', '43.59931284530559, 1.4358439508159624;\"{\"\"coordinates\"\": [[1.435843950815962, 43.59931284530559]], \"\"type\"\": \"\"MultiPoint\"\"}\";GALERIE PASSAGE A L\\'ART;Association;06 64 21 26 80;5;GRANDE-RUE SAINT NICOLAS;31300;TOULOUSE;2;2.1;www.passagealart.com\\r', '43.59968070820493, 1.449113833617778;\"{\"\"coordinates\"\": [[1.449113833617778, 43.59968070820493]], \"\"type\"\": \"\"MultiPoint\"\"}\";GALERIE PINXIT;Structure commerciale;05 61 39 17 14;2;PL SAINT ETIENNE;31000;TOULOUSE;1;1.1;galeriepinxit@orange.fr\\r', '43.60062579710514, 1.4397371866308595;\"{\"\"coordinates\"\": [[1.439737186630859, 43.60062579710514]], \"\"type\"\": \"\"MultiPoint\"\"}\";INSTITUT SUPERIEUR DES ARTS DE TOULOUSE - ISDAT;Structure mixte;05 31 47 12 11;5;QU DE LA DAURADE;31000;TOULOUSE;1;1.1;www.esna-toulouse.org\\r', '43.600357895512616, 1.4425683958425597;\"{\"\"coordinates\"\": [[1.44256839584256, 43.600357895512616]], \"\"type\"\": \"\"MultiPoint\"\"}\";LA MEDIATHEQUE ASSOCIATIVE - MUSICOPHAGES;Association;05 61 21 71 50;6;RUE DE LA BOURSE;31000;TOULOUSE;1;1.1;www.musicophages.org\\r', '43.61026207749336, 1.4554361883544236;\"{\"\"coordinates\"\": [[1.455436188354424, 43.61026207749336]], \"\"type\"\": \"\"MultiPoint\"\"}\";MEDIATHEQUE JOSE CABANIS;Mairie de Toulouse - DGA Culture;05 62 27 40 00;1;ALL JACQUES CHABAN DELMAS;31500;TOULOUSE;4;4.2;www.bibliotheque.toulouse.fr\\r', '43.603378647527684, 1.4422683332457396;\"{\"\"coordinates\"\": [[1.44226833324574, 43.603378647527684]], \"\"type\"\": \"\"MultiPoint\"\"}\";OMBRES BLANCHES;Structure commerciale;05 34 45 53 33;50;RUE LEON GAMBETTA;31000;TOULOUSE;1;1.1;www.ombres-blanches.fr\\r', '43.570422847313374, 1.4028565308259797;\"{\"\"coordinates\"\": [[1.40285653082598, 43.570422847313374]], \"\"type\"\": \"\"MultiPoint\"\"}\";CENTRE D\\'ANIMATION REYNERIE;Mairie de Toulouse - DGA Culture;05 61 41 56 80;3;PL ANDRE ABBAL;31100;TOULOUSE;6;6.3;www.toulouse.fr\\r', '43.61139548276987, 1.4466355547044323;\"{\"\"coordinates\"\": [[1.446635554704432, 43.61139548276987]], \"\"type\"\": \"\"MultiPoint\"\"}\";CICC - SAMBA RESILLE;Association;05 34 41 62 16;38;RUE ROQUELAINE;31000;TOULOUSE;1;1.3;www.samba-resille.org\\r', '43.61631388862685, 1.4535854924000524;\"{\"\"coordinates\"\": [[1.453585492400052, 43.61631388862685]], \"\"type\"\": \"\"MultiPoint\"\"}\";ESPACE BONNEFOY;Mairie de Toulouse - DGA Culture;05 67 73 83 60;4;RUE DU FAUBOURG BONNEFOY;31500;TOULOUSE;4;4.1;www.toulouse.fr\\r', '43.599818569805116, 1.4479830740539856;\"{\"\"coordinates\"\": [[1.447983074053986, 43.599818569805116]], \"\"type\"\": \"\"MultiPoint\"\"}\";ESPACE CROIX BARAGNON;Mairie de Toulouse - DGA Culture;05 62 27 60 60;24;RUE CROIX BARAGNON;31000;TOULOUSE;1;1.1;www.cultures.toulouse.fr\\r', '43.60087752008602, 1.4423817111578405;\"{\"\"coordinates\"\": [[1.442381711157841, 43.60087752008602]], \"\"type\"\": \"\"MultiPoint\"\"}\";GALERIE EXPRMNTL;Structure commerciale;05 62 27 26 92;18;RUE DE LA BOURSE;31000;TOULOUSE;1;1.1;www.exprmntl.fr\\r', '43.610149608571476, 1.4443628115698741;\"{\"\"coordinates\"\": [[1.444362811569874, 43.610149608571476]], \"\"type\"\": \"\"MultiPoint\"\"}\";GALERIE INGRES - CRDP;Association;05 61 99 48 48;68;BD DE STRASBOURG;31000;TOULOUSE;1;1.3;http://www.cndp.fr/crdp-toulouse/spip.php?rubrique2727#top\\r', '43.616906270724506, 1.4561477819358317;\"{\"\"coordinates\"\": [[1.456147781935832, 43.616906270724506]], \"\"type\"\": \"\"MultiPoint\"\"}\";LIEU COMMUN / PLAN 9;Association;05 61 23 80 57;25;RUE D ARMAGNAC;31500;TOULOUSE;4;4.1;www.lieu-commun.fr\\r', '43.57879671469887, 1.4465484274942493;\"{\"\"coordinates\"\": [[1.446548427494249, 43.57879671469887]], \"\"type\"\": \"\"MultiPoint\"\"}\";MAISON DES ASSOCIATIONS NIEL;Mairie de Toulouse - Autre Direction;05 62 26 81 00;81;RUE SAINT ROCH;31400;TOULOUSE;5;5.3;www.toulouse.fr\\r', '43.570422847313374, 1.4028565308259797;\"{\"\"coordinates\"\": [[1.40285653082598, 43.570422847313374]], \"\"type\"\": \"\"MultiPoint\"\"}\";ATELIER B;Mairie de Toulouse - DGA Culture;05 61 41 56 80;3;PL ANDRE ABBAL;31100;TOULOUSE;6;6.3;\\r', '43.61138670431087, 1.4500057943858333;\"{\"\"coordinates\"\": [[1.450005794385833, 43.61138670431087]], \"\"type\"\": \"\"MultiPoint\"\"}\";BAM GALLERY;Structure commerciale;05 61 48 76 08;52;RUE RAYMOND IV;31000;TOULOUSE;1;1.3;http://www.bam-gallery.com/\\r', '43.62399026034344, 1.4386564666671822;\"{\"\"coordinates\"\": [[1.438656466667182, 43.62399026034344]], \"\"type\"\": \"\"MultiPoint\"\"}\";CENTRE CULTUREL - THEATRE DES MAZADES;Mairie de Toulouse - DGA Culture;05 31 22 98 00;10;AV DES MAZADES;31200;TOULOUSE;3;3.1;www.toulouse.fr\\r', '43.6200175492092, 1.4351273861094815;\"{\"\"coordinates\"\": [[1.435127386109482, 43.6200175492092]], \"\"type\"\": \"\"MultiPoint\"\"}\";CENTRE CULTUREL DES MINIMES;Association;05 61 22 51 77;6;RUE DU CAILLOU GRIS;31200;TOULOUSE;3;3.1;www.centrecultureldesminimes.fr\\r', '43.61424414975031, 1.474651897622262;\"{\"\"coordinates\"\": [[1.474651897622262, 43.61424414975031]], \"\"type\"\": \"\"MultiPoint\"\"}\";CENTRE D\\'ANIMATION SOUPETARD;Mairie de Toulouse - DGA Culture;05 31 22 99 70;63;CHE DE HEREDIA;31500;TOULOUSE;4;4.2;www.toulouse.fr\\r', '43.60205199759583, 1.4393538711341562;\"{\"\"coordinates\"\": [[1.439353871134156, 43.60205199759583]], \"\"type\"\": \"\"MultiPoint\"\"}\";COMMUNAUTE MUNICIPALE DE SANTE;Mairie de Toulouse - Autre Direction;05 61 22 21 80;2;RUE MALBEC;31000;TOULOUSE;1;1.1;www.cultures.tououse.fr\\r', '43.604551617915085, 1.4324763342540432;\"{\"\"coordinates\"\": [[1.432476334254043, 43.604551617915085]], \"\"type\"\": \"\"MultiPoint\"\"}\";ESPACE BAZACLE;Structure commerciale;05 62 30 16 00;11;QU SAINT PIERRE;31000;TOULOUSE;1;1.2;www.bazacle.edf.com\\r', '43.59616432164077, 1.4273901705007102;\"{\"\"coordinates\"\": [[1.42739017050071, 43.59616432164077]], \"\"type\"\": \"\"MultiPoint\"\"}\";ESPACE ROGUET - MJC ROGUET;Autre institution publique;05 62 86 01 67;9;RUE DE GASCOGNE;31300;TOULOUSE;2;2.1;www.haute-garonne.fr\\r', '43.60533363025542, 1.4477313514021115;\"{\"\"coordinates\"\": [[1.447731351402112, 43.60533363025542]], \"\"type\"\": \"\"MultiPoint\"\"}\";ESPACE W31 - AGENCE CREDIT AGRICOLE JEAN JAURES;Structure commerciale;05 61 50 05 50;1;ALL DU PRESIDENT ROOSEVELT;31000;TOULOUSE;1;1.1;www.espacew31.fr\\r', '43.5986796263151, 1.4489782313246113;\"{\"\"coordinates\"\": [[1.448978231324611, 43.5986796263151]], \"\"type\"\": \"\"MultiPoint\"\"}\";GALERIE FABRICE GALVANI;Structure commerciale;05 62 17 24 92;2;RUE PIERRE DE FERMAT;31000;TOULOUSE;1;1.1;http://www.galeriefabricegalvani.com\\r', '43.60866268665053, 1.4475971271002717;\"{\"\"coordinates\"\": [[1.447597127100272, 43.60866268665053]], \"\"type\"\": \"\"MultiPoint\"\"}\";GALERIE KANDLER;Structure commerciale;05 61 63 85 11;14;RUE DE BAYARD;31000;TOULOUSE;1;1.3;www.galeriekandler.com\\r', '43.596236705393636, 1.4473928635163509;\"{\"\"coordinates\"\": [[1.447392863516351, 43.596236705393636]], \"\"type\"\": \"\"MultiPoint\"\"}\";GALERIE SOURILLAN;Structure commerciale;05 61 32 17 17;19;RUE THEODORE OZENNE;31000;TOULOUSE;1;1.1;www.galeriesourillan.com\\r', '43.600699547098415, 1.4432038330853345;\"{\"\"coordinates\"\": [[1.443203833085335, 43.600699547098415]], \"\"type\"\": \"\"MultiPoint\"\"}\";MAISON DE L\\'OCCITANIE;Association;05 61 22 13 31;11;RUE MALCOUSINAT;31000;TOULOUSE;1;1.1;www.ostaldoccitania.net\\r', '']\n"
     ]
    }
   ],
   "source": [
    "del lignes[0]  # On supprime la première ligne\n",
    "print(lignes)"
   ]
  },
  {
   "cell_type": "markdown",
   "id": "90a3e93f-f5f5-42b3-8ce7-06e015f54591",
   "metadata": {},
   "source": [
    "Si je veux récupérer un élément spécifique, je peux maintenant découper chacune de ces lignes en fonction du caractère ```;```"
   ]
  },
  {
   "cell_type": "code",
   "execution_count": 99,
   "id": "9c3886c2-fa59-4097-ba46-dce05bfdbed5",
   "metadata": {},
   "outputs": [
    {
     "name": "stdout",
     "output_type": "stream",
     "text": [
      "43.62686461027098, 1.4475430070223585\n",
      "www.lebbb.org\n",
      "43.60832542550349, 1.444607529170136\n",
      "www.toulouse.fr\n",
      "43.60448982058865, 1.4398861872862618\n",
      "www.jacobins.mairie-toulouse.fr\n",
      "43.59828278794131, 1.4309154834000453\n",
      "www.cultures.toulouse.fr\n",
      "43.60383912614674, 1.443706012074208\n",
      "www.caisseepargne-art-contemporain.fr\n",
      "43.574870208885514, 1.4639464323059583\n",
      "www.cultures.toulouse.fr\n",
      "43.57945908152348, 1.4118334444956246\n",
      "www.toulouse.fr\n",
      "43.565320343382325, 1.4790430260526422\n",
      "www.culture-enac.com\n",
      "43.56167305551263, 1.378994128328354\n",
      "www.toulouse.fr\n",
      "43.60331334023683, 1.4447724099759627\n",
      "www.cmaville.org\n",
      "43.599544145651286, 1.4449799203257347\n",
      "http://www.galerie-art-alain-daudet.com\n",
      "43.59911474290495, 1.4365055585019906\n",
      "www.chu-toulouse.fr\n",
      "43.613115478981214, 1.4413259685472881\n",
      "www.toulouse.cervantes.es/fr\n",
      "43.57770544549503, 1.4041272610723938\n",
      "www.ciam-univ-toulouse2.fr\n",
      "43.564536828030846, 1.3990734687949806\n",
      "www.albanminville.toulouse.fr\n",
      "43.6482273897219, 1.4328911851171073\n",
      "www.toulouse.fr\n",
      "43.6031733611625, 1.4531255525854871\n",
      "http://www.toulouse.fr/web/social/espace-des-diversites-et-de-la-laicite\n",
      "43.59326673955577, 1.4347726326707118\n",
      "www.galeriechateaudeau.org\n",
      "43.59931284530559, 1.4358439508159624\n",
      "www.passagealart.com\n",
      "43.59968070820493, 1.449113833617778\n",
      "galeriepinxit@orange.fr\n",
      "43.60062579710514, 1.4397371866308595\n",
      "www.esna-toulouse.org\n",
      "43.600357895512616, 1.4425683958425597\n",
      "www.musicophages.org\n",
      "43.61026207749336, 1.4554361883544236\n",
      "www.bibliotheque.toulouse.fr\n",
      "43.603378647527684, 1.4422683332457396\n",
      "www.ombres-blanches.fr\n",
      "43.570422847313374, 1.4028565308259797\n",
      "www.toulouse.fr\n",
      "43.61139548276987, 1.4466355547044323\n",
      "www.samba-resille.org\n",
      "43.61631388862685, 1.4535854924000524\n",
      "www.toulouse.fr\n",
      "43.599818569805116, 1.4479830740539856\n",
      "www.cultures.toulouse.fr\n",
      "43.60087752008602, 1.4423817111578405\n",
      "www.exprmntl.fr\n",
      "43.610149608571476, 1.4443628115698741\n",
      "http://www.cndp.fr/crdp-toulouse/spip.php?rubrique2727#top\n",
      "43.616906270724506, 1.4561477819358317\n",
      "www.lieu-commun.fr\n",
      "43.57879671469887, 1.4465484274942493\n",
      "www.toulouse.fr\n",
      "43.570422847313374, 1.4028565308259797\n",
      "\n",
      "43.61138670431087, 1.4500057943858333\n",
      "http://www.bam-gallery.com/\n",
      "43.62399026034344, 1.4386564666671822\n",
      "www.toulouse.fr\n",
      "43.6200175492092, 1.4351273861094815\n",
      "www.centrecultureldesminimes.fr\n",
      "43.61424414975031, 1.474651897622262\n",
      "www.toulouse.fr\n",
      "43.60205199759583, 1.4393538711341562\n",
      "www.cultures.tououse.fr\n",
      "43.604551617915085, 1.4324763342540432\n",
      "www.bazacle.edf.com\n",
      "43.59616432164077, 1.4273901705007102\n",
      "www.haute-garonne.fr\n",
      "43.60533363025542, 1.4477313514021115\n",
      "www.espacew31.fr\n",
      "43.5986796263151, 1.4489782313246113\n",
      "http://www.galeriefabricegalvani.com\n",
      "43.60866268665053, 1.4475971271002717\n",
      "www.galeriekandler.com\n",
      "43.596236705393636, 1.4473928635163509\n",
      "www.galeriesourillan.com\n",
      "43.600699547098415, 1.4432038330853345\n",
      "www.ostaldoccitania.net\n"
     ]
    }
   ],
   "source": [
    "for ligne in lignes:\n",
    "    if ligne != \"\":              # On vérifie que la ligne n'est pas une ligne vide.\n",
    "        data= ligne.split(\";\")   # On obtient une liste, ou chaque élément correspond à une donnée. \n",
    "        print(data[0])           # Ici on récupère la donnée \"Geo Point\"\n",
    "        print(data[11])          # Ici on récupère la donnée \"site_web\""
   ]
  },
  {
   "cell_type": "markdown",
   "id": "9827efa6-29df-4911-9a2f-d02339221571",
   "metadata": {},
   "source": [
    "Maintenant que je sais comment accéder à l'élément site_web, je peux construire une nouvelle structure de donnée pour les stocker."
   ]
  },
  {
   "cell_type": "code",
   "execution_count": 97,
   "id": "34d972f2-3061-4234-9725-6981859fccbf",
   "metadata": {
    "jupyter": {
     "source_hidden": true
    },
    "tags": []
   },
   "outputs": [
    {
     "name": "stdout",
     "output_type": "stream",
     "text": [
      "['www.lebbb.org\\r', 'www.toulouse.fr\\r', 'www.jacobins.mairie-toulouse.fr\\r', 'www.cultures.toulouse.fr\\r', 'www.caisseepargne-art-contemporain.fr\\r', 'www.cultures.toulouse.fr\\r', 'www.toulouse.fr\\r', 'www.culture-enac.com\\r', 'www.toulouse.fr\\r', 'www.cmaville.org\\r', 'http://www.galerie-art-alain-daudet.com\\r', 'www.chu-toulouse.fr\\r', 'www.toulouse.cervantes.es/fr\\r', 'www.ciam-univ-toulouse2.fr\\r', 'www.albanminville.toulouse.fr\\r', 'www.toulouse.fr\\r', 'http://www.toulouse.fr/web/social/espace-des-diversites-et-de-la-laicite\\r', 'www.galeriechateaudeau.org\\r', 'www.passagealart.com\\r', 'galeriepinxit@orange.fr\\r', 'www.esna-toulouse.org\\r', 'www.musicophages.org\\r', 'www.bibliotheque.toulouse.fr\\r', 'www.ombres-blanches.fr\\r', 'www.toulouse.fr\\r', 'www.samba-resille.org\\r', 'www.toulouse.fr\\r', 'www.cultures.toulouse.fr\\r', 'www.exprmntl.fr\\r', 'http://www.cndp.fr/crdp-toulouse/spip.php?rubrique2727#top\\r', 'www.lieu-commun.fr\\r', 'www.toulouse.fr\\r', '\\r', 'http://www.bam-gallery.com/\\r', 'www.toulouse.fr\\r', 'www.centrecultureldesminimes.fr\\r', 'www.toulouse.fr\\r', 'www.cultures.tououse.fr\\r', 'www.bazacle.edf.com\\r', 'www.haute-garonne.fr\\r', 'www.espacew31.fr\\r', 'http://www.galeriefabricegalvani.com\\r', 'www.galeriekandler.com\\r', 'www.galeriesourillan.com\\r', 'www.ostaldoccitania.net\\r']\n"
     ]
    }
   ],
   "source": [
    "site_web = []\n",
    "for ligne in lignes:\n",
    "    if ligne != \"\":              # On vérifie que la ligne n'est pas une ligne vide.\n",
    "        data= ligne.split(\";\")   # On obtient une liste, ou chaque élément correspond à une donnée. \n",
    "        site_web.append(data[11])\n",
    "print(site_web)"
   ]
  },
  {
   "cell_type": "markdown",
   "id": "460e3a4d-e2e7-47de-9a83-fada20425f79",
   "metadata": {},
   "source": [
    "On constate que le caractère ```\\r``` est présent dans chacune de nos adresses. Il s'agit d'un caractère spécial qui code le retour de chariot. Celà vient du fait que sous certaines version de windows, le caractère de fin de ligne est codé sous la forme ```\\n\\r```.\n",
    "\n",
    "Pour nettoyer nos adresses, il nous suffit donc de retirer le dernier caractère de la chaine (on peut utiliser l'opérateur de sous-chaîne ```:-1``` qui récupère toute la string à l'exception du dernier caractère)."
   ]
  },
  {
   "cell_type": "code",
   "execution_count": 98,
   "id": "0f46c410-02b3-402a-802e-22c6f0dc4ead",
   "metadata": {},
   "outputs": [
    {
     "name": "stdout",
     "output_type": "stream",
     "text": [
      "['www.lebbb.org', 'www.toulouse.fr', 'www.jacobins.mairie-toulouse.fr', 'www.cultures.toulouse.fr', 'www.caisseepargne-art-contemporain.fr', 'www.cultures.toulouse.fr', 'www.toulouse.fr', 'www.culture-enac.com', 'www.toulouse.fr', 'www.cmaville.org', 'http://www.galerie-art-alain-daudet.com', 'www.chu-toulouse.fr', 'www.toulouse.cervantes.es/fr', 'www.ciam-univ-toulouse2.fr', 'www.albanminville.toulouse.fr', 'www.toulouse.fr', 'http://www.toulouse.fr/web/social/espace-des-diversites-et-de-la-laicite', 'www.galeriechateaudeau.org', 'www.passagealart.com', 'galeriepinxit@orange.fr', 'www.esna-toulouse.org', 'www.musicophages.org', 'www.bibliotheque.toulouse.fr', 'www.ombres-blanches.fr', 'www.toulouse.fr', 'www.samba-resille.org', 'www.toulouse.fr', 'www.cultures.toulouse.fr', 'www.exprmntl.fr', 'http://www.cndp.fr/crdp-toulouse/spip.php?rubrique2727#top', 'www.lieu-commun.fr', 'www.toulouse.fr', '', 'http://www.bam-gallery.com/', 'www.toulouse.fr', 'www.centrecultureldesminimes.fr', 'www.toulouse.fr', 'www.cultures.tououse.fr', 'www.bazacle.edf.com', 'www.haute-garonne.fr', 'www.espacew31.fr', 'http://www.galeriefabricegalvani.com', 'www.galeriekandler.com', 'www.galeriesourillan.com', 'www.ostaldoccitania.net']\n"
     ]
    }
   ],
   "source": [
    "site_web = []\n",
    "for ligne in lignes:\n",
    "    if ligne != \"\":              # On vérifie que la ligne n'est pas une ligne vide.\n",
    "        data= ligne.split(\";\")   # On obtient une liste, ou chaque élément correspond à une donnée. \n",
    "        site_web.append(data[11][:-1])\n",
    "print(site_web)"
   ]
  },
  {
   "cell_type": "markdown",
   "id": "876daa2f-7c74-43cb-819c-0cba9f55cea6",
   "metadata": {},
   "source": [
    "<div class=\"alert alert-block alert-info\">\n",
    "<b>Remarque:</b> On pourait facilement écrire des fonctions génériques pour manipuler des données csv. En effet, il faut à chaque fois découper par ligne puis par colonne. La seule chose qui peut changer est l'opérateur de fin de ligne et l'opérateur de séparation de colonnes. C'est pourquoi des modules existent: https://docs.python.org/fr/3.6/library/csv.html\n",
    "</br> Nous travaillons volontairement avec les chaines de caractères pour que les opérations de manipulation de chaines de caractères soient bien acquises.\n",
    "</div>"
   ]
  },
  {
   "cell_type": "markdown",
   "id": "532ad474-d3a7-4f5d-8b4e-f3e537c14b89",
   "metadata": {},
   "source": [
    "# JSON"
   ]
  },
  {
   "cell_type": "markdown",
   "id": "b9353164",
   "metadata": {
    "slideshow": {
     "slide_type": "slide"
    },
    "tags": []
   },
   "source": [
    "# En résumé:\n",
    "* Le module ```os``` permet d'intéragir avec les répertoires et les fichiers\n",
    "* On peut lire et écrire des fichiers avec la fonction ```open```\n",
    "* Quand on ouvre un fichier, on pense à le fermer avec la méthode ```.close()```\n",
    "* Pour simplifier la gestion de la fermeture, on peut utiliser le mot clé ```with```\n",
    "* On peut écrire dans des fichier en fonction d'un mode: w pour remplacer, a pour ajouter.\n",
    "* On peut lire un fichier .csv et le stocker dans un dictionnaire.\n",
    "* La journalisation est un moyen d'historiser des évènements en fonction de leur sévérité\n",
    "* On peut journaliser les évènements dans des fichiers"
   ]
  },
  {
   "cell_type": "markdown",
   "id": "fe0ab500-acfa-461a-955a-432f8116437f",
   "metadata": {},
   "source": [
    "# Je suis donc capable\n",
    "* D'explorer et manipuler une arborescence de fichiers et de dossiers à partir de Python\n",
    "* Lire et écrire dans des fichiers\n",
    "* Manipuler un fichier .csv et le stocker dans un dictionnaire pour pouvoir l'interroger\n",
    "* Utiliser les journaux pour tracer des évènements"
   ]
  }
 ],
 "metadata": {
  "celltoolbar": "Diaporama",
  "kernelspec": {
   "display_name": "Python 3 (ipykernel)",
   "language": "python",
   "name": "python3"
  },
  "language_info": {
   "codemirror_mode": {
    "name": "ipython",
    "version": 3
   },
   "file_extension": ".py",
   "mimetype": "text/x-python",
   "name": "python",
   "nbconvert_exporter": "python",
   "pygments_lexer": "ipython3",
   "version": "3.9.12"
  },
  "toc-autonumbering": true
 },
 "nbformat": 4,
 "nbformat_minor": 5
}
