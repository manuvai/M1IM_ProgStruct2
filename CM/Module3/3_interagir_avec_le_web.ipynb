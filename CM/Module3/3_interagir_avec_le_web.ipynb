{
 "cells": [
  {
   "cell_type": "markdown",
   "id": "c30199cf-95c2-4522-ad60-a73d8a05b3f4",
   "metadata": {
    "slideshow": {
     "slide_type": "slide"
    }
   },
   "source": [
    "![./pics/logo_ut1.jpg](./pics/logo_ut1.jpg)\n",
    "# Master 1 Ingénierie Métier (IM) : Programmation Structurée 2 2022/2023: \n",
    "\n",
    "## Intéragir avec le Web\n",
    "\n",
    "Equipe pédagogique: \n",
    "* Sophie Martinez - Sophie.Martinez@ut-capitole.fr\n",
    "* Laurent Marsan - Laurent.Marsan@ut-capitole.fr\n",
    "* Nicolas Verstaevel - Nicolas.Verstaevel@ut-capitole.fr"
   ]
  },
  {
   "cell_type": "markdown",
   "id": "8fb84381",
   "metadata": {
    "tags": []
   },
   "source": [
    "# Au module précédent, nous avons vu:\n",
    "* ✔️ Le module ```os```nous permet d'intéragir avec le système d'exploitation\n",
    "* ✔️ On peut créer, supprimer des fichiers et des dossiers\n",
    "* ✔️ La fonction ```open``` nous permet de lire un fichier\n",
    "* ✔️ La lecture de fichiers se fait selon un mode\n",
    "* ✔️ On peut lire un fichier avec la methode ```read()``` la méthode ```readlines()```\n",
    "* ✔️ On peut écrire dans un fichier avec la méthode ```write()```. Le comportement dépend du mode d'ouverture du fichier.\n",
    "* ✔️ La journalisation en génie logiciel est une pratique qui consiste à créer des journaux pour historiser des évènements\n",
    "* ✔️ Il est possible de créer des journaux à l'aide du module ```logging```\n",
    "* ✔️ Un évènement est défini selon une priorité. Il est possible de choisir le niveau de priorité traité par un journal."
   ]
  },
  {
   "cell_type": "markdown",
   "id": "51e380a4-253f-42c4-aa7a-47e3c29d472c",
   "metadata": {},
   "source": [
    "# Objectifs du module\n",
    "\n",
    "Nous avons vu qu'il est possible d'utiliser des modules en Python. Chaque module apporte un ensemble de fonctionnalités. Nous avons vu par exemple qu'il est possible de manipuler les dossiers au travers du module ```os``` ou encore de créer des journaux à l'aide du module ```logging```.\n",
    "\n",
    "Nous avons étudié et illustré la lecture et l'écriture de fichiers en nous intéressant notamment au format ```.csv```. \n",
    "\n",
    "Ce semestre, notre objectif est de pouvoir mettre en place une chaine de traitement pour la récupération, l’analyse et la visualisation de données. \n",
    "\n",
    "Aujourd’hui, nous allons donc nous intéresser à la collecte de données via le protocole HTTP (le web). En Web Dynamique 2, vous étudiez l’interaction avec une base de données. Dans ce module, nous allons nous intéresser à la collecte d’informations via le web, qu’il s’agisse de récupérer le contenu d’une page web, ou via l’utilisation d’une API ou d’un webservice pour récupérer des données au format JSON.\n",
    "\n",
    "Nous verrons au travers de deux exemples comment émettre une requête, récupérer son contenu et le stocker dans des dictionnaires pour pouvoir effectuer des traitements sur les données.\n",
    "\n",
    "<div class=\"alert alert-block alert-warning\">\n",
    "<b>⚠️:</b> Ce module nécessite que vous maitrisiez quelques notions de Web (Le protocole HTTP, URLS, paramètres GET/POST,...)\n",
    "</div>"
   ]
  },
  {
   "cell_type": "markdown",
   "id": "a4d5eb51-5752-4734-b7ac-f5f765ac5a4a",
   "metadata": {},
   "source": [
    "# Plan du module\n",
    "1) Le module ```Requests```, un module Python pour effectuer des requêtes HTTP \n",
    "2) Manipuler des données au format ```JSON```"
   ]
  },
  {
   "cell_type": "markdown",
   "id": "028fb594-8052-4cdf-b5c2-291e730eb755",
   "metadata": {},
   "source": [
    "# Intéragir avec le web à l'aide de ```requests```\n",
    "```Requests``` est un module qui offre un ensemble de fonctionnalités facilitant l'interaction avec des requêtes HTTP.\n",
    "\n",
    "La document est disponible à l'adresse suivante : [https://requests.readthedocs.io/en/latest/#](https://requests.readthedocs.io/en/latest/#)\n",
    "\n",
    "L'installation du module se fait à l'aide de la commande suivante :"
   ]
  },
  {
   "cell_type": "code",
   "execution_count": 1,
   "id": "5cd9c941-d177-4a21-a207-c1dad3b977d2",
   "metadata": {},
   "outputs": [
    {
     "name": "stdout",
     "output_type": "stream",
     "text": [
      "Requirement already satisfied: requests in c:\\programdata\\anaconda3\\lib\\site-packages (2.28.1)\n",
      "Requirement already satisfied: urllib3<1.27,>=1.21.1 in c:\\programdata\\anaconda3\\lib\\site-packages (from requests) (1.26.11)\n",
      "Requirement already satisfied: certifi>=2017.4.17 in c:\\programdata\\anaconda3\\lib\\site-packages (from requests) (2022.6.15)\n",
      "Requirement already satisfied: charset-normalizer<3,>=2 in c:\\programdata\\anaconda3\\lib\\site-packages (from requests) (2.0.4)\n",
      "Requirement already satisfied: idna<4,>=2.5 in c:\\programdata\\anaconda3\\lib\\site-packages (from requests) (3.3)\n",
      "Note: you may need to restart the kernel to use updated packages.\n"
     ]
    },
    {
     "name": "stderr",
     "output_type": "stream",
     "text": [
      "WARNING: Ignoring invalid distribution -rkupsafe (c:\\programdata\\anaconda3\\lib\\site-packages)\n",
      "WARNING: Ignoring invalid distribution -aitlets (c:\\programdata\\anaconda3\\lib\\site-packages)\n",
      "WARNING: Ignoring invalid distribution -raitlets (c:\\programdata\\anaconda3\\lib\\site-packages)\n",
      "WARNING: Ignoring invalid distribution - (c:\\programdata\\anaconda3\\lib\\site-packages)\n",
      "WARNING: Ignoring invalid distribution -arkupsafe (c:\\programdata\\anaconda3\\lib\\site-packages)\n",
      "WARNING: Ignoring invalid distribution -aitlets (c:\\programdata\\anaconda3\\lib\\site-packages)\n",
      "WARNING: Ignoring invalid distribution -rkupsafe (c:\\programdata\\anaconda3\\lib\\site-packages)\n",
      "WARNING: Ignoring invalid distribution -aitlets (c:\\programdata\\anaconda3\\lib\\site-packages)\n",
      "WARNING: Ignoring invalid distribution -raitlets (c:\\programdata\\anaconda3\\lib\\site-packages)\n",
      "WARNING: Ignoring invalid distribution - (c:\\programdata\\anaconda3\\lib\\site-packages)\n",
      "WARNING: Ignoring invalid distribution -arkupsafe (c:\\programdata\\anaconda3\\lib\\site-packages)\n",
      "WARNING: Ignoring invalid distribution -aitlets (c:\\programdata\\anaconda3\\lib\\site-packages)\n",
      "WARNING: Ignoring invalid distribution -rkupsafe (c:\\programdata\\anaconda3\\lib\\site-packages)\n",
      "WARNING: Ignoring invalid distribution -aitlets (c:\\programdata\\anaconda3\\lib\\site-packages)\n",
      "WARNING: Ignoring invalid distribution -raitlets (c:\\programdata\\anaconda3\\lib\\site-packages)\n",
      "WARNING: Ignoring invalid distribution - (c:\\programdata\\anaconda3\\lib\\site-packages)\n",
      "WARNING: Ignoring invalid distribution -arkupsafe (c:\\programdata\\anaconda3\\lib\\site-packages)\n",
      "WARNING: Ignoring invalid distribution -aitlets (c:\\programdata\\anaconda3\\lib\\site-packages)\n",
      "WARNING: Ignoring invalid distribution -rkupsafe (c:\\programdata\\anaconda3\\lib\\site-packages)\n",
      "WARNING: Ignoring invalid distribution -aitlets (c:\\programdata\\anaconda3\\lib\\site-packages)\n",
      "WARNING: Ignoring invalid distribution -raitlets (c:\\programdata\\anaconda3\\lib\\site-packages)\n",
      "WARNING: Ignoring invalid distribution - (c:\\programdata\\anaconda3\\lib\\site-packages)\n",
      "WARNING: Ignoring invalid distribution -arkupsafe (c:\\programdata\\anaconda3\\lib\\site-packages)\n",
      "WARNING: Ignoring invalid distribution -aitlets (c:\\programdata\\anaconda3\\lib\\site-packages)\n",
      "WARNING: Ignoring invalid distribution -rkupsafe (c:\\programdata\\anaconda3\\lib\\site-packages)\n",
      "WARNING: Ignoring invalid distribution -aitlets (c:\\programdata\\anaconda3\\lib\\site-packages)\n",
      "WARNING: Ignoring invalid distribution -raitlets (c:\\programdata\\anaconda3\\lib\\site-packages)\n",
      "WARNING: Ignoring invalid distribution - (c:\\programdata\\anaconda3\\lib\\site-packages)\n",
      "WARNING: Ignoring invalid distribution -arkupsafe (c:\\programdata\\anaconda3\\lib\\site-packages)\n",
      "WARNING: Ignoring invalid distribution -aitlets (c:\\programdata\\anaconda3\\lib\\site-packages)\n",
      "WARNING: Ignoring invalid distribution -rkupsafe (c:\\programdata\\anaconda3\\lib\\site-packages)\n",
      "WARNING: Ignoring invalid distribution -aitlets (c:\\programdata\\anaconda3\\lib\\site-packages)\n",
      "WARNING: Ignoring invalid distribution -raitlets (c:\\programdata\\anaconda3\\lib\\site-packages)\n",
      "WARNING: Ignoring invalid distribution - (c:\\programdata\\anaconda3\\lib\\site-packages)\n",
      "WARNING: Ignoring invalid distribution -arkupsafe (c:\\programdata\\anaconda3\\lib\\site-packages)\n",
      "WARNING: Ignoring invalid distribution -aitlets (c:\\programdata\\anaconda3\\lib\\site-packages)\n"
     ]
    }
   ],
   "source": [
    "pip install requests"
   ]
  },
  {
   "cell_type": "markdown",
   "id": "1bee67b4-3c09-480a-a45e-04a1f6998b0a",
   "metadata": {},
   "source": [
    "[https://requests.readthedocs.io/en/latest/user/install/#install](https://requests.readthedocs.io/en/latest/user/install/#install)\n",
    "\n",
    "Pour utiliser le module requests dans un script Python, il faut procéder à son importation:"
   ]
  },
  {
   "cell_type": "code",
   "execution_count": 2,
   "id": "9d60c711-c66d-4878-8579-89fb9d152ed6",
   "metadata": {},
   "outputs": [],
   "source": [
    "import requests"
   ]
  },
  {
   "cell_type": "markdown",
   "id": "49ce4a61-b265-498a-835c-3958bff5c7ea",
   "metadata": {},
   "source": [
    "```requests``` permet d'effectuer l'ensemble des requêtes HTTP: GET, PUT, DELETE, HEAD, et OPTION.\n",
    "\n",
    "Par exemple, je peux effectuer une requête GET pour récupérer le contenu d'une page Web. \n",
    "\n",
    "Par exemple, si l'on veut récupérer la page wikipedia du Wombat (https://fr.wikipedia.org/wiki/Wombat). \n",
    "\n",
    "Pour effectuer une requête GET, j'utilise la méthode ```requests.get(url)``` où ```url``` contient l'url vers la page que je veux récupérer."
   ]
  },
  {
   "cell_type": "code",
   "execution_count": 3,
   "id": "6dd24caf-70c1-4bc2-bde6-ab33d0ab3444",
   "metadata": {},
   "outputs": [],
   "source": [
    "r = requests.get(\"https://fr.wikipedia.org/wiki/Wombat\")"
   ]
  },
  {
   "cell_type": "markdown",
   "id": "3932f173-c1fc-45bd-beb1-b1925570b18f",
   "metadata": {},
   "source": [
    "La variable ```r``` va contenir les informations résultantes de l'exécution de ma requête. Si je souhaite récupérer son contenu, je peux accéder à la variable ```r.text```:\n",
    "\n",
    "<div class=\"alert alert-block alert-info\">\n",
    "<b>Attention:</b>  on pourrait afficher le contenu de r.text avec la méthode print. Mais comme il s'agit d'une page HTML (et qu'elle contient beaucoup de choses), l'affichage de notre string prendrai de la place! Pour simplifier, on va n'afficher que les 1000 premier caractères à l'aide de l'opérateur pour récupérer une sous string ```[:1000]```\n",
    "</div>"
   ]
  },
  {
   "cell_type": "code",
   "execution_count": 4,
   "id": "d2677792-72fd-4597-88b7-51ecb51fb5a7",
   "metadata": {
    "tags": []
   },
   "outputs": [
    {
     "name": "stdout",
     "output_type": "stream",
     "text": [
      "<!DOCTYPE html>\n",
      "<html class=\"client-nojs\" lang=\"fr\" dir=\"ltr\">\n",
      "<head>\n",
      "<meta charset=\"UTF-8\"/>\n",
      "<title>Wombat — Wikipédia</title>\n",
      "<script>document.documentElement.className=\"client-js\";RLCONF={\"wgBreakFrames\":false,\"wgSeparatorTransformTable\":[\",\\t.\",\" \\t,\"],\"wgDigitTransformTable\":[\"\",\"\"],\"wgDefaultDateFormat\":\"dmy\",\"wgMonthNames\":[\"\",\"janvier\",\"février\",\"mars\",\"avril\",\"mai\",\"juin\",\"juillet\",\"août\",\"septembre\",\"octobre\",\"novembre\",\"décembre\"],\"wgRequestId\":\"c5e6c85f-5fee-4d51-9326-ff164a3df421\",\"wgCSPNonce\":false,\"wgCanonicalNamespace\":\"\",\"wgCanonicalSpecialPageName\":false,\"wgNamespaceNumber\":0,\"wgPageName\":\"Wombat\",\"wgTitle\":\"Wombat\",\"wgCurRevisionId\":200495443,\"wgRevisionId\":200495443,\"wgArticleId\":218712,\"wgIsArticle\":true,\"wgIsRedirect\":false,\"wgAction\":\"view\",\"wgUserName\":null,\"wgUserGroups\":[\"*\"],\"wgCategories\":[\"Taxobox utilisant la classification selon ITIS\",\"Article avec taxobox-animal\",\"Article utilisant une Infobox\",\"Catégorie Commons avec lien local identique sur Wikidata\",\"\n"
     ]
    }
   ],
   "source": [
    "html = r.text\n",
    "print(html[:1000])"
   ]
  },
  {
   "cell_type": "markdown",
   "id": "00b0d483-7038-4ec2-b308-41afb66c832a",
   "metadata": {},
   "source": [
    "On a donc obtenu en retour une chaine de caractère qui contient le code source de la page. \n",
    "\n",
    "Cependant, la chaine de caractère est difficile à lire, et si l'on y cherche un élément spécifique il nous faudra regarder au préalable sa structure, et identifier l'élément que l'on recherche.\n",
    "\n",
    "Il existe des modules pour faciliter l'extraction de données à partir de fichiers HTML ou XML. Par exemple, BeautifulSoup : [https://www.crummy.com/software/BeautifulSoup/bs4/doc/](https://www.crummy.com/software/BeautifulSoup/bs4/doc/)"
   ]
  },
  {
   "cell_type": "markdown",
   "id": "4b67c96b-6e43-4756-9f5d-027079755922",
   "metadata": {},
   "source": [
    "Similairement on peut effectuer des requetes POST, PUT et DELETE:\n",
    "<div class=\"alert alert-block alert-info\">\n",
    "<b>Remarque:</b> POST et PUT nécessitent que l'on fournisse des données avec la requête (ce sont des requêtes POST). Cela se fait en passant un second paramètre ```data``` à la fonction.\n",
    "</div>"
   ]
  },
  {
   "cell_type": "code",
   "execution_count": 5,
   "id": "ef47e20d-0f18-4236-916d-a193cc7af6e6",
   "metadata": {},
   "outputs": [],
   "source": [
    "r = requests.post('https://httpbin.org/post', data={'key': 'value'})\n",
    "r = requests.put('https://httpbin.org/put', data={'key': 'value'})\n",
    "r = requests.delete('https://httpbin.org/delete')\n",
    "r = requests.head('https://httpbin.org/get')\n",
    "r = requests.options('https://httpbin.org/get')"
   ]
  },
  {
   "cell_type": "markdown",
   "id": "aa1c6acd-bbeb-4e19-b7e6-7c668c46d247",
   "metadata": {},
   "source": [
    "<div class=\"alert alert-block alert-info\">\n",
    "<b>Remarque:</b> https://httpbin.org/ est un site web qui met à disposition plusieurs routes pour tester des requêtes. Utile pour tester et débuger son application sans envoyer de vrai requêtes!\n",
    "</div>"
   ]
  },
  {
   "cell_type": "markdown",
   "id": "3e73058e-8162-4507-99b4-438502ef84aa",
   "metadata": {},
   "source": [
    "L'utilisation de requests ne se limite pas à récupérer du contenu HTML, mais on peut récupérer toute ressource accessible depuis le Web, ou effectuer des requêtes GET POST pour remplacer la saisie manuelle de formulaires!\n",
    "\n",
    "C'est particulièrement utile quand on travaille avec des dataset publiques ou que l'on veut interagir avec des API.\n",
    "\n",
    "## Exemple : Récupérer les sites internet des lieux d'art et d'exposition à Toulouse\n",
    "\n",
    "Par exemple, le site https://data.toulouse-metropole.fr/ nous propose une API pour télécharger des données publiques sur la ville de Toulouse sous différents formats.\n",
    "\n",
    "Le lien suivant nous permet d'accéder à un fichier .csv listant les lieux d'art et d'exposition à Toulouse: https://data.toulouse-metropole.fr/api/explore/v2.1/catalog/datasets/galeries-d-art-et-lieux-d-exposition/exports/csv?lang=fr&timezone=Europe%2FBerlin&use_labels=true&csv_separator=%3B\n",
    "\n",
    "Le fichier .csv contient plusieurs informations sur ces lieux. L'une d'elle, qui nous intéresse, est le site internet. On souhaiterait pouvoir récupérer la liste des sites internet des lieux d'art et d'exposition à Toulouse.\n",
    "\n",
    "### Etape 1 : On effectue une requête pour récupérer les données\n",
    "\n",
    "On peut donc utiliser requests pour récupérer le contenu de ce fichier, et ensuite manipuler ses données."
   ]
  },
  {
   "cell_type": "code",
   "execution_count": 6,
   "id": "a538882f-7d0b-4575-ab99-1b57f5939903",
   "metadata": {},
   "outputs": [
    {
     "name": "stdout",
     "output_type": "stream",
     "text": [
      "Geo Point;Geo Shape;nom_equipement;gestionnaire;telephone;numero;lib_off;id_secteur_postal;ville;secteur;quartier;site_web\n",
      "43.62686461027098, 1.4475430070223585;\"{\"\"coordinates\"\": [[1.447543007022358, 43.62686461027098]], \"\"type\"\": \"\"MultiPoint\"\"}\";BBB - CENTRE D'ART;Association;05 61 13 37 14;96;RUE MICHEL ANGE;31200;TOULOUSE;3;3.3;www.lebbb.org\n",
      "43.60832542550349, 1.444607529170136;\"{\"\"coordinates\"\": [[1.444607529170136, 43.60832542550349]], \"\"type\"\": \"\"MultiPoint\"\"}\";CENTRE CULTUREL BELLEGARDE;Mairie de Toulouse - DGA Culture;05 62 27 44 88;17;RUE BELLEGARDE;31000;TOULOUSE;1;1.1;www.toulouse.fr\n",
      "43.60448982058865, 1.4398861872862618;\"{\"\"coordinates\"\": [[1.439886187286262, 43.60448982058865]], \"\"type\"\": \"\"MultiPoint\"\"}\";ENSEMBLE CONVENTUEL DES JACOBINS;Mairie de Toulouse - DGA Culture;05 61 22 21 92;69;RUE PARGAMINIERES;31000;TOULOUSE;1;1.1;www.jacobins.mairie-toulouse.fr\n",
      "43.59828278794131, 1.4309154834000453;\"{\"\"coordinates\"\": [[1.430915483400045, 43.59828278794131]], \"\"type\"\": \"\"MultiPoint\"\"}\";ESPACE SAINT CYPRIEN - CHAPEAU ROUGE;Mairie de Toulouse - DGA Culture;05 61 22 27 77;56;ALL CHARLES DE FITTE;31300;TOULOUSE;2;2.1;www.cultures.toulouse.fr\n",
      "43.60383912614674, 1.443706012074208;\"{\"\"coordinates\"\": [[1.443706012074208, 43.60383912614674]], \"\"type\"\": \"\"MultiPoint\"\"}\";FONDATION ESPACE ECUREUIL POUR L'ART CONTEMPORAIN;Structure commerciale;05 62 30 23 30;3;PL DU CAPITOLE;31000;TOULOUSE;1;1.1;www.caisseepargne-art-contemporain.fr\n",
      "43.574870208885514, 1.4639464323059583;\"{\"\"coordinates\"\": [[1.463946432305958, 43.574870208885514]], \"\"type\"\": \"\"MultiPoint\"\"}\";MAISON DE QUARTIER RANGUEIL;Mairie de Toulouse - DGA Culture;05 61 25 49 26;19;RUE CLAUDE DE FORBIN;31400;TOULOUSE;5;5.2;www.cultures.toulouse.fr\n",
      "43.57945908152348, 1.4118334444956246;\"{\"\"coordinates\"\": [[1.411833444495625, 43.57945908152348]], \"\"type\"\": \"\"MultiPoint\"\"}\";CENTRE CULTUREL HENRI DESBALS;Mairie de Toulouse - DGA Culture;05 34 46 83 25;128;RUE HENRI DESBALS;31100;TOULOUSE;2;2.3;www.toulouse.fr\n",
      "43.565320343382325, 1.4790430260526422;\"{\"\"coordinates\"\": [[1.479043026052642, 43.565320343382325]], \"\"type\"\": \"\"MultiPoint\"\"}\";CENTRE CULTUREL LEONARD DE VINCI DE L'ENAC - THEATRE DE POCHE;Association;05 62 17 45 00;7;AV EDOUARD BELIN;31400;TOULOUSE;5;5.2;www.culture-enac.com\n",
      "43.56167305551263, 1.378994128328354;\"{\"\"coordinates\"\": [[1.378994128328354, 43.56167305551263]], \"\"type\"\": \"\"MultiPoint\"\"}\";CENTRE D'ANIMATION SAINT SIMON;Mairie de Toulouse - DGA Culture;05 31 22 96 81;10;CHE DE LIFFARD;31100;TOULOUSE;6;6.4;www.toulouse.fr\n",
      "43.60331334023683, 1.4447724099759627;\"{\"\"coordinates\"\": [[1.444772409975963, 43.60331334023683]], \"\"type\"\": \"\"MultiPoint\"\"}\";CMAV - CENTRE MERIDIONAL DE L'ARCHITECTURE DE LA VILLE;Association;05 61 23 30 49;5;RUE SAINT PANTALEON;31000;TOULOUSE;1;1.1;www.cmaville.org\n",
      "43.599544145651286, 1.4449799203257347;\"{\"\"coordinates\"\": [[1.444979920325735, 43.599544145651286]], \"\"type\"\": \"\"MultiPoint\"\"}\";GALERIE DAUDET;Structure commerciale;05 34 31 74 84;10;RUE DE LA TRINITE;31000;TOULOUSE;1;1.1;http://www.galerie-art-alain-daudet.com\n",
      "43.59911474290495, 1.4365055585019906;\"{\"\"coordinates\"\": [[1.436505558501991, 43.59911474290495]], \"\"type\"\": \"\"MultiPoint\"\"}\";HOTEL DIEU;Mairie de Toulouse - Autre Direction;05 61 77 83 41;2;RUE VIGUERIE;31300;TOULOUSE;2;2.1;www.chu-toulouse.fr\n",
      "43.613115478981214, 1.4413259685472881;\"{\"\"coordinates\"\": [[1.441325968547288, 43.613115478981214]], \"\"type\"\": \"\"MultiPoint\"\"}\";INSTITUTO CERVANTES;Association;05 61 62 80 72;31;RUE DES CHALETS;31000;TOULOUSE;1;1.3;www.toulouse.cervantes.es/fr\n",
      "43.57770544549503, 1.4041272610723938;\"{\"\"coordinates\"\": [[1.404127261072394, 43.57770544549503]], \"\"type\"\": \"\"MultiPoint\"\"}\";LA FABRIQUE;Association;05 61 50 43 98;5;ALL ANTONIO MACHADO;31100;TOULOUSE;6;6.3;www.ciam-univ-toulouse2.fr\n",
      "43.564536828030846, 1.3990734687949806;\"{\"\"coordinates\"\": [[1.399073468794981, 43.564536828030846]], \"\"type\"\": \"\"MultiPoint\"\"}\";CENTRE CULTUREL ALBAN MINVILLE;Mairie de Toulouse - DGA Culture;05 61 43 60 20;1;PL MARTIN LUTHER KING;31100;TOULOUSE;6;6.3;www.albanminville.toulouse.fr\n",
      "43.6482273897219, 1.4328911851171073;\"{\"\"coordinates\"\": [[1.432891185117107, 43.6482273897219]], \"\"type\"\": \"\"MultiPoint\"\"}\";CENTRE D'ANIMATION LALANDE;Mairie de Toulouse - DGA Culture;05 61 47 37 55;239;AV DE FRONTON;31200;TOULOUSE;3;3.2;www.toulouse.fr\n",
      "43.6031733611625, 1.4531255525854871;\"{\"\"coordinates\"\": [[1.453125552585487, 43.6031733611625]], \"\"type\"\": \"\"MultiPoint\"\"}\";ESPACE DES DIVERSITES ET DE LA LAICITE;Mairie de Toulouse - Autre Direction;05 81 91 79 60;38;RUE D AUBUISSON;31000;TOULOUSE;1;1.3;http://www.toulouse.fr/web/social/espace-des-diversites-et-de-la-laicite\n",
      "43.59326673955577, 1.4347726326707118;\"{\"\"coordinates\"\": [[1.434772632670712, 43.59326673955577]], \"\"type\"\": \"\"MultiPoint\"\"}\";GALERIE DU CHÂTEAU D'EAU;Association;05 61 77 09 40;1;RUE LAGANNE;31300;TOULOUSE;2;2.1;www.galeriechateaudeau.org\n",
      "43.59931284530559, 1.4358439508159624;\"{\"\"coordinates\"\": [[1.435843950815962, 43.59931284530559]], \"\"type\"\": \"\"MultiPoint\"\"}\";GALERIE PASSAGE A L'ART;Association;06 64 21 26 80;5;GRANDE-RUE SAINT NICOLAS;31300;TOULOUSE;2;2.1;www.passagealart.com\n",
      "43.59968070820493, 1.449113833617778;\"{\"\"coordinates\"\": [[1.449113833617778, 43.59968070820493]], \"\"type\"\": \"\"MultiPoint\"\"}\";GALERIE PINXIT;Structure commerciale;05 61 39 17 14;2;PL SAINT ETIENNE;31000;TOULOUSE;1;1.1;galeriepinxit@orange.fr\n",
      "43.60062579710514, 1.4397371866308595;\"{\"\"coordinates\"\": [[1.439737186630859, 43.60062579710514]], \"\"type\"\": \"\"MultiPoint\"\"}\";INSTITUT SUPERIEUR DES ARTS DE TOULOUSE - ISDAT;Structure mixte;05 31 47 12 11;5;QU DE LA DAURADE;31000;TOULOUSE;1;1.1;www.esna-toulouse.org\n",
      "43.600357895512616, 1.4425683958425597;\"{\"\"coordinates\"\": [[1.44256839584256, 43.600357895512616]], \"\"type\"\": \"\"MultiPoint\"\"}\";LA MEDIATHEQUE ASSOCIATIVE - MUSICOPHAGES;Association;05 61 21 71 50;6;RUE DE LA BOURSE;31000;TOULOUSE;1;1.1;www.musicophages.org\n",
      "43.61026207749336, 1.4554361883544236;\"{\"\"coordinates\"\": [[1.455436188354424, 43.61026207749336]], \"\"type\"\": \"\"MultiPoint\"\"}\";MEDIATHEQUE JOSE CABANIS;Mairie de Toulouse - DGA Culture;05 62 27 40 00;1;ALL JACQUES CHABAN DELMAS;31500;TOULOUSE;4;4.2;www.bibliotheque.toulouse.fr\n",
      "43.603378647527684, 1.4422683332457396;\"{\"\"coordinates\"\": [[1.44226833324574, 43.603378647527684]], \"\"type\"\": \"\"MultiPoint\"\"}\";OMBRES BLANCHES;Structure commerciale;05 34 45 53 33;50;RUE LEON GAMBETTA;31000;TOULOUSE;1;1.1;www.ombres-blanches.fr\n",
      "43.570422847313374, 1.4028565308259797;\"{\"\"coordinates\"\": [[1.40285653082598, 43.570422847313374]], \"\"type\"\": \"\"MultiPoint\"\"}\";ATELIER B;Mairie de Toulouse - DGA Culture;05 61 41 56 80;3;PL ANDRE ABBAL;31100;TOULOUSE;6;6.3;\n",
      "43.61138670431087, 1.4500057943858333;\"{\"\"coordinates\"\": [[1.450005794385833, 43.61138670431087]], \"\"type\"\": \"\"MultiPoint\"\"}\";BAM GALLERY;Structure commerciale;05 61 48 76 08;52;RUE RAYMOND IV;31000;TOULOUSE;1;1.3;http://www.bam-gallery.com/\n",
      "43.62399026034344, 1.4386564666671822;\"{\"\"coordinates\"\": [[1.438656466667182, 43.62399026034344]], \"\"type\"\": \"\"MultiPoint\"\"}\";CENTRE CULTUREL - THEATRE DES MAZADES;Mairie de Toulouse - DGA Culture;05 31 22 98 00;10;AV DES MAZADES;31200;TOULOUSE;3;3.1;www.toulouse.fr\n",
      "43.6200175492092, 1.4351273861094815;\"{\"\"coordinates\"\": [[1.435127386109482, 43.6200175492092]], \"\"type\"\": \"\"MultiPoint\"\"}\";CENTRE CULTUREL DES MINIMES;Association;05 61 22 51 77;6;RUE DU CAILLOU GRIS;31200;TOULOUSE;3;3.1;www.centrecultureldesminimes.fr\n",
      "43.61424414975031, 1.474651897622262;\"{\"\"coordinates\"\": [[1.474651897622262, 43.61424414975031]], \"\"type\"\": \"\"MultiPoint\"\"}\";CENTRE D'ANIMATION SOUPETARD;Mairie de Toulouse - DGA Culture;05 31 22 99 70;63;CHE DE HEREDIA;31500;TOULOUSE;4;4.2;www.toulouse.fr\n",
      "43.60205199759583, 1.4393538711341562;\"{\"\"coordinates\"\": [[1.439353871134156, 43.60205199759583]], \"\"type\"\": \"\"MultiPoint\"\"}\";COMMUNAUTE MUNICIPALE DE SANTE;Mairie de Toulouse - Autre Direction;05 61 22 21 80;2;RUE MALBEC;31000;TOULOUSE;1;1.1;www.cultures.tououse.fr\n",
      "43.604551617915085, 1.4324763342540432;\"{\"\"coordinates\"\": [[1.432476334254043, 43.604551617915085]], \"\"type\"\": \"\"MultiPoint\"\"}\";ESPACE BAZACLE;Structure commerciale;05 62 30 16 00;11;QU SAINT PIERRE;31000;TOULOUSE;1;1.2;www.bazacle.edf.com\n",
      "43.59616432164077, 1.4273901705007102;\"{\"\"coordinates\"\": [[1.42739017050071, 43.59616432164077]], \"\"type\"\": \"\"MultiPoint\"\"}\";ESPACE ROGUET - MJC ROGUET;Autre institution publique;05 62 86 01 67;9;RUE DE GASCOGNE;31300;TOULOUSE;2;2.1;www.haute-garonne.fr\n",
      "43.60533363025542, 1.4477313514021115;\"{\"\"coordinates\"\": [[1.447731351402112, 43.60533363025542]], \"\"type\"\": \"\"MultiPoint\"\"}\";ESPACE W31 - AGENCE CREDIT AGRICOLE JEAN JAURES;Structure commerciale;05 61 50 05 50;1;ALL DU PRESIDENT ROOSEVELT;31000;TOULOUSE;1;1.1;www.espacew31.fr\n",
      "43.5986796263151, 1.4489782313246113;\"{\"\"coordinates\"\": [[1.448978231324611, 43.5986796263151]], \"\"type\"\": \"\"MultiPoint\"\"}\";GALERIE FABRICE GALVANI;Structure commerciale;05 62 17 24 92;2;RUE PIERRE DE FERMAT;31000;TOULOUSE;1;1.1;http://www.galeriefabricegalvani.com\n",
      "43.60866268665053, 1.4475971271002717;\"{\"\"coordinates\"\": [[1.447597127100272, 43.60866268665053]], \"\"type\"\": \"\"MultiPoint\"\"}\";GALERIE KANDLER;Structure commerciale;05 61 63 85 11;14;RUE DE BAYARD;31000;TOULOUSE;1;1.3;www.galeriekandler.com\n",
      "43.596236705393636, 1.4473928635163509;\"{\"\"coordinates\"\": [[1.447392863516351, 43.596236705393636]], \"\"type\"\": \"\"MultiPoint\"\"}\";GALERIE SOURILLAN;Structure commerciale;05 61 32 17 17;19;RUE THEODORE OZENNE;31000;TOULOUSE;1;1.1;www.galeriesourillan.com\n",
      "43.600699547098415, 1.4432038330853345;\"{\"\"coordinates\"\": [[1.443203833085335, 43.600699547098415]], \"\"type\"\": \"\"MultiPoint\"\"}\";MAISON DE L'OCCITANIE;Association;05 61 22 13 31;11;RUE MALCOUSINAT;31000;TOULOUSE;1;1.1;www.ostaldoccitania.net\n",
      "43.570422847313374, 1.4028565308259797;\"{\"\"coordinates\"\": [[1.40285653082598, 43.570422847313374]], \"\"type\"\": \"\"MultiPoint\"\"}\";CENTRE D'ANIMATION REYNERIE;Mairie de Toulouse - DGA Culture;05 61 41 56 80;3;PL ANDRE ABBAL;31100;TOULOUSE;6;6.3;www.toulouse.fr\n",
      "43.61139548276987, 1.4466355547044323;\"{\"\"coordinates\"\": [[1.446635554704432, 43.61139548276987]], \"\"type\"\": \"\"MultiPoint\"\"}\";CICC - SAMBA RESILLE;Association;05 34 41 62 16;38;RUE ROQUELAINE;31000;TOULOUSE;1;1.3;www.samba-resille.org\n",
      "43.61631388862685, 1.4535854924000524;\"{\"\"coordinates\"\": [[1.453585492400052, 43.61631388862685]], \"\"type\"\": \"\"MultiPoint\"\"}\";ESPACE BONNEFOY;Mairie de Toulouse - DGA Culture;05 67 73 83 60;4;RUE DU FAUBOURG BONNEFOY;31500;TOULOUSE;4;4.1;www.toulouse.fr\n",
      "43.599818569805116, 1.4479830740539856;\"{\"\"coordinates\"\": [[1.447983074053986, 43.599818569805116]], \"\"type\"\": \"\"MultiPoint\"\"}\";ESPACE CROIX BARAGNON;Mairie de Toulouse - DGA Culture;05 62 27 60 60;24;RUE CROIX BARAGNON;31000;TOULOUSE;1;1.1;www.cultures.toulouse.fr\n",
      "43.60087752008602, 1.4423817111578405;\"{\"\"coordinates\"\": [[1.442381711157841, 43.60087752008602]], \"\"type\"\": \"\"MultiPoint\"\"}\";GALERIE EXPRMNTL;Structure commerciale;05 62 27 26 92;18;RUE DE LA BOURSE;31000;TOULOUSE;1;1.1;www.exprmntl.fr\n",
      "43.610149608571476, 1.4443628115698741;\"{\"\"coordinates\"\": [[1.444362811569874, 43.610149608571476]], \"\"type\"\": \"\"MultiPoint\"\"}\";GALERIE INGRES - CRDP;Association;05 61 99 48 48;68;BD DE STRASBOURG;31000;TOULOUSE;1;1.3;http://www.cndp.fr/crdp-toulouse/spip.php?rubrique2727#top\n",
      "43.616906270724506, 1.4561477819358317;\"{\"\"coordinates\"\": [[1.456147781935832, 43.616906270724506]], \"\"type\"\": \"\"MultiPoint\"\"}\";LIEU COMMUN / PLAN 9;Association;05 61 23 80 57;25;RUE D ARMAGNAC;31500;TOULOUSE;4;4.1;www.lieu-commun.fr\n",
      "43.57879671469887, 1.4465484274942493;\"{\"\"coordinates\"\": [[1.446548427494249, 43.57879671469887]], \"\"type\"\": \"\"MultiPoint\"\"}\";MAISON DES ASSOCIATIONS NIEL;Mairie de Toulouse - Autre Direction;05 62 26 81 00;81;RUE SAINT ROCH;31400;TOULOUSE;5;5.3;www.toulouse.fr\n",
      "\n"
     ]
    }
   ],
   "source": [
    "r = requests.get(\"https://data.toulouse-metropole.fr/api/explore/v2.1/catalog/datasets/galeries-d-art-et-lieux-d-exposition/exports/csv?lang=fr&timezone=Europe%2FBerlin&use_labels=true&csv_separator=%3B\")\n",
    "csv = r.text # On stoque le résultat de la requête dans la variable csv\n",
    "print(csv)   # On affiche le contenu de la variable csv"
   ]
  },
  {
   "cell_type": "markdown",
   "id": "87f06f6a-865f-4e4f-8589-5539c50da005",
   "metadata": {},
   "source": [
    "Notre fichier .csv a la forme d'une chaine de caractère. Il est composé de plusieurs lignes, chaque ligne se terminant par un caractère spécial ```\\n```, le caractère de fin de ligne.\n",
    "\n",
    "Le fichier contient une entête, c'est à dire un titre pour chacune des colonnes:  \n",
    "Geo Point;Geo Shape;nom_equipement;gestionnaire;telephone;numero;lib_off;id_secteur_postal;ville;secteur;quartier;site_web\n",
    "\n",
    "Ainsi, la colonne 1 contient une donnée nommée \"Geo Point\", alors que la colonne 12 contient une donnée \"site_web\".\n",
    "\n",
    "Dans chaque ligne, les données sont séparées par un point-virgule ```;```.\n",
    "\n",
    "### Etape 2 : On découpe notre chaine de caractère pour récupérer uniquement les sites internet\n",
    "\n",
    "Si je veux récupérer les données de cette chaine (par exemple les sites web), je peux utiliser la méthode ```.split(car)``` des chaines de caractère où ```car``` est le caractère qui va servir à découper la string. Par exemple, ```.split(\" \")``` permet de découper la chaîne à chaque espace.\n",
    "\n",
    "Je dois d'abord découper ma chaîne de caractère pour récupérer chaque ligne en séparant par rapport au caractère de saut de ligne ```\\n```."
   ]
  },
  {
   "cell_type": "code",
   "execution_count": 7,
   "id": "606ce4e9-85ca-490b-8c69-18411ca14864",
   "metadata": {},
   "outputs": [
    {
     "name": "stdout",
     "output_type": "stream",
     "text": [
      "['Geo Point;Geo Shape;nom_equipement;gestionnaire;telephone;numero;lib_off;id_secteur_postal;ville;secteur;quartier;site_web\\r', '43.62686461027098, 1.4475430070223585;\"{\"\"coordinates\"\": [[1.447543007022358, 43.62686461027098]], \"\"type\"\": \"\"MultiPoint\"\"}\";BBB - CENTRE D\\'ART;Association;05 61 13 37 14;96;RUE MICHEL ANGE;31200;TOULOUSE;3;3.3;www.lebbb.org\\r', '43.60832542550349, 1.444607529170136;\"{\"\"coordinates\"\": [[1.444607529170136, 43.60832542550349]], \"\"type\"\": \"\"MultiPoint\"\"}\";CENTRE CULTUREL BELLEGARDE;Mairie de Toulouse - DGA Culture;05 62 27 44 88;17;RUE BELLEGARDE;31000;TOULOUSE;1;1.1;www.toulouse.fr\\r', '43.60448982058865, 1.4398861872862618;\"{\"\"coordinates\"\": [[1.439886187286262, 43.60448982058865]], \"\"type\"\": \"\"MultiPoint\"\"}\";ENSEMBLE CONVENTUEL DES JACOBINS;Mairie de Toulouse - DGA Culture;05 61 22 21 92;69;RUE PARGAMINIERES;31000;TOULOUSE;1;1.1;www.jacobins.mairie-toulouse.fr\\r', '43.59828278794131, 1.4309154834000453;\"{\"\"coordinates\"\": [[1.430915483400045, 43.59828278794131]], \"\"type\"\": \"\"MultiPoint\"\"}\";ESPACE SAINT CYPRIEN - CHAPEAU ROUGE;Mairie de Toulouse - DGA Culture;05 61 22 27 77;56;ALL CHARLES DE FITTE;31300;TOULOUSE;2;2.1;www.cultures.toulouse.fr\\r', '43.60383912614674, 1.443706012074208;\"{\"\"coordinates\"\": [[1.443706012074208, 43.60383912614674]], \"\"type\"\": \"\"MultiPoint\"\"}\";FONDATION ESPACE ECUREUIL POUR L\\'ART CONTEMPORAIN;Structure commerciale;05 62 30 23 30;3;PL DU CAPITOLE;31000;TOULOUSE;1;1.1;www.caisseepargne-art-contemporain.fr\\r', '43.574870208885514, 1.4639464323059583;\"{\"\"coordinates\"\": [[1.463946432305958, 43.574870208885514]], \"\"type\"\": \"\"MultiPoint\"\"}\";MAISON DE QUARTIER RANGUEIL;Mairie de Toulouse - DGA Culture;05 61 25 49 26;19;RUE CLAUDE DE FORBIN;31400;TOULOUSE;5;5.2;www.cultures.toulouse.fr\\r', '43.57945908152348, 1.4118334444956246;\"{\"\"coordinates\"\": [[1.411833444495625, 43.57945908152348]], \"\"type\"\": \"\"MultiPoint\"\"}\";CENTRE CULTUREL HENRI DESBALS;Mairie de Toulouse - DGA Culture;05 34 46 83 25;128;RUE HENRI DESBALS;31100;TOULOUSE;2;2.3;www.toulouse.fr\\r', '43.565320343382325, 1.4790430260526422;\"{\"\"coordinates\"\": [[1.479043026052642, 43.565320343382325]], \"\"type\"\": \"\"MultiPoint\"\"}\";CENTRE CULTUREL LEONARD DE VINCI DE L\\'ENAC - THEATRE DE POCHE;Association;05 62 17 45 00;7;AV EDOUARD BELIN;31400;TOULOUSE;5;5.2;www.culture-enac.com\\r', '43.56167305551263, 1.378994128328354;\"{\"\"coordinates\"\": [[1.378994128328354, 43.56167305551263]], \"\"type\"\": \"\"MultiPoint\"\"}\";CENTRE D\\'ANIMATION SAINT SIMON;Mairie de Toulouse - DGA Culture;05 31 22 96 81;10;CHE DE LIFFARD;31100;TOULOUSE;6;6.4;www.toulouse.fr\\r', '43.60331334023683, 1.4447724099759627;\"{\"\"coordinates\"\": [[1.444772409975963, 43.60331334023683]], \"\"type\"\": \"\"MultiPoint\"\"}\";CMAV - CENTRE MERIDIONAL DE L\\'ARCHITECTURE DE LA VILLE;Association;05 61 23 30 49;5;RUE SAINT PANTALEON;31000;TOULOUSE;1;1.1;www.cmaville.org\\r', '43.599544145651286, 1.4449799203257347;\"{\"\"coordinates\"\": [[1.444979920325735, 43.599544145651286]], \"\"type\"\": \"\"MultiPoint\"\"}\";GALERIE DAUDET;Structure commerciale;05 34 31 74 84;10;RUE DE LA TRINITE;31000;TOULOUSE;1;1.1;http://www.galerie-art-alain-daudet.com\\r', '43.59911474290495, 1.4365055585019906;\"{\"\"coordinates\"\": [[1.436505558501991, 43.59911474290495]], \"\"type\"\": \"\"MultiPoint\"\"}\";HOTEL DIEU;Mairie de Toulouse - Autre Direction;05 61 77 83 41;2;RUE VIGUERIE;31300;TOULOUSE;2;2.1;www.chu-toulouse.fr\\r', '43.613115478981214, 1.4413259685472881;\"{\"\"coordinates\"\": [[1.441325968547288, 43.613115478981214]], \"\"type\"\": \"\"MultiPoint\"\"}\";INSTITUTO CERVANTES;Association;05 61 62 80 72;31;RUE DES CHALETS;31000;TOULOUSE;1;1.3;www.toulouse.cervantes.es/fr\\r', '43.57770544549503, 1.4041272610723938;\"{\"\"coordinates\"\": [[1.404127261072394, 43.57770544549503]], \"\"type\"\": \"\"MultiPoint\"\"}\";LA FABRIQUE;Association;05 61 50 43 98;5;ALL ANTONIO MACHADO;31100;TOULOUSE;6;6.3;www.ciam-univ-toulouse2.fr\\r', '43.564536828030846, 1.3990734687949806;\"{\"\"coordinates\"\": [[1.399073468794981, 43.564536828030846]], \"\"type\"\": \"\"MultiPoint\"\"}\";CENTRE CULTUREL ALBAN MINVILLE;Mairie de Toulouse - DGA Culture;05 61 43 60 20;1;PL MARTIN LUTHER KING;31100;TOULOUSE;6;6.3;www.albanminville.toulouse.fr\\r', '43.6482273897219, 1.4328911851171073;\"{\"\"coordinates\"\": [[1.432891185117107, 43.6482273897219]], \"\"type\"\": \"\"MultiPoint\"\"}\";CENTRE D\\'ANIMATION LALANDE;Mairie de Toulouse - DGA Culture;05 61 47 37 55;239;AV DE FRONTON;31200;TOULOUSE;3;3.2;www.toulouse.fr\\r', '43.6031733611625, 1.4531255525854871;\"{\"\"coordinates\"\": [[1.453125552585487, 43.6031733611625]], \"\"type\"\": \"\"MultiPoint\"\"}\";ESPACE DES DIVERSITES ET DE LA LAICITE;Mairie de Toulouse - Autre Direction;05 81 91 79 60;38;RUE D AUBUISSON;31000;TOULOUSE;1;1.3;http://www.toulouse.fr/web/social/espace-des-diversites-et-de-la-laicite\\r', '43.59326673955577, 1.4347726326707118;\"{\"\"coordinates\"\": [[1.434772632670712, 43.59326673955577]], \"\"type\"\": \"\"MultiPoint\"\"}\";GALERIE DU CHÂTEAU D\\'EAU;Association;05 61 77 09 40;1;RUE LAGANNE;31300;TOULOUSE;2;2.1;www.galeriechateaudeau.org\\r', '43.59931284530559, 1.4358439508159624;\"{\"\"coordinates\"\": [[1.435843950815962, 43.59931284530559]], \"\"type\"\": \"\"MultiPoint\"\"}\";GALERIE PASSAGE A L\\'ART;Association;06 64 21 26 80;5;GRANDE-RUE SAINT NICOLAS;31300;TOULOUSE;2;2.1;www.passagealart.com\\r', '43.59968070820493, 1.449113833617778;\"{\"\"coordinates\"\": [[1.449113833617778, 43.59968070820493]], \"\"type\"\": \"\"MultiPoint\"\"}\";GALERIE PINXIT;Structure commerciale;05 61 39 17 14;2;PL SAINT ETIENNE;31000;TOULOUSE;1;1.1;galeriepinxit@orange.fr\\r', '43.60062579710514, 1.4397371866308595;\"{\"\"coordinates\"\": [[1.439737186630859, 43.60062579710514]], \"\"type\"\": \"\"MultiPoint\"\"}\";INSTITUT SUPERIEUR DES ARTS DE TOULOUSE - ISDAT;Structure mixte;05 31 47 12 11;5;QU DE LA DAURADE;31000;TOULOUSE;1;1.1;www.esna-toulouse.org\\r', '43.600357895512616, 1.4425683958425597;\"{\"\"coordinates\"\": [[1.44256839584256, 43.600357895512616]], \"\"type\"\": \"\"MultiPoint\"\"}\";LA MEDIATHEQUE ASSOCIATIVE - MUSICOPHAGES;Association;05 61 21 71 50;6;RUE DE LA BOURSE;31000;TOULOUSE;1;1.1;www.musicophages.org\\r', '43.61026207749336, 1.4554361883544236;\"{\"\"coordinates\"\": [[1.455436188354424, 43.61026207749336]], \"\"type\"\": \"\"MultiPoint\"\"}\";MEDIATHEQUE JOSE CABANIS;Mairie de Toulouse - DGA Culture;05 62 27 40 00;1;ALL JACQUES CHABAN DELMAS;31500;TOULOUSE;4;4.2;www.bibliotheque.toulouse.fr\\r', '43.603378647527684, 1.4422683332457396;\"{\"\"coordinates\"\": [[1.44226833324574, 43.603378647527684]], \"\"type\"\": \"\"MultiPoint\"\"}\";OMBRES BLANCHES;Structure commerciale;05 34 45 53 33;50;RUE LEON GAMBETTA;31000;TOULOUSE;1;1.1;www.ombres-blanches.fr\\r', '43.570422847313374, 1.4028565308259797;\"{\"\"coordinates\"\": [[1.40285653082598, 43.570422847313374]], \"\"type\"\": \"\"MultiPoint\"\"}\";ATELIER B;Mairie de Toulouse - DGA Culture;05 61 41 56 80;3;PL ANDRE ABBAL;31100;TOULOUSE;6;6.3;\\r', '43.61138670431087, 1.4500057943858333;\"{\"\"coordinates\"\": [[1.450005794385833, 43.61138670431087]], \"\"type\"\": \"\"MultiPoint\"\"}\";BAM GALLERY;Structure commerciale;05 61 48 76 08;52;RUE RAYMOND IV;31000;TOULOUSE;1;1.3;http://www.bam-gallery.com/\\r', '43.62399026034344, 1.4386564666671822;\"{\"\"coordinates\"\": [[1.438656466667182, 43.62399026034344]], \"\"type\"\": \"\"MultiPoint\"\"}\";CENTRE CULTUREL - THEATRE DES MAZADES;Mairie de Toulouse - DGA Culture;05 31 22 98 00;10;AV DES MAZADES;31200;TOULOUSE;3;3.1;www.toulouse.fr\\r', '43.6200175492092, 1.4351273861094815;\"{\"\"coordinates\"\": [[1.435127386109482, 43.6200175492092]], \"\"type\"\": \"\"MultiPoint\"\"}\";CENTRE CULTUREL DES MINIMES;Association;05 61 22 51 77;6;RUE DU CAILLOU GRIS;31200;TOULOUSE;3;3.1;www.centrecultureldesminimes.fr\\r', '43.61424414975031, 1.474651897622262;\"{\"\"coordinates\"\": [[1.474651897622262, 43.61424414975031]], \"\"type\"\": \"\"MultiPoint\"\"}\";CENTRE D\\'ANIMATION SOUPETARD;Mairie de Toulouse - DGA Culture;05 31 22 99 70;63;CHE DE HEREDIA;31500;TOULOUSE;4;4.2;www.toulouse.fr\\r', '43.60205199759583, 1.4393538711341562;\"{\"\"coordinates\"\": [[1.439353871134156, 43.60205199759583]], \"\"type\"\": \"\"MultiPoint\"\"}\";COMMUNAUTE MUNICIPALE DE SANTE;Mairie de Toulouse - Autre Direction;05 61 22 21 80;2;RUE MALBEC;31000;TOULOUSE;1;1.1;www.cultures.tououse.fr\\r', '43.604551617915085, 1.4324763342540432;\"{\"\"coordinates\"\": [[1.432476334254043, 43.604551617915085]], \"\"type\"\": \"\"MultiPoint\"\"}\";ESPACE BAZACLE;Structure commerciale;05 62 30 16 00;11;QU SAINT PIERRE;31000;TOULOUSE;1;1.2;www.bazacle.edf.com\\r', '43.59616432164077, 1.4273901705007102;\"{\"\"coordinates\"\": [[1.42739017050071, 43.59616432164077]], \"\"type\"\": \"\"MultiPoint\"\"}\";ESPACE ROGUET - MJC ROGUET;Autre institution publique;05 62 86 01 67;9;RUE DE GASCOGNE;31300;TOULOUSE;2;2.1;www.haute-garonne.fr\\r', '43.60533363025542, 1.4477313514021115;\"{\"\"coordinates\"\": [[1.447731351402112, 43.60533363025542]], \"\"type\"\": \"\"MultiPoint\"\"}\";ESPACE W31 - AGENCE CREDIT AGRICOLE JEAN JAURES;Structure commerciale;05 61 50 05 50;1;ALL DU PRESIDENT ROOSEVELT;31000;TOULOUSE;1;1.1;www.espacew31.fr\\r', '43.5986796263151, 1.4489782313246113;\"{\"\"coordinates\"\": [[1.448978231324611, 43.5986796263151]], \"\"type\"\": \"\"MultiPoint\"\"}\";GALERIE FABRICE GALVANI;Structure commerciale;05 62 17 24 92;2;RUE PIERRE DE FERMAT;31000;TOULOUSE;1;1.1;http://www.galeriefabricegalvani.com\\r', '43.60866268665053, 1.4475971271002717;\"{\"\"coordinates\"\": [[1.447597127100272, 43.60866268665053]], \"\"type\"\": \"\"MultiPoint\"\"}\";GALERIE KANDLER;Structure commerciale;05 61 63 85 11;14;RUE DE BAYARD;31000;TOULOUSE;1;1.3;www.galeriekandler.com\\r', '43.596236705393636, 1.4473928635163509;\"{\"\"coordinates\"\": [[1.447392863516351, 43.596236705393636]], \"\"type\"\": \"\"MultiPoint\"\"}\";GALERIE SOURILLAN;Structure commerciale;05 61 32 17 17;19;RUE THEODORE OZENNE;31000;TOULOUSE;1;1.1;www.galeriesourillan.com\\r', '43.600699547098415, 1.4432038330853345;\"{\"\"coordinates\"\": [[1.443203833085335, 43.600699547098415]], \"\"type\"\": \"\"MultiPoint\"\"}\";MAISON DE L\\'OCCITANIE;Association;05 61 22 13 31;11;RUE MALCOUSINAT;31000;TOULOUSE;1;1.1;www.ostaldoccitania.net\\r', '43.570422847313374, 1.4028565308259797;\"{\"\"coordinates\"\": [[1.40285653082598, 43.570422847313374]], \"\"type\"\": \"\"MultiPoint\"\"}\";CENTRE D\\'ANIMATION REYNERIE;Mairie de Toulouse - DGA Culture;05 61 41 56 80;3;PL ANDRE ABBAL;31100;TOULOUSE;6;6.3;www.toulouse.fr\\r', '43.61139548276987, 1.4466355547044323;\"{\"\"coordinates\"\": [[1.446635554704432, 43.61139548276987]], \"\"type\"\": \"\"MultiPoint\"\"}\";CICC - SAMBA RESILLE;Association;05 34 41 62 16;38;RUE ROQUELAINE;31000;TOULOUSE;1;1.3;www.samba-resille.org\\r', '43.61631388862685, 1.4535854924000524;\"{\"\"coordinates\"\": [[1.453585492400052, 43.61631388862685]], \"\"type\"\": \"\"MultiPoint\"\"}\";ESPACE BONNEFOY;Mairie de Toulouse - DGA Culture;05 67 73 83 60;4;RUE DU FAUBOURG BONNEFOY;31500;TOULOUSE;4;4.1;www.toulouse.fr\\r', '43.599818569805116, 1.4479830740539856;\"{\"\"coordinates\"\": [[1.447983074053986, 43.599818569805116]], \"\"type\"\": \"\"MultiPoint\"\"}\";ESPACE CROIX BARAGNON;Mairie de Toulouse - DGA Culture;05 62 27 60 60;24;RUE CROIX BARAGNON;31000;TOULOUSE;1;1.1;www.cultures.toulouse.fr\\r', '43.60087752008602, 1.4423817111578405;\"{\"\"coordinates\"\": [[1.442381711157841, 43.60087752008602]], \"\"type\"\": \"\"MultiPoint\"\"}\";GALERIE EXPRMNTL;Structure commerciale;05 62 27 26 92;18;RUE DE LA BOURSE;31000;TOULOUSE;1;1.1;www.exprmntl.fr\\r', '43.610149608571476, 1.4443628115698741;\"{\"\"coordinates\"\": [[1.444362811569874, 43.610149608571476]], \"\"type\"\": \"\"MultiPoint\"\"}\";GALERIE INGRES - CRDP;Association;05 61 99 48 48;68;BD DE STRASBOURG;31000;TOULOUSE;1;1.3;http://www.cndp.fr/crdp-toulouse/spip.php?rubrique2727#top\\r', '43.616906270724506, 1.4561477819358317;\"{\"\"coordinates\"\": [[1.456147781935832, 43.616906270724506]], \"\"type\"\": \"\"MultiPoint\"\"}\";LIEU COMMUN / PLAN 9;Association;05 61 23 80 57;25;RUE D ARMAGNAC;31500;TOULOUSE;4;4.1;www.lieu-commun.fr\\r', '43.57879671469887, 1.4465484274942493;\"{\"\"coordinates\"\": [[1.446548427494249, 43.57879671469887]], \"\"type\"\": \"\"MultiPoint\"\"}\";MAISON DES ASSOCIATIONS NIEL;Mairie de Toulouse - Autre Direction;05 62 26 81 00;81;RUE SAINT ROCH;31400;TOULOUSE;5;5.3;www.toulouse.fr\\r', '']\n"
     ]
    }
   ],
   "source": [
    "lignes = csv.split(\"\\n\") # J'obtient une liste, où chaque élément est une ligne de mon fichier csv\n",
    "print(lignes)"
   ]
  },
  {
   "cell_type": "markdown",
   "id": "c4b88f26-58e1-46ad-b397-f04c70c0468d",
   "metadata": {},
   "source": [
    "Je peux ensuite parcourir ma liste ```lignes``` et afficher chaque ligne:"
   ]
  },
  {
   "cell_type": "code",
   "execution_count": 8,
   "id": "36d5e2d8-694c-4eb4-9701-84e2b499be7a",
   "metadata": {},
   "outputs": [
    {
     "name": "stdout",
     "output_type": "stream",
     "text": [
      "Geo Point;Geo Shape;nom_equipement;gestionnaire;telephone;numero;lib_off;id_secteur_postal;ville;secteur;quartier;site_web\n",
      "43.62686461027098, 1.4475430070223585;\"{\"\"coordinates\"\": [[1.447543007022358, 43.62686461027098]], \"\"type\"\": \"\"MultiPoint\"\"}\";BBB - CENTRE D'ART;Association;05 61 13 37 14;96;RUE MICHEL ANGE;31200;TOULOUSE;3;3.3;www.lebbb.org\n",
      "43.60832542550349, 1.444607529170136;\"{\"\"coordinates\"\": [[1.444607529170136, 43.60832542550349]], \"\"type\"\": \"\"MultiPoint\"\"}\";CENTRE CULTUREL BELLEGARDE;Mairie de Toulouse - DGA Culture;05 62 27 44 88;17;RUE BELLEGARDE;31000;TOULOUSE;1;1.1;www.toulouse.fr\n",
      "43.60448982058865, 1.4398861872862618;\"{\"\"coordinates\"\": [[1.439886187286262, 43.60448982058865]], \"\"type\"\": \"\"MultiPoint\"\"}\";ENSEMBLE CONVENTUEL DES JACOBINS;Mairie de Toulouse - DGA Culture;05 61 22 21 92;69;RUE PARGAMINIERES;31000;TOULOUSE;1;1.1;www.jacobins.mairie-toulouse.fr\n",
      "43.59828278794131, 1.4309154834000453;\"{\"\"coordinates\"\": [[1.430915483400045, 43.59828278794131]], \"\"type\"\": \"\"MultiPoint\"\"}\";ESPACE SAINT CYPRIEN - CHAPEAU ROUGE;Mairie de Toulouse - DGA Culture;05 61 22 27 77;56;ALL CHARLES DE FITTE;31300;TOULOUSE;2;2.1;www.cultures.toulouse.fr\n",
      "43.60383912614674, 1.443706012074208;\"{\"\"coordinates\"\": [[1.443706012074208, 43.60383912614674]], \"\"type\"\": \"\"MultiPoint\"\"}\";FONDATION ESPACE ECUREUIL POUR L'ART CONTEMPORAIN;Structure commerciale;05 62 30 23 30;3;PL DU CAPITOLE;31000;TOULOUSE;1;1.1;www.caisseepargne-art-contemporain.fr\n",
      "43.574870208885514, 1.4639464323059583;\"{\"\"coordinates\"\": [[1.463946432305958, 43.574870208885514]], \"\"type\"\": \"\"MultiPoint\"\"}\";MAISON DE QUARTIER RANGUEIL;Mairie de Toulouse - DGA Culture;05 61 25 49 26;19;RUE CLAUDE DE FORBIN;31400;TOULOUSE;5;5.2;www.cultures.toulouse.fr\n",
      "43.57945908152348, 1.4118334444956246;\"{\"\"coordinates\"\": [[1.411833444495625, 43.57945908152348]], \"\"type\"\": \"\"MultiPoint\"\"}\";CENTRE CULTUREL HENRI DESBALS;Mairie de Toulouse - DGA Culture;05 34 46 83 25;128;RUE HENRI DESBALS;31100;TOULOUSE;2;2.3;www.toulouse.fr\n",
      "43.565320343382325, 1.4790430260526422;\"{\"\"coordinates\"\": [[1.479043026052642, 43.565320343382325]], \"\"type\"\": \"\"MultiPoint\"\"}\";CENTRE CULTUREL LEONARD DE VINCI DE L'ENAC - THEATRE DE POCHE;Association;05 62 17 45 00;7;AV EDOUARD BELIN;31400;TOULOUSE;5;5.2;www.culture-enac.com\n",
      "43.56167305551263, 1.378994128328354;\"{\"\"coordinates\"\": [[1.378994128328354, 43.56167305551263]], \"\"type\"\": \"\"MultiPoint\"\"}\";CENTRE D'ANIMATION SAINT SIMON;Mairie de Toulouse - DGA Culture;05 31 22 96 81;10;CHE DE LIFFARD;31100;TOULOUSE;6;6.4;www.toulouse.fr\n",
      "43.60331334023683, 1.4447724099759627;\"{\"\"coordinates\"\": [[1.444772409975963, 43.60331334023683]], \"\"type\"\": \"\"MultiPoint\"\"}\";CMAV - CENTRE MERIDIONAL DE L'ARCHITECTURE DE LA VILLE;Association;05 61 23 30 49;5;RUE SAINT PANTALEON;31000;TOULOUSE;1;1.1;www.cmaville.org\n",
      "43.599544145651286, 1.4449799203257347;\"{\"\"coordinates\"\": [[1.444979920325735, 43.599544145651286]], \"\"type\"\": \"\"MultiPoint\"\"}\";GALERIE DAUDET;Structure commerciale;05 34 31 74 84;10;RUE DE LA TRINITE;31000;TOULOUSE;1;1.1;http://www.galerie-art-alain-daudet.com\n",
      "43.59911474290495, 1.4365055585019906;\"{\"\"coordinates\"\": [[1.436505558501991, 43.59911474290495]], \"\"type\"\": \"\"MultiPoint\"\"}\";HOTEL DIEU;Mairie de Toulouse - Autre Direction;05 61 77 83 41;2;RUE VIGUERIE;31300;TOULOUSE;2;2.1;www.chu-toulouse.fr\n",
      "43.613115478981214, 1.4413259685472881;\"{\"\"coordinates\"\": [[1.441325968547288, 43.613115478981214]], \"\"type\"\": \"\"MultiPoint\"\"}\";INSTITUTO CERVANTES;Association;05 61 62 80 72;31;RUE DES CHALETS;31000;TOULOUSE;1;1.3;www.toulouse.cervantes.es/fr\n",
      "43.57770544549503, 1.4041272610723938;\"{\"\"coordinates\"\": [[1.404127261072394, 43.57770544549503]], \"\"type\"\": \"\"MultiPoint\"\"}\";LA FABRIQUE;Association;05 61 50 43 98;5;ALL ANTONIO MACHADO;31100;TOULOUSE;6;6.3;www.ciam-univ-toulouse2.fr\n",
      "43.564536828030846, 1.3990734687949806;\"{\"\"coordinates\"\": [[1.399073468794981, 43.564536828030846]], \"\"type\"\": \"\"MultiPoint\"\"}\";CENTRE CULTUREL ALBAN MINVILLE;Mairie de Toulouse - DGA Culture;05 61 43 60 20;1;PL MARTIN LUTHER KING;31100;TOULOUSE;6;6.3;www.albanminville.toulouse.fr\n",
      "43.6482273897219, 1.4328911851171073;\"{\"\"coordinates\"\": [[1.432891185117107, 43.6482273897219]], \"\"type\"\": \"\"MultiPoint\"\"}\";CENTRE D'ANIMATION LALANDE;Mairie de Toulouse - DGA Culture;05 61 47 37 55;239;AV DE FRONTON;31200;TOULOUSE;3;3.2;www.toulouse.fr\n",
      "43.6031733611625, 1.4531255525854871;\"{\"\"coordinates\"\": [[1.453125552585487, 43.6031733611625]], \"\"type\"\": \"\"MultiPoint\"\"}\";ESPACE DES DIVERSITES ET DE LA LAICITE;Mairie de Toulouse - Autre Direction;05 81 91 79 60;38;RUE D AUBUISSON;31000;TOULOUSE;1;1.3;http://www.toulouse.fr/web/social/espace-des-diversites-et-de-la-laicite\n",
      "43.59326673955577, 1.4347726326707118;\"{\"\"coordinates\"\": [[1.434772632670712, 43.59326673955577]], \"\"type\"\": \"\"MultiPoint\"\"}\";GALERIE DU CHÂTEAU D'EAU;Association;05 61 77 09 40;1;RUE LAGANNE;31300;TOULOUSE;2;2.1;www.galeriechateaudeau.org\n",
      "43.59931284530559, 1.4358439508159624;\"{\"\"coordinates\"\": [[1.435843950815962, 43.59931284530559]], \"\"type\"\": \"\"MultiPoint\"\"}\";GALERIE PASSAGE A L'ART;Association;06 64 21 26 80;5;GRANDE-RUE SAINT NICOLAS;31300;TOULOUSE;2;2.1;www.passagealart.com\n",
      "43.59968070820493, 1.449113833617778;\"{\"\"coordinates\"\": [[1.449113833617778, 43.59968070820493]], \"\"type\"\": \"\"MultiPoint\"\"}\";GALERIE PINXIT;Structure commerciale;05 61 39 17 14;2;PL SAINT ETIENNE;31000;TOULOUSE;1;1.1;galeriepinxit@orange.fr\n",
      "43.60062579710514, 1.4397371866308595;\"{\"\"coordinates\"\": [[1.439737186630859, 43.60062579710514]], \"\"type\"\": \"\"MultiPoint\"\"}\";INSTITUT SUPERIEUR DES ARTS DE TOULOUSE - ISDAT;Structure mixte;05 31 47 12 11;5;QU DE LA DAURADE;31000;TOULOUSE;1;1.1;www.esna-toulouse.org\n",
      "43.600357895512616, 1.4425683958425597;\"{\"\"coordinates\"\": [[1.44256839584256, 43.600357895512616]], \"\"type\"\": \"\"MultiPoint\"\"}\";LA MEDIATHEQUE ASSOCIATIVE - MUSICOPHAGES;Association;05 61 21 71 50;6;RUE DE LA BOURSE;31000;TOULOUSE;1;1.1;www.musicophages.org\n",
      "43.61026207749336, 1.4554361883544236;\"{\"\"coordinates\"\": [[1.455436188354424, 43.61026207749336]], \"\"type\"\": \"\"MultiPoint\"\"}\";MEDIATHEQUE JOSE CABANIS;Mairie de Toulouse - DGA Culture;05 62 27 40 00;1;ALL JACQUES CHABAN DELMAS;31500;TOULOUSE;4;4.2;www.bibliotheque.toulouse.fr\n",
      "43.603378647527684, 1.4422683332457396;\"{\"\"coordinates\"\": [[1.44226833324574, 43.603378647527684]], \"\"type\"\": \"\"MultiPoint\"\"}\";OMBRES BLANCHES;Structure commerciale;05 34 45 53 33;50;RUE LEON GAMBETTA;31000;TOULOUSE;1;1.1;www.ombres-blanches.fr\n",
      "43.570422847313374, 1.4028565308259797;\"{\"\"coordinates\"\": [[1.40285653082598, 43.570422847313374]], \"\"type\"\": \"\"MultiPoint\"\"}\";ATELIER B;Mairie de Toulouse - DGA Culture;05 61 41 56 80;3;PL ANDRE ABBAL;31100;TOULOUSE;6;6.3;\n",
      "43.61138670431087, 1.4500057943858333;\"{\"\"coordinates\"\": [[1.450005794385833, 43.61138670431087]], \"\"type\"\": \"\"MultiPoint\"\"}\";BAM GALLERY;Structure commerciale;05 61 48 76 08;52;RUE RAYMOND IV;31000;TOULOUSE;1;1.3;http://www.bam-gallery.com/\n",
      "43.62399026034344, 1.4386564666671822;\"{\"\"coordinates\"\": [[1.438656466667182, 43.62399026034344]], \"\"type\"\": \"\"MultiPoint\"\"}\";CENTRE CULTUREL - THEATRE DES MAZADES;Mairie de Toulouse - DGA Culture;05 31 22 98 00;10;AV DES MAZADES;31200;TOULOUSE;3;3.1;www.toulouse.fr\n",
      "43.6200175492092, 1.4351273861094815;\"{\"\"coordinates\"\": [[1.435127386109482, 43.6200175492092]], \"\"type\"\": \"\"MultiPoint\"\"}\";CENTRE CULTUREL DES MINIMES;Association;05 61 22 51 77;6;RUE DU CAILLOU GRIS;31200;TOULOUSE;3;3.1;www.centrecultureldesminimes.fr\n",
      "43.61424414975031, 1.474651897622262;\"{\"\"coordinates\"\": [[1.474651897622262, 43.61424414975031]], \"\"type\"\": \"\"MultiPoint\"\"}\";CENTRE D'ANIMATION SOUPETARD;Mairie de Toulouse - DGA Culture;05 31 22 99 70;63;CHE DE HEREDIA;31500;TOULOUSE;4;4.2;www.toulouse.fr\n",
      "43.60205199759583, 1.4393538711341562;\"{\"\"coordinates\"\": [[1.439353871134156, 43.60205199759583]], \"\"type\"\": \"\"MultiPoint\"\"}\";COMMUNAUTE MUNICIPALE DE SANTE;Mairie de Toulouse - Autre Direction;05 61 22 21 80;2;RUE MALBEC;31000;TOULOUSE;1;1.1;www.cultures.tououse.fr\n",
      "43.604551617915085, 1.4324763342540432;\"{\"\"coordinates\"\": [[1.432476334254043, 43.604551617915085]], \"\"type\"\": \"\"MultiPoint\"\"}\";ESPACE BAZACLE;Structure commerciale;05 62 30 16 00;11;QU SAINT PIERRE;31000;TOULOUSE;1;1.2;www.bazacle.edf.com\n",
      "43.59616432164077, 1.4273901705007102;\"{\"\"coordinates\"\": [[1.42739017050071, 43.59616432164077]], \"\"type\"\": \"\"MultiPoint\"\"}\";ESPACE ROGUET - MJC ROGUET;Autre institution publique;05 62 86 01 67;9;RUE DE GASCOGNE;31300;TOULOUSE;2;2.1;www.haute-garonne.fr\n",
      "43.60533363025542, 1.4477313514021115;\"{\"\"coordinates\"\": [[1.447731351402112, 43.60533363025542]], \"\"type\"\": \"\"MultiPoint\"\"}\";ESPACE W31 - AGENCE CREDIT AGRICOLE JEAN JAURES;Structure commerciale;05 61 50 05 50;1;ALL DU PRESIDENT ROOSEVELT;31000;TOULOUSE;1;1.1;www.espacew31.fr\n",
      "43.5986796263151, 1.4489782313246113;\"{\"\"coordinates\"\": [[1.448978231324611, 43.5986796263151]], \"\"type\"\": \"\"MultiPoint\"\"}\";GALERIE FABRICE GALVANI;Structure commerciale;05 62 17 24 92;2;RUE PIERRE DE FERMAT;31000;TOULOUSE;1;1.1;http://www.galeriefabricegalvani.com\n",
      "43.60866268665053, 1.4475971271002717;\"{\"\"coordinates\"\": [[1.447597127100272, 43.60866268665053]], \"\"type\"\": \"\"MultiPoint\"\"}\";GALERIE KANDLER;Structure commerciale;05 61 63 85 11;14;RUE DE BAYARD;31000;TOULOUSE;1;1.3;www.galeriekandler.com\n",
      "43.596236705393636, 1.4473928635163509;\"{\"\"coordinates\"\": [[1.447392863516351, 43.596236705393636]], \"\"type\"\": \"\"MultiPoint\"\"}\";GALERIE SOURILLAN;Structure commerciale;05 61 32 17 17;19;RUE THEODORE OZENNE;31000;TOULOUSE;1;1.1;www.galeriesourillan.com\n",
      "43.600699547098415, 1.4432038330853345;\"{\"\"coordinates\"\": [[1.443203833085335, 43.600699547098415]], \"\"type\"\": \"\"MultiPoint\"\"}\";MAISON DE L'OCCITANIE;Association;05 61 22 13 31;11;RUE MALCOUSINAT;31000;TOULOUSE;1;1.1;www.ostaldoccitania.net\n",
      "43.570422847313374, 1.4028565308259797;\"{\"\"coordinates\"\": [[1.40285653082598, 43.570422847313374]], \"\"type\"\": \"\"MultiPoint\"\"}\";CENTRE D'ANIMATION REYNERIE;Mairie de Toulouse - DGA Culture;05 61 41 56 80;3;PL ANDRE ABBAL;31100;TOULOUSE;6;6.3;www.toulouse.fr\n",
      "43.61139548276987, 1.4466355547044323;\"{\"\"coordinates\"\": [[1.446635554704432, 43.61139548276987]], \"\"type\"\": \"\"MultiPoint\"\"}\";CICC - SAMBA RESILLE;Association;05 34 41 62 16;38;RUE ROQUELAINE;31000;TOULOUSE;1;1.3;www.samba-resille.org\n",
      "43.61631388862685, 1.4535854924000524;\"{\"\"coordinates\"\": [[1.453585492400052, 43.61631388862685]], \"\"type\"\": \"\"MultiPoint\"\"}\";ESPACE BONNEFOY;Mairie de Toulouse - DGA Culture;05 67 73 83 60;4;RUE DU FAUBOURG BONNEFOY;31500;TOULOUSE;4;4.1;www.toulouse.fr\n",
      "43.599818569805116, 1.4479830740539856;\"{\"\"coordinates\"\": [[1.447983074053986, 43.599818569805116]], \"\"type\"\": \"\"MultiPoint\"\"}\";ESPACE CROIX BARAGNON;Mairie de Toulouse - DGA Culture;05 62 27 60 60;24;RUE CROIX BARAGNON;31000;TOULOUSE;1;1.1;www.cultures.toulouse.fr\n",
      "43.60087752008602, 1.4423817111578405;\"{\"\"coordinates\"\": [[1.442381711157841, 43.60087752008602]], \"\"type\"\": \"\"MultiPoint\"\"}\";GALERIE EXPRMNTL;Structure commerciale;05 62 27 26 92;18;RUE DE LA BOURSE;31000;TOULOUSE;1;1.1;www.exprmntl.fr\n",
      "43.610149608571476, 1.4443628115698741;\"{\"\"coordinates\"\": [[1.444362811569874, 43.610149608571476]], \"\"type\"\": \"\"MultiPoint\"\"}\";GALERIE INGRES - CRDP;Association;05 61 99 48 48;68;BD DE STRASBOURG;31000;TOULOUSE;1;1.3;http://www.cndp.fr/crdp-toulouse/spip.php?rubrique2727#top\n",
      "43.616906270724506, 1.4561477819358317;\"{\"\"coordinates\"\": [[1.456147781935832, 43.616906270724506]], \"\"type\"\": \"\"MultiPoint\"\"}\";LIEU COMMUN / PLAN 9;Association;05 61 23 80 57;25;RUE D ARMAGNAC;31500;TOULOUSE;4;4.1;www.lieu-commun.fr\n",
      "43.57879671469887, 1.4465484274942493;\"{\"\"coordinates\"\": [[1.446548427494249, 43.57879671469887]], \"\"type\"\": \"\"MultiPoint\"\"}\";MAISON DES ASSOCIATIONS NIEL;Mairie de Toulouse - Autre Direction;05 62 26 81 00;81;RUE SAINT ROCH;31400;TOULOUSE;5;5.3;www.toulouse.fr\n",
      "\n"
     ]
    }
   ],
   "source": [
    "for ligne in lignes:\n",
    "    print(ligne)"
   ]
  },
  {
   "cell_type": "markdown",
   "id": "f596592e-5d61-4aee-a422-43bd8345be7e",
   "metadata": {},
   "source": [
    "Je peux supprimer la ligne d'entête avec la méthode ```del```"
   ]
  },
  {
   "cell_type": "code",
   "execution_count": 9,
   "id": "47d62e2f-45c1-416e-9ec1-7a84255ae32b",
   "metadata": {},
   "outputs": [
    {
     "name": "stdout",
     "output_type": "stream",
     "text": [
      "['43.62686461027098, 1.4475430070223585;\"{\"\"coordinates\"\": [[1.447543007022358, 43.62686461027098]], \"\"type\"\": \"\"MultiPoint\"\"}\";BBB - CENTRE D\\'ART;Association;05 61 13 37 14;96;RUE MICHEL ANGE;31200;TOULOUSE;3;3.3;www.lebbb.org\\r', '43.60832542550349, 1.444607529170136;\"{\"\"coordinates\"\": [[1.444607529170136, 43.60832542550349]], \"\"type\"\": \"\"MultiPoint\"\"}\";CENTRE CULTUREL BELLEGARDE;Mairie de Toulouse - DGA Culture;05 62 27 44 88;17;RUE BELLEGARDE;31000;TOULOUSE;1;1.1;www.toulouse.fr\\r', '43.60448982058865, 1.4398861872862618;\"{\"\"coordinates\"\": [[1.439886187286262, 43.60448982058865]], \"\"type\"\": \"\"MultiPoint\"\"}\";ENSEMBLE CONVENTUEL DES JACOBINS;Mairie de Toulouse - DGA Culture;05 61 22 21 92;69;RUE PARGAMINIERES;31000;TOULOUSE;1;1.1;www.jacobins.mairie-toulouse.fr\\r', '43.59828278794131, 1.4309154834000453;\"{\"\"coordinates\"\": [[1.430915483400045, 43.59828278794131]], \"\"type\"\": \"\"MultiPoint\"\"}\";ESPACE SAINT CYPRIEN - CHAPEAU ROUGE;Mairie de Toulouse - DGA Culture;05 61 22 27 77;56;ALL CHARLES DE FITTE;31300;TOULOUSE;2;2.1;www.cultures.toulouse.fr\\r', '43.60383912614674, 1.443706012074208;\"{\"\"coordinates\"\": [[1.443706012074208, 43.60383912614674]], \"\"type\"\": \"\"MultiPoint\"\"}\";FONDATION ESPACE ECUREUIL POUR L\\'ART CONTEMPORAIN;Structure commerciale;05 62 30 23 30;3;PL DU CAPITOLE;31000;TOULOUSE;1;1.1;www.caisseepargne-art-contemporain.fr\\r', '43.574870208885514, 1.4639464323059583;\"{\"\"coordinates\"\": [[1.463946432305958, 43.574870208885514]], \"\"type\"\": \"\"MultiPoint\"\"}\";MAISON DE QUARTIER RANGUEIL;Mairie de Toulouse - DGA Culture;05 61 25 49 26;19;RUE CLAUDE DE FORBIN;31400;TOULOUSE;5;5.2;www.cultures.toulouse.fr\\r', '43.57945908152348, 1.4118334444956246;\"{\"\"coordinates\"\": [[1.411833444495625, 43.57945908152348]], \"\"type\"\": \"\"MultiPoint\"\"}\";CENTRE CULTUREL HENRI DESBALS;Mairie de Toulouse - DGA Culture;05 34 46 83 25;128;RUE HENRI DESBALS;31100;TOULOUSE;2;2.3;www.toulouse.fr\\r', '43.565320343382325, 1.4790430260526422;\"{\"\"coordinates\"\": [[1.479043026052642, 43.565320343382325]], \"\"type\"\": \"\"MultiPoint\"\"}\";CENTRE CULTUREL LEONARD DE VINCI DE L\\'ENAC - THEATRE DE POCHE;Association;05 62 17 45 00;7;AV EDOUARD BELIN;31400;TOULOUSE;5;5.2;www.culture-enac.com\\r', '43.56167305551263, 1.378994128328354;\"{\"\"coordinates\"\": [[1.378994128328354, 43.56167305551263]], \"\"type\"\": \"\"MultiPoint\"\"}\";CENTRE D\\'ANIMATION SAINT SIMON;Mairie de Toulouse - DGA Culture;05 31 22 96 81;10;CHE DE LIFFARD;31100;TOULOUSE;6;6.4;www.toulouse.fr\\r', '43.60331334023683, 1.4447724099759627;\"{\"\"coordinates\"\": [[1.444772409975963, 43.60331334023683]], \"\"type\"\": \"\"MultiPoint\"\"}\";CMAV - CENTRE MERIDIONAL DE L\\'ARCHITECTURE DE LA VILLE;Association;05 61 23 30 49;5;RUE SAINT PANTALEON;31000;TOULOUSE;1;1.1;www.cmaville.org\\r', '43.599544145651286, 1.4449799203257347;\"{\"\"coordinates\"\": [[1.444979920325735, 43.599544145651286]], \"\"type\"\": \"\"MultiPoint\"\"}\";GALERIE DAUDET;Structure commerciale;05 34 31 74 84;10;RUE DE LA TRINITE;31000;TOULOUSE;1;1.1;http://www.galerie-art-alain-daudet.com\\r', '43.59911474290495, 1.4365055585019906;\"{\"\"coordinates\"\": [[1.436505558501991, 43.59911474290495]], \"\"type\"\": \"\"MultiPoint\"\"}\";HOTEL DIEU;Mairie de Toulouse - Autre Direction;05 61 77 83 41;2;RUE VIGUERIE;31300;TOULOUSE;2;2.1;www.chu-toulouse.fr\\r', '43.613115478981214, 1.4413259685472881;\"{\"\"coordinates\"\": [[1.441325968547288, 43.613115478981214]], \"\"type\"\": \"\"MultiPoint\"\"}\";INSTITUTO CERVANTES;Association;05 61 62 80 72;31;RUE DES CHALETS;31000;TOULOUSE;1;1.3;www.toulouse.cervantes.es/fr\\r', '43.57770544549503, 1.4041272610723938;\"{\"\"coordinates\"\": [[1.404127261072394, 43.57770544549503]], \"\"type\"\": \"\"MultiPoint\"\"}\";LA FABRIQUE;Association;05 61 50 43 98;5;ALL ANTONIO MACHADO;31100;TOULOUSE;6;6.3;www.ciam-univ-toulouse2.fr\\r', '43.564536828030846, 1.3990734687949806;\"{\"\"coordinates\"\": [[1.399073468794981, 43.564536828030846]], \"\"type\"\": \"\"MultiPoint\"\"}\";CENTRE CULTUREL ALBAN MINVILLE;Mairie de Toulouse - DGA Culture;05 61 43 60 20;1;PL MARTIN LUTHER KING;31100;TOULOUSE;6;6.3;www.albanminville.toulouse.fr\\r', '43.6482273897219, 1.4328911851171073;\"{\"\"coordinates\"\": [[1.432891185117107, 43.6482273897219]], \"\"type\"\": \"\"MultiPoint\"\"}\";CENTRE D\\'ANIMATION LALANDE;Mairie de Toulouse - DGA Culture;05 61 47 37 55;239;AV DE FRONTON;31200;TOULOUSE;3;3.2;www.toulouse.fr\\r', '43.6031733611625, 1.4531255525854871;\"{\"\"coordinates\"\": [[1.453125552585487, 43.6031733611625]], \"\"type\"\": \"\"MultiPoint\"\"}\";ESPACE DES DIVERSITES ET DE LA LAICITE;Mairie de Toulouse - Autre Direction;05 81 91 79 60;38;RUE D AUBUISSON;31000;TOULOUSE;1;1.3;http://www.toulouse.fr/web/social/espace-des-diversites-et-de-la-laicite\\r', '43.59326673955577, 1.4347726326707118;\"{\"\"coordinates\"\": [[1.434772632670712, 43.59326673955577]], \"\"type\"\": \"\"MultiPoint\"\"}\";GALERIE DU CHÂTEAU D\\'EAU;Association;05 61 77 09 40;1;RUE LAGANNE;31300;TOULOUSE;2;2.1;www.galeriechateaudeau.org\\r', '43.59931284530559, 1.4358439508159624;\"{\"\"coordinates\"\": [[1.435843950815962, 43.59931284530559]], \"\"type\"\": \"\"MultiPoint\"\"}\";GALERIE PASSAGE A L\\'ART;Association;06 64 21 26 80;5;GRANDE-RUE SAINT NICOLAS;31300;TOULOUSE;2;2.1;www.passagealart.com\\r', '43.59968070820493, 1.449113833617778;\"{\"\"coordinates\"\": [[1.449113833617778, 43.59968070820493]], \"\"type\"\": \"\"MultiPoint\"\"}\";GALERIE PINXIT;Structure commerciale;05 61 39 17 14;2;PL SAINT ETIENNE;31000;TOULOUSE;1;1.1;galeriepinxit@orange.fr\\r', '43.60062579710514, 1.4397371866308595;\"{\"\"coordinates\"\": [[1.439737186630859, 43.60062579710514]], \"\"type\"\": \"\"MultiPoint\"\"}\";INSTITUT SUPERIEUR DES ARTS DE TOULOUSE - ISDAT;Structure mixte;05 31 47 12 11;5;QU DE LA DAURADE;31000;TOULOUSE;1;1.1;www.esna-toulouse.org\\r', '43.600357895512616, 1.4425683958425597;\"{\"\"coordinates\"\": [[1.44256839584256, 43.600357895512616]], \"\"type\"\": \"\"MultiPoint\"\"}\";LA MEDIATHEQUE ASSOCIATIVE - MUSICOPHAGES;Association;05 61 21 71 50;6;RUE DE LA BOURSE;31000;TOULOUSE;1;1.1;www.musicophages.org\\r', '43.61026207749336, 1.4554361883544236;\"{\"\"coordinates\"\": [[1.455436188354424, 43.61026207749336]], \"\"type\"\": \"\"MultiPoint\"\"}\";MEDIATHEQUE JOSE CABANIS;Mairie de Toulouse - DGA Culture;05 62 27 40 00;1;ALL JACQUES CHABAN DELMAS;31500;TOULOUSE;4;4.2;www.bibliotheque.toulouse.fr\\r', '43.603378647527684, 1.4422683332457396;\"{\"\"coordinates\"\": [[1.44226833324574, 43.603378647527684]], \"\"type\"\": \"\"MultiPoint\"\"}\";OMBRES BLANCHES;Structure commerciale;05 34 45 53 33;50;RUE LEON GAMBETTA;31000;TOULOUSE;1;1.1;www.ombres-blanches.fr\\r', '43.570422847313374, 1.4028565308259797;\"{\"\"coordinates\"\": [[1.40285653082598, 43.570422847313374]], \"\"type\"\": \"\"MultiPoint\"\"}\";ATELIER B;Mairie de Toulouse - DGA Culture;05 61 41 56 80;3;PL ANDRE ABBAL;31100;TOULOUSE;6;6.3;\\r', '43.61138670431087, 1.4500057943858333;\"{\"\"coordinates\"\": [[1.450005794385833, 43.61138670431087]], \"\"type\"\": \"\"MultiPoint\"\"}\";BAM GALLERY;Structure commerciale;05 61 48 76 08;52;RUE RAYMOND IV;31000;TOULOUSE;1;1.3;http://www.bam-gallery.com/\\r', '43.62399026034344, 1.4386564666671822;\"{\"\"coordinates\"\": [[1.438656466667182, 43.62399026034344]], \"\"type\"\": \"\"MultiPoint\"\"}\";CENTRE CULTUREL - THEATRE DES MAZADES;Mairie de Toulouse - DGA Culture;05 31 22 98 00;10;AV DES MAZADES;31200;TOULOUSE;3;3.1;www.toulouse.fr\\r', '43.6200175492092, 1.4351273861094815;\"{\"\"coordinates\"\": [[1.435127386109482, 43.6200175492092]], \"\"type\"\": \"\"MultiPoint\"\"}\";CENTRE CULTUREL DES MINIMES;Association;05 61 22 51 77;6;RUE DU CAILLOU GRIS;31200;TOULOUSE;3;3.1;www.centrecultureldesminimes.fr\\r', '43.61424414975031, 1.474651897622262;\"{\"\"coordinates\"\": [[1.474651897622262, 43.61424414975031]], \"\"type\"\": \"\"MultiPoint\"\"}\";CENTRE D\\'ANIMATION SOUPETARD;Mairie de Toulouse - DGA Culture;05 31 22 99 70;63;CHE DE HEREDIA;31500;TOULOUSE;4;4.2;www.toulouse.fr\\r', '43.60205199759583, 1.4393538711341562;\"{\"\"coordinates\"\": [[1.439353871134156, 43.60205199759583]], \"\"type\"\": \"\"MultiPoint\"\"}\";COMMUNAUTE MUNICIPALE DE SANTE;Mairie de Toulouse - Autre Direction;05 61 22 21 80;2;RUE MALBEC;31000;TOULOUSE;1;1.1;www.cultures.tououse.fr\\r', '43.604551617915085, 1.4324763342540432;\"{\"\"coordinates\"\": [[1.432476334254043, 43.604551617915085]], \"\"type\"\": \"\"MultiPoint\"\"}\";ESPACE BAZACLE;Structure commerciale;05 62 30 16 00;11;QU SAINT PIERRE;31000;TOULOUSE;1;1.2;www.bazacle.edf.com\\r', '43.59616432164077, 1.4273901705007102;\"{\"\"coordinates\"\": [[1.42739017050071, 43.59616432164077]], \"\"type\"\": \"\"MultiPoint\"\"}\";ESPACE ROGUET - MJC ROGUET;Autre institution publique;05 62 86 01 67;9;RUE DE GASCOGNE;31300;TOULOUSE;2;2.1;www.haute-garonne.fr\\r', '43.60533363025542, 1.4477313514021115;\"{\"\"coordinates\"\": [[1.447731351402112, 43.60533363025542]], \"\"type\"\": \"\"MultiPoint\"\"}\";ESPACE W31 - AGENCE CREDIT AGRICOLE JEAN JAURES;Structure commerciale;05 61 50 05 50;1;ALL DU PRESIDENT ROOSEVELT;31000;TOULOUSE;1;1.1;www.espacew31.fr\\r', '43.5986796263151, 1.4489782313246113;\"{\"\"coordinates\"\": [[1.448978231324611, 43.5986796263151]], \"\"type\"\": \"\"MultiPoint\"\"}\";GALERIE FABRICE GALVANI;Structure commerciale;05 62 17 24 92;2;RUE PIERRE DE FERMAT;31000;TOULOUSE;1;1.1;http://www.galeriefabricegalvani.com\\r', '43.60866268665053, 1.4475971271002717;\"{\"\"coordinates\"\": [[1.447597127100272, 43.60866268665053]], \"\"type\"\": \"\"MultiPoint\"\"}\";GALERIE KANDLER;Structure commerciale;05 61 63 85 11;14;RUE DE BAYARD;31000;TOULOUSE;1;1.3;www.galeriekandler.com\\r', '43.596236705393636, 1.4473928635163509;\"{\"\"coordinates\"\": [[1.447392863516351, 43.596236705393636]], \"\"type\"\": \"\"MultiPoint\"\"}\";GALERIE SOURILLAN;Structure commerciale;05 61 32 17 17;19;RUE THEODORE OZENNE;31000;TOULOUSE;1;1.1;www.galeriesourillan.com\\r', '43.600699547098415, 1.4432038330853345;\"{\"\"coordinates\"\": [[1.443203833085335, 43.600699547098415]], \"\"type\"\": \"\"MultiPoint\"\"}\";MAISON DE L\\'OCCITANIE;Association;05 61 22 13 31;11;RUE MALCOUSINAT;31000;TOULOUSE;1;1.1;www.ostaldoccitania.net\\r', '43.570422847313374, 1.4028565308259797;\"{\"\"coordinates\"\": [[1.40285653082598, 43.570422847313374]], \"\"type\"\": \"\"MultiPoint\"\"}\";CENTRE D\\'ANIMATION REYNERIE;Mairie de Toulouse - DGA Culture;05 61 41 56 80;3;PL ANDRE ABBAL;31100;TOULOUSE;6;6.3;www.toulouse.fr\\r', '43.61139548276987, 1.4466355547044323;\"{\"\"coordinates\"\": [[1.446635554704432, 43.61139548276987]], \"\"type\"\": \"\"MultiPoint\"\"}\";CICC - SAMBA RESILLE;Association;05 34 41 62 16;38;RUE ROQUELAINE;31000;TOULOUSE;1;1.3;www.samba-resille.org\\r', '43.61631388862685, 1.4535854924000524;\"{\"\"coordinates\"\": [[1.453585492400052, 43.61631388862685]], \"\"type\"\": \"\"MultiPoint\"\"}\";ESPACE BONNEFOY;Mairie de Toulouse - DGA Culture;05 67 73 83 60;4;RUE DU FAUBOURG BONNEFOY;31500;TOULOUSE;4;4.1;www.toulouse.fr\\r', '43.599818569805116, 1.4479830740539856;\"{\"\"coordinates\"\": [[1.447983074053986, 43.599818569805116]], \"\"type\"\": \"\"MultiPoint\"\"}\";ESPACE CROIX BARAGNON;Mairie de Toulouse - DGA Culture;05 62 27 60 60;24;RUE CROIX BARAGNON;31000;TOULOUSE;1;1.1;www.cultures.toulouse.fr\\r', '43.60087752008602, 1.4423817111578405;\"{\"\"coordinates\"\": [[1.442381711157841, 43.60087752008602]], \"\"type\"\": \"\"MultiPoint\"\"}\";GALERIE EXPRMNTL;Structure commerciale;05 62 27 26 92;18;RUE DE LA BOURSE;31000;TOULOUSE;1;1.1;www.exprmntl.fr\\r', '43.610149608571476, 1.4443628115698741;\"{\"\"coordinates\"\": [[1.444362811569874, 43.610149608571476]], \"\"type\"\": \"\"MultiPoint\"\"}\";GALERIE INGRES - CRDP;Association;05 61 99 48 48;68;BD DE STRASBOURG;31000;TOULOUSE;1;1.3;http://www.cndp.fr/crdp-toulouse/spip.php?rubrique2727#top\\r', '43.616906270724506, 1.4561477819358317;\"{\"\"coordinates\"\": [[1.456147781935832, 43.616906270724506]], \"\"type\"\": \"\"MultiPoint\"\"}\";LIEU COMMUN / PLAN 9;Association;05 61 23 80 57;25;RUE D ARMAGNAC;31500;TOULOUSE;4;4.1;www.lieu-commun.fr\\r', '43.57879671469887, 1.4465484274942493;\"{\"\"coordinates\"\": [[1.446548427494249, 43.57879671469887]], \"\"type\"\": \"\"MultiPoint\"\"}\";MAISON DES ASSOCIATIONS NIEL;Mairie de Toulouse - Autre Direction;05 62 26 81 00;81;RUE SAINT ROCH;31400;TOULOUSE;5;5.3;www.toulouse.fr\\r', '']\n"
     ]
    }
   ],
   "source": [
    "del lignes[0]  # On supprime la première ligne\n",
    "print(lignes)"
   ]
  },
  {
   "cell_type": "markdown",
   "id": "90a3e93f-f5f5-42b3-8ce7-06e015f54591",
   "metadata": {},
   "source": [
    "Si je veux récupérer un élément spécifique, je peux maintenant découper chacune de ces lignes en fonction du caractère ```;```"
   ]
  },
  {
   "cell_type": "code",
   "execution_count": 10,
   "id": "9c3886c2-fa59-4097-ba46-dce05bfdbed5",
   "metadata": {},
   "outputs": [
    {
     "name": "stdout",
     "output_type": "stream",
     "text": [
      "43.62686461027098, 1.4475430070223585\n",
      "www.lebbb.org\n",
      "43.60832542550349, 1.444607529170136\n",
      "www.toulouse.fr\n",
      "43.60448982058865, 1.4398861872862618\n",
      "www.jacobins.mairie-toulouse.fr\n",
      "43.59828278794131, 1.4309154834000453\n",
      "www.cultures.toulouse.fr\n",
      "43.60383912614674, 1.443706012074208\n",
      "www.caisseepargne-art-contemporain.fr\n",
      "43.574870208885514, 1.4639464323059583\n",
      "www.cultures.toulouse.fr\n",
      "43.57945908152348, 1.4118334444956246\n",
      "www.toulouse.fr\n",
      "43.565320343382325, 1.4790430260526422\n",
      "www.culture-enac.com\n",
      "43.56167305551263, 1.378994128328354\n",
      "www.toulouse.fr\n",
      "43.60331334023683, 1.4447724099759627\n",
      "www.cmaville.org\n",
      "43.599544145651286, 1.4449799203257347\n",
      "http://www.galerie-art-alain-daudet.com\n",
      "43.59911474290495, 1.4365055585019906\n",
      "www.chu-toulouse.fr\n",
      "43.613115478981214, 1.4413259685472881\n",
      "www.toulouse.cervantes.es/fr\n",
      "43.57770544549503, 1.4041272610723938\n",
      "www.ciam-univ-toulouse2.fr\n",
      "43.564536828030846, 1.3990734687949806\n",
      "www.albanminville.toulouse.fr\n",
      "43.6482273897219, 1.4328911851171073\n",
      "www.toulouse.fr\n",
      "43.6031733611625, 1.4531255525854871\n",
      "http://www.toulouse.fr/web/social/espace-des-diversites-et-de-la-laicite\n",
      "43.59326673955577, 1.4347726326707118\n",
      "www.galeriechateaudeau.org\n",
      "43.59931284530559, 1.4358439508159624\n",
      "www.passagealart.com\n",
      "43.59968070820493, 1.449113833617778\n",
      "galeriepinxit@orange.fr\n",
      "43.60062579710514, 1.4397371866308595\n",
      "www.esna-toulouse.org\n",
      "43.600357895512616, 1.4425683958425597\n",
      "www.musicophages.org\n",
      "43.61026207749336, 1.4554361883544236\n",
      "www.bibliotheque.toulouse.fr\n",
      "43.603378647527684, 1.4422683332457396\n",
      "www.ombres-blanches.fr\n",
      "43.570422847313374, 1.4028565308259797\n",
      "\n",
      "43.61138670431087, 1.4500057943858333\n",
      "http://www.bam-gallery.com/\n",
      "43.62399026034344, 1.4386564666671822\n",
      "www.toulouse.fr\n",
      "43.6200175492092, 1.4351273861094815\n",
      "www.centrecultureldesminimes.fr\n",
      "43.61424414975031, 1.474651897622262\n",
      "www.toulouse.fr\n",
      "43.60205199759583, 1.4393538711341562\n",
      "www.cultures.tououse.fr\n",
      "43.604551617915085, 1.4324763342540432\n",
      "www.bazacle.edf.com\n",
      "43.59616432164077, 1.4273901705007102\n",
      "www.haute-garonne.fr\n",
      "43.60533363025542, 1.4477313514021115\n",
      "www.espacew31.fr\n",
      "43.5986796263151, 1.4489782313246113\n",
      "http://www.galeriefabricegalvani.com\n",
      "43.60866268665053, 1.4475971271002717\n",
      "www.galeriekandler.com\n",
      "43.596236705393636, 1.4473928635163509\n",
      "www.galeriesourillan.com\n",
      "43.600699547098415, 1.4432038330853345\n",
      "www.ostaldoccitania.net\n",
      "43.570422847313374, 1.4028565308259797\n",
      "www.toulouse.fr\n",
      "43.61139548276987, 1.4466355547044323\n",
      "www.samba-resille.org\n",
      "43.61631388862685, 1.4535854924000524\n",
      "www.toulouse.fr\n",
      "43.599818569805116, 1.4479830740539856\n",
      "www.cultures.toulouse.fr\n",
      "43.60087752008602, 1.4423817111578405\n",
      "www.exprmntl.fr\n",
      "43.610149608571476, 1.4443628115698741\n",
      "http://www.cndp.fr/crdp-toulouse/spip.php?rubrique2727#top\n",
      "43.616906270724506, 1.4561477819358317\n",
      "www.lieu-commun.fr\n",
      "43.57879671469887, 1.4465484274942493\n",
      "www.toulouse.fr\n"
     ]
    }
   ],
   "source": [
    "for ligne in lignes:\n",
    "    if ligne != \"\":              # On vérifie que la ligne n'est pas une ligne vide.\n",
    "        data= ligne.split(\";\")   # On obtient une liste, ou chaque élément correspond à une donnée. \n",
    "        print(data[0])           # Ici on récupère la donnée \"Geo Point\"\n",
    "        print(data[11])          # Ici on récupère la donnée \"site_web\""
   ]
  },
  {
   "cell_type": "markdown",
   "id": "9827efa6-29df-4911-9a2f-d02339221571",
   "metadata": {},
   "source": [
    "Maintenant que je sais comment accéder à l'élément site_web, je peux construire une nouvelle structure de donnée pour les stocker."
   ]
  },
  {
   "cell_type": "code",
   "execution_count": 11,
   "id": "34d972f2-3061-4234-9725-6981859fccbf",
   "metadata": {
    "jupyter": {
     "source_hidden": true
    },
    "tags": []
   },
   "outputs": [
    {
     "name": "stdout",
     "output_type": "stream",
     "text": [
      "['www.lebbb.org\\r', 'www.toulouse.fr\\r', 'www.jacobins.mairie-toulouse.fr\\r', 'www.cultures.toulouse.fr\\r', 'www.caisseepargne-art-contemporain.fr\\r', 'www.cultures.toulouse.fr\\r', 'www.toulouse.fr\\r', 'www.culture-enac.com\\r', 'www.toulouse.fr\\r', 'www.cmaville.org\\r', 'http://www.galerie-art-alain-daudet.com\\r', 'www.chu-toulouse.fr\\r', 'www.toulouse.cervantes.es/fr\\r', 'www.ciam-univ-toulouse2.fr\\r', 'www.albanminville.toulouse.fr\\r', 'www.toulouse.fr\\r', 'http://www.toulouse.fr/web/social/espace-des-diversites-et-de-la-laicite\\r', 'www.galeriechateaudeau.org\\r', 'www.passagealart.com\\r', 'galeriepinxit@orange.fr\\r', 'www.esna-toulouse.org\\r', 'www.musicophages.org\\r', 'www.bibliotheque.toulouse.fr\\r', 'www.ombres-blanches.fr\\r', '\\r', 'http://www.bam-gallery.com/\\r', 'www.toulouse.fr\\r', 'www.centrecultureldesminimes.fr\\r', 'www.toulouse.fr\\r', 'www.cultures.tououse.fr\\r', 'www.bazacle.edf.com\\r', 'www.haute-garonne.fr\\r', 'www.espacew31.fr\\r', 'http://www.galeriefabricegalvani.com\\r', 'www.galeriekandler.com\\r', 'www.galeriesourillan.com\\r', 'www.ostaldoccitania.net\\r', 'www.toulouse.fr\\r', 'www.samba-resille.org\\r', 'www.toulouse.fr\\r', 'www.cultures.toulouse.fr\\r', 'www.exprmntl.fr\\r', 'http://www.cndp.fr/crdp-toulouse/spip.php?rubrique2727#top\\r', 'www.lieu-commun.fr\\r', 'www.toulouse.fr\\r']\n"
     ]
    }
   ],
   "source": [
    "site_web = []\n",
    "for ligne in lignes:\n",
    "    if ligne != \"\":              # On vérifie que la ligne n'est pas une ligne vide.\n",
    "        data= ligne.split(\";\")   # On obtient une liste, ou chaque élément correspond à une donnée. \n",
    "        site_web.append(data[11])\n",
    "print(site_web)"
   ]
  },
  {
   "cell_type": "markdown",
   "id": "460e3a4d-e2e7-47de-9a83-fada20425f79",
   "metadata": {},
   "source": [
    "On constate que le caractère ```\\r``` est présent dans chacune de nos adresses. Il s'agit d'un caractère spécial qui code le retour de chariot. Cela vient du fait que sous certaines versions de Windows, le caractère de fin de ligne est codé sous la forme ```\\n\\r```.\n",
    "\n",
    "Pour nettoyer nos adresses, il nous suffit donc de retirer le dernier caractère de la chaine (on peut utiliser l'opérateur de sous-chaîne ```:-1``` qui récupère toute la string à l'exception du dernier caractère)."
   ]
  },
  {
   "cell_type": "code",
   "execution_count": 12,
   "id": "0f46c410-02b3-402a-802e-22c6f0dc4ead",
   "metadata": {},
   "outputs": [
    {
     "name": "stdout",
     "output_type": "stream",
     "text": [
      "['www.lebbb.org', 'www.toulouse.fr', 'www.jacobins.mairie-toulouse.fr', 'www.cultures.toulouse.fr', 'www.caisseepargne-art-contemporain.fr', 'www.cultures.toulouse.fr', 'www.toulouse.fr', 'www.culture-enac.com', 'www.toulouse.fr', 'www.cmaville.org', 'http://www.galerie-art-alain-daudet.com', 'www.chu-toulouse.fr', 'www.toulouse.cervantes.es/fr', 'www.ciam-univ-toulouse2.fr', 'www.albanminville.toulouse.fr', 'www.toulouse.fr', 'http://www.toulouse.fr/web/social/espace-des-diversites-et-de-la-laicite', 'www.galeriechateaudeau.org', 'www.passagealart.com', 'galeriepinxit@orange.fr', 'www.esna-toulouse.org', 'www.musicophages.org', 'www.bibliotheque.toulouse.fr', 'www.ombres-blanches.fr', '', 'http://www.bam-gallery.com/', 'www.toulouse.fr', 'www.centrecultureldesminimes.fr', 'www.toulouse.fr', 'www.cultures.tououse.fr', 'www.bazacle.edf.com', 'www.haute-garonne.fr', 'www.espacew31.fr', 'http://www.galeriefabricegalvani.com', 'www.galeriekandler.com', 'www.galeriesourillan.com', 'www.ostaldoccitania.net', 'www.toulouse.fr', 'www.samba-resille.org', 'www.toulouse.fr', 'www.cultures.toulouse.fr', 'www.exprmntl.fr', 'http://www.cndp.fr/crdp-toulouse/spip.php?rubrique2727#top', 'www.lieu-commun.fr', 'www.toulouse.fr']\n"
     ]
    }
   ],
   "source": [
    "site_web = []\n",
    "for ligne in lignes:\n",
    "    if ligne != \"\":              # On vérifie que la ligne n'est pas une ligne vide.\n",
    "        data= ligne.split(\";\")   # On obtient une liste, ou chaque élément correspond à une donnée. \n",
    "        site_web.append(data[11][:-1])\n",
    "print(site_web)"
   ]
  },
  {
   "cell_type": "markdown",
   "id": "876daa2f-7c74-43cb-819c-0cba9f55cea6",
   "metadata": {},
   "source": [
    "<div class=\"alert alert-block alert-info\">\n",
    "<b>Remarque:</b> On pourrait facilement écrire des fonctions génériques pour manipuler des données csv. En effet, il faut à chaque fois découper par ligne puis par colonne. La seule chose qui peut changer est l'opérateur de fin de ligne et l'opérateur de séparation de colonnes. C'est pourquoi des modules existent : https://docs.python.org/fr/3.6/library/csv.html\n",
    "</br> Nous travaillons volontairement avec les chaines de caractères pour que les opérations de manipulation de chaines de caractères soient bien acquises.\n",
    "</div>"
   ]
  },
  {
   "cell_type": "markdown",
   "id": "532ad474-d3a7-4f5d-8b4e-f3e537c14b89",
   "metadata": {
    "tags": []
   },
   "source": [
    "# JSON\n",
    "Il existe principalement trois formats de réponses à une requette HTTP: l'HTML, l'XML et le JSON.\n",
    "\n",
    "* L'**HTML** (HyperText Markup Language) est utilisé pour représenter le contenu d'une page web et sa structure. C'est un langage de programmation déclarative, c'est à dire que l'on décrit uniquement ce que contient une page, charge au client (Firefox, Chrome,...) d'interpréter ce langage et d'afficher le contenu. L'HTML est construit autour de balises ordonnées qui décrivent le type de contenu. L'HTML vise à produire un résultat qui sera lisible par un client, et utilisable par un utilisateur humain. En Python, on récupère donc une chaine de caractère qui contient un ensemble de balises HTML dont on peut ensuite extraire les informations qui nous intéresse (on parle de *scrapping*). Un example d'HTML:\n",
    "```\n",
    "<!DOCTYPE html>\n",
    "<html>\n",
    "    <head>\n",
    "        <title>Hello World!</title>\n",
    "    </head>\n",
    "    <body>\n",
    "        <p>Ceci est un exemple de Hello World!</p>\n",
    "    </body>\n",
    "</html>\n",
    "```\n",
    "\n",
    "* L'**XML** (Extensible Markup Language) est un *metalanguage* informatique. Il est aussi construit sur un mécanisme de balises (ouvrantes et fermantes) contenues dans des chevrons ```<>```. XML un métalangage car il est extensible, c'est à dire qu'il n'impose pas de vocabulaire et de grammaire. HTML et XML partage le mécanisme de balises. Il existe même une norme, le XHTML, qui permet de représenter une page HTML en suivant une norme : [https://fr.wikipedia.org/wiki/Extensible_Hypertext_Markup_Language](https://fr.wikipedia.org/wiki/Extensible_Hypertext_Markup_Language). XML est un langage qui vise plutôt la communication de machine à machine, il n'est pas facile à lire pour un utilisateur humain : Un exemple d'XML: \n",
    "\n",
    "```\n",
    " <book title=\"Artificial Intelligence\" publisher=\"Pearson\">\n",
    "    <authors>\n",
    "      <author first=\"Peter\" last=\"Norvig\"/>\n",
    "      <author first=\"Stuart\" last=\"Russell\"/>\n",
    "    </authors>\n",
    " </book>\n",
    " ```\n",
    " \n",
    "* JavaScript Object Notation (JSON) est un format de données textuelles dérivé de la notation des objets du langage JavaScript. Comme le XML, il vise à représenter de l'information structurée mais à sa différence, il n'utilise pas un mécanisme de balises, mais une description de couples clés/valeurs. JSON présente l'avantage d'être peu verbeux, ce qui le rend lisible aussi bien par un humain que par une machine, et sa syntaxe est réduite. Un exemple de JSON:\n",
    "\n",
    "```\n",
    "{ \n",
    " \"title\": \"Artificial Intelligence\",\n",
    " \"publisher\": \"Pearson\",\n",
    " \"authors\": [\n",
    "             {\"first\": \"Peter\", \"last\": \"Norvig\"},\n",
    "             {\"first\": \"Stuart\",\"last\": \"Russell\"}\n",
    "         ]\n",
    "}\n",
    "```\n",
    "On remarque une forte ressemblance entre le format JSON et la structure de donnée dictionnaire que l'on a étudié. C'est un format qui est plus facile à manipuler que l'XML, et qui est d'autant plus simplifié en Python qu'il peut facilement être transformé en dictionnaire. Python offre des modules permettant la manipulation d'XML ((https://docs.python.org/3/library/xml.etree.elementtree.html)[https://docs.python.org/3/library/xml.etree.elementtree.html]) et du JSON ((https://docs.python.org/fr/3/library/json.html)[https://docs.python.org/fr/3/library/json.html]). \n",
    "\n",
    "Nous allons découvrir le module ```json``` pour décoder et encoder des données JSON.\n",
    "\n",
    "Reprenons notre jeu de donnée précédent sur les lieux d'exposition et d'art à Toulouse. L'API open data de la ville de Toulouse permet d'exporter les données en JSON. Le lien suivant nous permet de récupérer un fichier json des données :\n",
    "https://data.toulouse-metropole.fr/api/explore/v2.1/catalog/datasets/galeries-d-art-et-lieux-d-exposition/exports/json?lang=fr&timezone=Europe%2FBerlin\n",
    "\n",
    "Un fichier json est un fichier qui contient une description JSON de plusieurs éléments, chaque élément étant décrit par un dictionnaire. Par convention, son extension est .json. \n",
    "\n",
    "Les six types de base du format JSON sont les suivants :\n",
    "* Chaîne de caractères : une séquence de 0 ou plus caractères Unicode. À l'instar des clés, elles sont obligatoirement entourées de guillemets4 (non interchangeables avec des apostrophes) ;\n",
    "* Nombre : un nombre décimal signé qui peut contenir une part fractionnable ou élevée à la puissance (notation E). Le Json n'admet pas les nombres inexistants (NaN)5, et ne fait aucune distinction entre un entier et un flottant ;\n",
    "* Booléen : true ou false sont utilisés pour définir l'état du booléen ;\n",
    "* Type null : une valeur vide, utilisant le mot clé null ;\n",
    "* Tableau ;\n",
    "* Objet.\n",
    "\n",
    "Plutôt que de travailler avec le fichier, nous allons d'abord effectuer une requête HTTP à l'aide de ```requests``` pour récupérer notre chaine de caractère décrivant nos données JSON :"
   ]
  },
  {
   "cell_type": "code",
   "execution_count": 13,
   "id": "21aff046-4ab3-4755-bb18-cfb6312faaa8",
   "metadata": {},
   "outputs": [
    {
     "name": "stdout",
     "output_type": "stream",
     "text": [
      "[{\"geo_point_2d\": {\"lon\": 1.4475430070223585, \"lat\": 43.62686461027098}, \"geo_shape\": {\"type\": \"Feature\", \"geometry\": {\"coordinates\": [[1.447543007022358, 43.62686461027098]], \"type\": \"MultiPoint\"}, \"properties\": {}}, \"nom_equipement\": \"BBB - CENTRE D'ART\", \"gestionnaire\": \"Association\", \"telephone\": \"05 61 13 37 14\", \"numero\": 96, \"lib_off\": \"RUE MICHEL ANGE\", \"id_secteur_postal\": 31200, \"ville\": \"TOULOUSE\", \"secteur\": 3, \"quartier\": 3.3, \"site_web\": \"www.lebbb.org\"},{\"geo_point_2d\": {\"lon\": 1.444607529170136, \"lat\": 43.60832542550349}, \"geo_shape\": {\"type\": \"Feature\", \"geometry\": {\"coordinates\": [[1.444607529170136, 43.60832542550349]], \"type\": \"MultiPoint\"}, \"properties\": {}}, \"nom_equipement\": \"CENTRE CULTUREL BELLEGARDE\", \"gestionnaire\": \"Mairie de Toulouse - DGA Culture\", \"telephone\": \"05 62 27 44 88\", \"numero\": 17, \"lib_off\": \"RUE BELLEGARDE\", \"id_secteur_postal\": 31000, \"ville\": \"TOULOUSE\", \"secteur\": 1, \"quartier\": 1.1, \"site_web\": \"www.toulouse.fr\"},{\"geo_point_2d\": {\"lon\": 1\n"
     ]
    }
   ],
   "source": [
    "import requests\n",
    "\n",
    "# Making a get request\n",
    "response = requests.get(\"https://data.toulouse-metropole.fr/api/explore/v2.1/catalog/datasets/galeries-d-art-et-lieux-d-exposition/exports/json?lang=fr&timezone=Europe%2FBerlin\")\n",
    "\n",
    "# On récupère les donnée que l'on met dans la variable raw_data\n",
    "raw_data = response.text\n",
    "\n",
    "# On affiche la chaine de caractère:\n",
    "print(raw_data[:1000])\n",
    "# Pour éviter un affichage trop gros, les résultats sont tronqués à l'opérateur [:1000], on ne récupère que les 1000 premiers caractères."
   ]
  },
  {
   "cell_type": "markdown",
   "id": "04c9f2e1-7cc8-44d4-9f09-3c8a439c3c87",
   "metadata": {},
   "source": [
    "En l'état, la chaine de caractère est difficile à lire. Elle contient les mêmes informations que notre fichier csv précédent, mais représentés sous la forme de couples clé/valeurs.\n",
    "\n",
    "Le module ```json``` nous permet d'interagir avec des données json. Pour convertir une chaine de caractère (qui contient la description textuelle d'un JSON), on utilise la méthode ```loads```. \n",
    "\n",
    "On obtient alors une ```list``` de ```dict```, c'est à dire une liste, dans laquelle chaque élément contient un dictionnaire.  \n",
    "\n",
    "A l'inverse, pour convertir objet JSON en chaine de caractère, on utilise la méthode ```json.dumps(data)```. Il est possible de spécifier le niveau d'indentation souhaité avec le paramètre ```indent```. \n",
    "\n",
    "Si l'indentation est un nombre entier non négatif ou une chaîne de caractères, les éléments du tableau JSON et les membres de l'objet seront imprimés avec ce niveau d'indentation. Un niveau d'indentation de 0, négatif, ou \"\" insérera seulement des nouvelles lignes. None (la valeur par défaut) sélectionne la représentation la plus compacte. L'utilisation d'un nombre entier positif indentation indente ce nombre d'espaces par niveau. Si l'indentation est une chaîne (telle que \"\\t\"), cette chaîne est utilisée pour indenter chaque niveau."
   ]
  },
  {
   "cell_type": "code",
   "execution_count": 14,
   "id": "5cc1eaae-5091-47ab-9893-d27690539f60",
   "metadata": {},
   "outputs": [
    {
     "name": "stdout",
     "output_type": "stream",
     "text": [
      "[\n",
      "    {\n",
      "        \"geo_point_2d\": {\n",
      "            \"lon\": 1.4475430070223585,\n",
      "            \"lat\": 43.62686461027098\n",
      "        },\n",
      "        \"geo_shape\": {\n",
      "            \"type\": \"Feature\",\n",
      "            \"geometry\": {\n",
      "                \"coordinates\": [\n",
      "                    [\n",
      "                        1.447543007022358,\n",
      "                        43.62686461027098\n",
      "                    ]\n",
      "                ],\n",
      "                \"type\": \"MultiPoint\"\n",
      "            },\n",
      "            \"properties\": {}\n",
      "        },\n",
      "        \"nom_equipement\": \"BBB - CENTRE D'ART\",\n",
      "        \"gestionnaire\": \"Association\",\n",
      "        \"telephone\": \"05 61 13 37 14\",\n",
      "        \"numero\": 96,\n",
      "        \"lib_off\": \"RUE MICHEL ANGE\",\n",
      "        \"id_secteur_postal\": 31200,\n",
      "        \"ville\": \"TOULOUSE\",\n",
      "        \"secteur\": 3,\n",
      "        \"quartier\": 3.3,\n",
      "        \"site_web\": \"www.lebbb.org\"\n",
      "    },\n",
      "    {\n",
      "        \"geo_point_2d\": {\n",
      "            \"lon\": 1.444607529170136,\n",
      "            \"lat\": 43.60832542550349\n",
      "        },\n",
      "        \"geo_shape\": {\n",
      "            \"type\": \"Feature\",\n",
      "            \"\n"
     ]
    }
   ],
   "source": [
    "import requests\n",
    "import json\n",
    "\n",
    "# Making a get request\n",
    "response = requests.get(\"https://data.toulouse-metropole.fr/api/explore/v2.1/catalog/datasets/galeries-d-art-et-lieux-d-exposition/exports/json?lang=fr&timezone=Europe%2FBerlin\")\n",
    "\n",
    "# On récupère les donnée sous un format json. Ne fonctionne que si les données possède ce format ou peuvet être encodés dans ce format.\n",
    "raw_data = response.text\n",
    "\n",
    "# On récupère les données sous la forme d'un liste de dictionnaire, chaque dictionnaire étant la représentation d'un objet json.\n",
    "json_data = json.loads(raw_data)\n",
    "\n",
    "# On affiche le JSON sous la forme d'une chaine de caractère avec une indentaespacestion à quatre :\n",
    "print(json.dumps(json_data, indent=4)[:1000])\n",
    "# Pour éviter un affichage trop gros, les résultats sont tronqués à l'opérateur [:1000], on ne récupère que les 1000 premiers caractères."
   ]
  },
  {
   "cell_type": "markdown",
   "id": "9f77fb25-0c1e-46e0-ac98-e60ec5967c8f",
   "metadata": {},
   "source": [
    "L'utilisation de la méthode ```.loads(str)``` nous permet de construire une liste de dictionnaires qui représente l'objet JSON et les différents éléments qui le compose.\n",
    "\n",
    "Ainsi l'instruction ```json_data = json.loads(raw_data)``` construit une variable nommée ```json_data``` qui contient directement les données de notre JSON.\n",
    "\n",
    "On peut maintenant interroger nos données:"
   ]
  },
  {
   "cell_type": "code",
   "execution_count": 15,
   "id": "f9af836f-bd71-4c8c-96ba-a9a6f029237a",
   "metadata": {},
   "outputs": [
    {
     "name": "stdout",
     "output_type": "stream",
     "text": [
      "{'geo_point_2d': {'lon': 1.4475430070223585, 'lat': 43.62686461027098}, 'geo_shape': {'type': 'Feature', 'geometry': {'coordinates': [[1.447543007022358, 43.62686461027098]], 'type': 'MultiPoint'}, 'properties': {}}, 'nom_equipement': \"BBB - CENTRE D'ART\", 'gestionnaire': 'Association', 'telephone': '05 61 13 37 14', 'numero': 96, 'lib_off': 'RUE MICHEL ANGE', 'id_secteur_postal': 31200, 'ville': 'TOULOUSE', 'secteur': 3, 'quartier': 3.3, 'site_web': 'www.lebbb.org'}\n",
      "www.lebbb.org\n",
      "www.lebbb.org\n",
      "www.toulouse.fr\n",
      "www.jacobins.mairie-toulouse.fr\n",
      "www.cultures.toulouse.fr\n",
      "www.caisseepargne-art-contemporain.fr\n",
      "www.cultures.toulouse.fr\n",
      "www.toulouse.fr\n",
      "www.culture-enac.com\n",
      "www.toulouse.fr\n",
      "www.cmaville.org\n",
      "http://www.galerie-art-alain-daudet.com\n",
      "www.chu-toulouse.fr\n",
      "www.toulouse.cervantes.es/fr\n",
      "www.ciam-univ-toulouse2.fr\n",
      "www.albanminville.toulouse.fr\n",
      "www.toulouse.fr\n",
      "http://www.toulouse.fr/web/social/espace-des-diversites-et-de-la-laicite\n",
      "www.galeriechateaudeau.org\n",
      "www.passagealart.com\n",
      "galeriepinxit@orange.fr\n",
      "www.esna-toulouse.org\n",
      "www.musicophages.org\n",
      "www.bibliotheque.toulouse.fr\n",
      "www.ombres-blanches.fr\n",
      "None\n",
      "http://www.bam-gallery.com/\n",
      "www.toulouse.fr\n",
      "www.centrecultureldesminimes.fr\n",
      "www.toulouse.fr\n",
      "www.cultures.tououse.fr\n",
      "www.bazacle.edf.com\n",
      "www.haute-garonne.fr\n",
      "www.espacew31.fr\n",
      "http://www.galeriefabricegalvani.com\n",
      "www.galeriekandler.com\n",
      "www.galeriesourillan.com\n",
      "www.ostaldoccitania.net\n",
      "www.toulouse.fr\n",
      "www.samba-resille.org\n",
      "www.toulouse.fr\n",
      "www.cultures.toulouse.fr\n",
      "www.exprmntl.fr\n",
      "http://www.cndp.fr/crdp-toulouse/spip.php?rubrique2727#top\n",
      "www.lieu-commun.fr\n",
      "www.toulouse.fr\n"
     ]
    }
   ],
   "source": [
    "# Afficher le premier lieu\n",
    "print(json_data[0])\n",
    "\n",
    "# Afficher le site internet du premier lieu:\n",
    "print(json_data[0][\"site_web\"])\n",
    "\n",
    "# Parcourir l'emble des lieux et afficher le site web:\n",
    "for data in json_data:\n",
    "    print(data[\"site_web\"])"
   ]
  },
  {
   "cell_type": "markdown",
   "id": "f17bc722-24e9-4426-a4c1-9c86a02c3a43",
   "metadata": {},
   "source": [
    "Un element JSON peut contenir plusieurs types de donnée, chaque type de donnée va être décodé dans un type python: \n",
    "\n",
    "JSON -> Python\n",
    "object -> dict\n",
    "array -> list\n",
    "string -> str\n",
    "number (int) -> int\n",
    "number (real) -> float\n",
    "true -> True\n",
    "false -> False\n",
    "null -> None\n",
    "\n",
    "Par exemple, la donnée \"geo_shape\" est associée à un dictionnaire qui contient un champ \"geometry\". Le champ \"geometry\" est associé à un dictionnaire qui contient un champ \"coordinates\". \n",
    "Le champ \"coordinates\" contient un tableau de 2 éléments :"
   ]
  },
  {
   "cell_type": "code",
   "execution_count": 16,
   "id": "ecfbd277-99d5-4f8d-9224-1b9dd331cddc",
   "metadata": {},
   "outputs": [
    {
     "name": "stdout",
     "output_type": "stream",
     "text": [
      "{'type': 'Feature', 'geometry': {'coordinates': [[1.447543007022358, 43.62686461027098]], 'type': 'MultiPoint'}, 'properties': {}}\n"
     ]
    }
   ],
   "source": [
    "print(json_data[0][\"geo_shape\"])"
   ]
  },
  {
   "cell_type": "code",
   "execution_count": 17,
   "id": "3ba2682e-f5a8-4b72-9520-9280339a2969",
   "metadata": {},
   "outputs": [
    {
     "name": "stdout",
     "output_type": "stream",
     "text": [
      "[[1.447543007022358, 43.62686461027098]]\n"
     ]
    }
   ],
   "source": [
    "print(json_data[0][\"geo_shape\"][\"geometry\"][\"coordinates\"])"
   ]
  },
  {
   "cell_type": "markdown",
   "id": "47108877-6294-4f92-874d-959b0cb83a9a",
   "metadata": {},
   "source": [
    "On constate que par rapport au fichier csv, la manipulation des données est simplifiée et plus lisible.\n",
    "\n",
    "La majorité des web services permettent de récupérer les données sous le format JSON. \n",
    "\n",
    "Pour exploiter les données JSON, il faut alors parcourir l'arborescence de notre dictionnaire en faisant attention aux types des données qu'il contient (et il faut donc bien maitriser listes et dictionnaires).\n",
    "\n",
    "Il est possible de construire son propre JSON directement à partir de votre dictionnaire ou liste python :"
   ]
  },
  {
   "cell_type": "code",
   "execution_count": 18,
   "id": "02e84b0b-78f3-46e4-be81-2026d3dd56c9",
   "metadata": {},
   "outputs": [
    {
     "name": "stdout",
     "output_type": "stream",
     "text": [
      "{\"a\": 0, \"b\": 0, \"c\": 0}\n"
     ]
    }
   ],
   "source": [
    "print(json.dumps({\"c\": 0, \"b\": 0, \"a\": 0}, sort_keys=True))"
   ]
  },
  {
   "cell_type": "markdown",
   "id": "d39b8a50-e525-4461-ad73-eb78ab95fb0f",
   "metadata": {},
   "source": [
    "N'hésitez pas à lire la documentation : (https://docs.python.org/fr/3/library/json.html)[https://docs.python.org/fr/3/library/json.html]"
   ]
  },
  {
   "cell_type": "markdown",
   "id": "b9353164",
   "metadata": {
    "slideshow": {
     "slide_type": "slide"
    },
    "tags": []
   },
   "source": [
    "# En résumé :\n",
    "* Le module ```requests``` permet d'effectuer des requêtes HTTP et d'en récupérer le contenu\n",
    "* La méthode ```r=requests.get(url)``` permet d'effectuer une requête GET vers l'URL passée en paramètre\n",
    "* Je récupère le résultat de la requête grâce à la méthode ```r.text``` sous la forme d'une chaîne de caractère.\n",
    "* Il existe 3 types principaux de retours à une requête ```HTTP``` : ```HTML```, ```XML``` et ```JSON```\n",
    "* JSON est un format de donnée textuel sous la forme de couples clés/valeurs\n",
    "* Les valeurs peuvent avoir 6 types : chaine de caractères, nombre, booléen, null, Tableau ou Objet.\n",
    "* Le module ```json``` permet d'interagir avec des données JSON\n",
    "* La méthode ```json.loads(str)``` permet de convertir une chaine de caractère JSON en une liste de dictionnaires où chaque élément de la liste contient un dictionnaire décrivant l'élément.\n",
    "* Je peux parcourir ma liste des éléments et accéder aux différents champs (mais il faut au préalable que je comprenne la structure du JSON)\n",
    "* La méthode ```json.dumps(object)``` permet de convertir un objet Python en une chaine de caractère JSON"
   ]
  },
  {
   "cell_type": "markdown",
   "id": "fe0ab500-acfa-461a-955a-432f8116437f",
   "metadata": {},
   "source": [
    "# Je suis donc capable\n",
    "* D'utiliser le module ```requests``` pour effectuer des requêtes HTTP, notamment pour récupérer des données\n",
    "* D'analyser le résultat d'une requête request\n",
    "* De lire et manipuler des fichier csv à partir de leur représentation sous la forme d'une chaine de caractère.\n",
    "* De décoder et d'encoder dans des données dans un format JSON\n",
    "* D'extraire et de manipuler des informations contenues dans un JSON"
   ]
  }
 ],
 "metadata": {
  "celltoolbar": "Diaporama",
  "kernelspec": {
   "display_name": "Python 3 (ipykernel)",
   "language": "python",
   "name": "python3"
  },
  "language_info": {
   "codemirror_mode": {
    "name": "ipython",
    "version": 3
   },
   "file_extension": ".py",
   "mimetype": "text/x-python",
   "name": "python",
   "nbconvert_exporter": "python",
   "pygments_lexer": "ipython3",
   "version": "3.9.7"
  },
  "toc-autonumbering": true
 },
 "nbformat": 4,
 "nbformat_minor": 5
}
