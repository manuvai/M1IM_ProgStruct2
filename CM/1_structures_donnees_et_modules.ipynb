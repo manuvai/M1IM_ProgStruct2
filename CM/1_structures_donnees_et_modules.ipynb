{
 "cells": [
  {
   "cell_type": "markdown",
   "id": "c30199cf-95c2-4522-ad60-a73d8a05b3f4",
   "metadata": {
    "slideshow": {
     "slide_type": "slide"
    }
   },
   "source": [
    "# ![./pics/logo_ut1.jpg](./pics/logo_ut1.jpg) Master 1 Ingénierie Métier (IM) : Programmation Structurée 2 2022/2023\n",
    "\n",
    "# Structures de données avancées et modules\n",
    "\n",
    "### Equipe pédagogique \n",
    "    Sophie Martinez - Sophie.Martinez@ut-capitole.fr\n",
    "    Laurent Marsan - Laurent.Marsan@ut-capitole.fr\n",
    "    Nicolas Verstaevel - Nicolas.Verstaevel@ut-capitole.fr"
   ]
  },
  {
   "cell_type": "markdown",
   "id": "8fb84381",
   "metadata": {},
   "source": [
    "# Au semestre précédent, nous avons vu:\n",
    "* ✔️ Un algorithme est un enchainement de *séquences*\n",
    "* ✔️ On peut contrôler l'enchainement à l'aide de deux structures de contrôle:\n",
    "* ✔️ 1. Les enchainement conditionnels (**If,else**, **if, elif,else**)\n",
    "* ✔️ 2. Les répétitions (**While**,**for**,**for, in range**)\n",
    "* ✔️ On peut utiliser des fonctions ou des procédures.\n",
    "* ✔️ On peut utiliser des structures de données pour regrouper et manipuler des éléments:\n",
    "* ✔️ 1. Les listes pour les **éléments ordonés**.\n",
    "* ✔️ 2. Les dictionnaires pour les couples **clé/valeurs**.\n",
    "* ✔️ 3. Les n-uplets pour les séquences d'**éléments ordonnées non mutable**.\n",
    "* ✔️ 4. Les ensembles (set) pour les séquences d'**éléments non ordonnées uniques**."
   ]
  },
  {
   "cell_type": "markdown",
   "id": "d6b41699",
   "metadata": {},
   "source": [
    "Nous avons principalement travaillé avec deux structures de données:\n",
    "* **Les listes** : pour stocker des éléments ordonnées  \n",
    "* **Les dictionnaires** : pour stocker des couples clé/valeur(s)\n",
    "\n",
    "Revenons d'abord sur leur usage:"
   ]
  },
  {
   "cell_type": "markdown",
   "id": "0aad54ec",
   "metadata": {},
   "source": [
    "# Les listes\n",
    "\n",
    "Une liste en Python permet de stocker des éléments de manière ordonnées. C'est à dire que chaque élément est placé dans une case que l'on identifie grace à son index. Par exemple : \n"
   ]
  },
  {
   "cell_type": "code",
   "execution_count": 1,
   "id": "f9d13e3f",
   "metadata": {},
   "outputs": [],
   "source": [
    "mon_tableau = [1,2,3]\n",
    "\n",
    "# 1 est situé à l'indice 0\n",
    "# 2 est situé à l'indice 1\n",
    "# 3 est situé à l'indice 2"
   ]
  },
  {
   "cell_type": "markdown",
   "id": "f3efd66c",
   "metadata": {},
   "source": [
    "Pour accéder à un élément, on utilise son indice. Par exemple, pour accéder à l'élément \"1\" situé à l'indice 0:"
   ]
  },
  {
   "cell_type": "code",
   "execution_count": 2,
   "id": "300857b2",
   "metadata": {
    "scrolled": true
   },
   "outputs": [
    {
     "name": "stdout",
     "output_type": "stream",
     "text": [
      "1\n"
     ]
    }
   ],
   "source": [
    "print(mon_tableau[0])"
   ]
  },
  {
   "cell_type": "markdown",
   "id": "2c46dc54",
   "metadata": {},
   "source": [
    "A tout moment je peux accéder à la taille de ma liste et savoir combien d'éléments le compose:"
   ]
  },
  {
   "cell_type": "code",
   "execution_count": 3,
   "id": "e0c1f0cb",
   "metadata": {},
   "outputs": [
    {
     "name": "stdout",
     "output_type": "stream",
     "text": [
      "3\n"
     ]
    }
   ],
   "source": [
    "print(len(mon_tableau))\n",
    "\n",
    "# Ici, la taille est 3 car mon_tableau contient 3 éléments."
   ]
  },
  {
   "cell_type": "markdown",
   "id": "9053fcc6",
   "metadata": {},
   "source": [
    "On peut par exemple écrire une fonction qui prend en paramètre un tableau et nous affiche sa taille :"
   ]
  },
  {
   "cell_type": "code",
   "execution_count": 4,
   "id": "4e0bd1d8",
   "metadata": {},
   "outputs": [
    {
     "name": "stdout",
     "output_type": "stream",
     "text": [
      "Il y a 3 éléments dans mon tableau\n"
     ]
    }
   ],
   "source": [
    "def taille(tab:[]):\n",
    "    print(\"Il y a \"+str(len(mon_tableau))+ \" éléments dans mon tableau\")\n",
    "    \n",
    "taille(mon_tableau)"
   ]
  },
  {
   "cell_type": "markdown",
   "id": "5864f2a5",
   "metadata": {},
   "source": [
    "On peut aussi parcourir tout les éléments de la liste à l'aide du mot clé ```for```"
   ]
  },
  {
   "cell_type": "code",
   "execution_count": 5,
   "id": "1367a116",
   "metadata": {},
   "outputs": [
    {
     "name": "stdout",
     "output_type": "stream",
     "text": [
      "1\n",
      "2\n",
      "3\n"
     ]
    }
   ],
   "source": [
    "for element in mon_tableau:\n",
    "    print(element)"
   ]
  },
  {
   "cell_type": "markdown",
   "id": "119c8d1f",
   "metadata": {},
   "source": [
    "On peut ajouter des éléments à notre liste, soit à l'aide de la méthode ```append```qui permet d'ajouter un élément à la fin de notre liste, soit avec la méthode ```insert``` qui prend comme paramètre l'indice où l'on veut ajouter un élément et l'élement à ajouter. A noter que Python s'occupe tout seul de décaler au besoin les élements de la liste, et de mettre à jour sa taille."
   ]
  },
  {
   "cell_type": "code",
   "execution_count": 6,
   "id": "960f801e",
   "metadata": {},
   "outputs": [
    {
     "name": "stdout",
     "output_type": "stream",
     "text": [
      "[1, 2, 3]\n",
      "[1, 2, 3, 4]\n",
      "Il y a 4 éléments dans mon tableau\n"
     ]
    }
   ],
   "source": [
    "print(mon_tableau)\n",
    "mon_tableau.append(4) # Avec la méthode .append, on ajoute toujours un élément à la fin du tableau.\n",
    "print(mon_tableau)\n",
    "taille(mon_tableau)"
   ]
  },
  {
   "cell_type": "code",
   "execution_count": 7,
   "id": "d560187c",
   "metadata": {},
   "outputs": [
    {
     "name": "stdout",
     "output_type": "stream",
     "text": [
      "[1, 2, 3, 4]\n",
      "[0, 1, 2, 3, 4]\n",
      "Il y a 5 éléments dans mon tableau\n"
     ]
    }
   ],
   "source": [
    "print(mon_tableau)\n",
    "mon_tableau.insert(0,0) # Avec la méthode .insert, on ajoute à l'indice 0 l'élément 0\n",
    "print(mon_tableau)\n",
    "taille(mon_tableau)\n",
    "\n",
    "# On remarque que maintenant, l'élément \"1\" se retrouve à l'indice 1"
   ]
  },
  {
   "cell_type": "markdown",
   "id": "c9c3a26b",
   "metadata": {},
   "source": [
    "De la même manière, on peut supprimer des éléments dans notre liste à l'aide du mot clé ```del```"
   ]
  },
  {
   "cell_type": "code",
   "execution_count": 8,
   "id": "8469289b",
   "metadata": {},
   "outputs": [
    {
     "name": "stdout",
     "output_type": "stream",
     "text": [
      "[0, 1, 2, 3, 4]\n",
      "[1, 2, 3, 4]\n",
      "Il y a 4 éléments dans mon tableau\n"
     ]
    }
   ],
   "source": [
    "# Par exemple, je veux supprimer ce qui est contenu à l'indice 0\n",
    "print(mon_tableau)\n",
    "del mon_tableau[0]\n",
    "print(mon_tableau)\n",
    "taille(mon_tableau)"
   ]
  },
  {
   "cell_type": "markdown",
   "id": "b7eeb700",
   "metadata": {},
   "source": [
    "Une liste est donc une structure dynamique: sa taille et les éléments qui la compose peuvent changer. Un élement peut par exemple changer d'indice après un ajout ou une modification. Si je cherche un élément spécifique dans ma liste, il me faut obligatoirement la parcourir. \n",
    "\n",
    "Ce n'est donc pas une structure de donnée pertinente pour accéder rapidement à une information (on préferera alors le dictionnaire) sauf si l'on est certain de la case dans laquelle il se trouve."
   ]
  },
  {
   "cell_type": "markdown",
   "id": "984e5d5b",
   "metadata": {},
   "source": [
    "En informatique, on parle de **complexité** pour exprimer une grandeur d'ordre du temps de calcul nécessaire au pire cas pour effectuer une opération. On exprime cette compléxité avec une fonction $O$.\n",
    "\n",
    "Dans une liste, l'**accès à une celulle d'un tableau** à partir de son indice se fait en $O(1)$. $O(1)$ est la complexité la plus faible. Il faut un temps minimal pour accéder à la donnée, et que ce temps est toujours le même (et n'est pas lié aux nombres d'éléments dans la liste).\n",
    "\n",
    "La **recherche d'un élément dans un tableau** se fait en $O(n)$ où $n$ est la taille du tableau. C'est une complexité linéaire par rapport à la taille du tableau: plus celui-ci est grand, et plus le temps pour rechercher un élément sera grand. En effet, dans le pire cas, l'élément que l'on recherche est contenu dans la dernière case du tableau, il faut donc parcourir les n-1 éléments précédents avant de trouver celui que l'on cherche.\n",
    "\n",
    "Certaines opérations peuvent être très consomatrices en temps, avec des complexités de l'ordre de $O(n²)$ (le tri à bulle) ou $O(n!)$ (problème du voyageur de commerce)."
   ]
  },
  {
   "cell_type": "markdown",
   "id": "130c2e55",
   "metadata": {
    "slideshow": {
     "slide_type": "-"
    }
   },
   "source": [
    "## Complexité des opérations sur une liste\n",
    "| Opération | Exemple | Complexité |\n",
    "|---    |:-:    |:-:    |\n",
    "| Ajout à la fin | ma_liste.append(x) | $O(1)$ |\n",
    "| Accès à un élément | ma_liste[i] | $O(1)$ |\n",
    "| Modification d'un élément | ma_liste[i] = x | $O(1)$ |\n",
    "| Effacement d'un élément | del ma_liste[i] | $O(n)$ |\n",
    "| Insertion d'un élément | ma_liste.insert(i,x) | $O(n)$ |\n",
    "| Recherche d'un élément | x in ma_liste | $O(n)$ |"
   ]
  },
  {
   "cell_type": "markdown",
   "id": "de122e6a",
   "metadata": {},
   "source": [
    "## Ce qu'il faut retenir\n",
    "* Les opérations en $O(1)$ ne prennent pas beaucoup de temps, on peut donc s'en servir à volontée.\n",
    "* Les opérations en $O(n)$ ont une complexité qui depend de la taille de la structure, plus il y a d'éléments, plus l'opération prend du temps, mais la relation est linéaire.\n",
    "* Les opérations en $O(n²)$ ou $O(n!)$ ont une complexité non linéaire, ces opération sont couteuses en temps (et donc à utiliser avec parcimonie)"
   ]
  },
  {
   "cell_type": "markdown",
   "id": "f91348fb",
   "metadata": {},
   "source": [
    "# Les dictionnaires\n",
    "Un dictionnaire en python est une structure de donnée qui permet d'associer à une clé un élément (ou un ensemble d'éléments). Le principal avantage du dictionnaire est que la recherche d'un élément à partir de sa clé se fait en $O(1)$, c'est donc rapide. Par exemple:"
   ]
  },
  {
   "cell_type": "code",
   "execution_count": 9,
   "id": "7402b832",
   "metadata": {},
   "outputs": [
    {
     "name": "stdout",
     "output_type": "stream",
     "text": [
      "2\n"
     ]
    }
   ],
   "source": [
    "mon_dico = { \"clé1\" : \"valeur1\", \"clé2\" : \"valeur2\"}\n",
    "print(len(mon_dico))"
   ]
  },
  {
   "cell_type": "markdown",
   "id": "199714d8",
   "metadata": {},
   "source": [
    "Une clé me permet d'accéder directement à l'élément qu'elle contient, par exemple:"
   ]
  },
  {
   "cell_type": "code",
   "execution_count": 10,
   "id": "0c8248fa",
   "metadata": {
    "scrolled": true
   },
   "outputs": [
    {
     "name": "stdout",
     "output_type": "stream",
     "text": [
      "valeur1\n"
     ]
    }
   ],
   "source": [
    "print(mon_dico[\"clé1\"]) # Ici j'accède à l'élément associé à clé1"
   ]
  },
  {
   "cell_type": "markdown",
   "id": "aeeb6ed9",
   "metadata": {},
   "source": [
    "Un dictionnaire me permet donc d'associer à une clé un élément et permet d'accéder rapidement à cet élément à partir de sa clé.\n",
    "\n",
    "Cet élément peut être une valeur, ou une structure de donnée. Par exemple:"
   ]
  },
  {
   "cell_type": "code",
   "execution_count": 11,
   "id": "2a01787d",
   "metadata": {},
   "outputs": [],
   "source": [
    "mon_dico2 = { \"clé1\" : 1, \"clé2\" : [1,2,3]}"
   ]
  },
  {
   "cell_type": "markdown",
   "id": "777ed1a7",
   "metadata": {},
   "source": [
    "Dans cet exemple, ```clé1``` est associé à un entier $1$, alors que ```clé2```est associé à une liste ```[1,2,3]```"
   ]
  },
  {
   "cell_type": "markdown",
   "id": "93b8f2c3",
   "metadata": {},
   "source": [
    "Je peux ajouter de manière simple des éléments à mon dictionnaire: "
   ]
  },
  {
   "cell_type": "code",
   "execution_count": 12,
   "id": "b82f2a5b",
   "metadata": {},
   "outputs": [
    {
     "name": "stdout",
     "output_type": "stream",
     "text": [
      "{'clé1': 1, 'clé2': [1, 2, 3], 'clé3': 'Hello'}\n"
     ]
    }
   ],
   "source": [
    "mon_dico2[\"clé3\"] = \"Hello\" # Ici, \"clé3\" n'existe pas, Python va créer un nouveau couple clé/valeur et l'ajouter au dico\n",
    "print(mon_dico2)\n",
    "mon_dico2[\"clé1\"] = 12      # Ici, \"clé1\" existe déjà, Python va donc mettre à jour sa valeur"
   ]
  },
  {
   "cell_type": "markdown",
   "id": "671b69f3",
   "metadata": {},
   "source": [
    "Tout comme les listes, le dictionnaire est une structure de donnée dynamique. sa taille et les éléments qui la compose peuvent changer. Mais un dictionnaire garantie l'unicité de ses clés : une clé ne peut être contenu qu'une seule fois dans un dictionnaire. Cette unicité permet d'accéder rapidement aux valeurs d'un dictionnaire:"
   ]
  },
  {
   "cell_type": "markdown",
   "id": "7354d54d",
   "metadata": {},
   "source": [
    "### Complexité des opérations sur un dictionnaire\n",
    "\n",
    "| Opération | Exemple | Complexité |\n",
    "|---    |:-:    |:-:    |\n",
    "| Ajout d'un élément | d[key] = val | $O(1)$ |\n",
    "| Modification d'un élément | ma_liste[key] = val | $O(1)$ |\n",
    "| Effacement d'un élément | del ma_liste[key] | $O(1)$ |\n",
    "| Accès à un élément | d[key] | $O(1)$ |\n",
    "| Recherche d'une clé | key in d | $O(1)$ |\n",
    "| Recherche d'une valeur | val in d.values() | $O(n)$ |"
   ]
  },
  {
   "cell_type": "markdown",
   "id": "7b56a0c1",
   "metadata": {},
   "source": [
    "On remarque que la complexité des opérations d'ajout, de modication, d'accès et de supression dans un dictionnaire sont de complexité $O(1)$. Les dictionnaires sont donc plus performant quand on doit réaliser plusieurs fois ces opérations.\n",
    "\n",
    "On peut parcourir un dictionnaire à l'aide de l'instruction ```for in```. \n",
    "\n",
    "On peut parcourir un dictionnaire de trois manière:\n",
    "* Parcourir les clés du dictionnaire\n",
    "* Parcourir les valeurs du dictionnaire\n",
    "* Parcourir les couples clés / valeurs"
   ]
  },
  {
   "cell_type": "code",
   "execution_count": 2,
   "id": "7edd1a9d-6ade-4c41-af31-524bb55892e7",
   "metadata": {},
   "outputs": [
    {
     "name": "stdout",
     "output_type": "stream",
     "text": [
      "Pikachu\n",
      "Bulbizare\n",
      "Electrique\n",
      "Plante\n",
      "Pikachu\n",
      "Electrique\n",
      "Bulbizare\n",
      "Plante\n"
     ]
    }
   ],
   "source": [
    "mon_dico = { \"Pikachu\":\"Electrique\", \"Bulbizare\":\"Plante\"} # On initialise un dictionnaire avec 2 élements\n",
    "\n",
    "# Parcours des clés\n",
    "for k in mon_dico.keys(): # on peut aussi écrire for k in mon_dico:\n",
    "    print(k)\n",
    "    \n",
    "# Parcours des valeurs \n",
    "for v in mon_dico.values():\n",
    "    print(v)\n",
    "    \n",
    "# Parcours des couples clé/valeur:\n",
    "for k , v in mon_dico.items():\n",
    "    print(k)\n",
    "    print(v)"
   ]
  },
  {
   "cell_type": "markdown",
   "id": "1fa0a917",
   "metadata": {
    "jp-MarkdownHeadingCollapsed": true,
    "tags": []
   },
   "source": [
    "# Listes ou dictionnaires?\n",
    "\n",
    "Les listes sont des structures ordonée de données, alors que les dictionnaires stockent les données sous la forme de couples clé/valeur. L'extraction des éléments de la liste est plus complexe que celle des dictionnaires car elle nécessite de parcourir toute la liste dans le pire cas. Les listes conservent l'ordre des éléments (indicés de $0$ à $n$) alors que les dictionnaires ne le font pas. \n",
    "\n",
    "En règle générale, il est préférable d'utiliser une structure de données de type liste lorsque les éléments doivent suivre un ordre strictement séquentiel ou lorsque vous traitez des données que vous devrez probablement modifier ultérieurement. Les dictionnaires et les listes sont tous deux mutables (c'est à dire que leur contenu peut changer), mais les clés de votre dictionnaire ne peuvent pas être dupliquées, et lorsque vous traitez des quantités massives de données la manipulation des listes peut devenir compliqué. Cependant, n'oubliez pas que leur méthode de recherche est raisonnablement coûteuse et a un temps d'exécution plus lent.\n",
    "\n",
    "D'un autre côté, les dictionnaires sont préférables pour tout type de données qui n'ont pas besoin d'être stockées et accessibles via un indice séquentiel ordonné. Dans tous les autres aspects, les dictionnaires sont supérieurs aux listes en termes de temps d'exécution et d'efficacité globale. Leurs méthodes principales (recherche, ajout et suppression) sont peu coûteuses et plus rapides.\n",
    "\n",
    "Listes et dictionnaires sont des structures de données qui sont intégrées (built-in) à Python. En fonction de vos besoins, il est aussi possible de définir vous même de nouvelles structures de données ou d'```importer```des nouveau **modules**."
   ]
  },
  {
   "cell_type": "markdown",
   "id": "b79fd0bf",
   "metadata": {},
   "source": [
    "# ✔️Je vérifie que j'ai bien compris:\n",
    "\n",
    "Pour les propositions suivante, est-il plus judicieux d'utiliser une liste ou un dictionnaire:\n",
    "\n",
    "a) Pour stocker un ensemble de notes dont je veux calculer la moyenne\n",
    "\n",
    "b) Pour stocker les notes obtenus par des étudiants\n",
    "\n",
    "c) Pour lister les caractères autorisés dans la saisie d'un mot de passe\n",
    "\n",
    "d) Pour stocker le contenu d'un fichier csv\n",
    "\n",
    "e) Pour stocker les réponses à un formulaire HTML"
   ]
  },
  {
   "cell_type": "markdown",
   "id": "ed331e51",
   "metadata": {},
   "source": [
    "# Les modules en Python"
   ]
  },
  {
   "cell_type": "markdown",
   "id": "f3b6e717-8164-4314-8e49-7f12721d97f8",
   "metadata": {},
   "source": [
    "Un programme Python est écrit dans un fichier portant l'extension ```.py```. D'ailleurs, lorsque l'on utilise Jupyter Notebook, on peut exporter son notebook en un **script** executable ```.py``` via le menu ```File->Save as->Executable Script(.py)```.\n",
    "\n",
    "En Python, un **module** est un fichier d'extension ```.py``` qui contient un ensemble de variables et de fonctions prédéfinies et fonctionelles. L'objectif d'un module est de *factoriser*, c'est à dire de mettre ensemble, des fonctionalités afin de les rendres plus facilement **réutilisable** et de **facilité leur maintient**. \n",
    "\n",
    "Les **modules** sont un bon moyen de répartir le code d'un grand programme sur plusieurs fichiers, et d'éviter d'avoir des scripts Python de plusieurs milliers de ligne. \n",
    "\n",
    "Un **module** vise à être partagé et utilisé entre plusieurs applications (on peut alors parler de bibliothèque logiciel). Python fournit de base plusieurs modules dans sa bibliothèque standard qui sont utilisables: https://docs.python.org/3/py-modindex.html\n",
    "\n",
    "Quelques exemples de modules:\n",
    "\n",
    "| Module | Description | \n",
    "|---    |:-:    |\n",
    "|   sys     |   variables et fonctions pour interagir avec l’interpréteur Python |\n",
    "|    os    |    fonctions élémentaires pour interagir avec le système d’exploitation         |\n",
    "|  math      |   fonctions mathématiques avancées    |\n",
    "|    random    |   bibliothèque pour la génération de nombres aléatoires          |\n",
    "|    time    |    fonctions liées au temps (voir aussi les modules datetime et calendar)       |\n",
    "\n",
    "\n",
    "Dans cette section, nous allons apprendre à créer et importer des modules. Nous allons créer un nouveau type de structure de donnée (la Pile) sous la forme d'un module et utiliser ce module dans un **script** Python."
   ]
  },
  {
   "cell_type": "markdown",
   "id": "fa9f4780-6a75-430d-a299-cc8f1611e312",
   "metadata": {},
   "source": [
    "## Importer un module\n",
    "\n",
    "Pour importer un module, on utilise l'instruction ```import``` suivi du nom du module. S'il ne s'agit pas d'un module standard, il faut alors que le fichier ```.py``` soit localisé à côté de votre script principale (à côté du fichier ```.ipynb``` dans notre cas)."
   ]
  },
  {
   "cell_type": "code",
   "execution_count": 13,
   "id": "d1cd1388-c592-491e-a60f-5f12a82e5d3a",
   "metadata": {},
   "outputs": [],
   "source": [
    "import time"
   ]
  },
  {
   "cell_type": "markdown",
   "id": "2468dfd3-f2ee-4303-8c0d-23a1ce7846bd",
   "metadata": {},
   "source": [
    "L'instruction ```import``` peut être placée à n'importe quel endroit du programme. Par convention, on placera les instructions ```import``` dans les premières lignes de notre script.\n",
    "\n",
    "L'instruction ```import``` execute le code python contenu dans le module. S'il y a des décalarations de variables et de fonction, elles sont alors disponibles. S'il y a des instructions (un ```print``` par exemple), ces instructions sont alors exécutée."
   ]
  },
  {
   "cell_type": "code",
   "execution_count": 14,
   "id": "4337c299-cb41-439a-80ed-b00438dd1c77",
   "metadata": {},
   "outputs": [
    {
     "name": "stdout",
     "output_type": "stream",
     "text": [
      "result: time.struct_time(tm_year=2023, tm_mon=1, tm_mday=2, tm_hour=17, tm_min=5, tm_sec=55, tm_wday=0, tm_yday=2, tm_isdst=0)\n",
      "\n",
      "year: 2023\n",
      "tm_hour: 17\n"
     ]
    }
   ],
   "source": [
    "import time                             # Par exemple, on importe le module Time qui permet de récupérer l'heure système\n",
    "localtime = time.localtime()            # On récupère l'heure local\n",
    "print(\"result:\", localtime)             # On affiche la structure\n",
    "print(\"\\nyear:\", localtime.tm_year)     # On affiche uniquement l'année\n",
    "print(\"tm_hour:\", localtime.tm_hour)    # On affiche l'heure"
   ]
  },
  {
   "cell_type": "markdown",
   "id": "01533aff-fbd9-4943-80d6-13e992a0ba79",
   "metadata": {},
   "source": [
    "Un module contient un ensemble de variables et de fonction. Pour pouvoir l'utiliser, il est nécessaire de se référer à sa documentation (quant elle existe!). \n",
    "\n",
    "Il est possible d'importer plusieurs modules en même temps:"
   ]
  },
  {
   "cell_type": "code",
   "execution_count": 15,
   "id": "8affeb23-02f7-4073-8f11-3f6bdc0c0baa",
   "metadata": {},
   "outputs": [],
   "source": [
    "import time,os,random"
   ]
  },
  {
   "cell_type": "markdown",
   "id": "d9836f3a-9e93-40b3-8c86-c81fba7cf15d",
   "metadata": {},
   "source": [
    "On peut utiliser un alias lors d'un import pour facilier le référencement du module sous un autre nom à l'aide du mot clé ```as```. Par exemple, l'utilisation du module random peut se faire:"
   ]
  },
  {
   "cell_type": "code",
   "execution_count": 16,
   "id": "8ac15806-fe83-4b4d-86bb-266f58d58f22",
   "metadata": {},
   "outputs": [
    {
     "name": "stdout",
     "output_type": "stream",
     "text": [
      "0.7437453124325345\n"
     ]
    }
   ],
   "source": [
    "import random as r\n",
    "\n",
    "print(r.random())"
   ]
  },
  {
   "cell_type": "markdown",
   "id": "c3f03ed9-c8b8-4138-968b-c9b2509536f3",
   "metadata": {},
   "source": [
    "Ici, au lieu d'écrire ```random.random()``` on utilise l'alias ```r```.\n",
    "\n",
    "Il est possible de ne pas importer l'intégralité du module mais uniquement une fonction qui nous intéresse à l'aide de l'instruction ```from ... import```"
   ]
  },
  {
   "cell_type": "code",
   "execution_count": 17,
   "id": "741fc39e-29b5-4f8c-bb01-7dc59f1c3e62",
   "metadata": {},
   "outputs": [
    {
     "name": "stdout",
     "output_type": "stream",
     "text": [
      "0.37697419144178\n"
     ]
    }
   ],
   "source": [
    "from random import random\n",
    "print(random())"
   ]
  },
  {
   "cell_type": "markdown",
   "id": "25f4791c-6a1c-486e-bef4-d46cdf49d944",
   "metadata": {},
   "source": [
    "Ici, nous n'avons importé que la fonction ```random()``` du module ```random```. Il est aussi possible d'utiliser un alias:"
   ]
  },
  {
   "cell_type": "code",
   "execution_count": 18,
   "id": "2b599123-d947-4fe2-9b29-f890b411e89e",
   "metadata": {},
   "outputs": [
    {
     "name": "stdout",
     "output_type": "stream",
     "text": [
      "0.4576574766648781\n"
     ]
    }
   ],
   "source": [
    "from random import random as r\n",
    "print(r())"
   ]
  },
  {
   "cell_type": "markdown",
   "id": "767af212-f117-48a3-a7fb-939bf899de8b",
   "metadata": {},
   "source": [
    "Attention avec les alias, ils peuvent aider à la lecture mais peuvent aussi apporter des difficulté (ici, ```r``` n'est pas une bon nom pour un alias)."
   ]
  },
  {
   "cell_type": "markdown",
   "id": "69f46663-046f-4bd1-b564-34a9d8ca8af2",
   "metadata": {},
   "source": [
    "## Remarque sur les noms de modules\n",
    "\n",
    "Chaque **module** Python dispose de ses propres variables et fonction. Il est possible que deux modules utilisent les même noms pour une variable ou une fonction. De plus, si l'on déclare dans notre script une fonction ou une variable qui était déjà utilisée dans un module, il y a un risque de **collision de nom**. \n",
    "\n",
    "Pour éviter ces problèmes, on utilise le nom du module pour identifier l'espace dans lequel est défnit la fonction.\n",
    "\n",
    "Par exemple:"
   ]
  },
  {
   "cell_type": "code",
   "execution_count": 19,
   "id": "22aea2b8-7e60-4076-9ef9-0899abb3c4df",
   "metadata": {},
   "outputs": [
    {
     "name": "stdout",
     "output_type": "stream",
     "text": [
      "0.536077442851811\n",
      "hello\n"
     ]
    }
   ],
   "source": [
    "import random as r\n",
    "\n",
    "def random():\n",
    "    return \"hello\"\n",
    "    \n",
    "print(r.random()) # Ici on utilise le random définit dans le module random\n",
    "print(random())   # Ici on utilise le random définit dans le script"
   ]
  },
  {
   "cell_type": "markdown",
   "id": "f57d97e1-69a4-4591-89c8-2263263eaf47",
   "metadata": {},
   "source": [
    "## Créer un nouveau module\n",
    "\n",
    "Tout fichier ```.py``` peut être importé et utilisé comme module. On distingue a minima deux fichiers : \n",
    "* Le script qui contient le programme principal (**main**). Il peut être contenu dans un fichier .py (par exemple, app.py) ou peut être un Jupyter Notebook.\n",
    "* Le (ou les) module à importer (par exemple, module1.py)\n",
    "\n",
    "Lors de l'instruction ```import module1```, l'interpréteur Python va chercher un fichier ```module1.py``` situé au même niveau que le programme principal. Si ce fichier n'existe pas, un message d'erreur se produit:"
   ]
  },
  {
   "cell_type": "code",
   "execution_count": 1,
   "id": "0e2898e8-0f32-485c-8b6a-0e94f2fb2939",
   "metadata": {},
   "outputs": [
    {
     "ename": "ModuleNotFoundError",
     "evalue": "No module named 'toto'",
     "output_type": "error",
     "traceback": [
      "\u001b[1;31m---------------------------------------------------------------------------\u001b[0m",
      "\u001b[1;31mModuleNotFoundError\u001b[0m                       Traceback (most recent call last)",
      "Cell \u001b[1;32mIn [1], line 1\u001b[0m\n\u001b[1;32m----> 1\u001b[0m \u001b[39mimport\u001b[39;00m \u001b[39mtoto\u001b[39;00m\n",
      "\u001b[1;31mModuleNotFoundError\u001b[0m: No module named 'toto'"
     ]
    }
   ],
   "source": [
    "import toto"
   ]
  },
  {
   "cell_type": "markdown",
   "id": "addc59b1-70a6-4746-9640-14669912c75b",
   "metadata": {},
   "source": [
    "Pour créer un nouveau module, il suffit donc de créer un nouveau fichier ```.py``` à l'aide de votre éditeur préféré (notepad, notepad++, PyCharm, IntelliJ....)\n",
    "\n",
    "Voici exemple de module : [moduleExample.py](moduleExample.py)  ( Remarque : Si vous utilisez JupyterLab, vous pouvez directement éditer un fichier .py depuis le navigateur. Si vous utilisez Jupyter Notebook, il vous faudra utiliser un éditeur externe, par exemple le Bloc note windows, ou [notepad++](https://notepad-plus-plus.org/) )"
   ]
  },
  {
   "cell_type": "code",
   "execution_count": null,
   "id": "f6edb512-1900-4679-86d0-41a42f0284ae",
   "metadata": {
    "jupyter": {
     "source_hidden": true
    },
    "tags": []
   },
   "outputs": [],
   "source": [
    "# Contenu du fichier moduleExample.py\n",
    "var1 = 0\n",
    "print(var1)\n",
    "\n",
    "def helloWorld():\n",
    "    print(\"HelloWorld\")"
   ]
  },
  {
   "cell_type": "markdown",
   "id": "f32a9f47-6843-4797-821e-60cac16d8a70",
   "metadata": {},
   "source": [
    "Si on veut utiliser ce module, on utilise l'instruction import : "
   ]
  },
  {
   "cell_type": "code",
   "execution_count": 2,
   "id": "880fef91-3fc9-4750-8e96-21e5c595f964",
   "metadata": {},
   "outputs": [
    {
     "name": "stdout",
     "output_type": "stream",
     "text": [
      "0\n"
     ]
    }
   ],
   "source": [
    "import moduleExample"
   ]
  },
  {
   "cell_type": "markdown",
   "id": "d691735b-61bc-42f8-b760-ebcb4a378e1d",
   "metadata": {},
   "source": [
    "On remarque que l'exécution de l'instruction import fait afficher la valeur \"0\". C'est normal car toutes les lignes du module sont exécutées.  "
   ]
  },
  {
   "cell_type": "markdown",
   "id": "d2a8f71a-639a-48db-8b57-cefbb38b8152",
   "metadata": {},
   "source": [
    "## Modules exécutables\n",
    "\n",
    "Si un module déclare directement du code en dehors de toute fonction (exemple précédent), ce code sera exécuté lors du premier import du module.\n",
    "\n",
    "Un module peut avoir une comportement différent s’il est exécuté directement par l’interpréteur (comme programme principal) ou s’il est importé depuis un autre fichier. Cela permet de créer des modules exécutables de manière autonome, par exemple pour réaliser des tests unitaire validant le comportement de notre module. \n",
    "\n",
    "Il suffit de tester la valeur de l’attribut du module appelé __name__. Si cet attribut vaut \"__main__\" alors cela signifie que le fichier est lancée directement par l’interpréteur. Il n’est pas importé et n’agit donc pas comme un module."
   ]
  },
  {
   "cell_type": "code",
   "execution_count": null,
   "id": "c7c3d415-d5df-421a-a891-1fe8b1fcd66b",
   "metadata": {},
   "outputs": [],
   "source": [
    "if __name__ == \"__main__\":\n",
    "    # Ceci n'est exécuté qui si le script est lancé comme un programme principal\n",
    "    # Si il s'agit d'un module, le __name__ serait le nom du module\n",
    "    pass"
   ]
  },
  {
   "cell_type": "markdown",
   "id": "6ecc4222-c976-4aa5-b364-9ecaca494952",
   "metadata": {},
   "source": [
    "Voici un second exemple de module : [moduleExample2.py](moduleExample2.py)"
   ]
  },
  {
   "cell_type": "code",
   "execution_count": 3,
   "id": "711b326e-41cf-40cc-82a6-7e27f4be2be4",
   "metadata": {},
   "outputs": [
    {
     "name": "stdout",
     "output_type": "stream",
     "text": [
      "HelloWorld\n"
     ]
    }
   ],
   "source": [
    "# Contenu du fichier moduleExample.py\n",
    "def helloWorld():\n",
    "    print(\"HelloWorld\")\n",
    "    \n",
    "if __name__ == \"__main__\":\n",
    "    # Ceci n'est exécuté qui si le script est lancé comme un programme principal\n",
    "    # Si il s'agit d'un module, le __name__ serait le nom du module\n",
    "    helloWorld() # Ce print ne sera exécuté que s'il s'agit d'un programme principal\n",
    "    pass"
   ]
  },
  {
   "cell_type": "markdown",
   "id": "172afdaf-8b47-4783-9f7c-f020be4a0997",
   "metadata": {},
   "source": [
    "Si l'on import ce nouveau module, l'instruction appelant la fonction ```helloWorld()```ne sera pas appellée car celle-ci aura été mise à l'intérieur de notre test:"
   ]
  },
  {
   "cell_type": "code",
   "execution_count": 4,
   "id": "fda69cf7-ac6d-4f82-a36f-23b40fa52623",
   "metadata": {},
   "outputs": [],
   "source": [
    "import moduleExample2"
   ]
  },
  {
   "cell_type": "markdown",
   "id": "22eb3e28-3667-4db2-a830-a9fd46392091",
   "metadata": {},
   "source": [
    "## Regroupement par packages\n",
    "\n",
    "Python offre la possibilité de regrouper des modules au sein de paquetages. Un paquetage est un dossier qui contient plusieurs modules (des fichiers ```.py```), et un fichier spécifique nommé ```__init__.py``` qui représente le point d'entrer du module. \n",
    "\n",
    "Prenons un exemple:\n",
    "* Nous souhaitons réaliser un paquetage ```input_output``` pour faciliter la saisie et l'affichage avec un utilisateur. \n",
    "\n",
    "Dans un premier temps, nous créons un dossier ```input_output``` à côté de notre script principal.\n",
    "\n",
    "Puis à l'interieur de ce dossier, nous allons créer deux modules:\n",
    "* - Un module [entree.py](./input_output/entree.py) qui va contenir les fonction permettant la saisie\n",
    "* - Un module  [sortie.py](./input_output/sortie.py) qui va contenir les fonction gérant les affichages"
   ]
  },
  {
   "cell_type": "code",
   "execution_count": null,
   "id": "d4d92854-8711-4df2-96dc-3bc0c8da6c49",
   "metadata": {},
   "outputs": [],
   "source": [
    "# Contenur du fichier entree.py\n",
    "def lire_nom()->str:\n",
    "    return input(\"Veuillez saisir votre nom\")"
   ]
  },
  {
   "cell_type": "code",
   "execution_count": null,
   "id": "b6c57120-f090-4103-9d56-83287b1f9abe",
   "metadata": {},
   "outputs": [],
   "source": [
    "# Contenur du fichier sortie.py\n",
    "def dire_bonjour(nom:str):\n",
    "    print(\"Bonjour \" + str(nom))"
   ]
  },
  {
   "cell_type": "markdown",
   "id": "e87f7636-7da2-474f-95a0-713e5623aff9",
   "metadata": {},
   "source": [
    "Enfin, on créer notre fichier [__init__.py](./input_output/__init__.py) à l'intérieur du dossier ```input_output```. Le fichier __init__.py se limite à importer les fonctions lire_nom() et dire_bonjour() dans son propre espace de noms qui est celui du module input_output."
   ]
  },
  {
   "cell_type": "code",
   "execution_count": null,
   "id": "e2078408-46d6-4a15-b0f7-66dcb464932c",
   "metadata": {},
   "outputs": [],
   "source": [
    "# Contenur du fichier __init__.py\n",
    "from input_ouput.entree import lire_nom\n",
    "from input_output.sortie import dire_bonjour"
   ]
  },
  {
   "cell_type": "markdown",
   "id": "eeafeeea-1244-45a9-befb-ba906383be9b",
   "metadata": {},
   "source": [
    "On peut alors simplement utiliser le pacquetage sous la forme suivante:"
   ]
  },
  {
   "cell_type": "code",
   "execution_count": 5,
   "id": "1acb3c9b-8494-407b-beba-61b4a471855f",
   "metadata": {},
   "outputs": [
    {
     "name": "stdout",
     "output_type": "stream",
     "text": [
      "Bonjour 11\n"
     ]
    }
   ],
   "source": [
    "from input_output import lire_nom, dire_bonjour\n",
    "dire_bonjour(lire_nom())"
   ]
  },
  {
   "cell_type": "markdown",
   "id": "eb6a2b96-304a-452a-b5f1-c1042ef9bf22",
   "metadata": {},
   "source": [
    "La présence des fichiers __init__.py est obligatoire dans l’arborescence des packages pour que l’interpréteur Python traite chaque répertoire comme un module. Ces fichiers peuvent être vides.\n",
    "\n",
    "Lorsque vous importez un module dans un chemin de package, le fichier __init__.py de chaque répertoire est appelé pour initialiser chacun des modules. Un module n’est initialisé qu’une fois ! Les imports successifs de ce module ou d’un sous module n’exécuteront plus son fichier __init__.py."
   ]
  },
  {
   "cell_type": "markdown",
   "id": "b5be51d2-f932-4351-b13f-ea4d23fd3b9a",
   "metadata": {
    "tags": []
   },
   "source": [
    "# Mise en pratique: Un module pour modéliser une Pile\n",
    "\n",
    "Pour mettre en pratique ce que nous venons de voir sur les modules, nous allons créer un nouveau module pour modéliser une Pile.\n",
    "\n",
    "En informatique, une Pile est une structure de donnée fondée sur le principe \"dernier arrivé, premier sorti\" (en anglais: LIFO, Last In, First Out). C'est une structure de donnée dans laquelle les élément vont être \"empilés\" les uns après les autres. Lorsque l'on veut retirer un élément de la pile, on le retire en \"tête\", c'est à dire que l'on retire le dernier élément ajouté à la pile.\n",
    "\n",
    "Nous allons modéliser notre Pile sous la forme d'une **list**. Pour modéliser le fonctionnement de Pile, les nouveaux éléments seront ajoutés à la fin de notre liste à l'aide de la méthode ```.append()```. Le dernier élément ajouté sera donc toujours à l'index $n-1$.\n",
    "\n",
    "Pour manipuler notre Pile, il nous faut définir les fonctions suivantes:\n",
    "* CreerPileVide : créer une pile vide (une liste vide)\n",
    "* estVide(pile) : retourne vrai si la pile passée en paramètre est vide, faux sinon\n",
    "* empiler(pile,element) : ajoute un élément à la pile passée en paramètre (push)\n",
    "* depiler(pile) : enlève un élément de la pile et le retourne (pop)\n",
    "* taille(pile) : retourne la taille de la pile\n",
    "\n",
    "<div class=\"alert alert-block alert-warning\">\n",
    "<b>⚠️:</b> Vous pouvez essayer d'implémenter ces fonctions sans regarder la solution ci-dessous!\n",
    "</div>"
   ]
  },
  {
   "cell_type": "code",
   "execution_count": 6,
   "id": "7a9f882b",
   "metadata": {},
   "outputs": [
    {
     "name": "stdout",
     "output_type": "stream",
     "text": [
      "True\n",
      "None\n",
      "False\n",
      "None\n",
      "[5, 'blabla']\n",
      "blabla\n",
      "[5]\n",
      "1\n"
     ]
    }
   ],
   "source": [
    "class Pile:\n",
    "    def __init__(self, data = []):\n",
    "        self.data = data\n",
    "\n",
    "    def estVide(self):\n",
    "        return len(self.data) == 0\n",
    "\n",
    "    def empiler(self, element: any):\n",
    "        self.data.append(element)\n",
    "\n",
    "    def depiler(self):\n",
    "        return self.data.pop()\n",
    "\n",
    "    def taille(self):\n",
    "        return len(self.data)\n",
    "\n",
    "if __name__ == '__main__':\n",
    "    p = Pile()\n",
    "    print(p.estVide())\n",
    "    print(p.empiler(5))\n",
    "    print(p.estVide())\n",
    "    print(p.empiler(\"blabla\"))\n",
    "    print(p.data)\n",
    "    print(p.depiler())\n",
    "    print(p.data)\n",
    "    print(p.taille())\n",
    "\n",
    "    "
   ]
  },
  {
   "attachments": {},
   "cell_type": "markdown",
   "id": "73f80950",
   "metadata": {},
   "source": [
    "\n",
    "\n",
    "\n",
    "\n",
    "\n",
    "\n",
    "\n",
    "\n",
    "\n",
    "\n",
    "\n",
    "\n",
    "\n",
    "\n",
    "\n",
    "\n"
   ]
  },
  {
   "cell_type": "code",
   "execution_count": null,
   "id": "901f437c-e904-4701-8986-a6e30d081722",
   "metadata": {},
   "outputs": [],
   "source": [
    "def creerPileVide():\n",
    "    return []\n",
    "\n",
    "def estVide(pile:[])->bool:\n",
    "    return taille(pile)==0\n",
    "\n",
    "def empiler(pile:[],element):\n",
    "    pile.append(element)\n",
    "    \n",
    "def depiler(pile):\n",
    "    if(not estVide(pile)):\n",
    "        element = pile[taille(pile)-1]\n",
    "        del pile[taille(pile)-1]\n",
    "        return element\n",
    "        # Solution alternative:\n",
    "        # return pile.pop(len(pile)-1)\n",
    "        \n",
    "def taille(pile):\n",
    "    return len(pile)"
   ]
  },
  {
   "cell_type": "markdown",
   "id": "fbadf7fb-621a-4b78-bba9-db7387a44466",
   "metadata": {},
   "source": [
    "Pour pouvoir créer mon module, il nous faut créer un fichier .py que l'on va localiser à côté de notre notebook. Pour vous aider, nous avons déjà créer un fichier vide nommé [pile.py](./pile.py). \n",
    "\n",
    "Remplir ce fichier avec les méthodes que nous avons définis pour notre Pile."
   ]
  },
  {
   "cell_type": "markdown",
   "id": "d5ea4e2a-842b-40c0-83fc-35b7c84dd99f",
   "metadata": {},
   "source": [
    "Maintenant que notre module est créé, on peut s'en servir dans notre notebook et on peut donc manipuler des Piles! "
   ]
  },
  {
   "cell_type": "code",
   "execution_count": 24,
   "id": "b519cea5-9bd8-427d-8a33-c3ed4a5a9bf9",
   "metadata": {},
   "outputs": [
    {
     "name": "stdout",
     "output_type": "stream",
     "text": [
      "True\n",
      "[1, 32]\n",
      "32\n",
      "[1]\n"
     ]
    }
   ],
   "source": [
    "from pile import *              # On importe toutes les fonctions définies dans notre module\n",
    "\n",
    "ma_pile = creerPileVide()\n",
    "print(estVide(ma_pile))\n",
    "\n",
    "empiler(ma_pile, 1)\n",
    "empiler(ma_pile, 32)\n",
    "\n",
    "print(ma_pile)\n",
    "print(depiler(ma_pile))\n",
    "\n",
    "print(ma_pile)"
   ]
  },
  {
   "cell_type": "markdown",
   "id": "b9353164",
   "metadata": {
    "slideshow": {
     "slide_type": "slide"
    },
    "tags": []
   },
   "source": [
    "# En résumé:\n",
    "- Les listes et dictionnaires sont deux structure de données. Les opérations sur ces deux structures n'ont pas la même complexité.\n",
    "- Les modules permettent de découper un code python en unités fonctionelles\n",
    "- Des modules sont fournis dans la librairie standard\n",
    "- On peut créer ou importer de nouveaux modules \n",
    "- On a créer un nouveau module pour modéliser une Pile"
   ]
  },
  {
   "cell_type": "markdown",
   "id": "fe0ab500-acfa-461a-955a-432f8116437f",
   "metadata": {},
   "source": [
    "# Je suis donc capable\n",
    "* De manipuler des listes et des dictionnaires\n",
    "* D'expliquer les différences de complexité entre ces deux structures de données\n",
    "* Expliquer ce qu'est un module\n",
    "* Rechercher des modules dans la librairie standard\n",
    "* Importer des modules et le renommer à l'aide d'alias\n",
    "* Créer de nouveaux modules\n",
    "* Créer de nouveaux pacquages\n",
    "* Créer une nouvelle structure de donnée (Pile) à l'aide d'un module"
   ]
  }
 ],
 "metadata": {
  "celltoolbar": "Diaporama",
  "kernelspec": {
   "display_name": "Python 3",
   "language": "python",
   "name": "python3"
  },
  "language_info": {
   "codemirror_mode": {
    "name": "ipython",
    "version": 3
   },
   "file_extension": ".py",
   "mimetype": "text/x-python",
   "name": "python",
   "nbconvert_exporter": "python",
   "pygments_lexer": "ipython3",
   "version": "3.10.6"
  },
  "toc-autonumbering": true,
  "vscode": {
   "interpreter": {
    "hash": "4fb435cb9a1efeb2f38d3dce1339521a1fba953090a1346d7eedb3261b9f21ce"
   }
  }
 },
 "nbformat": 4,
 "nbformat_minor": 5
}
