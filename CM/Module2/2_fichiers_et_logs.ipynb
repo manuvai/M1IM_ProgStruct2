{
 "cells": [
  {
   "cell_type": "markdown",
   "id": "c30199cf-95c2-4522-ad60-a73d8a05b3f4",
   "metadata": {
    "slideshow": {
     "slide_type": "slide"
    }
   },
   "source": [
    "![./pics/logo_ut1.jpg](./pics/logo_ut1.jpg)\n",
    "# Master 1 Ingénierie Métier (IM) : Programmation Structurée 2 2022/2023: \n",
    "\n",
    "## Gestion des fichiers et journalisation\n",
    "\n",
    "Equipe pédagogique: \n",
    "* Sophie Martinez - Sophie.Martinez@ut-capitole.fr\n",
    "* Laurent Marsan - Laurent.Marsan@ut-capitole.fr\n",
    "* Nicolas Verstaevel - Nicolas.Verstaevel@ut-capitole.fr"
   ]
  },
  {
   "cell_type": "markdown",
   "id": "8fb84381",
   "metadata": {
    "tags": []
   },
   "source": [
    "# Au module précédent, nous avons vu:\n",
    "* ✔️ Listes et dictionnaires sont des structures de données avec des complexités différentes\n",
    "* ✔️ Dans le cas générale, on préfère l'utilisation de dictionnaires car les opérations y sont plus rapides \n",
    "* ✔️ Un module est un fichier python permettant de regrouper plusieurs fonctions\n",
    "* ✔️ Les modules peuvent être **importés** avec la commande **import**\n",
    "* ✔️ Un paquetage permet d'importer plusieurs modules. "
   ]
  },
  {
   "cell_type": "markdown",
   "id": "51e380a4-253f-42c4-aa7a-47e3c29d472c",
   "metadata": {},
   "source": [
    "# Objectifs du module\n",
    "\n",
    "Au premier semestre, nous avons appris à écrire des algorithmes en Python à l'aide d'un Jupyter Notebook. Pour alimenter nos algorithmes en données, nous procédions à des saisies utilisateurs grâce à la fonction ```input()```. En sortie de nos algorithmes, nous procédions à un affichage dans le terminal à l'aide de la fonction ```print()```\n",
    "\n",
    "Dans un programme informatique moderne, l'intéraction avec les données (en entrée ou en sortie) se fait par l'intermédiaire de fichiers. Nous allons donc voir comment intéragir avec le système d'exploitation (```os```: *Operating System*) pour explorer ou construire une arborecence de fichiers et accéder en lecture et écriture à ceux-ci. \n",
    "\n",
    "Nous verrons que l'intéraction avec les fichiers peut être source d'erreurs. Pour permettre la tracabilité du comportement de notre logiciel (et nottament historiser les erreurs) et améliorer sa qualité et sa maintenance, nous allons voir comment mettre en place une ```journalisation``` pour créer des fichiers dans lequel on va créer un historique des évènements normaux et anomaux survenus au cours du fonctionnement de notre application.\n",
    "\n",
    "<div class=\"alert alert-block alert-warning\">\n",
    "<b>⚠️:</b> Ce module nécessite que vous maitrisiez quelques notions étudiées dans l'UE Architecture et Réseaux (OS, chemin relatif/absolu,...)\n",
    "</div>"
   ]
  },
  {
   "cell_type": "markdown",
   "id": "a4d5eb51-5752-4734-b7ac-f5f765ac5a4a",
   "metadata": {},
   "source": [
    "# Plan du module\n",
    "\n",
    "1) Le module ```os``` pour intératigir avec le system\n",
    "2) Lecture et écriture de fichiers avec ```open```\n",
    "3) La journalisation avec le module ```logging```\n",
    "4) Mise en pratique"
   ]
  },
  {
   "cell_type": "markdown",
   "id": "d2d20df3-7560-49b4-8701-8489e83694fc",
   "metadata": {
    "tags": []
   },
   "source": [
    "# Le module ```os```\n",
    "\n",
    "Le module ```os``` est un module *built-in* de Python qui fournit un ensemble d'opérations courantes permettant d'intéragir avec le système d'exploitation. Ces opérations sont indépendantes du système d'exploitation, c'est à dire qu'elles fonctionnent aussi bien sur Windows, Unix ou macOS.\n",
    "\n",
    "[Documentation du module ```os```](https://docs.python.org/fr/3/library/os.html)\n",
    "\n",
    "Pour utiliser le module ```os``` il faut procéder à son importation:\n"
   ]
  },
  {
   "cell_type": "code",
   "execution_count": 4,
   "id": "b4a6a8bc-ffb7-449b-b7d5-738a44772229",
   "metadata": {},
   "outputs": [],
   "source": [
    "import os\n",
    "\n",
    "# Rappel, vous pouvez accéder à la documentation du module à l'aide de la commande help\n",
    "# help(os)"
   ]
  },
  {
   "cell_type": "markdown",
   "id": "b1f49ef4-acb0-432e-95f1-499287942d0a",
   "metadata": {},
   "source": [
    "Il est possible par exemple, d'afficher le nom du système d'exploitation:"
   ]
  },
  {
   "cell_type": "code",
   "execution_count": 9,
   "id": "2c5c7123-a8f8-4b60-9717-1d5b73b6305d",
   "metadata": {},
   "outputs": [
    {
     "name": "stdout",
     "output_type": "stream",
     "text": [
      "nt\n"
     ]
    }
   ],
   "source": [
    "print(os.name)"
   ]
  },
  {
   "cell_type": "markdown",
   "id": "1ee6aa8d-e992-4168-9303-6c6cd1387dc9",
   "metadata": {},
   "source": [
    "* ```posix```: pour les systèmes UNIX\n",
    "* ```nt```: pour les systèmes Windows\n",
    "* ```java```: pour les machines virtuels Java\n",
    "\n",
    "Ce qui nous intéresse dans notre cas est la capacité du module ```os``` à intéragir avec les répertoires, les fichiers, et de pouvoir manipuler cette arboresence. "
   ]
  },
  {
   "cell_type": "markdown",
   "id": "b774d25e-5fff-494d-bfcb-0f4d828043ef",
   "metadata": {},
   "source": [
    "## Comprendre et manipuler l'arboresence des fichiers Python\n",
    "\n",
    "Lorsque vous lancez un script Python (ou un Jupyter Notebook), le répertoire courant du programme est celui dans lequel il est lancé. Pour connaitre le répertoire courant, on utilise la commande ```os.getcwd()```:"
   ]
  },
  {
   "cell_type": "code",
   "execution_count": 10,
   "id": "52b5d083-55c3-4b61-8d5b-8feeaeccc390",
   "metadata": {},
   "outputs": [
    {
     "name": "stdout",
     "output_type": "stream",
     "text": [
      "C:\\Users\\nvers\\Documents\\GIT\\M1IM_ProgStruct2\\CM\\Module2\n"
     ]
    }
   ],
   "source": [
    "print(os.getcwd())"
   ]
  },
  {
   "cell_type": "markdown",
   "id": "3e1cc818-94ba-496c-ac6c-21f95e921ce1",
   "metadata": {},
   "source": [
    "```os.getcwd()``` renvoie une chaîne de caractères représentant le répertoire de travail actuel. Par défault, c'est l'endroit où vous avez mis votre script python (ou votre notebook).\n",
    "\n",
    "Il est possible de changer le répertoire courant à l'aide de la commande ```os.chdir(path)```. Attention, le path doit pointer vers un chemin existant, sinon des erreurs seront levées."
   ]
  },
  {
   "cell_type": "markdown",
   "id": "402a05a5-7cd5-4917-82b8-fd84b88461ef",
   "metadata": {},
   "source": [
    "```os.chdir(path)```\n",
    "* Change le répertoire de travail actuel par path.\n",
    "* Cette fonction peut lever ```OSError``` et des sous-classes telles que ```FileNotFoundError```, ```PermissionError``` et ```NotADirectoryError```."
   ]
  },
  {
   "cell_type": "markdown",
   "id": "e90e4cc7-1ee4-43ca-9fa7-b0d350a184a6",
   "metadata": {},
   "source": [
    "De manière générale, on évitera de changer le répertoire courant. On préférera la par chemin relatifs pour décrire une arboresence depuis le fichier Python. \n",
    "\n",
    "Il est possible de créer des répertoires pour définir une arbosence de dossiers à l'aide des commandes ```os.mkdir(path)``` et ```os.makedirs(path)```.\n",
    "\n",
    "```os.mkdir(path)``` permet de créer un répertoire à l'adresse passée en paramètre. Si le dossier existe déjà, une erreur de type ```FileExistsError``` est levée. Si le chemin n'est pas bon, une erreur de type ```FileNotFoundError```est levée.\n",
    "\n",
    "Par exemple, nous voulons créer un répertoire nommé ```Repertoire1```:"
   ]
  },
  {
   "cell_type": "code",
   "execution_count": 11,
   "id": "835fdd6f-9423-443d-b387-eb4249ed9e1d",
   "metadata": {},
   "outputs": [],
   "source": [
    "os.mkdir(\"Repertoire1\")"
   ]
  },
  {
   "cell_type": "markdown",
   "id": "f158480a-6ca3-42ee-b342-2dff2c8b5b1c",
   "metadata": {},
   "source": [
    "Vous pouvez vérifier que votre répertoire s'est bien créé à côté de votre fichier de notebook!\n",
    "\n",
    "Si on relance cette commande une seconde fois:"
   ]
  },
  {
   "cell_type": "code",
   "execution_count": 12,
   "id": "22ef1312-ad24-48c0-aadb-0638923f11c2",
   "metadata": {},
   "outputs": [
    {
     "ename": "FileExistsError",
     "evalue": "[WinError 183] Impossible de créer un fichier déjà existant: 'Repertoire1'",
     "output_type": "error",
     "traceback": [
      "\u001b[1;31m---------------------------------------------------------------------------\u001b[0m",
      "\u001b[1;31mFileExistsError\u001b[0m                           Traceback (most recent call last)",
      "Input \u001b[1;32mIn [12]\u001b[0m, in \u001b[0;36m<cell line: 1>\u001b[1;34m()\u001b[0m\n\u001b[1;32m----> 1\u001b[0m \u001b[43mos\u001b[49m\u001b[38;5;241;43m.\u001b[39;49m\u001b[43mmkdir\u001b[49m\u001b[43m(\u001b[49m\u001b[38;5;124;43m\"\u001b[39;49m\u001b[38;5;124;43mRepertoire1\u001b[39;49m\u001b[38;5;124;43m\"\u001b[39;49m\u001b[43m)\u001b[49m\n",
      "\u001b[1;31mFileExistsError\u001b[0m: [WinError 183] Impossible de créer un fichier déjà existant: 'Repertoire1'"
     ]
    }
   ],
   "source": [
    "os.mkdir(\"Repertoire1\")"
   ]
  },
  {
   "cell_type": "markdown",
   "id": "3e309c8b-837f-4c07-bec1-e445a5e30d3e",
   "metadata": {
    "tags": []
   },
   "source": [
    "On obtient un message d'erreur car le répertoire est déjà existant.\n",
    "\n",
    "Il est possible de vérifier si un chemin existe à l'aide de la methode ```os.path.exists()```"
   ]
  },
  {
   "cell_type": "code",
   "execution_count": 37,
   "id": "d16d53bf-ab57-4f84-9b96-8d50c8d87505",
   "metadata": {},
   "outputs": [
    {
     "name": "stdout",
     "output_type": "stream",
     "text": [
      "Est-ce que ce fichier existe?:False\n",
      "Est-ce que ce fichier existe?::True\n",
      "Est-ce que ce répertoire existe?:False\n"
     ]
    }
   ],
   "source": [
    "print (\"Est-ce que ce fichier existe?:\"+str(os.path.exists('toto.txt')))\n",
    "print (\"Est-ce que ce fichier existe?::\" + str(os.path.exists('./A/a1.txt')))\n",
    "print (\"Est-ce que ce répertoire existe?:\" + str(os.path.exists('myDirectory')))"
   ]
  },
  {
   "cell_type": "markdown",
   "id": "6596f3b8-bace-4fa5-8fe5-742e6a9bb226",
   "metadata": {},
   "source": [
    "Similairement, on peut tester si un chemin pointe vers un dossier ou un fichier:"
   ]
  },
  {
   "cell_type": "code",
   "execution_count": 40,
   "id": "3bbf6502-9b38-4f8c-9e1e-4d6a645b841e",
   "metadata": {},
   "outputs": [
    {
     "name": "stdout",
     "output_type": "stream",
     "text": [
      "Est-ce un fichier?False\n",
      "Est-ce un dossier?True\n"
     ]
    }
   ],
   "source": [
    "print (\"Est-ce un fichier?\" + str(os.path.isfile('a1.txt')))\n",
    "print (\"Est-ce un dossier?\" + str(os.path.isdir('A')))"
   ]
  },
  {
   "cell_type": "markdown",
   "id": "eb49e2f5-2d6e-442e-94a0-b0386a2a8612",
   "metadata": {},
   "source": [
    "<div class=\"alert alert-block alert-info\">\n",
    "<b>Rappel sur les exceptions:</b> On a vu au premier semestre qu'un programme informatique peut lever des exceptions. Ces exception sont là pour signaler un évènement spécifique qui doit être intercepté par le code pour être traité. Si aucun mécanisme d'interception n'est mis en place, on dit que l'erreur se propage (elle remonte l'ordre des appels de fonction). Si une erreur est progagée jusqu'au programme principal, le programme s'arrête et affiche la *traceback*: c'est le message d'erreur. \n",
    "    \n",
    "Vous pouvez relire le cours sur le [debuggage, les assertions et la gestion des exceptions](https://github.com/nverstaevel/M1IM_PgStruct1/blob/main/CM/105_debugage_assert_et_exception.ipynb)\n",
    "</div>\n",
    "\n",
    "Pour gérer les exceptions en Python, on utilise le mécanisme ```try: ... except:```. Par exemple, dans notre cas, on aurait pu écrire:"
   ]
  },
  {
   "cell_type": "code",
   "execution_count": 13,
   "id": "7b77f940-34f5-4634-ad6b-7c48f52fd00c",
   "metadata": {},
   "outputs": [
    {
     "name": "stdout",
     "output_type": "stream",
     "text": [
      "Attention, le dossier que vous essayez de créer n'existe pas\n"
     ]
    }
   ],
   "source": [
    "try: \n",
    "    os.mkdir(\"Repertoire1\")\n",
    "except FileExistsError:\n",
    "    print(\"Attention, le dossier que vous essayez de créer n'existe pas\")"
   ]
  },
  {
   "cell_type": "markdown",
   "id": "22ecca21-beed-4ae0-b2d3-bd105faab48a",
   "metadata": {},
   "source": [
    "Evidemment, le traitement de l'exception dépend de la tâche que l'on est en train d'effectuer. Parfois, il n'est pas possible de continuer le programme car un fichier critique est manquant.\n",
    "\n",
    "La commande ```os.mkdirs(path)``` permet quand à elle de créer récursivement une arborescence de dossier. Par exemple, je souhaite maintenant construire l'arboresecence suivante: ```Repertoire1->Repertoire1.1->Repertoire1.1.1```"
   ]
  },
  {
   "cell_type": "code",
   "execution_count": 15,
   "id": "3b76c79e-c8b9-4f4a-bf98-faf997df05de",
   "metadata": {},
   "outputs": [],
   "source": [
    "os.makedirs(\"Repertoire1/Repertoire1.1/Repertoire1.1.1\")"
   ]
  },
  {
   "cell_type": "markdown",
   "id": "a833fcd6-3661-40ef-b735-1355f10cc69f",
   "metadata": {},
   "source": [
    "Vous pouvez vérifier dans votre répertoire que l'arboresence est bien créé. De la même manière que ```os.mkdir(path)```, ```os.makedirs(path)``` peut lever des erreurs.\n",
    "\n",
    "La fonction ```os.listdir(path)``` retourne une liste contenant les entrées d'un répertoire donnée. Par exemple, on peut lister ce qui est contenu dans le répertoire courant:"
   ]
  },
  {
   "cell_type": "code",
   "execution_count": 16,
   "id": "a96ab9e7-7fa5-4efd-a911-2b565b192b51",
   "metadata": {},
   "outputs": [
    {
     "name": "stdout",
     "output_type": "stream",
     "text": [
      ".ipynb_checkpoints\n",
      "2_fichiers_et_logs.ipynb\n",
      "A\n",
      "pics\n",
      "Repertoire1\n"
     ]
    }
   ],
   "source": [
    "path = '.'\n",
    " \n",
    "files = os.listdir(path)\n",
    "for name in files:\n",
    "    print(name)"
   ]
  },
  {
   "cell_type": "markdown",
   "id": "474cf4cb-0ff8-4a7a-ad56-925f943a9a96",
   "metadata": {},
   "source": [
    "<div class=\"alert alert-block alert-info\">\n",
    "<b>Rappel sur les chemins: </b></br> \n",
    "    . : répertoire courant </br> \n",
    "    .. : répertoire parent</br> \n",
    "    .\\fichier1.txt: chemin relatif vers le fichier1 (c'est à dire chemin à partir du dossier courant)</br> \n",
    "    C:\\Users\\nvers\\Documents\\GIT\\M1IM_ProgStruct2\\CM\\Module2\\fichier1.txt: chemin absolu vers le fichier (on ne se réfère plus à l'emplacement courant mais que l'on remonte directement à la racine pour ensuite préciser le chemin complet)</br> \n",
    "</div>"
   ]
  },
  {
   "cell_type": "markdown",
   "id": "77012fb9-c148-4ccb-844e-01f51f094e10",
   "metadata": {},
   "source": [
    "Pour parcourir l'ensemble de l'arboresence, on peut utiliser la méthode ```os.walk(path)```. La méthode ```os.walk(path)``` retourne 3 éléments: le nom du répertoire racine, une **liste** des noms des sous-répertoires et une **liste** des noms de fichiers du répertoire en cours. \n",
    "\n",
    "Par exemple, je vous ai créé une arboresecence de dossier et fichiers dans le repertoire \"A\". Listons son contenu: "
   ]
  },
  {
   "cell_type": "code",
   "execution_count": 35,
   "id": "a1e64166-1036-4b16-a7e1-fd6a8b88f107",
   "metadata": {},
   "outputs": [
    {
     "name": "stdout",
     "output_type": "stream",
     "text": [
      ".\\A\\a1.txt\n",
      ".\\A\\B\\b1.txt\n",
      ".\\A\\B\\b2.txt\n",
      ".\\A\\B\\b3.txt\n",
      ".\\A\\C\\c1.txt\n",
      ".\\A\\C\\c2.txt\n",
      ".\\A\\C\\D\\d1.txt\n"
     ]
    }
   ],
   "source": [
    "path = \".\\A\"\n",
    "\n",
    "for root, directories, files in os.walk(path):  \n",
    "    for file in files:\n",
    "        print(root+\"\\\\\"+file) # On liste les fichiers et leur chemin"
   ]
  },
  {
   "cell_type": "markdown",
   "id": "3fb768b8-3401-46f6-831f-ddc23cd9a26e",
   "metadata": {},
   "source": [
    "On peut renommer ou deplacer un fichier à l'aide de la commande ```os.rename(src,dst)``` où ```src``` est le chemin vers le fichier à renommer et ```dst``` la nouvelle destination."
   ]
  },
  {
   "cell_type": "markdown",
   "id": "83f0d7e6-618a-419d-8dce-aa10bd234389",
   "metadata": {},
   "source": [
    "Enfin, les commandes ```os.remove(path)``` et ```os.rmdir(path)``` permettent de supprimer respectivement un fichier ou un dossier."
   ]
  },
  {
   "cell_type": "code",
   "execution_count": 28,
   "id": "0920e3a2-f642-4594-ba0d-fd936ac30721",
   "metadata": {},
   "outputs": [],
   "source": [
    "os.mkdir(\"Test1\") # Création du répertoire Test1\n",
    "os.rmdir(\"Test1\") # Suppression du répertoire"
   ]
  },
  {
   "cell_type": "markdown",
   "id": "772352e9-dff5-47ed-90ed-2272ab3ecc2a",
   "metadata": {},
   "source": [
    "Attention, si le dossier n'existe pas ou n'est pas video, une erreur ```FileNotFoundError``` ou une erreur ```OSError``` est levée. \n",
    "\n",
    "## Pour résumer\n",
    "\n",
    "| Fonction du module ```os``` |   Description\t|\n",
    "|---\t|---\t|\n",
    "|  os.getcwd() \t|   Retroune le répertoire courrant\t|\n",
    "| os.path.exists(path) | Retourne vrai si le chemin existe, faux sinon |\n",
    "| os.path.isfile(path) | Retourne vrai si le chemin est un fichier, faux sinon |\n",
    "| os.path.isdir(path) | Retourne vrai si le chemin est un dossier, faux sinon |\n",
    "|  os.mkdir(path) \t|  Créé un nouveau répertoire  \t|\n",
    "|  os.makedirs(path) \t|  Créé une nouvelle arborescence \t|\n",
    "|  os.listdir(path)     | Liste les entrées d'un répertoire donné |\n",
    "| os.walk(path) | Parcour l'arborescence à partir du répertoire donné | "
   ]
  },
  {
   "cell_type": "markdown",
   "id": "59d1038f-01fc-4c35-9ef2-480b1323befa",
   "metadata": {
    "tags": []
   },
   "source": [
    "# Lecture et écriture de fichier avec ```open``` et ```close```\n",
    "\n",
    "Comme tout langage informatique, Python permet de manipuler des fichiers. Les fonctions pour manipuler un fichier sont indépendante du système d'exploitation, assurant ainsi la portabilité du code.\n",
    "\n",
    "Toutes les opérations de manipulation d'un fichier, qu'il s'agisse de lecture, écriture, supression ou création, sont suceptible d'échouer et donc de lever une erreur de type ```OSError``` ou une erreur dérivée.\n",
    "\n",
    "Il faudra donc redoubler de vigilance et à la fois vérifier l'existence et le type des chemins avec lesquels ont travaille, mais aussi utiliser les mécanismes de gestion des exceptions. Nous allons voir que Python nous facilite le travail pour celà.\n",
    "\n",
    "## Ouvrir un fichier avec ```open```\n",
    "\n",
    "La fonction ```open(path)``` permet de récupérer le descripteur d'un fichier localisé par la variable ```path``` passée en paramètre. Ce descripteur nous permet d'intéragir avec le fichier et de réaliser des opérations de lecture et/ou d'écriture.\n",
    "\n",
    "Par exemple, j'ai créé un fichier ```a1.txt``` localisé dans le repertoire ```./A```. Pour ouvrir ce fichier, je peux:"
   ]
  },
  {
   "cell_type": "code",
   "execution_count": 112,
   "id": "a9bc482f-c300-4453-9333-a16d38b5c877",
   "metadata": {},
   "outputs": [],
   "source": [
    "f = open(\"./A/a1.txt\")\n",
    "f.close()"
   ]
  },
  {
   "cell_type": "markdown",
   "id": "44951b3c-58cd-439a-a8bb-3bac62a4c924",
   "metadata": {},
   "source": [
    "Un descripteur est géré par le système (les opérations d'écritures et de lecture étant faites par le système d'exploitation). Lorsque l'on a fini de travailler avec le fichier, il faut fermer le descripteur à l'aide de la méthode ```close()```. \n",
    "\n",
    "<div class=\"alert alert-block alert-warning\">\n",
    "<b>⚠️:</b> Oublier de fermer un descripteur avec la méthode ```close()``` peut conduire à une fuite de ressource (car beaucoup de fichier seront ouvert sans être fermés) ou à une perte de données (l'OS priorise les opérations, il est possible que vos instruction d'écriture n'aient pas encore été réalisées). Il ne faut donc jamais oublié de fermer ses fichiers.\n",
    "</div>\n",
    "\n",
    "Python fournit une commande spéciale à l'aide du mot clé ```with``` qui appel automatiquement la méthode ```close()``` a la fin du bloc:"
   ]
  },
  {
   "cell_type": "code",
   "execution_count": 113,
   "id": "17121f54-a085-4b33-b0a5-26ef7b172170",
   "metadata": {},
   "outputs": [],
   "source": [
    "with open(\"./A/a1.txt\") as f:\n",
    "    # Traitement du fichier\n",
    "    pass"
   ]
  },
  {
   "cell_type": "markdown",
   "id": "5f90fb33-12c8-49c7-ad6c-08a975d6851e",
   "metadata": {},
   "source": [
    "```f``` est ici un nom de variable que l'on choisit pour manipuler le descripteur.\n",
    "\n",
    "<div class=\"alert alert-block alert-info\">\n",
    "<b>Note: </b> Il est possible d'ouvrir plusieurs ressources dans le même with, dans ce cas là, les ressources sont séparées par une virgule , <br/>\n",
    "    Par exemple: with open(\"monfichier.txt\") as f, open(\"autrefichier.txt\") as f2:\n",
    "</div>"
   ]
  },
  {
   "cell_type": "markdown",
   "id": "73e46ddb-a64f-4059-866d-d69f7260352b",
   "metadata": {},
   "source": [
    "## Lire le contenu d'un fichier \n",
    "\n",
    "La fonction ```open()``` permet de lire le contenu d'un fichier à l'aide des méthode ```read()``` et ```readlines()```:\n",
    "* ```read()``` retourne le contenu du fichier sous la forme d'une chaine de caractère\n",
    "* ```readlines()``` retourne le contenu du fichier sous la forme d'une liste de chaîne de caractère, où chaque case du tableau représente une ligne du texte\n",
    "\n",
    "<div class=\"alert alert-block alert-info\">\n",
    "<b>Rappel: </b> Dans une chaine de caractère, le caractère \"\\n\" encode un saut de ligne. Chaque ligne contient donc à la fin ce caractère spéciale. Si l'on souhaite le supprimer, on peut utiliser la fonction des strings ```str.rstrip(car)```\n",
    "</div>\n",
    "\n",
    "Par exemple, on peut maintenant lire le contenu du fichier ```./A/a1.txt```:"
   ]
  },
  {
   "cell_type": "code",
   "execution_count": 111,
   "id": "31b3afe4-f352-43aa-81d7-82a7cde799d1",
   "metadata": {},
   "outputs": [
    {
     "name": "stdout",
     "output_type": "stream",
     "text": [
      "Lâ€™Albatros\n",
      "Charles Baudelaire\n",
      "\n",
      "Souvent, pour sâ€™amuser, les hommes dâ€™Ã©quipage\n",
      "Prennent des albatros, vastes oiseaux des mers,\n",
      "Qui suivent, indolents compagnons de voyage,\n",
      "Le navire glissant sur les gouffres amers.\n",
      "\n",
      "A peine les ont-ils dÃ©posÃ©s sur les planches,\n",
      "Que ces rois de lâ€™azur, maladroits et honteux,\n",
      "Laissent piteusement leurs grandes ailes blanches\n",
      "Comme des avirons traÃ®ner Ã  cÃ´tÃ© dâ€™eux.\n",
      "\n",
      "Ce voyageur ailÃ©, comme il est gauche et veule !\n",
      "Lui, naguÃ¨re si beau, quâ€™il est comique et laid !\n",
      "Lâ€™un agace son bec avec un brÃ»le-gueule,\n",
      "Lâ€™autre mime, en boitant, lâ€™infirme qui volait !\n",
      "\n",
      "Le PoÃ¨te est semblable au prince des nuÃ©es\n",
      "Qui hante la tempÃªte et se rit de lâ€™archer ;\n",
      "ExilÃ© sur le sol au milieu des huÃ©es,\n",
      "Ses ailes de gÃ©ant lâ€™empÃªchent de marcher.. \n",
      "\n",
      "Charles Baudelaire, Les Fleurs du Mal, 1857.\n"
     ]
    }
   ],
   "source": [
    "with open(\"./A/a1.txt\") as file:\n",
    "    text = file.read()\n",
    "print(text)"
   ]
  },
  {
   "cell_type": "markdown",
   "id": "2684a8bd-5830-4685-965c-a2275fb82177",
   "metadata": {},
   "source": [
    "On remarque ici que le décodage des accents pose problème. Pour décoder les accents, il faut utiliser l'```utf-8```. Ouvrir un fichier en mode texte entraine un travail de conversion qui nécessite une table d'encodage. Il est possible de spécifier la famille d'encodage grâce au paramètre ```encoding```:"
   ]
  },
  {
   "cell_type": "code",
   "execution_count": 110,
   "id": "9573f89d-37e2-4998-9d55-938e5981cb56",
   "metadata": {},
   "outputs": [
    {
     "name": "stdout",
     "output_type": "stream",
     "text": [
      "L’Albatros\n",
      "Charles Baudelaire\n",
      "\n",
      "Souvent, pour s’amuser, les hommes d’équipage\n",
      "Prennent des albatros, vastes oiseaux des mers,\n",
      "Qui suivent, indolents compagnons de voyage,\n",
      "Le navire glissant sur les gouffres amers.\n",
      "\n",
      "A peine les ont-ils déposés sur les planches,\n",
      "Que ces rois de l’azur, maladroits et honteux,\n",
      "Laissent piteusement leurs grandes ailes blanches\n",
      "Comme des avirons traîner à côté d’eux.\n",
      "\n",
      "Ce voyageur ailé, comme il est gauche et veule !\n",
      "Lui, naguère si beau, qu’il est comique et laid !\n",
      "L’un agace son bec avec un brûle-gueule,\n",
      "L’autre mime, en boitant, l’infirme qui volait !\n",
      "\n",
      "Le Poète est semblable au prince des nuées\n",
      "Qui hante la tempête et se rit de l’archer ;\n",
      "Exilé sur le sol au milieu des huées,\n",
      "Ses ailes de géant l’empêchent de marcher.. \n",
      "\n",
      "Charles Baudelaire, Les Fleurs du Mal, 1857.\n"
     ]
    }
   ],
   "source": [
    "with open(\"./A/a1.txt\", encoding = \"utf-8\") as file:\n",
    "    text = file.read()\n",
    "print(text)"
   ]
  },
  {
   "cell_type": "markdown",
   "id": "5fd21d93-6f43-44a7-aac6-0a4e3b81c50f",
   "metadata": {},
   "source": [
    "Si on souhaite récupérer chaque ligne du texte dans une liste:"
   ]
  },
  {
   "cell_type": "code",
   "execution_count": 53,
   "id": "ef57abff-8f33-460a-8493-56f3211c27a2",
   "metadata": {},
   "outputs": [
    {
     "name": "stdout",
     "output_type": "stream",
     "text": [
      "['L’Albatros\\n', 'Charles Baudelaire\\n', '\\n', 'Souvent, pour s’amuser, les hommes d’équipage\\n', 'Prennent des albatros, vastes oiseaux des mers,\\n', 'Qui suivent, indolents compagnons de voyage,\\n', 'Le navire glissant sur les gouffres amers.\\n', '\\n', 'A peine les ont-ils déposés sur les planches,\\n', 'Que ces rois de l’azur, maladroits et honteux,\\n', 'Laissent piteusement leurs grandes ailes blanches\\n', 'Comme des avirons traîner à côté d’eux.\\n', '\\n', 'Ce voyageur ailé, comme il est gauche et veule !\\n', 'Lui, naguère si beau, qu’il est comique et laid !\\n', 'L’un agace son bec avec un brûle-gueule,\\n', 'L’autre mime, en boitant, l’infirme qui volait !\\n', '\\n', 'Le Poète est semblable au prince des nuées\\n', 'Qui hante la tempête et se rit de l’archer ;\\n', 'Exilé sur le sol au milieu des huées,\\n', 'Ses ailes de géant l’empêchent de marcher.. \\n', '\\n', 'Charles Baudelaire, Les Fleurs du Mal, 1857.']\n"
     ]
    }
   ],
   "source": [
    "with open(\"./A/a1.txt\", encoding = \"utf-8\") as file:\n",
    "    print(file.readlines())"
   ]
  },
  {
   "cell_type": "markdown",
   "id": "84fc3e66-40b3-4ec4-8d20-1f949efa0d90",
   "metadata": {},
   "source": [
    "Il est possible d'effectuer directement des séquences d'opération sur nos lignes. Par exemple, si l'on souhaite afficher le numéro à chaque ligne:"
   ]
  },
  {
   "cell_type": "code",
   "execution_count": 109,
   "id": "9b5280ed-d451-40b4-874e-2efa60440906",
   "metadata": {},
   "outputs": [
    {
     "name": "stdout",
     "output_type": "stream",
     "text": [
      "0:L’Albatros\n",
      "\n",
      "1:Charles Baudelaire\n",
      "\n",
      "2:\n",
      "\n",
      "3:Souvent, pour s’amuser, les hommes d’équipage\n",
      "\n",
      "4:Prennent des albatros, vastes oiseaux des mers,\n",
      "\n",
      "5:Qui suivent, indolents compagnons de voyage,\n",
      "\n",
      "6:Le navire glissant sur les gouffres amers.\n",
      "\n",
      "7:\n",
      "\n",
      "8:A peine les ont-ils déposés sur les planches,\n",
      "\n",
      "9:Que ces rois de l’azur, maladroits et honteux,\n",
      "\n",
      "10:Laissent piteusement leurs grandes ailes blanches\n",
      "\n",
      "11:Comme des avirons traîner à côté d’eux.\n",
      "\n",
      "12:\n",
      "\n",
      "13:Ce voyageur ailé, comme il est gauche et veule !\n",
      "\n",
      "14:Lui, naguère si beau, qu’il est comique et laid !\n",
      "\n",
      "15:L’un agace son bec avec un brûle-gueule,\n",
      "\n",
      "16:L’autre mime, en boitant, l’infirme qui volait !\n",
      "\n",
      "17:\n",
      "\n",
      "18:Le Poète est semblable au prince des nuées\n",
      "\n",
      "19:Qui hante la tempête et se rit de l’archer ;\n",
      "\n",
      "20:Exilé sur le sol au milieu des huées,\n",
      "\n",
      "21:Ses ailes de géant l’empêchent de marcher.. \n",
      "\n",
      "22:\n",
      "\n",
      "23:Charles Baudelaire, Les Fleurs du Mal, 1857.\n"
     ]
    }
   ],
   "source": [
    "numero = 0\n",
    "with open(\"./A/a1.txt\", encoding = \"utf-8\") as file:\n",
    "    for ligne in file:\n",
    "        print(str(numero)+\":\"+ligne)\n",
    "        numero = numero + 1"
   ]
  },
  {
   "cell_type": "markdown",
   "id": "2b00b0a7-f910-416c-b3b0-24160408faa8",
   "metadata": {
    "tags": []
   },
   "source": [
    "## Les modes de fichier\n",
    "\n",
    "A l'ouverture de notre fichier avec la fonction ```open```, on peut spécifier le mode d'ouverture.\n",
    "\n",
    "Un mode d'ouverture permet de spécifier les opérations qui sont autorisées. Le ```mode``` est un paramètre à spécifier à la fonction ```open``` et est représenté par une chaine de caractère:\n",
    "\n",
    "| Mode | Description |\n",
    "|---\t|---\t|\n",
    "| r | ouverture en lecture (mode par défaut) |\n",
    "|w|ouverture en écriture (efface le contenu précédent)|\n",
    "|x|ouverture uniquement pour création (l’ouverture échoue si le fichier existe déjà)|\n",
    "| + | ouverture en lecture et écriture| \n",
    "| a | ouverture en écriture pour ajout en fin de fichier |\n",
    "|b | fichier binaire | \n",
    "|t | fichier texte (mode par défaut)"
   ]
  },
  {
   "cell_type": "code",
   "execution_count": 108,
   "id": "ac673c5f-1f63-4f09-a280-3d631f0254cc",
   "metadata": {},
   "outputs": [],
   "source": [
    "# Ouverture un lecture seule\n",
    "with open(\"./A/a1.txt\", encoding = \"utf-8\", mode= \"r\") as file:\n",
    "    pass"
   ]
  },
  {
   "cell_type": "code",
   "execution_count": 58,
   "id": "1c1af407-309e-41a8-8ddc-cbb37bc8d171",
   "metadata": {},
   "outputs": [],
   "source": [
    "# Ouverture en lecture et ecriture\n",
    "with open(\"./A/a1.txt\", encoding = \"utf-8\", mode= \"r+\") as file:\n",
    "    pass"
   ]
  },
  {
   "cell_type": "markdown",
   "id": "503aceb3-d350-4620-a00b-f5543ed546e7",
   "metadata": {
    "tags": []
   },
   "source": [
    "## Exemple avec la lecture de fichier .csv\n",
    "\n",
    "Un exemple d'utilisation de fichier est la collecte de données à partir d'un fichier \".csv\".\n",
    "\n",
    "Le dossier ```./A``` contient deux fichiers csv:\n",
    "* oscar_age_female.csv : liste des actrices qui ont reçu l'oscar de la meilleure actrice entre 1928 et 2016 \n",
    "* oscar_age_male.csv : liste des acteurs qui ont reçu l'oscar du meilleur acteur entre 1928 et 2016 \n",
    "\n",
    "On souhaite pouvoir écrire un algorithme qui nous donne, pour une date donnée, les information de la meilleure actrice (nom, age, film). \n",
    "\n",
    "Dans un premier temps, affichons le contenu d'un des deux fichiers:"
   ]
  },
  {
   "cell_type": "code",
   "execution_count": 87,
   "id": "778bf1db-e089-460a-b30c-33956f5cdddf",
   "metadata": {},
   "outputs": [
    {
     "name": "stdout",
     "output_type": "stream",
     "text": [
      "\"Index\", \"Year\", \"Age\", \"Name\", \"Movie\"\n",
      " 1, 1928, 22, \"Janet Gaynor\", \"Seventh Heaven, Street Angel and Sunrise: A Song of Two Humans\"\n",
      " 2, 1929, 37, \"Mary Pickford\", \"Coquette\"\n",
      " 3, 1930, 28, \"Norma Shearer\", \"The Divorcee\"\t\n",
      " 4, 1931, 63, \"Marie Dressler\", \"Min and Bill\"\n",
      " 5, 1932, 32, \"Helen Hayes\", \"The Sin of Madelon Claudet\"\t\n",
      " 6, 1933, 26, \"Katharine Hepburn\", \"Morning Glory\"\n",
      " 7, 1934, 31, \"Claudette Colbert\", \"It Happened One Night\"\n",
      " 8, 1935, 27, \"Bette Davis\", \"Dangerous\"\n",
      " 9, 1936, 27, \"Luise Rainer\", \"The Great Ziegfeld\"\n",
      "10, 1937, 28, \"Luise Rainer\", \"The Good Earth\"\n",
      "11, 1938, 30, \"Bette Davis\", \"Jezebel\"\n",
      "12, 1939, 26, \"Vivien Leigh\", \"Gone with the Wind\"\n",
      "13, 1940, 29, \"Ginger Rogers\", \"Kitty Foyle\"\n",
      "14, 1941, 24, \"Joan Fontaine\", \"Suspicion\"\t\n",
      "15, 1942, 38, \"Greer Garson\", \"Mrs. Miniver\"\n",
      "16, 1943, 25, \"Jennifer Jones\", \"The Song of Bernadette\"\n",
      "17, 1944, 29, \"Ingrid Bergman\", \"Gaslight\"\n",
      "18, 1945, 40, \"Joan Crawford\", \"Mildred Pierce\"\n",
      "19, 1946, 30, \"Olivia de Havilland\", \"To Each His Own\"\n",
      "20, 1947, 35, \"Loretta Young\", \"The Farmer's Daughter\"\n",
      "21, 1948, 32, \"Jane Wyman\", \"Johnny Belinda\"\n",
      "22, 1949, 33, \"Olivia de Havilland\", \"The Heiress\"\n",
      "23, 1950, 29, \"Judy Holliday\", \"Born Yesterday\"\n",
      "24, 1951, 38, \"Vivien Leigh\", \"A Streetcar Named Desire\"\n",
      "25, 1952, 54, \"Shirley Booth\", \"Come Back, Little Sheba\"\n",
      "26, 1953, 24, \"Audrey Hepburn\", \"Roman Holiday\"\n",
      "27, 1954, 25, \"Grace Kelly\", \"The Country Girl\"\n",
      "28, 1955, 48, \"Anna Magnani\", \"The Rose Tattoo\"\n",
      "29, 1956, 41, \"Ingrid Bergman\", \"Anastasia\"\n",
      "30, 1957, 28, \"Joanne Woodward\", \"The Three Faces of Eve\"\n",
      "31, 1958, 41, \"Susan Hayward\", \"I Want to Live!\"\n",
      "32, 1959, 39, \"Simone Signoret\", \"Room at the Top\"\n",
      "33, 1960, 29, \"Elizabeth Taylor\", \"BUtterfield 8\"\n",
      "34, 1961, 27, \"Sophia Loren\", \"Two Women\"\n",
      "35, 1962, 31, \"Anne Bancroft\", \"The Miracle Worker\"\n",
      "36, 1963, 31, \"Patricia Neal\", \"Hud\"\n",
      "37, 1964, 29, \"Julie Andrews\", \"Mary Poppins\"\n",
      "38, 1965, 25, \"Julie Christie\", \"Darling\"\n",
      "39, 1966, 35, \"Elizabeth Taylor\", \"Who's Afraid of Virginia Woolf?\"\n",
      "40, 1967, 60, \"Katharine Hepburn\", \"Guess Who's Coming to Dinner\"\n",
      "41, 1968, 61, \"Katharine Hepburn\", \"The Lion in Winter\"\n",
      "42, 1969, 26, \"Barbra Streisand\", \"Funny Girl\"\n",
      "43, 1970, 35, \"Maggie Smith\", \"The Prime of Miss Jean Brodie\"\n",
      "44, 1971, 34, \"Glenda Jackson\", \"Women in Love\"\n",
      "45, 1972, 34, \"Jane Fonda\", \"Klute\"\n",
      "46, 1973, 27, \"Liza Minnelli\", \"Cabaret\"\n",
      "47, 1974, 37, \"Glenda Jackson\", \"A Touch of Class\"\n",
      "48, 1975, 42, \"Ellen Burstyn\", \"Alice Doesn't Live Here Anymore\"\t\n",
      "49, 1976, 41, \"Louise Fletcher\", \"One Flew Over the Cuckoo's Nest\"\n",
      "50, 1977, 36, \"Faye Dunaway\", \"Network\"\n",
      "51, 1978, 32, \"Diane Keaton\", \"Annie Hall\"\n",
      "52, 1979, 41, \"Jane Fonda\", \"Coming Home\"\n",
      "53, 1980, 33, \"Sally Field\", \"Norma Rae\"\n",
      "54, 1981, 31, \"Sissy Spacek\", \"Coal Miner's Daughter\"\t\n",
      "55, 1982, 74, \"Katharine Hepburn\", \"On Golden Pond\"\n",
      "56, 1983, 33, \"Meryl Streep\", \"Sophie's Choice\"\n",
      "57, 1984, 49, \"Shirley MacLaine\", \"Terms of Endearment\"\t\n",
      "58, 1985, 38, \"Sally Field\", \"Places in the Heart\"\n",
      "59, 1986, 61, \"Geraldine Page\", \"The Trip to Bountiful\"\t\n",
      "60, 1987, 21, \"Marlee Matlin\", \"Children of a Lesser God\"\n",
      "61, 1988, 41, \"Cher\", \"Moonstruck\"\n",
      "62, 1989, 26, \"Jodie Foster\", \"The Accused\"\n",
      "63, 1990, 80, \"Jessica Tandy\", \"Driving Miss Daisy\"\n",
      "64, 1991, 42, \"Kathy Bates\", \"Misery\"\n",
      "65, 1992, 29, \"Jodie Foster\", \"The Silence of the Lambs\"\n",
      "66, 1993, 33, \"Emma Thompson\", \"Howards End\"\n",
      "67, 1994, 36, \"Holly Hunter\", \"The Piano\"\n",
      "68, 1995, 45, \"Jessica Lange\", \"Blue Sky\"\n",
      "69, 1996, 49, \"Susan Sarandon\", \"Dead Man Walking\"\n",
      "70, 1997, 39, \"Frances McDormand\", \"Fargo\"\n",
      "71, 1998, 34, \"Helen Hunt\", \"As Good as It Gets\"\n",
      "72, 1999, 26, \"Gwyneth Paltrow\", \"Shakespeare in Love\"\n",
      "73, 2000, 25, \"Hilary Swank\", \"Boys Don't Cry\"\n",
      "74, 2001, 33, \"Julia Roberts\", \"Erin Brockovich\"\n",
      "75, 2002, 35, \"Halle Berry\", \"Monster's Ball\"\n",
      "76, 2003, 35, \"Nicole Kidman\", \"The Hours\"\n",
      "77, 2004, 28, \"Charlize Theron\", \"Monster\"\n",
      "78, 2005, 30, \"Hilary Swank\", \"Million Dollar Baby\"\n",
      "79, 2006, 29, \"Reese Witherspoon\", \"Walk the Line\"\n",
      "80, 2007, 61, \"Helen Mirren\", \"The Queen\"\n",
      "81, 2008, 32, \"Marion Cotillard\", \"La Vie en rose\"\n",
      "82, 2009, 33, \"Kate Winslet\", \"The Reader\"\n",
      "83, 2010, 45, \"Sandra Bullock\", \"The Blind Side\"\n",
      "84, 2011, 29, \"Natalie Portman\", \"Black Swan\"\n",
      "85, 2012, 62, \"Meryl Streep\", \"The Iron Lady\"\n",
      "86, 2013, 22, \"Jennifer Lawrence\", \"Silver Linings Playbook\"\n",
      "87, 2014, 44, \"Cate Blanchett\", \"Blue Jasmine\"\n",
      "88, 2015, 54, \"Julianne Moore\", \"Still Alice\"\n",
      "89, 2016, 26, \"Brie Larson\", \"Room\"\n"
     ]
    }
   ],
   "source": [
    "with open(\"./A/oscar_age_female.csv\", encoding = \"utf-8\", mode= \"r\") as file:\n",
    "    print(file.read())"
   ]
  },
  {
   "cell_type": "markdown",
   "id": "3e28a734-f890-4faf-9d5d-86aed69be018",
   "metadata": {},
   "source": [
    "Le fichier .csv contient 5 colonnes: \"Index\", \"Year\", \"Age\", \"Name\", \"Movie\".\n",
    "\n",
    "Pour pouvoir traiter ces données, on a besoin d'un structure de donnée. On aimerait pouvoir pour chaque année, donner l'age, le nom et le film qui a reçu l'oscar.\n",
    "\n",
    "On va donc créer un dictionnaire pour associer à l'année à un autre dictionnaire qui contiendra {l'age, le nom de l'actrice,le nom du film}.\n",
    "\n",
    "Par exemple ```1928: {'age': '22', 'nom': '\"Janet Gaynor\"', 'film': '\"Seventh Heaven'}```\n",
    "\n",
    "La méthode consiste donc à, pour chacune des lignes du fichier, récupérer chacune des colonnes en utilisant \", \" comme séparateur, puis ajouter un nouvel élément à notre dictionnaire.\n",
    "\n",
    "<div class=\"alert alert-block alert-warning\">\n",
    "<b>⚠️:</b> Attention lorsque l'on travaille avec les fichiers .csv! La première ligne peut contenir une entête (il faudra donc penser à l'ignorer), et il peut y avoir des saut de ligne à la fin du fichier (et donc des lignes vides!). Il faut soit netoyer le fichier, soit prévoir en amont tester si le fichier à une entête, et si la ligne n'est pas vide.\n",
    "</div>"
   ]
  },
  {
   "cell_type": "code",
   "execution_count": 89,
   "id": "81634b0f-ad8c-4ac4-9a41-66b357436943",
   "metadata": {},
   "outputs": [
    {
     "name": "stdout",
     "output_type": "stream",
     "text": [
      "{1928: {'age': '22', 'nom': '\"Janet Gaynor\"', 'film': '\"Seventh Heaven'}, 1929: {'age': '37', 'nom': '\"Mary Pickford\"', 'film': '\"Coquette\"\\n'}, 1930: {'age': '28', 'nom': '\"Norma Shearer\"', 'film': '\"The Divorcee\"\\t\\n'}, 1931: {'age': '63', 'nom': '\"Marie Dressler\"', 'film': '\"Min and Bill\"\\n'}, 1932: {'age': '32', 'nom': '\"Helen Hayes\"', 'film': '\"The Sin of Madelon Claudet\"\\t\\n'}, 1933: {'age': '26', 'nom': '\"Katharine Hepburn\"', 'film': '\"Morning Glory\"\\n'}, 1934: {'age': '31', 'nom': '\"Claudette Colbert\"', 'film': '\"It Happened One Night\"\\n'}, 1935: {'age': '27', 'nom': '\"Bette Davis\"', 'film': '\"Dangerous\"\\n'}, 1936: {'age': '27', 'nom': '\"Luise Rainer\"', 'film': '\"The Great Ziegfeld\"\\n'}, 1937: {'age': '28', 'nom': '\"Luise Rainer\"', 'film': '\"The Good Earth\"\\n'}, 1938: {'age': '30', 'nom': '\"Bette Davis\"', 'film': '\"Jezebel\"\\n'}, 1939: {'age': '26', 'nom': '\"Vivien Leigh\"', 'film': '\"Gone with the Wind\"\\n'}, 1940: {'age': '29', 'nom': '\"Ginger Rogers\"', 'film': '\"Kitty Foyle\"\\n'}, 1941: {'age': '24', 'nom': '\"Joan Fontaine\"', 'film': '\"Suspicion\"\\t\\n'}, 1942: {'age': '38', 'nom': '\"Greer Garson\"', 'film': '\"Mrs. Miniver\"\\n'}, 1943: {'age': '25', 'nom': '\"Jennifer Jones\"', 'film': '\"The Song of Bernadette\"\\n'}, 1944: {'age': '29', 'nom': '\"Ingrid Bergman\"', 'film': '\"Gaslight\"\\n'}, 1945: {'age': '40', 'nom': '\"Joan Crawford\"', 'film': '\"Mildred Pierce\"\\n'}, 1946: {'age': '30', 'nom': '\"Olivia de Havilland\"', 'film': '\"To Each His Own\"\\n'}, 1947: {'age': '35', 'nom': '\"Loretta Young\"', 'film': '\"The Farmer\\'s Daughter\"\\n'}, 1948: {'age': '32', 'nom': '\"Jane Wyman\"', 'film': '\"Johnny Belinda\"\\n'}, 1949: {'age': '33', 'nom': '\"Olivia de Havilland\"', 'film': '\"The Heiress\"\\n'}, 1950: {'age': '29', 'nom': '\"Judy Holliday\"', 'film': '\"Born Yesterday\"\\n'}, 1951: {'age': '38', 'nom': '\"Vivien Leigh\"', 'film': '\"A Streetcar Named Desire\"\\n'}, 1952: {'age': '54', 'nom': '\"Shirley Booth\"', 'film': '\"Come Back'}, 1953: {'age': '24', 'nom': '\"Audrey Hepburn\"', 'film': '\"Roman Holiday\"\\n'}, 1954: {'age': '25', 'nom': '\"Grace Kelly\"', 'film': '\"The Country Girl\"\\n'}, 1955: {'age': '48', 'nom': '\"Anna Magnani\"', 'film': '\"The Rose Tattoo\"\\n'}, 1956: {'age': '41', 'nom': '\"Ingrid Bergman\"', 'film': '\"Anastasia\"\\n'}, 1957: {'age': '28', 'nom': '\"Joanne Woodward\"', 'film': '\"The Three Faces of Eve\"\\n'}, 1958: {'age': '41', 'nom': '\"Susan Hayward\"', 'film': '\"I Want to Live!\"\\n'}, 1959: {'age': '39', 'nom': '\"Simone Signoret\"', 'film': '\"Room at the Top\"\\n'}, 1960: {'age': '29', 'nom': '\"Elizabeth Taylor\"', 'film': '\"BUtterfield 8\"\\n'}, 1961: {'age': '27', 'nom': '\"Sophia Loren\"', 'film': '\"Two Women\"\\n'}, 1962: {'age': '31', 'nom': '\"Anne Bancroft\"', 'film': '\"The Miracle Worker\"\\n'}, 1963: {'age': '31', 'nom': '\"Patricia Neal\"', 'film': '\"Hud\"\\n'}, 1964: {'age': '29', 'nom': '\"Julie Andrews\"', 'film': '\"Mary Poppins\"\\n'}, 1965: {'age': '25', 'nom': '\"Julie Christie\"', 'film': '\"Darling\"\\n'}, 1966: {'age': '35', 'nom': '\"Elizabeth Taylor\"', 'film': '\"Who\\'s Afraid of Virginia Woolf?\"\\n'}, 1967: {'age': '60', 'nom': '\"Katharine Hepburn\"', 'film': '\"Guess Who\\'s Coming to Dinner\"\\n'}, 1968: {'age': '61', 'nom': '\"Katharine Hepburn\"', 'film': '\"The Lion in Winter\"\\n'}, 1969: {'age': '26', 'nom': '\"Barbra Streisand\"', 'film': '\"Funny Girl\"\\n'}, 1970: {'age': '35', 'nom': '\"Maggie Smith\"', 'film': '\"The Prime of Miss Jean Brodie\"\\n'}, 1971: {'age': '34', 'nom': '\"Glenda Jackson\"', 'film': '\"Women in Love\"\\n'}, 1972: {'age': '34', 'nom': '\"Jane Fonda\"', 'film': '\"Klute\"\\n'}, 1973: {'age': '27', 'nom': '\"Liza Minnelli\"', 'film': '\"Cabaret\"\\n'}, 1974: {'age': '37', 'nom': '\"Glenda Jackson\"', 'film': '\"A Touch of Class\"\\n'}, 1975: {'age': '42', 'nom': '\"Ellen Burstyn\"', 'film': '\"Alice Doesn\\'t Live Here Anymore\"\\t\\n'}, 1976: {'age': '41', 'nom': '\"Louise Fletcher\"', 'film': '\"One Flew Over the Cuckoo\\'s Nest\"\\n'}, 1977: {'age': '36', 'nom': '\"Faye Dunaway\"', 'film': '\"Network\"\\n'}, 1978: {'age': '32', 'nom': '\"Diane Keaton\"', 'film': '\"Annie Hall\"\\n'}, 1979: {'age': '41', 'nom': '\"Jane Fonda\"', 'film': '\"Coming Home\"\\n'}, 1980: {'age': '33', 'nom': '\"Sally Field\"', 'film': '\"Norma Rae\"\\n'}, 1981: {'age': '31', 'nom': '\"Sissy Spacek\"', 'film': '\"Coal Miner\\'s Daughter\"\\t\\n'}, 1982: {'age': '74', 'nom': '\"Katharine Hepburn\"', 'film': '\"On Golden Pond\"\\n'}, 1983: {'age': '33', 'nom': '\"Meryl Streep\"', 'film': '\"Sophie\\'s Choice\"\\n'}, 1984: {'age': '49', 'nom': '\"Shirley MacLaine\"', 'film': '\"Terms of Endearment\"\\t\\n'}, 1985: {'age': '38', 'nom': '\"Sally Field\"', 'film': '\"Places in the Heart\"\\n'}, 1986: {'age': '61', 'nom': '\"Geraldine Page\"', 'film': '\"The Trip to Bountiful\"\\t\\n'}, 1987: {'age': '21', 'nom': '\"Marlee Matlin\"', 'film': '\"Children of a Lesser God\"\\n'}, 1988: {'age': '41', 'nom': '\"Cher\"', 'film': '\"Moonstruck\"\\n'}, 1989: {'age': '26', 'nom': '\"Jodie Foster\"', 'film': '\"The Accused\"\\n'}, 1990: {'age': '80', 'nom': '\"Jessica Tandy\"', 'film': '\"Driving Miss Daisy\"\\n'}, 1991: {'age': '42', 'nom': '\"Kathy Bates\"', 'film': '\"Misery\"\\n'}, 1992: {'age': '29', 'nom': '\"Jodie Foster\"', 'film': '\"The Silence of the Lambs\"\\n'}, 1993: {'age': '33', 'nom': '\"Emma Thompson\"', 'film': '\"Howards End\"\\n'}, 1994: {'age': '36', 'nom': '\"Holly Hunter\"', 'film': '\"The Piano\"\\n'}, 1995: {'age': '45', 'nom': '\"Jessica Lange\"', 'film': '\"Blue Sky\"\\n'}, 1996: {'age': '49', 'nom': '\"Susan Sarandon\"', 'film': '\"Dead Man Walking\"\\n'}, 1997: {'age': '39', 'nom': '\"Frances McDormand\"', 'film': '\"Fargo\"\\n'}, 1998: {'age': '34', 'nom': '\"Helen Hunt\"', 'film': '\"As Good as It Gets\"\\n'}, 1999: {'age': '26', 'nom': '\"Gwyneth Paltrow\"', 'film': '\"Shakespeare in Love\"\\n'}, 2000: {'age': '25', 'nom': '\"Hilary Swank\"', 'film': '\"Boys Don\\'t Cry\"\\n'}, 2001: {'age': '33', 'nom': '\"Julia Roberts\"', 'film': '\"Erin Brockovich\"\\n'}, 2002: {'age': '35', 'nom': '\"Halle Berry\"', 'film': '\"Monster\\'s Ball\"\\n'}, 2003: {'age': '35', 'nom': '\"Nicole Kidman\"', 'film': '\"The Hours\"\\n'}, 2004: {'age': '28', 'nom': '\"Charlize Theron\"', 'film': '\"Monster\"\\n'}, 2005: {'age': '30', 'nom': '\"Hilary Swank\"', 'film': '\"Million Dollar Baby\"\\n'}, 2006: {'age': '29', 'nom': '\"Reese Witherspoon\"', 'film': '\"Walk the Line\"\\n'}, 2007: {'age': '61', 'nom': '\"Helen Mirren\"', 'film': '\"The Queen\"\\n'}, 2008: {'age': '32', 'nom': '\"Marion Cotillard\"', 'film': '\"La Vie en rose\"\\n'}, 2009: {'age': '33', 'nom': '\"Kate Winslet\"', 'film': '\"The Reader\"\\n'}, 2010: {'age': '45', 'nom': '\"Sandra Bullock\"', 'film': '\"The Blind Side\"\\n'}, 2011: {'age': '29', 'nom': '\"Natalie Portman\"', 'film': '\"Black Swan\"\\n'}, 2012: {'age': '62', 'nom': '\"Meryl Streep\"', 'film': '\"The Iron Lady\"\\n'}, 2013: {'age': '22', 'nom': '\"Jennifer Lawrence\"', 'film': '\"Silver Linings Playbook\"\\n'}, 2014: {'age': '44', 'nom': '\"Cate Blanchett\"', 'film': '\"Blue Jasmine\"\\n'}, 2015: {'age': '54', 'nom': '\"Julianne Moore\"', 'film': '\"Still Alice\"\\n'}, 2016: {'age': '26', 'nom': '\"Brie Larson\"', 'film': '\"Room\"'}}\n"
     ]
    }
   ],
   "source": [
    "dico_meilleure_actrice = {} # On initialise notre dictionnaire vide\n",
    "\n",
    "with open(\"./A/oscar_age_female.csv\", encoding = \"utf-8\", mode= \"r\") as file:  # On ouvre le fichier en lecture seule\n",
    "    nbLigne=0 # On initialise notre compteur de ligne (pour ignorer la première ligne)\n",
    "    for ligne in file: # Pour chacune des lignes\n",
    "        if nbLigne != 0: # Si il ne s'agit pas de la première ligne\n",
    "            # Ici, une ligne est une string de la forme:  1, 1928, 22, \"Janet Gaynor\", \"Seventh Heaven, Street Angel and Sunrise: A Song of Two Humans\"\n",
    "            # Il faut découper cette string par rapport à la chaine \", \"\n",
    "            data = ligne.split(\", \")\n",
    "            # data est donc une liste où 0: index, 1: année, 2: age, 3:nom actrice, 4: nom film\n",
    "            # Par exemple: [1,1928,22,\"Janet Gaynor\",\"Seventh Heaven, Street Angel and Sunrise: A Song of Two Humans\"]\n",
    "            \n",
    "            # on peut mettre à jour le dictionnaire et ajouter une nouvelle entrée\n",
    "            dico_meilleure_actrice[int(data[1])] = {\"age\":data[2], \"nom\":data[3],\"film\":data[4]}\n",
    "        nbLigne = nbLigne + 1 # On incrémente notre compteur de lignes\n",
    "        \n",
    "# On affiche notre dictionnaire\n",
    "print(dico_meilleure_actrice)"
   ]
  },
  {
   "cell_type": "markdown",
   "id": "7d4bbb29-d1bb-4cc4-a248-6f5d1d8f9bc4",
   "metadata": {},
   "source": [
    "On obtient donc un dictionnaire qui à chaque année associe l'age, le nom et le film. \n",
    "\n",
    "<div class=\"alert alert-block alert-info\">\n",
    "<b>Remarque: </b> On remaruqe qu'afficher un dictionnaire est possible avec la méthode ```print```, mais que c'est difficilement lisible! On verra qu'avec l'utilisation de JSON dans le prochain module, on peut améliorer la lecture.\n",
    "</div>\n",
    "\n",
    "On peut maintenant facilement dire quelle actrice as été oscarisée en quelle année: "
   ]
  },
  {
   "cell_type": "code",
   "execution_count": 86,
   "id": "3907db31-a176-49b6-a4d2-2f3f748022b5",
   "metadata": {},
   "outputs": [
    {
     "name": "stdin",
     "output_type": "stream",
     "text": [
      "Pour quelle année souhaitez vous obtenir les informations sur l'oscar de la meilleure actrice? 2000\n"
     ]
    },
    {
     "name": "stdout",
     "output_type": "stream",
     "text": [
      "En 2000, la meilleure actrice est \"Hilary Swank\" à l'age de 25 ans pour son rôle dans le film \"Boys Don't Cry\"\n",
      "\n"
     ]
    }
   ],
   "source": [
    "year = int(input(\"Pour quelle année souhaitez vous obtenir les informations sur l'oscar de la meilleure actrice?\"))\n",
    "\n",
    "if year > 1928 and year < 2016:\n",
    "    actrice = dico_meilleure_actrice[year]\n",
    "    nom = actrice[\"nom\"]\n",
    "    age = actrice[\"age\"]\n",
    "    film = actrice[\"film\"]\n",
    "    print(f\"En {year}, la meilleure actrice est {nom} à l'age de {age} ans pour son rôle dans le film {film}\")"
   ]
  },
  {
   "cell_type": "markdown",
   "id": "c95e3b06-6f29-48c9-9d15-6291741d63ed",
   "metadata": {},
   "source": [
    "<div class=\"alert alert-block alert-info\">\n",
    "<b>Remarque: </b> Il est aussi possible d'utiliser le module csv qui offre des fonctions facilitant la lecture et l'écriture de fichier .csv : <a href=\"https://docs.python.org/fr/3/library/csv.html\">https://docs.python.org/fr/3/library/csv.html</a>\n",
    "</div>"
   ]
  },
  {
   "cell_type": "markdown",
   "id": "12d7aa33-c68a-4c09-b410-824d1173f2aa",
   "metadata": {
    "tags": []
   },
   "source": [
    "## Ecriture dans un fichier\n",
    "\n",
    "Pour écrire dans un fichier, on utilise les méthodes ```write(str)``` ou la méthode ```writelines(list)``` pour écrire une liste de lignes.\n",
    "\n",
    "Pour pouvoir écrire dans un fichier, il faut au prélable l'avoir ouvert avec un niveau de droit permettant l'écriture. \n",
    "\n",
    "On distingue a minima deux modes:\n",
    "* **\"w\"** mode d'ouveture en écriture par défaut. Chaque appel à une commande d'écriture **remplace intégralement le contenu du fichier**\n",
    "* **\"a\"** mode d'ajout en fin du fichier. Le texte est ajouter à la suite du texte déjà présent.\n",
    "\n",
    "Par exemple:"
   ]
  },
  {
   "cell_type": "code",
   "execution_count": 102,
   "id": "5625275d-3fca-4d94-8663-04ce3968f8e8",
   "metadata": {},
   "outputs": [
    {
     "name": "stdout",
     "output_type": "stream",
     "text": [
      "Hello le monde!\n",
      "\n",
      "====\n",
      "Hello le monde!\n",
      "Hello le monde!\n",
      "\n",
      "====\n"
     ]
    }
   ],
   "source": [
    "# Exemple d'écriture avec le mode leacture (r) et écriture (+)\n",
    "with open(\"hello.txt\", mode=\"w+\") as f:\n",
    "    f.write(\"Hello le monde!\\n\")\n",
    "\n",
    "with open(\"hello.txt\", mode=\"r\") as f:\n",
    "    print(f.read())\n",
    "    print(\"====\")\n",
    "    \n",
    "# Exemple d'écriture avec le mode a\n",
    "with open(\"hello.txt\", mode=\"a+\") as f:\n",
    "    f.write(\"Hello le monde!\\n\")\n",
    "\n",
    "with open(\"hello.txt\", mode=\"r\") as f:\n",
    "    print(f.read())\n",
    "    print(\"====\")"
   ]
  },
  {
   "cell_type": "markdown",
   "id": "39242cce-8ae2-401c-9420-fe6b29c9920e",
   "metadata": {},
   "source": [
    "## Rechercher un fichier avec ```glob```\n",
    "\n",
    "Le module ```glob``` (https://docs.python.org/3.7/library/glob.html#module-glob)[https://docs.python.org/3.7/library/glob.html#module-glob]) permet d'effectuer une recherche dans une arborescence de fichier à partir d'une expression régulière. \n",
    "\n",
    "Le caractère ```?``` permet d'exprimer n'importe quel caractère, et le caractère ```*``` représente n'importe quelle suite de caractère.\n",
    "\n",
    "Par exemple: "
   ]
  },
  {
   "cell_type": "code",
   "execution_count": 104,
   "id": "c57f2cab-1add-49a1-a4c0-64b8c5d002e8",
   "metadata": {},
   "outputs": [
    {
     "name": "stdout",
     "output_type": "stream",
     "text": [
      "['hello.txt']\n"
     ]
    }
   ],
   "source": [
    "import glob\n",
    "\n",
    "liste_fichiers = glob.glob(\"*.txt\") #recherche de tout les fichiers .txt dans le répertoire courant\n",
    "print(liste_fichiers)"
   ]
  },
  {
   "cell_type": "code",
   "execution_count": 107,
   "id": "1089f0c8-ec7f-42ab-810e-40f24cc7cd9e",
   "metadata": {},
   "outputs": [
    {
     "name": "stdout",
     "output_type": "stream",
     "text": [
      "['hello.txt', 'A\\\\a1.txt', 'A\\\\B\\\\b1.txt', 'A\\\\B\\\\b2.txt', 'A\\\\B\\\\b3.txt', 'A\\\\C\\\\c1.txt', 'A\\\\C\\\\c2.txt', 'A\\\\C\\\\D\\\\d1.txt']\n"
     ]
    }
   ],
   "source": [
    "import glob\n",
    "\n",
    "liste_fichiers = glob.glob(\"**/*.txt\", recursive=True) #Si recursive est vrai, le motif « ** » reconnaît tous les fichiers et, zéro ou plus répertoires et sous-répertoires. \n",
    "print(liste_fichiers)"
   ]
  },
  {
   "cell_type": "markdown",
   "id": "2bb2c654-93e9-4774-9126-28dda68db515",
   "metadata": {
    "tags": []
   },
   "source": [
    "# La journalisation en Python\n",
    "\n",
    "On a vu que la manipulation de fichier peut conduire à la levée d'exceptions. \n",
    "\n",
    "Lorsque l'on conçoit un logiciel, on essaie de garantir son intégrité, c'est à dire qu'il faut s'assurer qu'il contenue de fonctionner même si celui-ci rencontre des anomalies.\n",
    "\n",
    "Le mecanisme de ```try: ... except:...``` permet de gérer les exceptions levées par le logiciel. Mais il peut être intéressant de conserver l'information qu'une exception (voir une erreur) est apparue.\n",
    "\n",
    "Les jounaux (*log* en anglais), sont un mécanisme très utilisé en développement informatique et disponible dans la majorité des langages informatiques. Elle repose sur l'utilisation de fichiers (les logs) qui vont stoquer des évènements qui seront ensuite lisibles pour les développeurs.\n",
    "\n",
    "La journalisation consiste à historiser les évènements (qu'ils soient normaux ou anormaux) survenu au cours du fonctionnement d'une application.\n",
    "\n",
    "Les journaux sont utiles dans tous les cycles de vie d'une application:\n",
    "* Dans son développement, les logs permettent de tracer et comprendre le fonctionnement en suivant et en historisant son exécution. Elle permet, en complément des outils de débugage, d'isoler les anomalies.\n",
    "* Pendant la phase d'intégration, les logs permettent d'interpréter les anomalies remontées.\n",
    "* Pendant la phase de production, les logs sont utilisés pour diagnostiquer l'application ou tracer les actions des utilisateurs.\n",
    "\n",
    "Python dispose d'un module \"built-in\" appelé ```logging``` et qui permet de facilement construire des jounaux pour tracer le fonctionnement de votre application: [https://docs.python.org/3/library/logging.html](https://docs.python.org/3/library/logging.html)\n",
    "\n",
    "Un journal peut stocker différents évènements, chaque évènement étant associé à un niveau de sévérité. Il existe 5 niveaux de de sévérités par ordre croissant:\n",
    "\n",
    "| Niveau de sévérité | Fonction | Usage |\n",
    "|---|---|---|\n",
    "| DEBUG | logging.debug(str) | Rapport détaillé à visant à diagnostiquer un problème pour aider à son débuggage |\n",
    "| INFO | logging.info(str) | Rapport confirmant le fonctionement normal d'un logiciel ou informant d'un évènement non critique |\n",
    "| WARNING | logging.warning(str) | Rapport avertissant d'un évènement inatendu ou potentiellement impactant |\n",
    "| ERROR | logging.error(str) | Rapport sur un problème empéchant le logiciel de réaliser certaines tâches |\n",
    "| CRITICAL | logging.critical(str) | Rapport sur un problème rendant le logiciel non fonctionnel |\n",
    "\n",
    "On initialise un logger grâce à l'import de son module ```import logging``` et à la méthode ```getLogger()```"
   ]
  },
  {
   "cell_type": "code",
   "execution_count": 128,
   "id": "fd92115e-43d7-4f27-a3cb-b5bd3ce0ba05",
   "metadata": {},
   "outputs": [
    {
     "name": "stderr",
     "output_type": "stream",
     "text": [
      "INFO:root:Ceci est un message d'information\n",
      "WARNING:root:Ceci est un message de warning\n",
      "ERROR:root:Ceci est un message d'erreur\n",
      "CRITICAL:root:Ceci est un message critique\n"
     ]
    }
   ],
   "source": [
    "import logging\n",
    "logger = logging.getLogger() # Instance de notre logger\n",
    "logger.debug(\"Ceci est un message de débug\")\n",
    "logger.info(\"Ceci est un message d'information\")\n",
    "logger.warning(\"Ceci est un message de warning\")\n",
    "logger.error(\"Ceci est un message d'erreur\")\n",
    "logger.critical(\"Ceci est un message critique\")"
   ]
  },
  {
   "cell_type": "markdown",
   "id": "f3fa808b-a0ea-4608-9bd9-9c7be8d957bf",
   "metadata": {},
   "source": [
    "Par défaut, le niveau de sévérité est défini sur WARNING, ce qui signifie que le module de logs Python filtrera tous les messages de niveau de sévérité inférieur à celui de WARNING, c’est-à-dire les logs de niveau DEBUG ou INFO ne seront pas affichés.\n",
    "\n",
    "On peut personaliser le niveau de sévérité à l'aide de la méthode ```setLevel(level)```:"
   ]
  },
  {
   "cell_type": "code",
   "execution_count": 134,
   "id": "34e00f7e-6d4b-40b7-8566-8883c51f27b9",
   "metadata": {},
   "outputs": [
    {
     "name": "stderr",
     "output_type": "stream",
     "text": [
      "INFO:root:Ceci sera loggé!\n"
     ]
    }
   ],
   "source": [
    "logger.setLevel(logging.INFO)\n",
    "logger.info('Ceci sera loggé!')\n",
    "logger.debug('Ceci ne le sera pas!')"
   ]
  },
  {
   "cell_type": "markdown",
   "id": "845ff5a2-f1d7-495f-aa20-e01cfbe4a8e6",
   "metadata": {},
   "source": [
    "Plutôt que de simplement afficher les informations dans la console, on peut historiser l'ensemble des jounaux dans un fichier à l'aide de la méthode ```FileHandler```."
   ]
  },
  {
   "cell_type": "code",
   "execution_count": 135,
   "id": "cc59bc73-973a-4dae-913d-ccca79f47d91",
   "metadata": {},
   "outputs": [
    {
     "name": "stderr",
     "output_type": "stream",
     "text": [
      "INFO:root:info\n"
     ]
    }
   ],
   "source": [
    "fhandler = logging.FileHandler(filename='log.log', mode='a') # filename est le nom du fichieer, a est le mode pour ajouter le texte à la suite du texte déjà présent.\n",
    "logger.addHandler(fhandler)\n",
    "\n",
    "logger.debug(\"test\")\n",
    "logger.info(\"info\")"
   ]
  },
  {
   "cell_type": "markdown",
   "id": "c204f9ca-1525-4311-8ad8-67ac8d1d690e",
   "metadata": {},
   "source": [
    "Un fichier ```log.log``` est créé. Vous pouvez maintenant consulter les messages!\n",
    "\n",
    "Vous pouvez aussi formatter vos messages (plus d'informations dans la documentation : [https://docs.python.org/3/library/logging.html](https://docs.python.org/3/library/logging.html)\n",
    "\n",
    "Par exemple:"
   ]
  },
  {
   "cell_type": "code",
   "execution_count": 137,
   "id": "ea3f5510-6f86-4566-b537-6b385642c4d4",
   "metadata": {},
   "outputs": [
    {
     "name": "stderr",
     "output_type": "stream",
     "text": [
      "INFO:root:info\n"
     ]
    }
   ],
   "source": [
    "formatter = logging.Formatter('%(asctime)s - %(name)s - %(lineno)s - %(levelname)s - %(message)s')\n",
    "fhandler.setFormatter(formatter)\n",
    "logger.info(\"info\")"
   ]
  },
  {
   "cell_type": "markdown",
   "id": "3ea6fb24-8f55-4f36-a8dd-f05f6692d1fd",
   "metadata": {},
   "source": [
    "Les messages sont maintenant enregistré sous la forme : \"2023-01-09 14:59:20,660 - root - 3 - INFO - info\"\n",
    "\n",
    "On dispose donc automatiquement de la date, du nom de l'utilsateur qui a lancé le script, du numéro de la ligne concerné par le message, sa sévérité et enfin le contenu du message."
   ]
  },
  {
   "cell_type": "markdown",
   "id": "a7ce7abb-aaef-486f-a77b-5cf8e0fc11aa",
   "metadata": {},
   "source": [
    "## Un exemple d'utilisation du logging:\n",
    "\n",
    "Dans la section précédente, nous avons créé une structure de donnée permettant d'associer à une année les informations de l'actrice ayant gagné l'oscar du meilleure role féminin:"
   ]
  },
  {
   "cell_type": "code",
   "execution_count": 139,
   "id": "429cd2dd-cb7c-466b-8ce8-0ce14b84a1eb",
   "metadata": {},
   "outputs": [],
   "source": [
    "dico_meilleure_actrice = {} # On initialise notre dictionnaire vide\n",
    "\n",
    "with open(\"./A/oscar_age_female.csv\", encoding = \"utf-8\", mode= \"r\") as file:  # On ouvre le fichier en lecture seule\n",
    "    nbLigne=0 # On initialise notre compteur de ligne (pour ignorer la première ligne)\n",
    "    for ligne in file: # Pour chacune des lignes\n",
    "        if nbLigne != 0: # Si il ne s'agit pas de la première ligne\n",
    "            # Ici, une ligne est une string de la forme:  1, 1928, 22, \"Janet Gaynor\", \"Seventh Heaven, Street Angel and Sunrise: A Song of Two Humans\"\n",
    "            # Il faut découper cette string par rapport à la chaine \", \"\n",
    "            data = ligne.split(\", \")\n",
    "            # data est donc une liste où 0: index, 1: année, 2: age, 3:nom actrice, 4: nom film\n",
    "            # Par exemple: [1,1928,22,\"Janet Gaynor\",\"Seventh Heaven, Street Angel and Sunrise: A Song of Two Humans\"]\n",
    "            \n",
    "            # on peut mettre à jour le dictionnaire et ajouter une nouvelle entrée\n",
    "            dico_meilleure_actrice[int(data[1])] = {\"age\":data[2], \"nom\":data[3],\"film\":data[4]}\n",
    "        nbLigne = nbLigne + 1 # On incrémente notre compteur de lignes"
   ]
  },
  {
   "cell_type": "markdown",
   "id": "351fc212-189a-4192-9c56-d71ef4f9f59d",
   "metadata": {},
   "source": [
    "On a ensuite écrit une fonction nous permettant de demander à l'utilisateur de saisir une année et de lui répondre avec les informations concernant la meilleure actrice:"
   ]
  },
  {
   "cell_type": "code",
   "execution_count": 140,
   "id": "539da71e-94a9-40c7-9038-2065476fca27",
   "metadata": {},
   "outputs": [],
   "source": [
    "def meilleure_actrice(year:int):\n",
    "    year = int(input(\"Pour quelle année souhaitez vous obtenir les informations sur l'oscar de la meilleure actrice?\"))\n",
    "\n",
    "    if year > 1928 and year < 2016:\n",
    "        actrice = dico_meilleure_actrice[year]\n",
    "        nom = actrice[\"nom\"]\n",
    "        age = actrice[\"age\"]\n",
    "        film = actrice[\"film\"]\n",
    "    print(f\"En {year}, la meilleure actrice est {nom} à l'age de {age} ans pour son rôle dans le film {film}\")"
   ]
  },
  {
   "cell_type": "markdown",
   "id": "8061646e-df75-466e-aafd-32ae94ac8209",
   "metadata": {},
   "source": [
    "On peut maintenant utiliser les journaux pour historiser deux informations:\n",
    "* Les saisies utilisateurs: a chaque fois qu'une demande est faite par l'utilisateur on enregistre sa saisie dans un journal\n",
    "* Les erreurs, nottament si un utilisateur saisie une mauvaise date"
   ]
  },
  {
   "cell_type": "code",
   "execution_count": 147,
   "id": "ac53a349-0b48-491e-861c-6869f1235851",
   "metadata": {},
   "outputs": [
    {
     "name": "stdin",
     "output_type": "stream",
     "text": [
      "Pour quelle année souhaitez vous obtenir les informations sur l'oscar de la meilleure actrice? 2020\n"
     ]
    },
    {
     "name": "stderr",
     "output_type": "stream",
     "text": [
      "INFO:root:saisie utilisateur: [2020]\n",
      "ERROR:root:Date < 1928 ou > 2016 :  [2020]\n"
     ]
    }
   ],
   "source": [
    "import logging\n",
    "\n",
    "# Configuration du logger\n",
    "logger = logging.getLogger()\n",
    "# Enregistrement des informations dans un fichier actrice.log\n",
    "fhandler = logging.FileHandler(filename='actrice.log', mode='a') # filename est le nom du fichieer, a est le mode pour ajouter le texte à la suite du texte déjà présent.\n",
    "logger.addHandler(fhandler)\n",
    "# Choix du format des message, on retient la date: %(asctime)s, la ligne %(lineno)s, le type de message %(levelname)s, et enfin le message %(message)s'\n",
    "formatter = logging.Formatter('%(asctime)s : %(lineno)s : %(levelname)s : %(message)s')\n",
    "fhandler.setFormatter(formatter)\n",
    "\n",
    "def meilleure_actrice():\n",
    "    year = int(input(\"Pour quelle année souhaitez vous obtenir les informations sur l'oscar de la meilleure actrice?\"))\n",
    "    # On historise la saisie\n",
    "    logger.info(f\"saisie utilisateur: [{year}]\") \n",
    "    if year > 1928 and year < 2016:\n",
    "        actrice = dico_meilleure_actrice[year]\n",
    "        nom = actrice[\"nom\"]\n",
    "        age = actrice[\"age\"]\n",
    "        film = actrice[\"film\"]\n",
    "        print(f\"En {year}, la meilleure actrice est {nom} à l'age de {age} ans pour son rôle dans le film {film}\")\n",
    "    else:\n",
    "        logger.error(f\"Date < 1928 ou > 2016 :  [{year}]\")\n",
    "meilleure_actrice()"
   ]
  },
  {
   "cell_type": "markdown",
   "id": "3cf25df8-3db4-4976-874a-f66f5399af56",
   "metadata": {},
   "source": [
    "<div class=\"alert alert-block alert-warning\">\n",
    "<b>⚠️:</b> Attention avec l'utilisation des journaux! Vous historiser des évènements dans des fichiers qui deviennent de plus en plus gros. Pour éviter la fuite mémoire, il faut penser à vider les journaux à interval réguliers.\n",
    "</div>"
   ]
  },
  {
   "cell_type": "markdown",
   "id": "b9353164",
   "metadata": {
    "slideshow": {
     "slide_type": "slide"
    },
    "tags": []
   },
   "source": [
    "# En résumé:\n",
    "* Le module ```os``` permet d'intéragir avec les répertoires et les fichiers\n",
    "* On peut lire et écrire des fichiers avec la fonction ```open```\n",
    "* Quand on ouvre un fichier, on pense à le fermer avec la méthode ```.close()```\n",
    "* Pour simplifier la gestion de la fermeture, on peut utiliser le mot clé ```with```\n",
    "* On peut écrire dans des fichier en fonction d'un mode: w pour remplacer, a pour ajouter.\n",
    "* On peut lire un fichier .csv et le stocker dans un dictionnaire.\n",
    "* La journalisation est un moyen d'historiser des évènements en fonction de leur sévérité\n",
    "* On peut journaliser les évènements dans des fichiers"
   ]
  },
  {
   "cell_type": "markdown",
   "id": "fe0ab500-acfa-461a-955a-432f8116437f",
   "metadata": {},
   "source": [
    "# Je suis donc capable\n",
    "* D'explorer et manipuler une arborescence de fichiers et de dossiers à partir de Python\n",
    "* Lire et écrire dans des fichiers\n",
    "* Manipuler un fichier .csv et le stocker dans un dictionnaire pour pouvoir l'interroger\n",
    "* Utiliser les journaux pour tracer des évènements"
   ]
  }
 ],
 "metadata": {
  "celltoolbar": "Diaporama",
  "kernelspec": {
   "display_name": "Python 3 (ipykernel)",
   "language": "python",
   "name": "python3"
  },
  "language_info": {
   "codemirror_mode": {
    "name": "ipython",
    "version": 3
   },
   "file_extension": ".py",
   "mimetype": "text/x-python",
   "name": "python",
   "nbconvert_exporter": "python",
   "pygments_lexer": "ipython3",
   "version": "3.9.12"
  },
  "toc-autonumbering": true
 },
 "nbformat": 4,
 "nbformat_minor": 5
}
