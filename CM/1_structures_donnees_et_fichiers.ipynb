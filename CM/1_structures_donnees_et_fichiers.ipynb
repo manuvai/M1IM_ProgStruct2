{
 "cells": [
  {
   "cell_type": "markdown",
   "id": "c30199cf-95c2-4522-ad60-a73d8a05b3f4",
   "metadata": {
    "slideshow": {
     "slide_type": "slide"
    }
   },
   "source": [
    "# ![./pics/logo_ut1.jpg](./pics/logo_ut1.jpg) Master 1 Ingénierie Métier (IM) : Programmation Structurée 2 2022/2023\n",
    "\n",
    "# Structures de données avancées et gestion des fichiers\n",
    "\n",
    "### Equipe pédagogique \n",
    "    Sophie Martinez - Sophie.Martinez@ut-capitole.fr\n",
    "    Laurent Marsan - Laurent.Marsan@ut-capitole.fr\n",
    "    Nicolas Verstaevel - Nicolas.Verstaevel@ut-capitole.fr"
   ]
  },
  {
   "cell_type": "markdown",
   "id": "b9353164",
   "metadata": {
    "slideshow": {
     "slide_type": "slide"
    }
   },
   "source": [
    "# En conclusion\n",
    "\n",
    "On a vu: \n",
    "* ✔️ Les commentaires #\n",
    "* ✔️ Les valeurs et les expressions\n",
    "* ✔️ Les types $int$, $float$, $bool$, $str$\n",
    "* ✔️ Les opérateurs sur le types\n",
    "* ✔️ Les variables et le typage dynamique\n",
    "* ✔️ La saisie et l'affichage\n",
    "* ✔️ Le formatage des chaines de caractères\n",
    "\n",
    "Je suis donc capable:\n",
    "* A partir d'un problème donné, de produire un algoritme agençant ces éléments pour répondre à une question.\n",
    "\n",
    "⏭️[Les structures de contrôle](102_Les_structures_de_controle.ipynb)"
   ]
  }
 ],
 "metadata": {
  "celltoolbar": "Diaporama",
  "kernelspec": {
   "display_name": "Python 3 (ipykernel)",
   "language": "python",
   "name": "python3"
  },
  "language_info": {
   "codemirror_mode": {
    "name": "ipython",
    "version": 3
   },
   "file_extension": ".py",
   "mimetype": "text/x-python",
   "name": "python",
   "nbconvert_exporter": "python",
   "pygments_lexer": "ipython3",
   "version": "3.9.12"
  }
 },
 "nbformat": 4,
 "nbformat_minor": 5
}
